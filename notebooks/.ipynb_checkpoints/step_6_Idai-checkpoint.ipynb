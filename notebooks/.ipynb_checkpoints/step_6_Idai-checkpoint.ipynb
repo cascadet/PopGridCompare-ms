{
 "cells": [
  {
   "cell_type": "markdown",
   "metadata": {},
   "source": [
    "# Idai\n",
    "\n",
    "Notebook to calculate impacts of Cyclone Idai across gridded raster products"
   ]
  },
  {
   "cell_type": "code",
   "execution_count": 4,
   "metadata": {},
   "outputs": [],
   "source": [
    "#### Dependencies\n",
    "import numpy as np\n",
    "import pandas as pd\n",
    "import rasterio\n",
    "import geopandas as gpd\n",
    "from rasterstats import zonal_stats, gen_zonal_stats\n",
    "from glob import glob\n",
    "import matplotlib.pyplot as plt"
   ]
  },
  {
   "cell_type": "code",
   "execution_count": 5,
   "metadata": {},
   "outputs": [],
   "source": [
    "# open polys\n",
    "DATA_PATH = '/Users/cascade/Github/PopGridCompare/data/'"
   ]
  },
  {
   "cell_type": "code",
   "execution_count": 6,
   "metadata": {},
   "outputs": [],
   "source": [
    "#### Functions\n",
    "def zone_loop(polys_in, rst_list, stats_type, col, split):\n",
    "    \"\"\" Function loops through rasters, calcs zonal_stats and returns stats as a data frame.\n",
    "    Args:\n",
    "        polys_in = polygons\n",
    "        rst_list = list of paths & fns of rasters\n",
    "        stats_type = stats type for each poly gone (see zonal stats)\n",
    "        col = column to merge it all\n",
    "        split = where to split the file name string (e.g. _matched.tif)\n",
    "    \"\"\"\n",
    "    \n",
    "    # copy polys to write out\n",
    "    polys_out = polys_in.copy()\n",
    "    \n",
    "    for rst in rst_list:\n",
    "        \n",
    "        # Get data name\n",
    "        data = rst.split(DATA_PATH+'interim/')[1].split(split)[0]\n",
    "        print('Started', data)\n",
    "        \n",
    "        # Run zonal stats\n",
    "        zs_feats = zonal_stats(polys_in, rst, stats=stats_type, geojson_out=True)\n",
    "        zgdf = gpd.GeoDataFrame.from_features(zs_feats, crs=polys_in.crs)\n",
    "        \n",
    "        # Rename columns and merge\n",
    "        zgdf = zgdf.rename(columns={stats_type: data+'_'+stats_type})\n",
    "        \n",
    "        polys_out = polys_out.merge(zgdf[[col, data+'_'+stats_type]], on = col, how = 'inner')\n",
    "    \n",
    "    return polys_out"
   ]
  },
  {
   "cell_type": "markdown",
   "metadata": {},
   "source": [
    "## Flooding\n",
    "This should be updated once we decide on which flood extent method to employ <br>\n",
    "First need to match the flood raster with our base rasters"
   ]
  },
  {
   "cell_type": "code",
   "execution_count": 7,
   "metadata": {},
   "outputs": [],
   "source": [
    "def flood_sum(flood_arr, rst_fn):\n",
    "    \"\"\" sums total population from a rst affected by a flood mask raster\n",
    "    Args:\n",
    "        flood_arr = binary array of flood impacts\n",
    "        rst_fn = population raster input\n",
    "    \"\"\"\n",
    "    pop_arr = rasterio.open(rst_fn).read(1) # open\n",
    "    pop_arr_zeros = np.where(pop_arr == -999, 0, pop_arr) # revalue\n",
    "    mask_arr = flood_arr * pop_arr_zeros\n",
    "    \n",
    "    pop_sum = mask_arr.flatten().sum()\n",
    "    return pop_sum"
   ]
  },
  {
   "cell_type": "code",
   "execution_count": 9,
   "metadata": {},
   "outputs": [],
   "source": [
    "# Paths\n",
    "DATA_PATH = '/Users/cascade/Github/PopGridCompare/data/'"
   ]
  },
  {
   "cell_type": "code",
   "execution_count": 16,
   "metadata": {},
   "outputs": [],
   "source": [
    "# Get all pop rasters\n",
    "rst_fns = sorted(glob('/Users/cascade/Github/PopGridCompare/data/interim/*all_M-M-Z.tif'))"
   ]
  },
  {
   "cell_type": "raw",
   "metadata": {},
   "source": []
  },
  {
   "cell_type": "code",
   "execution_count": 14,
   "metadata": {},
   "outputs": [],
   "source": [
    "# Get flood mask and resample\n",
    "\n",
    "fn_in = DATA_PATH+'interim/moz/MOZ_TotalFloodExtent_resample_1km.tif' # resampled\n",
    "fn_out = DATA_PATH+'interim/Idai_flood1km-matched.tif' # matched to base map\n"
   ]
  },
  {
   "cell_type": "code",
   "execution_count": 15,
   "metadata": {},
   "outputs": [
    {
     "ename": "IndexError",
     "evalue": "list index out of range",
     "output_type": "error",
     "traceback": [
      "\u001b[0;31m---------------------------------------------------------------------------\u001b[0m",
      "\u001b[0;31mIndexError\u001b[0m                                Traceback (most recent call last)",
      "\u001b[0;32m<ipython-input-15-b753842cf30f>\u001b[0m in \u001b[0;36m<module>\u001b[0;34m\u001b[0m\n\u001b[1;32m      1\u001b[0m \u001b[0;31m# match to base map\u001b[0m\u001b[0;34m\u001b[0m\u001b[0;34m\u001b[0m\u001b[0;34m\u001b[0m\u001b[0m\n\u001b[0;32m----> 2\u001b[0;31m \u001b[0mtemplate\u001b[0m \u001b[0;34m=\u001b[0m \u001b[0mrasterio\u001b[0m\u001b[0;34m.\u001b[0m\u001b[0mopen\u001b[0m\u001b[0;34m(\u001b[0m\u001b[0mrst_fns\u001b[0m\u001b[0;34m[\u001b[0m\u001b[0;36m0\u001b[0m\u001b[0;34m]\u001b[0m\u001b[0;34m)\u001b[0m\u001b[0;34m\u001b[0m\u001b[0;34m\u001b[0m\u001b[0m\n\u001b[0m",
      "\u001b[0;31mIndexError\u001b[0m: list index out of range"
     ]
    }
   ],
   "source": [
    "# match to base map\n",
    "template = rasterio.open(rst_fns[0])"
   ]
  },
  {
   "cell_type": "code",
   "execution_count": null,
   "metadata": {},
   "outputs": [],
   "source": [
    "# Get all pop rasters\n",
    "rst_fns = sorted(glob('/Users/cascade/Github/PopGridCompare/data/interim/*all_M-M-Z.tif'))\n",
    "\n",
    "# Loop through and get flood impact data\n",
    "cols = []\n",
    "floods = []\n",
    "for rst_fn in rst_fns:\n",
    "    \n",
    "    # get cols\n",
    "    col = rst_fn.split('interim/')[1].split('_all')[0]+'_sum'\n",
    "    cols.append(col)\n",
    "    \n",
    "    #get flood\n",
    "    flood = flood_sum(flood_arr, rst_fn)\n",
    "    floods.append(flood)\n",
    "\n",
    "# write to df\n",
    "floods_all = pd.DataFrame(columns = cols)\n",
    "floods_all.loc[0] = floods "
   ]
  },
  {
   "cell_type": "code",
   "execution_count": null,
   "metadata": {},
   "outputs": [],
   "source": [
    "floods_all"
   ]
  },
  {
   "cell_type": "code",
   "execution_count": null,
   "metadata": {},
   "outputs": [],
   "source": [
    "# Get all pop rasters\n",
    "rst_fns = sorted(glob('/Users/cascade/Github/PopGridCompare/data/interim/*rural_M-M-Z.tif'))\n",
    "\n",
    "# Loop through and get flood impact data\n",
    "cols = []\n",
    "floods = []\n",
    "for rst_fn in rst_fns:\n",
    "    \n",
    "    # get cols\n",
    "    col = rst_fn.split('interim/')[1].split('_rural')[0]+'_sum'\n",
    "    cols.append(col)\n",
    "    \n",
    "    #get flood\n",
    "    flood = flood_sum(flood_arr, rst_fn)\n",
    "    floods.append(flood)\n",
    "\n",
    "# write to df\n",
    "floods_rural = pd.DataFrame(columns = cols)\n",
    "floods_rural.loc[0] = floods "
   ]
  },
  {
   "cell_type": "markdown",
   "metadata": {},
   "source": [
    "## Wind speeds\n",
    "https://www.gdacs.org/resources.aspx?eventid=1000552&episodeid=24&eventtype=TC (I think)"
   ]
  },
  {
   "cell_type": "code",
   "execution_count": null,
   "metadata": {},
   "outputs": [],
   "source": [
    "shps_fn = DATA_PATH+'raw/Idai/GDACS/Shape_1000552_24/Shape_1000552_24_POLYGON.shp'\n",
    "shps = gpd.read_file(shps_fn)"
   ]
  },
  {
   "cell_type": "code",
   "execution_count": null,
   "metadata": {},
   "outputs": [],
   "source": [
    "shps"
   ]
  },
  {
   "cell_type": "code",
   "execution_count": null,
   "metadata": {},
   "outputs": [],
   "source": [
    "# Make a Geodataframe of wind polygobns\n",
    "labels = shps.label[[1,2,0]] # Get labels 60, 90, 120\n",
    "geom120 = shps.iloc[0,6] # geom for speeds\n",
    "geom90 = shps.iloc[[2]].geometry[2].difference(shps.iloc[[0]].geometry[0])\n",
    "geom60 = shps.iloc[[1]].geometry[1].difference(shps.iloc[[2]].geometry[2].union(shps.iloc[[0]].geometry[0]))"
   ]
  },
  {
   "cell_type": "code",
   "execution_count": null,
   "metadata": {},
   "outputs": [],
   "source": [
    "polys = gpd.GeoDataFrame()\n",
    "polys['label'] = labels\n",
    "polys['geometry'] = [geom60, geom90, geom120]\n",
    "polys.to_file(DATA_PATH+'/interim/Idai_winds.shp')"
   ]
  },
  {
   "cell_type": "code",
   "execution_count": null,
   "metadata": {},
   "outputs": [],
   "source": [
    "# Run zonal stats on all \n",
    "# Git tif files\n",
    "rst_fns = sorted(glob('/Users/cascade/Github/PopGridCompare/data/interim/*all_M-M-Z.tif'))\n",
    "col = 'label'\n",
    "winds_all = zone_loop(polys, rst_fns, 'sum', col, '_all_M-M-Z.tif')\n",
    "winds_all['label_int'] = [60, 90, 120]"
   ]
  },
  {
   "cell_type": "code",
   "execution_count": null,
   "metadata": {},
   "outputs": [],
   "source": [
    "# Run zonal stats on rural \n",
    "rst_fns = sorted(glob('/Users/cascade/Github/PopGridCompare/data/interim/*rural_M-M-Z.tif'))\n",
    "col = 'label'\n",
    "winds_rural = zone_loop(polys, rst_fns, 'sum', col, '_rural_M-M-Z.tif')\n",
    "winds_rural['label_int'] = [60, 90, 120]"
   ]
  },
  {
   "cell_type": "markdown",
   "metadata": {},
   "source": [
    "## Figure"
   ]
  },
  {
   "cell_type": "code",
   "execution_count": null,
   "metadata": {},
   "outputs": [],
   "source": [
    "#### set colors\n",
    "ESRI16_c = 'blue'\n",
    "GHS15_c = 'indigo'\n",
    "GWPv4_c = 'deeppink'\n",
    "LS15_c = 'deepskyblue'\n",
    "WP16_c = 'forestgreen'"
   ]
  },
  {
   "cell_type": "code",
   "execution_count": null,
   "metadata": {},
   "outputs": [],
   "source": [
    "# Make bar plot \n",
    "fig, axs = plt.subplots(1, 1, figsize = (12, 8), sharex=True)\n",
    "ws = 0.25\n",
    "fig.subplots_adjust(wspace=ws)\n",
    "scale = 10**6\n",
    "\n",
    "# All winds\n",
    "# Bar locations\n",
    "a = [1-.3,2-.3,3-.3]\n",
    "b = [1-.15,2-.15,3-.15]\n",
    "c = [1,2,3]\n",
    "d = [1+.15,2+.15,3+.15]\n",
    "e = [1+.3,2+.3,3+.3]\n",
    "\n",
    "# plots\n",
    "plt.bar(a, winds_all.ESRI16_sum / scale, width=0.12, align='center', alpha  = 0.5, color = ESRI16_c, ec = 'black')\n",
    "plt.bar(b, winds_all.GHS15_sum / scale, width=0.12, align='center', alpha  = 0.6, color = GHS15_c, ec = 'black')\n",
    "plt.bar(c, winds_all.GPWv4_sum / scale, width=0.12, align='center', alpha  = 0.7, color = GWPv4_c, ec = 'black')\n",
    "plt.bar(d, winds_all.LS15_sum / scale, width=0.12, align='center', alpha  = 0.8, color = LS15_c, ec = 'black')\n",
    "plt.bar(e, winds_all.WP16_sum / scale, width=0.12, align='center', alpha  = 0.9, color = WP16_c, ec = 'black')\n",
    "\n",
    "# Fake plot for rural hatch legend \n",
    "plt.bar(e, winds_rural.WP16_sum / scale, width=0.12, align='center', alpha  = 1, color = 'white', ec = 'black',hatch = \"///\")\n",
    "\n",
    "# Rural Winds\n",
    "# plots\n",
    "plt.bar(a, winds_rural.ESRI16_sum / scale, width=0.12, align='center', alpha  = 0.5, color = ESRI16_c, ec = 'black', hatch = \"///\")\n",
    "plt.bar(b, winds_rural.GHS15_sum / scale, width=0.12, align='center', alpha  = 0.6, color = GHS15_c, ec = 'black', hatch = \"///\")\n",
    "plt.bar(c, winds_rural.GPWv4_sum / scale, width=0.12, align='center', alpha  = 0.7, color = GWPv4_c, ec = 'black', hatch = \"///\")\n",
    "plt.bar(d, winds_rural.LS15_sum / scale, width=0.12, align='center', alpha  = 0.8, color = LS15_c, ec = 'black', hatch = \"///\")\n",
    "plt.bar(e, winds_rural.WP16_sum / scale, width=0.12, align='center', alpha  = 0.9, color = WP16_c, ec = 'black', hatch = \"///\")\n",
    "\n",
    "# Bar locations\n",
    "a = [4-.15]\n",
    "b = [4-.3]\n",
    "c = [4]\n",
    "d = [4+.15]\n",
    "e = [4+.3]\n",
    "\n",
    "# All floods \n",
    "plt.bar(a, floods_all.ESRI16_sum / scale, width=0.12, align='center', alpha  = 0.5, color = ESRI16_c, ec = 'black')\n",
    "plt.bar(b, floods_all.GHS15_sum / scale, width=0.12, align='center', alpha  = 0.6, color = GHS15_c, ec = 'black')\n",
    "plt.bar(c, floods_all.GPWv4_sum  / scale, width=0.12, align='center', alpha  = 0.7, color = GWPv4_c, ec = 'black')\n",
    "plt.bar(d, floods_all.LS15_sum / scale, width=0.12, align='center', alpha  = 0.8, color = LS15_c, ec = 'black')\n",
    "plt.bar(e, floods_all.WP16_sum / scale, width=0.12, align='center', alpha  = 0.9, color = WP16_c, ec = 'black')\n",
    "\n",
    "#rural floods\n",
    "plt.bar(a, floods_rural.ESRI16_sum / scale, width=0.12, align='center', alpha  = 0.5, color = ESRI16_c, ec = 'black', hatch = \"///\")\n",
    "plt.bar(b, floods_rural.GHS15_sum / scale, width=0.12, align='center', alpha  = 0.6, color = GHS15_c, ec = 'black', hatch = \"///\")\n",
    "plt.bar(c, floods_rural.GPWv4_sum / scale, width=0.12, align='center', alpha  = 0.7, color = GWPv4_c, ec = 'black', hatch = \"///\")\n",
    "plt.bar(d, floods_rural.LS15_sum / scale, width=0.12, align='center', alpha  = 0.8, color = LS15_c, ec = 'black', hatch = \"///\")\n",
    "plt.bar(e, floods_rural.WP16_sum / scale, width=0.12, align='center', alpha  = 0.9, color = WP16_c, ec = 'black', hatch = \"///\")\n",
    "\n",
    "# legend + tics\n",
    "leg = ['WPE-16', 'GHSL-15', 'GPWv4-15', 'LS-15', 'WP-16', 'rural pop']\n",
    "ticks_bar = ['60 km/h', '90 km/h', '120 km/h', 'Flooding']\n",
    "plt.xticks([1,2,3,4], ticks_bar, fontsize = 15)\n",
    "plt.yticks(fontsize = 15)\n",
    "plt.legend(leg, fontsize = 15)\n",
    "\n",
    "# Labels / Titles\n",
    "axs.set_title('Idai Wind & Flooding Impact', size = 20)\n",
    "axs.set_xlabel('', fontsize = 15)\n",
    "axs.set_ylabel('Total Population [millions]', fontsize = 15)\n",
    "\n",
    "# save it out\n",
    "fig_out = '/Users/cascade/Github/PopGridCompare/data/FIGS/MS/Finalv1/Fig5.png'\n",
    "plt.savefig(fig_out, dpi = 300, facecolor = 'white', bbox_inches='tight')"
   ]
  }
 ],
 "metadata": {
  "kernelspec": {
   "display_name": "Python 3",
   "language": "python",
   "name": "python3"
  },
  "language_info": {
   "codemirror_mode": {
    "name": "ipython",
    "version": 3
   },
   "file_extension": ".py",
   "mimetype": "text/x-python",
   "name": "python",
   "nbconvert_exporter": "python",
   "pygments_lexer": "ipython3",
   "version": "3.8.6"
  }
 },
 "nbformat": 4,
 "nbformat_minor": 4
}
