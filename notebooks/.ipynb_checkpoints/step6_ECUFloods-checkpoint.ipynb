{
 "cells": [
  {
   "cell_type": "markdown",
   "metadata": {},
   "source": [
    "# ECU Floods\n",
    "\n",
    "Notebook to compare flash flood risk in Ecuador"
   ]
  },
  {
   "cell_type": "code",
   "execution_count": 1,
   "metadata": {},
   "outputs": [],
   "source": [
    "#### Dependencies\n",
    "import numpy as np\n",
    "import pandas as pd\n",
    "import rasterio\n",
    "import geopandas as gpd\n",
    "from rasterstats import zonal_stats, gen_zonal_stats\n",
    "from glob import glob\n",
    "import matplotlib.pyplot as plt\n",
    "import shapely"
   ]
  },
  {
   "cell_type": "code",
   "execution_count": 2,
   "metadata": {},
   "outputs": [],
   "source": [
    "# open polys\n",
    "DATA_PATH = '/Users/cascade/Github/PopGridCompare/data/'"
   ]
  },
  {
   "cell_type": "code",
   "execution_count": 3,
   "metadata": {},
   "outputs": [],
   "source": [
    "#### Functions\n",
    "def zone_loop(polys_in, rst_list, stats_type, col, split):\n",
    "    \"\"\" Function loops through rasters, calcs zonal_stats and returns stats as a data frame.\n",
    "    Args:\n",
    "        polys_in = polygons\n",
    "        rst_list = list of paths & fns of rasters\n",
    "        stats_type = stats type for each poly gone (see zonal stats)\n",
    "        col = column to merge it all\n",
    "        split = where to split the file name string (e.g. _matched.tif)\n",
    "    \"\"\"\n",
    "    \n",
    "    # copy polys to write out\n",
    "    polys_out = polys_in.copy()\n",
    "    \n",
    "    for rst in rst_list:\n",
    "        \n",
    "        # Get data name\n",
    "        data = rst.split(DATA_PATH+'interim/')[1].split(split)[0]\n",
    "        print('Started', data)\n",
    "        \n",
    "        # Run zonal stats\n",
    "        zs_feats = zonal_stats(polys_in, rst, stats=stats_type, geojson_out=True)\n",
    "        zgdf = gpd.GeoDataFrame.from_features(zs_feats, crs=polys_in.crs)\n",
    "        \n",
    "        # Rename columns and merge\n",
    "        zgdf = zgdf.rename(columns={stats_type: data+'_'+stats_type})\n",
    "        \n",
    "        polys_out = polys_out.merge(zgdf[[col, data+'_'+stats_type]], on = col, how = 'inner')\n",
    "    \n",
    "    return polys_out"
   ]
  },
  {
   "cell_type": "code",
   "execution_count": 4,
   "metadata": {},
   "outputs": [],
   "source": [
    "def poly_prep(polys_fn, col):\n",
    "    \"function opens earth quake polygons for zonal loop\"\n",
    "    \n",
    "    # open\n",
    "    polys = gpd.read_file(polys_fn)\n",
    "    \n",
    "    # subset, be sure to check the admin level\n",
    "    polys = polys[['geometry', col]]\n",
    "    \n",
    "    return polys"
   ]
  },
  {
   "cell_type": "code",
   "execution_count": 5,
   "metadata": {},
   "outputs": [],
   "source": [
    "def get_stats(df):\n",
    "    \"Get min, max, range, and pca flood risk columns from a df\"\n",
    "    \n",
    "    # Find range\n",
    "    df['max'] =df.iloc[:,2:7].max(axis = 1)\n",
    "    df['min'] =df.iloc[:,2:7].min(axis = 1)\n",
    "    df['range'] =df['max'] -df['min']\n",
    "    \n",
    "    # make PCA risk quintiles (1 - 5, worst to bes)\n",
    "    df['risk'] = np.where(ecu_all_sum['susc_PCA'] >= .6, 5, 1)\n",
    "    df['risk'] = np.where(((ecu_all_sum['susc_PCA'] >= .5) & (ecu_all_sum['risk'] == 1)), 4,df['risk'])\n",
    "    df['risk'] = np.where(((ecu_all_sum['susc_PCA'] >= .4) & (ecu_all_sum['risk'] == 1)), 3,df['risk'])\n",
    "    df['risk'] = np.where(((ecu_all_sum['susc_PCA'] >= .3) & (ecu_all_sum['risk'] == 1)), 2,df['risk'])\n",
    "\n",
    "    return df"
   ]
  },
  {
   "cell_type": "markdown",
   "metadata": {},
   "source": [
    "## Flood risk All"
   ]
  },
  {
   "cell_type": "code",
   "execution_count": 6,
   "metadata": {},
   "outputs": [
    {
     "data": {
      "text/plain": [
       "['/Users/cascade/Github/PopGridCompare/data/interim/ESRI16_all_Ecuador.tif',\n",
       " '/Users/cascade/Github/PopGridCompare/data/interim/GHS15_all_Ecuador.tif',\n",
       " '/Users/cascade/Github/PopGridCompare/data/interim/GPWv4_all_Ecuador.tif',\n",
       " '/Users/cascade/Github/PopGridCompare/data/interim/LS15_all_Ecuador.tif',\n",
       " '/Users/cascade/Github/PopGridCompare/data/interim/WP16_all_Ecuador.tif']"
      ]
     },
     "execution_count": 6,
     "metadata": {},
     "output_type": "execute_result"
    }
   ],
   "source": [
    "# Git tif files\n",
    "rst_fns = sorted(glob('/Users/cascade/Github/PopGridCompare/data/interim/*all_Ecuador.tif'))\n",
    "rst_fns"
   ]
  },
  {
   "cell_type": "code",
   "execution_count": 7,
   "metadata": {},
   "outputs": [],
   "source": [
    "# Open flood susceptability layer\n",
    "ecu_fn = DATA_PATH+'raw/ECU-Floods/Susceptibility/FF_suscept_PCA.shp'\n",
    "col = 'susc_PCA'\n",
    "ecu_all = poly_prep(ecu_fn, col)"
   ]
  },
  {
   "cell_type": "code",
   "execution_count": 8,
   "metadata": {},
   "outputs": [],
   "source": [
    "# Need to reproject crs to epsg:4326\n",
    "ecu_all = ecu_all.to_crs('epsg:4326')\n"
   ]
  },
  {
   "cell_type": "code",
   "execution_count": 11,
   "metadata": {
    "scrolled": true
   },
   "outputs": [
    {
     "name": "stdout",
     "output_type": "stream",
     "text": [
      "Started ESRI16\n",
      "Started GHS15\n",
      "Started GPWv4\n",
      "Started LS15\n",
      "Started WP16\n"
     ]
    }
   ],
   "source": [
    "# Run zonal stats loop\n",
    "ecu_all_sum = zone_loop(ecu_all, rst_fns, 'sum', col, '_all_Ecuador.tif')"
   ]
  },
  {
   "cell_type": "code",
   "execution_count": 12,
   "metadata": {},
   "outputs": [],
   "source": [
    "ecu_all_out = get_stats(ecu_all_sum)"
   ]
  },
  {
   "cell_type": "code",
   "execution_count": 14,
   "metadata": {},
   "outputs": [],
   "source": [
    "# Save it out\n",
    "fn_out = DATA_PATH+'interim/ECU-Flood-Risk_all.shp'\n",
    "ecu_all_out.to_file(fn_out)"
   ]
  },
  {
   "cell_type": "markdown",
   "metadata": {},
   "source": [
    "## Flood risk rural"
   ]
  },
  {
   "cell_type": "code",
   "execution_count": 15,
   "metadata": {},
   "outputs": [
    {
     "data": {
      "text/plain": [
       "['/Users/cascade/Github/PopGridCompare/data/interim/ESRI16_rural_Ecuador.tif',\n",
       " '/Users/cascade/Github/PopGridCompare/data/interim/GHS15_rural_Ecuador.tif',\n",
       " '/Users/cascade/Github/PopGridCompare/data/interim/GPWv4_rural_Ecuador.tif',\n",
       " '/Users/cascade/Github/PopGridCompare/data/interim/LS15_rural_Ecuador.tif',\n",
       " '/Users/cascade/Github/PopGridCompare/data/interim/WP16_rural_Ecuador.tif']"
      ]
     },
     "execution_count": 15,
     "metadata": {},
     "output_type": "execute_result"
    }
   ],
   "source": [
    "# Git tif files\n",
    "rst_fns = sorted(glob('/Users/cascade/Github/PopGridCompare/data/interim/*rural_Ecuador.tif'))\n",
    "rst_fns"
   ]
  },
  {
   "cell_type": "code",
   "execution_count": 16,
   "metadata": {
    "scrolled": true
   },
   "outputs": [
    {
     "name": "stdout",
     "output_type": "stream",
     "text": [
      "Started ESRI16\n",
      "Started GHS15\n",
      "Started GPWv4\n",
      "Started LS15\n",
      "Started WP16\n"
     ]
    }
   ],
   "source": [
    "# Run zonal stats loop\n",
    "ecu_rural_sum = zone_loop(ecu_all, rst_fns, 'sum', col, '_rural_Ecuador.tif')"
   ]
  },
  {
   "cell_type": "code",
   "execution_count": 17,
   "metadata": {},
   "outputs": [],
   "source": [
    "ecu_rural_out = get_stats(ecu_rural_sum)"
   ]
  },
  {
   "cell_type": "code",
   "execution_count": 18,
   "metadata": {},
   "outputs": [],
   "source": [
    "# Save it out\n",
    "fn_out = DATA_PATH+'interim/ECU-Flood-Risk_rural.shp'\n",
    "ecu_all_out.to_file(fn_out)"
   ]
  },
  {
   "cell_type": "markdown",
   "metadata": {},
   "source": [
    "## Flood risk urban"
   ]
  },
  {
   "cell_type": "code",
   "execution_count": 19,
   "metadata": {},
   "outputs": [
    {
     "data": {
      "text/plain": [
       "['/Users/cascade/Github/PopGridCompare/data/interim/ESRI16_urban_Ecuador.tif',\n",
       " '/Users/cascade/Github/PopGridCompare/data/interim/GHS15_urban_Ecuador.tif',\n",
       " '/Users/cascade/Github/PopGridCompare/data/interim/GPWv4_urban_Ecuador.tif',\n",
       " '/Users/cascade/Github/PopGridCompare/data/interim/LS15_urban_Ecuador.tif',\n",
       " '/Users/cascade/Github/PopGridCompare/data/interim/WP16_urban_Ecuador.tif']"
      ]
     },
     "execution_count": 19,
     "metadata": {},
     "output_type": "execute_result"
    }
   ],
   "source": [
    "# Git tif files\n",
    "rst_fns = sorted(glob('/Users/cascade/Github/PopGridCompare/data/interim/*urban_Ecuador.tif'))\n",
    "rst_fns"
   ]
  },
  {
   "cell_type": "code",
   "execution_count": 20,
   "metadata": {
    "scrolled": true
   },
   "outputs": [
    {
     "name": "stdout",
     "output_type": "stream",
     "text": [
      "Started ESRI16\n",
      "Started GHS15\n",
      "Started GPWv4\n",
      "Started LS15\n",
      "Started WP16\n"
     ]
    }
   ],
   "source": [
    "# Run zonal stats loop\n",
    "ecu_urban_sum = zone_loop(ecu_all, rst_fns, 'sum', col, '_urban_Ecuador.tif')"
   ]
  },
  {
   "cell_type": "code",
   "execution_count": 21,
   "metadata": {},
   "outputs": [],
   "source": [
    "ecu_urban_out = get_stats(ecu_urban_sum)"
   ]
  },
  {
   "cell_type": "code",
   "execution_count": 22,
   "metadata": {},
   "outputs": [],
   "source": [
    "# Save it out\n",
    "fn_out = DATA_PATH+'interim/ECU-Flood-Risk_urban.shp'\n",
    "ecu_all_out.to_file(fn_out)"
   ]
  },
  {
   "cell_type": "markdown",
   "metadata": {},
   "source": [
    "## Explore plots"
   ]
  },
  {
   "cell_type": "code",
   "execution_count": 48,
   "metadata": {},
   "outputs": [],
   "source": [
    "def bar_plot(df, col, off_set, bar_color, scale, pattern = None):\n",
    "    \"\"\" Make a custom bar plots\n",
    "    Args: \n",
    "        df = data frame to plot\n",
    "        col = name of col to plot\n",
    "        off_set = off_set of bar as float\n",
    "        bar_color = color as string\n",
    "        hatch = type, default is none\n",
    "    \"\"\"\n",
    "    \n",
    "    # Plot\n",
    "    data = df[df['risk'] == 1][col].sum()\n",
    "    plt.bar(1+off_set, data / scale, width=0.12, align='center', alpha  = 0.5, color = bar_color, ec = 'black',  hatch = pattern)\n",
    "    data = df[df['risk'] == 2][col].sum()\n",
    "    plt.bar(2+off_set, data / scale, width=0.12, align='center', alpha  = 0.5, color = bar_color, ec = 'black',  hatch = pattern)\n",
    "    data = df[df['risk'] == 3][col].sum()\n",
    "    plt.bar(3+off_set, data / scale, width=0.12, align='center', alpha  = 0.5, color = bar_color, ec = 'black',  hatch = pattern)\n",
    "    data = df[df['risk'] == 4][col].sum()\n",
    "    plt.bar(4+off_set, data / scale, width=0.12, align='center', alpha  = 0.5, color = bar_color, ec = 'black',  hatch = pattern)\n",
    "    data = df[df['risk'] == 5][col].sum()\n",
    "    plt.bar(5+off_set, data / scale, width=0.12, align='center', alpha  = 0.5, color = bar_color, ec = 'black',  hatch = pattern)"
   ]
  },
  {
   "cell_type": "code",
   "execution_count": 49,
   "metadata": {},
   "outputs": [],
   "source": [
    "#### set colors\n",
    "ESRI16_c = 'blue'\n",
    "GHS15_c = 'indigo'\n",
    "GPWv4_c = 'deeppink'\n",
    "LS15_c = 'deepskyblue'\n",
    "WP16_c = 'forestgreen'"
   ]
  },
  {
   "cell_type": "code",
   "execution_count": 50,
   "metadata": {},
   "outputs": [
    {
     "data": {
      "text/plain": [
       "9.167984"
      ]
     },
     "execution_count": 50,
     "metadata": {},
     "output_type": "execute_result"
    }
   ],
   "source": [
    "ecu_rural_out[ecu_rural_out['risk'] == 1]['ESRI16_sum'].sum() / scale_data"
   ]
  },
  {
   "cell_type": "code",
   "execution_count": 55,
   "metadata": {},
   "outputs": [
    {
     "data": {
      "text/plain": [
       "0.002495"
      ]
     },
     "execution_count": 55,
     "metadata": {},
     "output_type": "execute_result"
    }
   ],
   "source": [
    "ecu_all_out[ecu_all_out['risk'] == 1]['ESRI16_sum'].sum() / scale_data"
   ]
  },
  {
   "cell_type": "code",
   "execution_count": 54,
   "metadata": {
    "scrolled": false
   },
   "outputs": [
    {
     "data": {
      "image/png": "[encoded data removed]",
      "text/plain": [
       "<Figure size 864x576 with 1 Axes>"
      ]
     },
     "metadata": {
      "needs_background": "light"
     },
     "output_type": "display_data"
    }
   ],
   "source": [
    "# Make bar plot \n",
    "fig, axs = plt.subplots(1, 1, figsize = (12, 8), sharex=True)\n",
    "ws = 0.25\n",
    "fig.subplots_adjust(wspace=ws)\n",
    "scale_data = 10**6\n",
    "\n",
    "# # All data\n",
    "bar_plot(ecu_all_out, 'ESRI16_sum', -0.3, ESRI16_c, scale_data, None)\n",
    "bar_plot(ecu_all_out, 'GHS15_sum', -0.15, GHS15_c, scale_data, None)\n",
    "bar_plot(ecu_all_out, 'GPWv4_sum', 0, GPWv4_c, scale_data, None)\n",
    "bar_plot(ecu_all_out, 'LS15_sum', 0.15, LS15_c, scale_data, None)\n",
    "bar_plot(ecu_all_out, 'WP16_sum', 0.3, WP16_c, scale_data, None)\n",
    "\n",
    "# Rural\n",
    "\n",
    "# bar_plot(ecu_rural_out, 'ESRI16_sum', -0.3, ESRI16_c,  scale_data, '///')\n",
    "# bar_plot(ecu_rural_out, 'GHS15_sum', -0.15, GHS15_c,  scale_data, '///')\n",
    "# bar_plot(ecu_rural_out, 'GPWv4_sum', 0, GPWv4_c,  scale_data,'///')\n",
    "# bar_plot(ecu_rural_out, 'LS15_sum', 0.15, LS15_c, scale_data, '///')\n",
    "# bar_plot(ecu_rural_out, 'WP16_sum', 0.3, WP16_c,  scale_data,'///')"
   ]
  },
  {
   "cell_type": "code",
   "execution_count": null,
   "metadata": {},
   "outputs": [],
   "source": [
    "# Make bar plot \n",
    "fig, axs = plt.subplots(1, 1, figsize = (12, 8), sharex=True)\n",
    "ws = 0.25\n",
    "fig.subplots_adjust(wspace=ws)\n",
    "scale = 10**6\n",
    "\n",
    "# Esri\n",
    "data = ecu_all_sum[ecu_all_sum['risk'] == 1]['ESRI16_sum'].sum()\n",
    "plt.bar(1-.3, data / scale, width=0.12, align='center', alpha  = 0.5, color = ESRI16_c, ec = 'black')\n",
    "data = ecu_all_sum[ecu_all_sum['risk'] == 2]['ESRI16_sum'].sum()\n",
    "plt.bar(2-.3, data / scale, width=0.12, align='center', alpha  = 0.5, color = ESRI16_c, ec = 'black')\n",
    "data = ecu_all_sum[ecu_all_sum['risk'] == 3]['ESRI16_sum'].sum()\n",
    "plt.bar(3-.3, data / scale, width=0.12, align='center', alpha  = 0.5, color = ESRI16_c, ec = 'black')\n",
    "data = ecu_all_sum[ecu_all_sum['risk'] == 4]['ESRI16_sum'].sum()\n",
    "plt.bar(4-.3, data / scale, width=0.12, align='center', alpha  = 0.5, color = ESRI16_c, ec = 'black')\n",
    "data = ecu_all_sum[ecu_all_sum['risk'] == 5]['ESRI16_sum'].sum()\n",
    "plt.bar(5-.3, data / scale, width=0.12, align='center', alpha  = 0.5, color = ESRI16_c, ec = 'black')\n",
    "\n",
    "# GHS\n",
    "data = ecu_all_sum[ecu_all_sum['risk'] == 1]['GHS15_sum'].sum()\n",
    "plt.bar(1-.15, data / scale, width=0.12, align='center', alpha  = 0.5, color = GHS15_c, ec = 'black')\n",
    "data = ecu_all_sum[ecu_all_sum['risk'] == 2]['GHS15_sum'].sum()\n",
    "plt.bar(2-.15, data / scale, width=0.12, align='center', alpha  = 0.5, color = GHS15_c, ec = 'black')\n",
    "data = ecu_all_sum[ecu_all_sum['risk'] == 3]['GHS15_sum'].sum()\n",
    "plt.bar(3-.15, data / scale, width=0.12, align='center', alpha  = 0.5, color = GHS15_c, ec = 'black')\n",
    "data = ecu_all_sum[ecu_all_sum['risk'] == 4]['GHS15_sum'].sum()\n",
    "plt.bar(4-.15, data / scale, width=0.12, align='center', alpha  = 0.5, color = GHS15_c, ec = 'black')\n",
    "data = ecu_all_sum[ecu_all_sum['risk'] == 5]['GHS15_sum'].sum()\n",
    "plt.bar(5-.15, data / scale, width=0.12, align='center', alpha  = 0.5, color = GHS15_c, ec = 'black')\n",
    "\n",
    "# GPW\n",
    "data = ecu_all_sum[ecu_all_sum['risk'] == 1]['GPWv4_sum'].sum()\n",
    "plt.bar(1, data / scale, width=0.12, align='center', alpha  = 0.5, color = GWPv4_c, ec = 'black')\n",
    "data = ecu_all_sum[ecu_all_sum['risk'] == 2]['GPWv4_sum'].sum()\n",
    "plt.bar(2, data / scale, width=0.12, align='center', alpha  = 0.5, color = GWPv4_c, ec = 'black')\n",
    "data = ecu_all_sum[ecu_all_sum['risk'] == 3]['GPWv4_sum'].sum()\n",
    "plt.bar(3, data / scale, width=0.12, align='center', alpha  = 0.5, color = GWPv4_c, ec = 'black')\n",
    "data = ecu_all_sum[ecu_all_sum['risk'] == 4]['GPWv4_sum'].sum()\n",
    "plt.bar(4, data / scale, width=0.12, align='center', alpha  = 0.5, color = GWPv4_c, ec = 'black')\n",
    "data = ecu_all_sum[ecu_all_sum['risk'] == 5]['GPWv4_sum'].sum()\n",
    "plt.bar(5, data / scale, width=0.12, align='center', alpha  = 0.5, color = GWPv4_c, ec = 'black')\n",
    "\n",
    "# LS\n",
    "data = ecu_all_sum[ecu_all_sum['risk'] == 1]['LS15_sum'].sum()\n",
    "plt.bar(1+.15, data / scale, width=0.12, align='center', alpha  = 0.5, color = LS15_c, ec = 'black')\n",
    "data = ecu_all_sum[ecu_all_sum['risk'] == 2]['LS15_sum'].sum()\n",
    "plt.bar(2+.15, data / scale, width=0.12, align='center', alpha  = 0.5, color = LS15_c, ec = 'black')\n",
    "data = ecu_all_sum[ecu_all_sum['risk'] == 3]['LS15_sum'].sum()\n",
    "plt.bar(3+.15, data / scale, width=0.12, align='center', alpha  = 0.5, color = LS15_c, ec = 'black')\n",
    "data = ecu_all_sum[ecu_all_sum['risk'] == 4]['LS15_sum'].sum()\n",
    "plt.bar(4+.15, data / scale, width=0.12, align='center', alpha  = 0.5, color = LS15_c, ec = 'black')\n",
    "data = ecu_all_sum[ecu_all_sum['risk'] == 5]['LS15_sum'].sum()\n",
    "plt.bar(5+.15, data / scale, width=0.12, align='center', alpha  = 0.5, color = LS15_c, ec = 'black')\n",
    "\n",
    "# LS\n",
    "data = ecu_all_sum[ecu_all_sum['risk'] == 1]['WP16_sum'].sum()\n",
    "plt.bar(1+.3, data / scale, width=0.12, align='center', alpha  = 0.5, color = WP16_c, ec = 'black', hatch = '///')\n",
    "data = ecu_all_sum[ecu_all_sum['risk'] == 2]['WP16_sum'].sum()\n",
    "plt.bar(2+.3, data / scale, width=0.12, align='center', alpha  = 0.5, color = WP16_c, ec = 'black')\n",
    "data = ecu_all_sum[ecu_all_sum['risk'] == 3]['WP16_sum'].sum()\n",
    "plt.bar(3+.3, data / scale, width=0.12, align='center', alpha  = 0.5, color = WP16_c, ec = 'black')\n",
    "data = ecu_all_sum[ecu_all_sum['risk'] == 4]['WP16_sum'].sum()\n",
    "plt.bar(4+.3, data / scale, width=0.12, align='center', alpha  = 0.5, color = WP16_c, ec = 'black')\n",
    "data = ecu_all_sum[ecu_all_sum['risk'] == 5]['WP16_sum'].sum()\n",
    "plt.bar(5+.3, data / scale, width=0.12, align='center', alpha  = 0.5, color = WP16_c, ec = 'black')"
   ]
  },
  {
   "cell_type": "code",
   "execution_count": null,
   "metadata": {},
   "outputs": [],
   "source": [
    "# Make bar plot \n",
    "fig, axs = plt.subplots(1, 1, figsize = (12, 8), sharex=True)\n",
    "ws = 0.25\n",
    "fig.subplots_adjust(wspace=ws)\n",
    "scale = 10**6\n",
    "\n",
    "# Esri\n",
    "data = ecu_rural_sum[ecu_rural_sum['risk'] == 1]['ESRI16_sum'].sum()\n",
    "plt.bar(1-.3, data / scale, width=0.12, align='center', alpha  = 0.5, color = ESRI16_c, ec = 'black',  hatch = \"///\")\n",
    "data = ecu_rural_sum[ecu_rural_sum['risk'] == 2]['ESRI16_sum'].sum()\n",
    "plt.bar(2-.3, data / scale, width=0.12, align='center', alpha  = 0.5, color = ESRI16_c, ec = 'black',  hatch = \"///\")\n",
    "data = ecu_rural_sum[ecu_rural_sum['risk'] == 3]['ESRI16_sum'].sum()\n",
    "plt.bar(3-.3, data / scale, width=0.12, align='center', alpha  = 0.5, color = ESRI16_c, ec = 'black',  hatch = \"///\")\n",
    "data = ecu_rural_sum[ecu_rural_sum['risk'] == 4]['ESRI16_sum'].sum()\n",
    "plt.bar(4-.3, data / scale, width=0.12, align='center', alpha  = 0.5, color = ESRI16_c, ec = 'black',  hatch = \"///\")\n",
    "data = ecu_rural_sum[ecu_rural_sum['risk'] == 5]['ESRI16_sum'].sum()\n",
    "plt.bar(5-.3, data / scale, width=0.12, align='center', alpha  = 0.5, color = ESRI16_c, ec = 'black',  hatch = \"///\")\n",
    "\n",
    "# GHS\n",
    "data = ecu_rural_sum[ecu_rural_sum['risk'] == 1]['GHS15_sum'].sum()\n",
    "plt.bar(1-.15, data / scale, width=0.12, align='center', alpha  = 0.5, color = GHS15_c, ec = 'black',  hatch = \"///\")\n",
    "data = ecu_rural_sum[ecu_rural_sum['risk'] == 2]['GHS15_sum'].sum()\n",
    "plt.bar(2-.15, data / scale, width=0.12, align='center', alpha  = 0.5, color = GHS15_c, ec = 'black',  hatch = \"///\")\n",
    "data = ecu_rural_sum[ecu_rural_sum['risk'] == 3]['GHS15_sum'].sum()\n",
    "plt.bar(3-.15, data / scale, width=0.12, align='center', alpha  = 0.5, color = GHS15_c, ec = 'black',  hatch = \"///\")\n",
    "data = ecu_rural_sum[ecu_rural_sum['risk'] == 4]['GHS15_sum'].sum()\n",
    "plt.bar(4-.15, data / scale, width=0.12, align='center', alpha  = 0.5, color = GHS15_c, ec = 'black',  hatch = \"///\")\n",
    "data = ecu_rural_sum[ecu_rural_sum['risk'] == 5]['GHS15_sum'].sum()\n",
    "plt.bar(5-.15, data / scale, width=0.12, align='center', alpha  = 0.5, color = GHS15_c, ec = 'black',  hatch = \"///\")\n",
    "\n",
    "# GPW\n",
    "data = ecu_rural_sum[ecu_rural_sum['risk'] == 1]['GPWv4_sum'].sum()\n",
    "plt.bar(1, data / scale, width=0.12, align='center', alpha  = 0.5, color = GWPv4_c, ec = 'black',  hatch = \"///\")\n",
    "data = ecu_rural_sum[ecu_rural_sum['risk'] == 2]['GPWv4_sum'].sum()\n",
    "plt.bar(2, data / scale, width=0.12, align='center', alpha  = 0.5, color = GWPv4_c, ec = 'black',  hatch = \"///\")\n",
    "data = ecu_rural_sum[ecu_rural_sum['risk'] == 3]['GPWv4_sum'].sum()\n",
    "plt.bar(3, data / scale, width=0.12, align='center', alpha  = 0.5, color = GWPv4_c, ec = 'black',  hatch = \"///\")\n",
    "data = ecu_rural_sum[ecu_rural_sum['risk'] == 4]['GPWv4_sum'].sum()\n",
    "plt.bar(4, data / scale, width=0.12, align='center', alpha  = 0.5, color = GWPv4_c, ec = 'black',  hatch = \"///\")\n",
    "data = ecu_rural_sum[ecu_rural_sum['risk'] == 5]['GPWv4_sum'].sum()\n",
    "plt.bar(5, data / scale, width=0.12, align='center', alpha  = 0.5, color = GWPv4_c, ec = 'black',  hatch = \"///\")\n",
    "\n",
    "# LS\n",
    "data = ecu_rural_sum[ecu_rural_sum['risk'] == 1]['LS15_sum'].sum()\n",
    "plt.bar(1+.15, data / scale, width=0.12, align='center', alpha  = 0.5, color = LS15_c, ec = 'black',  hatch = \"///\")\n",
    "data = ecu_rural_sum[ecu_rural_sum['risk'] == 2]['LS15_sum'].sum()\n",
    "plt.bar(2+.15, data / scale, width=0.12, align='center', alpha  = 0.5, color = LS15_c, ec = 'black',  hatch = \"///\")\n",
    "data = ecu_rural_sum[ecu_rural_sum['risk'] == 3]['LS15_sum'].sum()\n",
    "plt.bar(3+.15, data / scale, width=0.12, align='center', alpha  = 0.5, color = LS15_c, ec = 'black',  hatch = \"///\")\n",
    "data = ecu_rural_sum[ecu_rural_sum['risk'] == 4]['LS15_sum'].sum()\n",
    "plt.bar(4+.15, data / scale, width=0.12, align='center', alpha  = 0.5, color = LS15_c, ec = 'black',  hatch = \"///\")\n",
    "data = ecu_rural_sum[ecu_rural_sum['risk'] == 5]['LS15_sum'].sum()\n",
    "plt.bar(5+.15, data / scale, width=0.12, align='center', alpha  = 0.5, color = LS15_c, ec = 'black',  hatch = \"///\")\n",
    "\n",
    "# LS\n",
    "data = ecu_rural_sum[ecu_rural_sum['risk'] == 1]['WP16_sum'].sum()\n",
    "plt.bar(1+.3, data / scale, width=0.12, align='center', alpha  = 0.5, color = WP16_c, ec = 'black',  hatch = \"///\")\n",
    "data = ecu_rural_sum[ecu_rural_sum['risk'] == 2]['WP16_sum'].sum()\n",
    "plt.bar(2+.3, data / scale, width=0.12, align='center', alpha  = 0.5, color = WP16_c, ec = 'black',  hatch = \"///\")\n",
    "data = ecu_rural_sum[ecu_rural_sum['risk'] == 3]['WP16_sum'].sum()\n",
    "plt.bar(3+.3, data / scale, width=0.12, align='center', alpha  = 0.5, color = WP16_c, ec = 'black',  hatch = \"///\")\n",
    "data = ecu_rural_sum[ecu_rural_sum['risk'] == 4]['WP16_sum'].sum()\n",
    "plt.bar(4+.3, data / scale, width=0.12, align='center', alpha  = 0.5, color = WP16_c, ec = 'black',  hatch = \"///\")\n",
    "data = ecu_rural_sum[ecu_rural_sum['risk'] == 5]['WP16_sum'].sum()\n",
    "plt.bar(5+.3, data / scale, width=0.12, align='center', alpha  = 0.5, color = WP16_c, ec = 'black',  hatch = \"///\")"
   ]
  }
 ],
 "metadata": {
  "kernelspec": {
   "display_name": "Python 3",
   "language": "python",
   "name": "python3"
  },
  "language_info": {
   "codemirror_mode": {
    "name": "ipython",
    "version": 3
   },
   "file_extension": ".py",
   "mimetype": "text/x-python",
   "name": "python",
   "nbconvert_exporter": "python",
   "pygments_lexer": "ipython3",
   "version": "3.8.6"
  }
 },
 "nbformat": 4,
 "nbformat_minor": 4
}
