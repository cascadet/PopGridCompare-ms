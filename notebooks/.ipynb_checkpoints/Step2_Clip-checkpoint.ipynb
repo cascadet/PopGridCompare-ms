{
 "cells": [
  {
   "cell_type": "markdown",
   "metadata": {},
   "source": [
    "# Clip\n",
    "\n",
    "By Cascade Tuholske, Sep 2020 <br>\n",
    "Notebook to clip rasters. <br>"
   ]
  },
  {
   "cell_type": "code",
   "execution_count": 1,
   "metadata": {},
   "outputs": [],
   "source": [
    "#### Dependencies\n",
    "import numpy as np\n",
    "import pandas as pd\n",
    "import rasterio \n",
    "import xarray as xr\n",
    "import geopandas as gpd\n",
    "import glob\n",
    "import rioxarray as rio\n",
    "from scipy.stats import variation \n",
    "import rasterio.mask"
   ]
  },
  {
   "cell_type": "code",
   "execution_count": 2,
   "metadata": {},
   "outputs": [],
   "source": [
    "#### File Paths & FNs\n",
    "DATA_PATH = '/Users/cascade/Github/PopGridCompare/data/'"
   ]
  },
  {
   "cell_type": "code",
   "execution_count": 11,
   "metadata": {},
   "outputs": [],
   "source": [
    "def raster_clip(rst_fn, polys, in_ext, out_ext):\n",
    "    \n",
    "    \"\"\" function clips a raster and saves it out\n",
    "    args:\n",
    "        rst_fn = raster you want to clip\n",
    "        polys = polys you want to clip to\n",
    "        in_ext = tail of .tif file to clip off\n",
    "        out_ext = tail of .tif file for saving out \n",
    "    \"\"\"\n",
    "    \n",
    "    # Get raster name\n",
    "    data = rst_fn.split(DATA_PATH+'interim/')[1].split(in_ext)[0]\n",
    "    fn_out = DATA_PATH+'interim/'+data+out_ext\n",
    "    print(fn_out)\n",
    "    \n",
    "    # clip raster\n",
    "    with rasterio.open(rst_fn) as src:\n",
    "        out_image, out_transform = rasterio.mask.mask(src, shapes, crop=True)\n",
    "        out_meta = src.meta\n",
    "        \n",
    "    # Update meta data\n",
    "    out_meta.update({\"driver\": \"GTiff\",\n",
    "                 \"height\": out_image.shape[1],\n",
    "                 \"width\": out_image.shape[2],\n",
    "                 \"transform\": out_transform})\n",
    "    \n",
    "    # write image \n",
    "    with rasterio.open(fn_out, \"w\", **out_meta) as dest:\n",
    "        dest.write(out_image)"
   ]
  },
  {
   "cell_type": "code",
   "execution_count": 16,
   "metadata": {},
   "outputs": [
    {
     "name": "stdout",
     "output_type": "stream",
     "text": [
      "/Users/cascade/Github/PopGridCompare/data/interim/GHS15_Nepal.tif\n",
      "/Users/cascade/Github/PopGridCompare/data/interim/LS15_Nepal.tif\n",
      "/Users/cascade/Github/PopGridCompare/data/interim/GPWv4_Nepal.tif\n",
      "/Users/cascade/Github/PopGridCompare/data/interim/ESRI16_Nepal.tif\n",
      "/Users/cascade/Github/PopGridCompare/data/interim/WP16_Nepal.tif\n"
     ]
    }
   ],
   "source": [
    "#### Matched Rasters \n",
    "rst_fns = glob.glob('/Users/cascade/Github/PopGridCompare/data/interim/*_matched.tif')\n",
    "rst_fns\n",
    "\n",
    "# Open polys\n",
    "polys_fn = DATA_PATH+'raw/GDAM/gadm36_NPL_shp/gadm36_NPL_0.shp'\n",
    "polys = gpd.read_file(polys_fn)\n",
    "shapes = polys[\"geometry\"]\n",
    "\n",
    "in_ext = '_matched.tif'\n",
    "out_ext = '_Nepal.tif'\n",
    "for rst_fn in rst_fns:\n",
    "    raster_clip(rst_fn, shapes, in_ext, out_ext)"
   ]
  },
  {
   "cell_type": "code",
   "execution_count": 19,
   "metadata": {},
   "outputs": [
    {
     "name": "stdout",
     "output_type": "stream",
     "text": [
      "/Users/cascade/Github/PopGridCompare/data/interim/GHS15_urban_Nepal.tif\n",
      "/Users/cascade/Github/PopGridCompare/data/interim/GPWv4_urban_Nepal.tif\n",
      "/Users/cascade/Github/PopGridCompare/data/interim/ESRI16_urban_Nepal.tif\n",
      "/Users/cascade/Github/PopGridCompare/data/interim/WP16_urban_Nepal.tif\n",
      "/Users/cascade/Github/PopGridCompare/data/interim/LS15_urban_Nepal.tif\n"
     ]
    }
   ],
   "source": [
    "#### Urban Rasters \n",
    "rst_fns = glob.glob('/Users/cascade/Github/PopGridCompare/data/interim/*_urban.tif')\n",
    "rst_fns\n",
    "\n",
    "# Open polys\n",
    "polys_fn = DATA_PATH+'raw/GDAM/gadm36_NPL_shp/gadm36_NPL_0.shp'\n",
    "polys = gpd.read_file(polys_fn)\n",
    "shapes = polys[\"geometry\"]\n",
    "\n",
    "in_ext = 'matched_urban.tif'\n",
    "out_ext = 'urban_Nepal.tif'\n",
    "for rst_fn in rst_fns:\n",
    "    raster_clip(rst_fn, shapes, in_ext, out_ext)"
   ]
  },
  {
   "cell_type": "code",
   "execution_count": 20,
   "metadata": {},
   "outputs": [
    {
     "name": "stdout",
     "output_type": "stream",
     "text": [
      "/Users/cascade/Github/PopGridCompare/data/interim/LS15_rural_Nepal.tif\n",
      "/Users/cascade/Github/PopGridCompare/data/interim/WP16_rural_Nepal.tif\n",
      "/Users/cascade/Github/PopGridCompare/data/interim/GPWv4_rural_Nepal.tif\n",
      "/Users/cascade/Github/PopGridCompare/data/interim/ESRI16_rural_Nepal.tif\n",
      "/Users/cascade/Github/PopGridCompare/data/interim/GHS15_rural_Nepal.tif\n"
     ]
    }
   ],
   "source": [
    "#### Rural Rasters \n",
    "rst_fns = glob.glob('/Users/cascade/Github/PopGridCompare/data/interim/*_rural.tif')\n",
    "rst_fns\n",
    "\n",
    "# Open polys\n",
    "polys_fn = DATA_PATH+'raw/GDAM/gadm36_NPL_shp/gadm36_NPL_0.shp'\n",
    "polys = gpd.read_file(polys_fn)\n",
    "shapes = polys[\"geometry\"]\n",
    "\n",
    "in_ext = 'matched_rural.tif'\n",
    "out_ext = 'rural_Nepal.tif'\n",
    "for rst_fn in rst_fns:\n",
    "    raster_clip(rst_fn, shapes, in_ext, out_ext)"
   ]
  }
 ],
 "metadata": {
  "kernelspec": {
   "display_name": "Python 3",
   "language": "python",
   "name": "python3"
  },
  "language_info": {
   "codemirror_mode": {
    "name": "ipython",
    "version": 3
   },
   "file_extension": ".py",
   "mimetype": "text/x-python",
   "name": "python",
   "nbconvert_exporter": "python",
   "pygments_lexer": "ipython3",
   "version": "3.8.6"
  }
 },
 "nbformat": 4,
 "nbformat_minor": 2
}
