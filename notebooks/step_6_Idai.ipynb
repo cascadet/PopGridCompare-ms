{
 "cells": [
  {
   "cell_type": "markdown",
   "metadata": {},
   "source": [
    "# Idai\n",
    "\n",
    "Notebook to calculate impacts of Cyclone Idai across gridded raster products"
   ]
  },
  {
   "cell_type": "code",
   "execution_count": 2,
   "metadata": {},
   "outputs": [],
   "source": [
    "#### Dependencies\n",
    "import numpy as np\n",
    "import pandas as pd\n",
    "import rasterio\n",
    "import geopandas as gpd\n",
    "from rasterstats import zonal_stats, gen_zonal_stats\n",
    "from glob import glob\n",
    "import matplotlib.pyplot as plt"
   ]
  },
  {
   "cell_type": "code",
   "execution_count": 3,
   "metadata": {},
   "outputs": [],
   "source": [
    "# open polys\n",
    "DATA_PATH = '/Users/cascade/Github/PopGridCompare/data/'"
   ]
  },
  {
   "cell_type": "code",
   "execution_count": 4,
   "metadata": {},
   "outputs": [],
   "source": [
    "#### Functions\n",
    "def zone_loop(polys_in, rst_list, stats_type, col, split):\n",
    "    \"\"\" Function loops through rasters, calcs zonal_stats and returns stats as a data frame.\n",
    "    Args:\n",
    "        polys_in = polygons\n",
    "        rst_list = list of paths & fns of rasters\n",
    "        stats_type = stats type for each poly gone (see zonal stats)\n",
    "        col = column to merge it all\n",
    "        split = where to split the file name string (e.g. _matched.tif)\n",
    "    \"\"\"\n",
    "    \n",
    "    # copy polys to write out\n",
    "    polys_out = polys_in.copy()\n",
    "    \n",
    "    for rst in rst_list:\n",
    "        \n",
    "        # Get data name\n",
    "        data = rst.split(DATA_PATH+'interim/')[1].split(split)[0]\n",
    "        print('Started', data)\n",
    "        \n",
    "        # Run zonal stats\n",
    "        zs_feats = zonal_stats(polys_in, rst, stats=stats_type, geojson_out=True)\n",
    "        zgdf = gpd.GeoDataFrame.from_features(zs_feats, crs=polys_in.crs)\n",
    "        \n",
    "        # Rename columns and merge\n",
    "        zgdf = zgdf.rename(columns={stats_type: data+'_'+stats_type})\n",
    "        \n",
    "        polys_out = polys_out.merge(zgdf[[col, data+'_'+stats_type]], on = col, how = 'inner')\n",
    "    \n",
    "    return polys_out"
   ]
  },
  {
   "cell_type": "markdown",
   "metadata": {},
   "source": [
    "## Wind speeds\n",
    "https://www.gdacs.org/resources.aspx?eventid=1000552&episodeid=24&eventtype=TC (I think)"
   ]
  },
  {
   "cell_type": "code",
   "execution_count": 5,
   "metadata": {},
   "outputs": [],
   "source": [
    "shps_fn = DATA_PATH+'raw/Idai/GDACS/Shape_1000552_24/Shape_1000552_24_POLYGON.shp'\n",
    "shps = gpd.read_file(shps_fn)"
   ]
  },
  {
   "cell_type": "code",
   "execution_count": 6,
   "metadata": {},
   "outputs": [
    {
     "data": {
      "text/html": [
       "<div>\n",
       "<style scoped>\n",
       "    .dataframe tbody tr th:only-of-type {\n",
       "        vertical-align: middle;\n",
       "    }\n",
       "\n",
       "    .dataframe tbody tr th {\n",
       "        vertical-align: top;\n",
       "    }\n",
       "\n",
       "    .dataframe thead th {\n",
       "        text-align: right;\n",
       "    }\n",
       "</style>\n",
       "<table border=\"1\" class=\"dataframe\">\n",
       "  <thead>\n",
       "    <tr style=\"text-align: right;\">\n",
       "      <th></th>\n",
       "      <th>eventtype</th>\n",
       "      <th>eventid</th>\n",
       "      <th>episodeid</th>\n",
       "      <th>source</th>\n",
       "      <th>type</th>\n",
       "      <th>label</th>\n",
       "      <th>geometry</th>\n",
       "    </tr>\n",
       "  </thead>\n",
       "  <tbody>\n",
       "    <tr>\n",
       "      <th>0</th>\n",
       "      <td>TC</td>\n",
       "      <td>1000552</td>\n",
       "      <td>24</td>\n",
       "      <td>JTWC</td>\n",
       "      <td>Red</td>\n",
       "      <td>120 km/h</td>\n",
       "      <td>POLYGON ((36.30000 -20.56700, 36.27524 -20.566...</td>\n",
       "    </tr>\n",
       "    <tr>\n",
       "      <th>1</th>\n",
       "      <td>TC</td>\n",
       "      <td>1000552</td>\n",
       "      <td>24</td>\n",
       "      <td>JTWC</td>\n",
       "      <td>Green</td>\n",
       "      <td>60 km/h</td>\n",
       "      <td>POLYGON ((36.30000 -22.31900, 36.21022 -22.317...</td>\n",
       "    </tr>\n",
       "    <tr>\n",
       "      <th>2</th>\n",
       "      <td>TC</td>\n",
       "      <td>1000552</td>\n",
       "      <td>24</td>\n",
       "      <td>JTWC</td>\n",
       "      <td>Orange</td>\n",
       "      <td>90 km/h</td>\n",
       "      <td>POLYGON ((36.30000 -21.23400, 36.25049 -21.233...</td>\n",
       "    </tr>\n",
       "    <tr>\n",
       "      <th>3</th>\n",
       "      <td>TC</td>\n",
       "      <td>1000552</td>\n",
       "      <td>24</td>\n",
       "      <td>JTWC</td>\n",
       "      <td>Cones</td>\n",
       "      <td>Uncertainty Cones</td>\n",
       "      <td>POLYGON ((31.40000 -20.20200, 31.32645 -20.200...</td>\n",
       "    </tr>\n",
       "  </tbody>\n",
       "</table>\n",
       "</div>"
      ],
      "text/plain": [
       "  eventtype  eventid  episodeid source    type              label  \\\n",
       "0        TC  1000552         24   JTWC     Red           120 km/h   \n",
       "1        TC  1000552         24   JTWC   Green            60 km/h   \n",
       "2        TC  1000552         24   JTWC  Orange            90 km/h   \n",
       "3        TC  1000552         24   JTWC   Cones  Uncertainty Cones   \n",
       "\n",
       "                                            geometry  \n",
       "0  POLYGON ((36.30000 -20.56700, 36.27524 -20.566...  \n",
       "1  POLYGON ((36.30000 -22.31900, 36.21022 -22.317...  \n",
       "2  POLYGON ((36.30000 -21.23400, 36.25049 -21.233...  \n",
       "3  POLYGON ((31.40000 -20.20200, 31.32645 -20.200...  "
      ]
     },
     "execution_count": 6,
     "metadata": {},
     "output_type": "execute_result"
    }
   ],
   "source": [
    "shps"
   ]
  },
  {
   "cell_type": "code",
   "execution_count": 7,
   "metadata": {},
   "outputs": [],
   "source": [
    "# Make a Geodataframe of wind polygobns\n",
    "labels = shps.label[[1,2,0]] # Get labels 60, 90, 120\n",
    "geom120 = shps.iloc[0,6] # geom for speeds\n",
    "geom90 = shps.iloc[[2]].geometry[2].difference(shps.iloc[[0]].geometry[0])\n",
    "geom60 = shps.iloc[[1]].geometry[1].difference(shps.iloc[[2]].geometry[2].union(shps.iloc[[0]].geometry[0]))"
   ]
  },
  {
   "cell_type": "code",
   "execution_count": 8,
   "metadata": {},
   "outputs": [],
   "source": [
    "polys = gpd.GeoDataFrame()\n",
    "polys['label'] = labels\n",
    "polys['geometry'] = [geom60, geom90, geom120]\n",
    "polys.to_file(DATA_PATH+'/interim/Idai_winds.shp')"
   ]
  },
  {
   "cell_type": "code",
   "execution_count": 9,
   "metadata": {},
   "outputs": [
    {
     "name": "stdout",
     "output_type": "stream",
     "text": [
      "Started ESRI16\n",
      "Started GHS15\n",
      "Started GPWv4\n",
      "Started LS15\n",
      "Started WP16\n"
     ]
    }
   ],
   "source": [
    "# Run zonal stats on all \n",
    "# Git tif files\n",
    "rst_fns = sorted(glob('/Users/cascade/Github/PopGridCompare/data/interim/*all_M-M-Z.tif'))\n",
    "col = 'label'\n",
    "winds_all = zone_loop(polys, rst_fns, 'sum', col, '_all_M-M-Z.tif')\n",
    "winds_all['label_int'] = [60, 90, 120]"
   ]
  },
  {
   "cell_type": "code",
   "execution_count": 109,
   "metadata": {},
   "outputs": [
    {
     "name": "stdout",
     "output_type": "stream",
     "text": [
      "Started ESRI16\n",
      "Started GHS15\n",
      "Started GPWv4\n",
      "Started LS15\n",
      "Started WP16\n"
     ]
    }
   ],
   "source": [
    "# Run zonal stats on rural \n",
    "rst_fns = sorted(glob('/Users/cascade/Github/PopGridCompare/data/interim/*rural_M-M-Z.tif'))\n",
    "col = 'label'\n",
    "winds_rural = zone_loop(polys, rst_fns, 'sum', col, '_rural_M-M-Z.tif')\n",
    "winds_rural['label_int'] = [60, 90, 120]"
   ]
  },
  {
   "cell_type": "markdown",
   "metadata": {},
   "source": [
    "## Flooding\n",
    "This should be updated once we decide on which flood extent method to employ"
   ]
  },
  {
   "cell_type": "code",
   "execution_count": 68,
   "metadata": {},
   "outputs": [],
   "source": [
    "def flood_sum(flood_arr, rst_fn):\n",
    "    \"\"\" sums total population from a rst affected by a flood mask raster\n",
    "    Args:\n",
    "        flood_arr = binary array of flood impacts\n",
    "        rst_fn = population raster input\n",
    "    \"\"\"\n",
    "    pop_arr = rasterio.open(rst_fn).read(1) # open\n",
    "    pop_arr_zeros = np.where(pop_arr == -999, 0, pop_arr) # revalue\n",
    "    mask_arr = flood_arr * pop_arr_zeros\n",
    "    \n",
    "    pop_sum = mask_arr.flatten().sum()\n",
    "    return pop_sum"
   ]
  },
  {
   "cell_type": "code",
   "execution_count": 69,
   "metadata": {},
   "outputs": [],
   "source": [
    "# Paths\n",
    "DATA_PATH = '/Users/cascade/Github/PopGridCompare/data/'"
   ]
  },
  {
   "cell_type": "code",
   "execution_count": 70,
   "metadata": {},
   "outputs": [],
   "source": [
    "# Get flood mask\n",
    "flood_fn = DATA_PATH+'interim/Idai_flood1km-matched.tif'\n",
    "flood_arr = rasterio.open(flood_fn).read(1)"
   ]
  },
  {
   "cell_type": "code",
   "execution_count": 76,
   "metadata": {},
   "outputs": [],
   "source": [
    "# Get all pop rasters\n",
    "rst_fns = sorted(glob('/Users/cascade/Github/PopGridCompare/data/interim/*all_M-M-Z.tif'))"
   ]
  },
  {
   "cell_type": "code",
   "execution_count": 89,
   "metadata": {},
   "outputs": [],
   "source": [
    "# Get all pop rasters\n",
    "rst_fns = sorted(glob('/Users/cascade/Github/PopGridCompare/data/interim/*all_M-M-Z.tif'))\n",
    "\n",
    "# Loop through and get flood impact data\n",
    "cols = []\n",
    "floods = []\n",
    "for rst_fn in rst_fns:\n",
    "    \n",
    "    # get cols\n",
    "    col = rst_fn.split('interim/')[1].split('_all')[0]+'_sum'\n",
    "    cols.append(col)\n",
    "    \n",
    "    #get flood\n",
    "    flood = flood_sum(flood_arr, rst_fn)\n",
    "    floods.append(flood)\n",
    "\n",
    "# write to df\n",
    "floods_all = pd.DataFrame(columns = cols)\n",
    "floods_all.loc[0] = floods "
   ]
  },
  {
   "cell_type": "code",
   "execution_count": 99,
   "metadata": {},
   "outputs": [
    {
     "data": {
      "text/html": [
       "<div>\n",
       "<style scoped>\n",
       "    .dataframe tbody tr th:only-of-type {\n",
       "        vertical-align: middle;\n",
       "    }\n",
       "\n",
       "    .dataframe tbody tr th {\n",
       "        vertical-align: top;\n",
       "    }\n",
       "\n",
       "    .dataframe thead th {\n",
       "        text-align: right;\n",
       "    }\n",
       "</style>\n",
       "<table border=\"1\" class=\"dataframe\">\n",
       "  <thead>\n",
       "    <tr style=\"text-align: right;\">\n",
       "      <th></th>\n",
       "      <th>ESRI16_sum</th>\n",
       "      <th>GHS15_sum</th>\n",
       "      <th>GPWv4_sum</th>\n",
       "      <th>LS15_sum</th>\n",
       "      <th>WP16_sum</th>\n",
       "    </tr>\n",
       "  </thead>\n",
       "  <tbody>\n",
       "    <tr>\n",
       "      <th>0</th>\n",
       "      <td>892340.0</td>\n",
       "      <td>1.481183e+06</td>\n",
       "      <td>1363058.375</td>\n",
       "      <td>1215242.0</td>\n",
       "      <td>1377915.75</td>\n",
       "    </tr>\n",
       "  </tbody>\n",
       "</table>\n",
       "</div>"
      ],
      "text/plain": [
       "   ESRI16_sum     GHS15_sum    GPWv4_sum   LS15_sum    WP16_sum\n",
       "0    892340.0  1.481183e+06  1363058.375  1215242.0  1377915.75"
      ]
     },
     "execution_count": 99,
     "metadata": {},
     "output_type": "execute_result"
    }
   ],
   "source": [
    "floods_all"
   ]
  },
  {
   "cell_type": "code",
   "execution_count": 93,
   "metadata": {},
   "outputs": [],
   "source": [
    "# Get all pop rasters\n",
    "rst_fns = sorted(glob('/Users/cascade/Github/PopGridCompare/data/interim/*rural_M-M-Z.tif'))\n",
    "\n",
    "# Loop through and get flood impact data\n",
    "cols = []\n",
    "floods = []\n",
    "for rst_fn in rst_fns:\n",
    "    \n",
    "    # get cols\n",
    "    col = rst_fn.split('interim/')[1].split('_rural')[0]+'_sum'\n",
    "    cols.append(col)\n",
    "    \n",
    "    #get flood\n",
    "    flood = flood_sum(flood_arr, rst_fn)\n",
    "    floods.append(flood)\n",
    "\n",
    "# write to df\n",
    "floods_rural = pd.DataFrame(columns = cols)\n",
    "floods_rural.loc[0] = floods "
   ]
  },
  {
   "cell_type": "markdown",
   "metadata": {},
   "source": [
    "## Figure"
   ]
  },
  {
   "cell_type": "code",
   "execution_count": 128,
   "metadata": {},
   "outputs": [],
   "source": [
    "#### set colors\n",
    "ESRI16_c = 'blue'\n",
    "GHS15_c = 'indigo'\n",
    "GWPv4_c = 'deeppink'\n",
    "LS15_c = 'deepskyblue'\n",
    "WP16_c = 'forestgreen'"
   ]
  },
  {
   "cell_type": "code",
   "execution_count": 130,
   "metadata": {},
   "outputs": [
    {
     "data": {
      "image/png": "[encoded data removed]",
      "text/plain": [
       "<Figure size 864x576 with 1 Axes>"
      ]
     },
     "metadata": {
      "needs_background": "light"
     },
     "output_type": "display_data"
    }
   ],
   "source": [
    "# Make bar plot \n",
    "fig, axs = plt.subplots(1, 1, figsize = (12, 8), sharex=True)\n",
    "ws = 0.25\n",
    "fig.subplots_adjust(wspace=ws)\n",
    "scale = 10**6\n",
    "\n",
    "# All winds\n",
    "# Bar locations\n",
    "a = [1-.3,2-.3,3-.3]\n",
    "b = [1-.15,2-.15,3-.15]\n",
    "c = [1,2,3]\n",
    "d = [1+.15,2+.15,3+.15]\n",
    "e = [1+.3,2+.3,3+.3]\n",
    "\n",
    "# plots\n",
    "plt.bar(a, winds_all.ESRI16_sum / scale, width=0.12, align='center', alpha  = 0.5, color = ESRI16_c, ec = 'black')\n",
    "plt.bar(b, winds_all.GHS15_sum / scale, width=0.12, align='center', alpha  = 0.6, color = GHS15_c, ec = 'black')\n",
    "plt.bar(c, winds_all.GPWv4_sum / scale, width=0.12, align='center', alpha  = 0.7, color = GWPv4_c, ec = 'black')\n",
    "plt.bar(d, winds_all.LS15_sum / scale, width=0.12, align='center', alpha  = 0.8, color = LS15_c, ec = 'black')\n",
    "plt.bar(e, winds_all.WP16_sum / scale, width=0.12, align='center', alpha  = 0.9, color = WP16_c, ec = 'black')\n",
    "\n",
    "# Fake plot for rural hatch legend \n",
    "plt.bar(e, winds_rural.WP16_sum / scale, width=0.12, align='center', alpha  = 1, color = 'white', ec = 'black',hatch = \"///\")\n",
    "\n",
    "# Rural Winds\n",
    "# plots\n",
    "plt.bar(a, winds_rural.ESRI16_sum / scale, width=0.12, align='center', alpha  = 0.5, color = ESRI16_c, ec = 'black', hatch = \"///\")\n",
    "plt.bar(b, winds_rural.GHS15_sum / scale, width=0.12, align='center', alpha  = 0.6, color = GHS15_c, ec = 'black', hatch = \"///\")\n",
    "plt.bar(c, winds_rural.GPWv4_sum / scale, width=0.12, align='center', alpha  = 0.7, color = GWPv4_c, ec = 'black', hatch = \"///\")\n",
    "plt.bar(d, winds_rural.LS15_sum / scale, width=0.12, align='center', alpha  = 0.8, color = LS15_c, ec = 'black', hatch = \"///\")\n",
    "plt.bar(e, winds_rural.WP16_sum / scale, width=0.12, align='center', alpha  = 0.9, color = WP16_c, ec = 'black', hatch = \"///\")\n",
    "\n",
    "# Bar locations\n",
    "a = [4-.15]\n",
    "b = [4-.3]\n",
    "c = [4]\n",
    "d = [4+.15]\n",
    "e = [4+.3]\n",
    "\n",
    "# All floods \n",
    "plt.bar(a, floods_all.ESRI16_sum / scale, width=0.12, align='center', alpha  = 0.5, color = ESRI16_c, ec = 'black')\n",
    "plt.bar(b, floods_all.GHS15_sum / scale, width=0.12, align='center', alpha  = 0.6, color = GHS15_c, ec = 'black')\n",
    "plt.bar(c, floods_all.GPWv4_sum  / scale, width=0.12, align='center', alpha  = 0.7, color = GWPv4_c, ec = 'black')\n",
    "plt.bar(d, floods_all.LS15_sum / scale, width=0.12, align='center', alpha  = 0.8, color = LS15_c, ec = 'black')\n",
    "plt.bar(e, floods_all.WP16_sum / scale, width=0.12, align='center', alpha  = 0.9, color = WP16_c, ec = 'black')\n",
    "\n",
    "#rural floods\n",
    "plt.bar(a, floods_rural.ESRI16_sum / scale, width=0.12, align='center', alpha  = 0.5, color = ESRI16_c, ec = 'black', hatch = \"///\")\n",
    "plt.bar(b, floods_rural.GHS15_sum / scale, width=0.12, align='center', alpha  = 0.6, color = GHS15_c, ec = 'black', hatch = \"///\")\n",
    "plt.bar(c, floods_rural.GPWv4_sum / scale, width=0.12, align='center', alpha  = 0.7, color = GWPv4_c, ec = 'black', hatch = \"///\")\n",
    "plt.bar(d, floods_rural.LS15_sum / scale, width=0.12, align='center', alpha  = 0.8, color = LS15_c, ec = 'black', hatch = \"///\")\n",
    "plt.bar(e, floods_rural.WP16_sum / scale, width=0.12, align='center', alpha  = 0.9, color = WP16_c, ec = 'black', hatch = \"///\")\n",
    "\n",
    "# legend + tics\n",
    "leg = ['WPE-16', 'GHSL-15', 'GPWv4-15', 'LS-15', 'WP-16', 'rural pop']\n",
    "ticks_bar = ['60 km/h', '90 km/h', '120 km/h', 'Flooding']\n",
    "plt.xticks([1,2,3,4], ticks_bar, fontsize = 15)\n",
    "plt.yticks(fontsize = 15)\n",
    "plt.legend(leg, fontsize = 15)\n",
    "\n",
    "# Labels / Titles\n",
    "axs.set_title('Idai Wind & Flooding Impact', size = 20)\n",
    "axs.set_xlabel('', fontsize = 15)\n",
    "axs.set_ylabel('Total Population [millions]', fontsize = 15)\n",
    "\n",
    "# save it out\n",
    "fig_out = '/Users/cascade/Github/PopGridCompare/data/FIGS/MS/Fig4-idai.png'\n",
    "plt.savefig(fig_out, dpi = 300, facecolor = 'white', bbox_inches='tight')"
   ]
  }
 ],
 "metadata": {
  "kernelspec": {
   "display_name": "Python 3",
   "language": "python",
   "name": "python3"
  },
  "language_info": {
   "codemirror_mode": {
    "name": "ipython",
    "version": 3
   },
   "file_extension": ".py",
   "mimetype": "text/x-python",
   "name": "python",
   "nbconvert_exporter": "python",
   "pygments_lexer": "ipython3",
   "version": "3.8.6"
  }
 },
 "nbformat": 4,
 "nbformat_minor": 4
}
