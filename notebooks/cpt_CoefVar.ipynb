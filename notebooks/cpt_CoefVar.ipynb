{
 "cells": [
  {
   "cell_type": "markdown",
   "metadata": {},
   "source": [
    "# VarCoef\n",
    "\n",
    "By Cascade Tuholske, Sep 2020 <br>\n",
    "Notebook to generate coeffiecent of variation of popgrid data. <br>\n"
   ]
  },
  {
   "cell_type": "code",
   "execution_count": 1,
   "metadata": {},
   "outputs": [],
   "source": [
    "#### Dependencies\n",
    "import numpy as np\n",
    "import pandas as pd\n",
    "import rasterio \n",
    "import xarray as xr\n",
    "import geopandas as gpd\n",
    "import glob\n",
    "import rioxarray as rio"
   ]
  },
  {
   "cell_type": "code",
   "execution_count": 6,
   "metadata": {
    "scrolled": true
   },
   "outputs": [
    {
     "name": "stdout",
     "output_type": "stream",
     "text": [
      "/Users/cascade/Github/PopGridCompare/data/interim/MGUP15_2015-km_matched.tif\n",
      "/Users/cascade/Github/PopGridCompare/data/interim/GHS15_matched.tif\n",
      "/Users/cascade/Github/PopGridCompare/data/interim/LS15_matched.tif\n",
      "/Users/cascade/Github/PopGridCompare/data/interim/GPWv4_matched.tif\n",
      "/Users/cascade/Github/PopGridCompare/data/interim/ESRI16_matched.tif\n",
      "/Users/cascade/Github/PopGridCompare/data/interim/WP16_matched.tif\n"
     ]
    },
    {
     "data": {
      "text/plain": [
       "['/Users/cascade/Github/PopGridCompare/data/interim/GHS15_matched.tif',\n",
       " '/Users/cascade/Github/PopGridCompare/data/interim/LS15_matched.tif',\n",
       " '/Users/cascade/Github/PopGridCompare/data/interim/GPWv4_matched.tif',\n",
       " '/Users/cascade/Github/PopGridCompare/data/interim/ESRI16_matched.tif',\n",
       " '/Users/cascade/Github/PopGridCompare/data/interim/WP16_matched.tif']"
      ]
     },
     "execution_count": 6,
     "metadata": {},
     "output_type": "execute_result"
    }
   ],
   "source": [
    "# File paths\n",
    "PATH = '/Users/cascade/Github/PopGridCompare/data/interim/'\n",
    "\n",
    "# Git tif files\n",
    "rst_fns = glob.glob('/Users/cascade/Github/PopGridCompare/data/interim/*_matched.tif')\n",
    "for rst in rst_fns: print(rst) # check them\n",
    "rst_fns = rst_fns[1:] # drop MGUP\n",
    "rst_fns"
   ]
  },
  {
   "cell_type": "code",
   "execution_count": 7,
   "metadata": {},
   "outputs": [],
   "source": [
    "def open_rst(rst_fn):\n",
    "    \"function opens a raster and makes it into a xarray object\"\n",
    "    \n",
    "    rst = xr.DataArray(rasterio.open(rst_fn).read(1), dims = ['y', 'x']) # y and x are our 2-d labels\n",
    "    \n",
    "    return rst"
   ]
  },
  {
   "cell_type": "code",
   "execution_count": 8,
   "metadata": {},
   "outputs": [],
   "source": [
    "# Loop and stack\n",
    "\n",
    "ds = xr.Dataset()\n",
    "arr_list = []\n",
    "nm_list = []\n",
    "\n",
    "for rst_fn in rst_fns:\n",
    "    \n",
    "    nm = rst_fn.split('interim/')[1].split('_')[0]\n",
    "\n",
    "    # Make arrays into x    array DataArray\n",
    "    #rst_arr = open_rst(rst_fn)\n",
    "    rst_arr = rasterio.open(rst_fn).read(1)\n",
    "    \n",
    "    arr_list.append(rst_arr)\n",
    "    nm_list.append(nm)\n",
    "#    ds = xr.merge(ds, rst_arr)\n",
    "#     # Make xarray dataset\n",
    "#     ds = xr.Dataset(data_vars = \n",
    "#             {'ghs' : (['y', 'x'], polyRst_da),\n",
    "#             'temp' : (['y', 'x'], tempRst_da),})"
   ]
  },
  {
   "cell_type": "code",
   "execution_count": 9,
   "metadata": {},
   "outputs": [],
   "source": [
    "arr3 = np.dstack([arr_list])"
   ]
  },
  {
   "cell_type": "code",
   "execution_count": 10,
   "metadata": {
    "scrolled": true
   },
   "outputs": [
    {
     "data": {
      "text/plain": [
       "array([[[0., 0., 0., ..., 0., 0., 0.],\n",
       "        [0., 0., 0., ..., 0., 0., 0.],\n",
       "        [0., 0., 0., ..., 0., 0., 0.],\n",
       "        ...,\n",
       "        [0., 0., 0., ..., 0., 0., 0.],\n",
       "        [0., 0., 0., ..., 0., 0., 0.],\n",
       "        [0., 0., 0., ..., 0., 0., 0.]],\n",
       "\n",
       "       [[0., 0., 0., ..., 0., 0., 0.],\n",
       "        [0., 0., 0., ..., 0., 0., 0.],\n",
       "        [0., 0., 0., ..., 0., 0., 0.],\n",
       "        ...,\n",
       "        [0., 0., 0., ..., 0., 0., 0.],\n",
       "        [0., 0., 0., ..., 0., 0., 0.],\n",
       "        [0., 0., 0., ..., 0., 0., 0.]],\n",
       "\n",
       "       [[0., 0., 0., ..., 0., 0., 0.],\n",
       "        [0., 0., 0., ..., 0., 0., 0.],\n",
       "        [0., 0., 0., ..., 0., 0., 0.],\n",
       "        ...,\n",
       "        [0., 0., 0., ..., 0., 0., 0.],\n",
       "        [0., 0., 0., ..., 0., 0., 0.],\n",
       "        [0., 0., 0., ..., 0., 0., 0.]],\n",
       "\n",
       "       [[0., 0., 0., ..., 0., 0., 0.],\n",
       "        [0., 0., 0., ..., 0., 0., 0.],\n",
       "        [0., 0., 0., ..., 0., 0., 0.],\n",
       "        ...,\n",
       "        [0., 0., 0., ..., 0., 0., 0.],\n",
       "        [0., 0., 0., ..., 0., 0., 0.],\n",
       "        [0., 0., 0., ..., 0., 0., 0.]],\n",
       "\n",
       "       [[0., 0., 0., ..., 0., 0., 0.],\n",
       "        [0., 0., 0., ..., 0., 0., 0.],\n",
       "        [0., 0., 0., ..., 0., 0., 0.],\n",
       "        ...,\n",
       "        [0., 0., 0., ..., 0., 0., 0.],\n",
       "        [0., 0., 0., ..., 0., 0., 0.],\n",
       "        [0., 0., 0., ..., 0., 0., 0.]]])"
      ]
     },
     "execution_count": 10,
     "metadata": {},
     "output_type": "execute_result"
    }
   ],
   "source": [
    "arr3"
   ]
  },
  {
   "cell_type": "code",
   "execution_count": 11,
   "metadata": {},
   "outputs": [],
   "source": [
    "arr3_nan = arr3.copy()"
   ]
  },
  {
   "cell_type": "code",
   "execution_count": 12,
   "metadata": {},
   "outputs": [],
   "source": [
    "arr3_nan[arr3_nan == 0] = 'nan'"
   ]
  },
  {
   "cell_type": "code",
   "execution_count": null,
   "metadata": {},
   "outputs": [],
   "source": [
    "from scipy.stats import variation \n",
    "\n",
    "# max variation along rows of A; \n",
    "# rows: axis=0, cols: axis=1\n",
    "\n",
    "var = variation(arr3_nan, axis=2, nan_policy = 'omit')"
   ]
  },
  {
   "cell_type": "code",
   "execution_count": null,
   "metadata": {},
   "outputs": [],
   "source": [
    "var.max()"
   ]
  }
 ],
 "metadata": {
  "kernelspec": {
   "display_name": "Python 3",
   "language": "python",
   "name": "python3"
  },
  "language_info": {
   "codemirror_mode": {
    "name": "ipython",
    "version": 3
   },
   "file_extension": ".py",
   "mimetype": "text/x-python",
   "name": "python",
   "nbconvert_exporter": "python",
   "pygments_lexer": "ipython3",
   "version": "3.8.6"
  }
 },
 "nbformat": 4,
 "nbformat_minor": 2
}
