{
 "cells": [
  {
   "cell_type": "markdown",
   "metadata": {},
   "source": [
    "# ECU Floods\n",
    "\n",
    "Notebook to compare flash flood risk in Ecuador"
   ]
  },
  {
   "cell_type": "code",
   "execution_count": 1,
   "metadata": {},
   "outputs": [],
   "source": [
    "#### Dependencies\n",
    "import numpy as np\n",
    "import pandas as pd\n",
    "import rasterio\n",
    "import geopandas as gpd\n",
    "from rasterstats import zonal_stats, gen_zonal_stats\n",
    "from glob import glob\n",
    "import matplotlib.pyplot as plt\n",
    "import shapely"
   ]
  },
  {
   "cell_type": "code",
   "execution_count": 2,
   "metadata": {},
   "outputs": [],
   "source": [
    "# open polys\n",
    "DATA_PATH = '/Users/cascade/Github/PopGridCompare/data/'"
   ]
  },
  {
   "cell_type": "code",
   "execution_count": 3,
   "metadata": {},
   "outputs": [],
   "source": [
    "#### Functions\n",
    "def zone_loop(polys_in, rst_list, stats_type, col, split):\n",
    "    \"\"\" Function loops through rasters, calcs zonal_stats and returns stats as a data frame.\n",
    "    Args:\n",
    "        polys_in = polygons\n",
    "        rst_list = list of paths & fns of rasters\n",
    "        stats_type = stats type for each poly gone (see zonal stats)\n",
    "        col = column to merge it all\n",
    "        split = where to split the file name string (e.g. _matched.tif)\n",
    "    \"\"\"\n",
    "    \n",
    "    # copy polys to write out\n",
    "    polys_out = polys_in.copy()\n",
    "    \n",
    "    for rst in rst_list:\n",
    "        \n",
    "        # Get data name\n",
    "        data = rst.split(DATA_PATH+'interim/')[1].split(split)[0]\n",
    "        print('Started', data)\n",
    "        \n",
    "        # Run zonal stats\n",
    "        zs_feats = zonal_stats(polys_in, rst, stats=stats_type, geojson_out=True)\n",
    "        zgdf = gpd.GeoDataFrame.from_features(zs_feats, crs=polys_in.crs)\n",
    "        \n",
    "        # Rename columns and merge\n",
    "        zgdf = zgdf.rename(columns={stats_type: data+'_'+stats_type})\n",
    "        \n",
    "        polys_out = polys_out.merge(zgdf[[col, data+'_'+stats_type]], on = col, how = 'inner')\n",
    "    \n",
    "    return polys_out"
   ]
  },
  {
   "cell_type": "code",
   "execution_count": 4,
   "metadata": {},
   "outputs": [],
   "source": [
    "def poly_prep(polys_fn, col):\n",
    "    \"function opens earth quake polygons for zonal loop\"\n",
    "    \n",
    "    # open\n",
    "    polys = gpd.read_file(polys_fn)\n",
    "    \n",
    "    # subset, be sure to check the admin level\n",
    "    polys = polys[['geometry', col]]\n",
    "    \n",
    "    return polys"
   ]
  },
  {
   "cell_type": "code",
   "execution_count": 5,
   "metadata": {},
   "outputs": [],
   "source": [
    "def get_stats(df):\n",
    "    \"Get min, max, range, and pca flood risk columns from a df\"\n",
    "    \n",
    "    # Find range\n",
    "    df['max'] =df.iloc[:,2:7].max(axis = 1)\n",
    "    df['min'] =df.iloc[:,2:7].min(axis = 1)\n",
    "    df['range'] =df['max'] -df['min']\n",
    "    \n",
    "    # make PCA risk quintiles (1 - 5, worst to bes)\n",
    "    df['risk'] = np.where(df['susc_PCA'] >= .6, 4, 1)\n",
    "    df['risk'] = np.where(((df['susc_PCA'] >= .5) & (df['risk'] == 1)), 3,df['risk'])\n",
    "    df['risk'] = np.where(((df['susc_PCA'] >= .4) & (df['risk'] == 1)), 2,df['risk'])\n",
    "    \n",
    "    return df"
   ]
  },
  {
   "cell_type": "markdown",
   "metadata": {},
   "source": [
    "## Flood risk All"
   ]
  },
  {
   "cell_type": "code",
   "execution_count": 6,
   "metadata": {},
   "outputs": [
    {
     "data": {
      "text/plain": [
       "['/Users/cascade/Github/PopGridCompare/data/interim/ESRI16_all_Ecuador.tif',\n",
       " '/Users/cascade/Github/PopGridCompare/data/interim/GHS15_all_Ecuador.tif',\n",
       " '/Users/cascade/Github/PopGridCompare/data/interim/GPWv4_all_Ecuador.tif',\n",
       " '/Users/cascade/Github/PopGridCompare/data/interim/LS15_all_Ecuador.tif',\n",
       " '/Users/cascade/Github/PopGridCompare/data/interim/WP16_all_Ecuador.tif']"
      ]
     },
     "execution_count": 6,
     "metadata": {},
     "output_type": "execute_result"
    }
   ],
   "source": [
    "# Git tif files\n",
    "rst_fns = sorted(glob('/Users/cascade/Github/PopGridCompare/data/interim/*all_Ecuador.tif'))\n",
    "rst_fns"
   ]
  },
  {
   "cell_type": "code",
   "execution_count": 7,
   "metadata": {},
   "outputs": [],
   "source": [
    "# Open flood susceptability layer\n",
    "ecu_fn = DATA_PATH+'raw/ECU-Floods/Susceptibility/FF_suscept_PCA.shp'\n",
    "col = 'susc_PCA'\n",
    "ecu_all = poly_prep(ecu_fn, col)"
   ]
  },
  {
   "cell_type": "code",
   "execution_count": 8,
   "metadata": {},
   "outputs": [],
   "source": [
    "# Need to reproject crs to epsg:4326\n",
    "ecu_all = ecu_all.to_crs('epsg:4326')\n"
   ]
  },
  {
   "cell_type": "code",
   "execution_count": 9,
   "metadata": {
    "scrolled": true
   },
   "outputs": [
    {
     "name": "stdout",
     "output_type": "stream",
     "text": [
      "Started ESRI16\n",
      "Started GHS15\n",
      "Started GPWv4\n",
      "Started LS15\n",
      "Started WP16\n"
     ]
    }
   ],
   "source": [
    "# Run zonal stats loop\n",
    "ecu_all_sum = zone_loop(ecu_all, rst_fns, 'sum', col, '_all_Ecuador.tif')"
   ]
  },
  {
   "cell_type": "code",
   "execution_count": 10,
   "metadata": {},
   "outputs": [],
   "source": [
    "ecu_all_out = get_stats(ecu_all_sum)"
   ]
  },
  {
   "cell_type": "code",
   "execution_count": 11,
   "metadata": {},
   "outputs": [],
   "source": [
    "# Save it out\n",
    "fn_out = DATA_PATH+'interim/ECU-Flood-Risk_all.shp'\n",
    "ecu_all_out.to_file(fn_out)"
   ]
  },
  {
   "cell_type": "code",
   "execution_count": 12,
   "metadata": {},
   "outputs": [],
   "source": [
    "# check\n",
    "pop_all = ecu_all_out['ESRI16_sum'].sum()"
   ]
  },
  {
   "cell_type": "markdown",
   "metadata": {},
   "source": [
    "## Flood risk rural"
   ]
  },
  {
   "cell_type": "code",
   "execution_count": 13,
   "metadata": {},
   "outputs": [
    {
     "data": {
      "text/plain": [
       "['/Users/cascade/Github/PopGridCompare/data/interim/ESRI16_rural_Ecuador.tif',\n",
       " '/Users/cascade/Github/PopGridCompare/data/interim/GHS15_rural_Ecuador.tif',\n",
       " '/Users/cascade/Github/PopGridCompare/data/interim/GPWv4_rural_Ecuador.tif',\n",
       " '/Users/cascade/Github/PopGridCompare/data/interim/LS15_rural_Ecuador.tif',\n",
       " '/Users/cascade/Github/PopGridCompare/data/interim/WP16_rural_Ecuador.tif']"
      ]
     },
     "execution_count": 13,
     "metadata": {},
     "output_type": "execute_result"
    }
   ],
   "source": [
    "# Git tif files\n",
    "rst_fns = sorted(glob('/Users/cascade/Github/PopGridCompare/data/interim/*rural_Ecuador.tif'))\n",
    "rst_fns"
   ]
  },
  {
   "cell_type": "code",
   "execution_count": 14,
   "metadata": {
    "scrolled": true
   },
   "outputs": [
    {
     "name": "stdout",
     "output_type": "stream",
     "text": [
      "Started ESRI16\n",
      "Started GHS15\n",
      "Started GPWv4\n",
      "Started LS15\n",
      "Started WP16\n"
     ]
    }
   ],
   "source": [
    "# Run zonal stats loop\n",
    "ecu_rural_sum = zone_loop(ecu_all, rst_fns, 'sum', col, '_rural_Ecuador.tif')"
   ]
  },
  {
   "cell_type": "code",
   "execution_count": 15,
   "metadata": {},
   "outputs": [],
   "source": [
    "ecu_rural_out = get_stats(ecu_rural_sum)"
   ]
  },
  {
   "cell_type": "code",
   "execution_count": 16,
   "metadata": {},
   "outputs": [],
   "source": [
    "# Save it out\n",
    "fn_out = DATA_PATH+'interim/ECU-Flood-Risk_rural.shp'\n",
    "ecu_rural_out.to_file(fn_out)"
   ]
  },
  {
   "cell_type": "markdown",
   "metadata": {},
   "source": [
    "## Flood risk urban"
   ]
  },
  {
   "cell_type": "code",
   "execution_count": 17,
   "metadata": {},
   "outputs": [
    {
     "data": {
      "text/plain": [
       "['/Users/cascade/Github/PopGridCompare/data/interim/ESRI16_urban_Ecuador.tif',\n",
       " '/Users/cascade/Github/PopGridCompare/data/interim/GHS15_urban_Ecuador.tif',\n",
       " '/Users/cascade/Github/PopGridCompare/data/interim/GPWv4_urban_Ecuador.tif',\n",
       " '/Users/cascade/Github/PopGridCompare/data/interim/LS15_urban_Ecuador.tif',\n",
       " '/Users/cascade/Github/PopGridCompare/data/interim/WP16_urban_Ecuador.tif']"
      ]
     },
     "execution_count": 17,
     "metadata": {},
     "output_type": "execute_result"
    }
   ],
   "source": [
    "# Git tif files\n",
    "rst_fns = sorted(glob('/Users/cascade/Github/PopGridCompare/data/interim/*urban_Ecuador.tif'))\n",
    "rst_fns"
   ]
  },
  {
   "cell_type": "code",
   "execution_count": 18,
   "metadata": {
    "scrolled": true
   },
   "outputs": [
    {
     "name": "stdout",
     "output_type": "stream",
     "text": [
      "Started ESRI16\n",
      "Started GHS15\n",
      "Started GPWv4\n",
      "Started LS15\n",
      "Started WP16\n"
     ]
    }
   ],
   "source": [
    "# Run zonal stats loop\n",
    "ecu_urban_sum = zone_loop(ecu_all, rst_fns, 'sum', col, '_urban_Ecuador.tif')"
   ]
  },
  {
   "cell_type": "code",
   "execution_count": 19,
   "metadata": {},
   "outputs": [],
   "source": [
    "ecu_urban_out = get_stats(ecu_urban_sum)"
   ]
  },
  {
   "cell_type": "code",
   "execution_count": 20,
   "metadata": {},
   "outputs": [],
   "source": [
    "# Save it out\n",
    "fn_out = DATA_PATH+'interim/ECU-Flood-Risk_urban.shp'\n",
    "ecu_urban_out.to_file(fn_out)"
   ]
  },
  {
   "cell_type": "markdown",
   "metadata": {},
   "source": [
    "## Check Data"
   ]
  },
  {
   "cell_type": "code",
   "execution_count": 21,
   "metadata": {},
   "outputs": [
    {
     "data": {
      "text/plain": [
       "[1, 2, 3, 4, 5]"
      ]
     },
     "execution_count": 21,
     "metadata": {},
     "output_type": "execute_result"
    }
   ],
   "source": [
    "list(range(1,6))"
   ]
  },
  {
   "cell_type": "code",
   "execution_count": 22,
   "metadata": {},
   "outputs": [
    {
     "name": "stdout",
     "output_type": "stream",
     "text": [
      "1.224001\n",
      "6.786817\n",
      "6.998478\n",
      "2.856822\n",
      "0.0\n",
      "final 17.866118\n"
     ]
    }
   ],
   "source": [
    "col = 'ESRI16_sum'\n",
    "df = ecu_all_out\n",
    "count = 0\n",
    "for num in list(range(1,6)):\n",
    "    pop = df[df['risk'] == num][col].sum()\n",
    "    print(pop/10**6)\n",
    "    count = count + pop\n",
    "print('final', count/10**6)"
   ]
  },
  {
   "cell_type": "code",
   "execution_count": 23,
   "metadata": {
    "scrolled": true
   },
   "outputs": [
    {
     "name": "stdout",
     "output_type": "stream",
     "text": [
      "0.791164\n",
      "3.723643\n",
      "4.653177\n",
      "1.012755\n",
      "0.0\n",
      "final 10.180739\n"
     ]
    }
   ],
   "source": [
    "col = 'ESRI16_sum'\n",
    "df = ecu_rural_out\n",
    "count = 0\n",
    "for num in list(range(1,6)):\n",
    "    pop = df[df['risk'] == num][col].sum()\n",
    "    print(pop/10**6)\n",
    "    count = count + pop\n",
    "print('final', count/10**6)"
   ]
  },
  {
   "cell_type": "markdown",
   "metadata": {},
   "source": [
    "## Explore plots"
   ]
  },
  {
   "cell_type": "code",
   "execution_count": 81,
   "metadata": {},
   "outputs": [],
   "source": [
    "def bar_plot(df, col, off_set, a_v, bar_color, scale, pattern = None):\n",
    "    \"\"\" Make a custom bar plots\n",
    "    Args: \n",
    "        df = data frame to plot\n",
    "        col = name of col to plot\n",
    "        off_set = off_set of bar as float\n",
    "        a_v = alpha \n",
    "        bar_color = color as string\n",
    "        hatch = type, default is none\n",
    "    \"\"\"\n",
    "    \n",
    "    # Plot\n",
    "    data = df[df['risk'] == 1][col].sum()\n",
    "    a = plt.bar(1+off_set, data / scale, width=0.12, align='center', alpha  = a_v, color = bar_color, ec = 'black',  hatch = pattern)\n",
    "    data = df[df['risk'] == 2][col].sum()\n",
    "    b = plt.bar(2+off_set, data / scale, width=0.12, align='center', alpha  = a_v, color = bar_color, ec = 'black',  hatch = pattern)\n",
    "    data = df[df['risk'] == 3][col].sum()\n",
    "    c = plt.bar(3+off_set, data / scale, width=0.12, align='center', alpha  = a_v, color = bar_color, ec = 'black',  hatch = pattern)\n",
    "    data = df[df['risk'] == 4][col].sum()\n",
    "    d = plt.bar(4+off_set, data / scale, width=0.12, align='center', alpha  = a_v, color = bar_color, ec = 'black',  hatch = pattern)\n",
    "\n",
    "    return a,b,c,d"
   ]
  },
  {
   "cell_type": "code",
   "execution_count": 82,
   "metadata": {},
   "outputs": [],
   "source": [
    "#### set colors\n",
    "ESRI16_c = 'blue'\n",
    "GHS15_c = 'indigo'\n",
    "GPWv4_c = 'deeppink'\n",
    "LS15_c = 'deepskyblue'\n",
    "WP16_c = 'forestgreen'"
   ]
  },
  {
   "cell_type": "code",
   "execution_count": 88,
   "metadata": {
    "scrolled": true
   },
   "outputs": [
    {
     "data": {
      "image/png": "[encoded data removed]",
      "text/plain": [
       "<Figure size 864x576 with 1 Axes>"
      ]
     },
     "metadata": {
      "needs_background": "light"
     },
     "output_type": "display_data"
    }
   ],
   "source": [
    "# Make bar plot \n",
    "fig, axs = plt.subplots(1, 1, figsize = (12, 8), sharex=True)\n",
    "ws = 0.25\n",
    "fig.subplots_adjust(wspace=ws)\n",
    "scale_data = 10**6\n",
    "\n",
    "# Fake rural for legend\n",
    "f = bar_plot(ecu_rural_out, 'ESRI16_sum', -0.3, 0.5, 'white',  scale_data, '///')\n",
    "\n",
    "# All data\n",
    "a = bar_plot(ecu_all_out, 'ESRI16_sum', -0.3, 0.5, ESRI16_c, scale_data, None)\n",
    "b = bar_plot(ecu_all_out, 'GHS15_sum', -0.15, 0.6, GHS15_c, scale_data, None)\n",
    "c = bar_plot(ecu_all_out, 'GPWv4_sum', 0, 0.7, GPWv4_c, scale_data, None)\n",
    "d = bar_plot(ecu_all_out, 'LS15_sum', 0.15, 0.8, LS15_c, scale_data, None)\n",
    "e = bar_plot(ecu_all_out, 'WP16_sum', 0.3, 0.9, WP16_c, scale_data, None)\n",
    "\n",
    "# Rural\n",
    "bar_plot(ecu_rural_out, 'ESRI16_sum', -0.3, 0.5, ESRI16_c,  scale_data, '///')\n",
    "bar_plot(ecu_rural_out, 'GHS15_sum', -0.15,  0.6, GHS15_c,  scale_data, '///')\n",
    "bar_plot(ecu_rural_out, 'GPWv4_sum', 0,  0.7, GPWv4_c,  scale_data,'///')\n",
    "bar_plot(ecu_rural_out, 'LS15_sum', 0.15,  0.8, LS15_c, scale_data, '///')\n",
    "bar_plot(ecu_rural_out, 'WP16_sum', 0.3,  0.9, WP16_c,  scale_data,'///')\n",
    "\n",
    "# # Fake rural for legend\n",
    "# f = bar_plot(ecu_rural_out, 'ESRI16_sum', -0.3,0.0, ESRI16_c,  scale_data, '///')\n",
    "\n",
    "# tics\n",
    "ticks_bar = ['< 0.4', '0.4 to 0.5', ' 0.5 to 0.6', '>= 0.6']\n",
    "plt.xticks([1,2,3,4], ticks_bar, fontsize = 15)\n",
    "plt.yticks(fontsize = 15)\n",
    "\n",
    "leg = [a[0],b[0],c[0],d[0],e[0], f[0]]\n",
    "leg_labels = ['WPE-16', 'GHSL-15', 'GPWv4-15', 'LS-15', 'WP-16', 'rural pop']\n",
    "plt.legend(leg, leg_labels, fontsize = 15)\n",
    "\n",
    "# Labels / Titles\n",
    "axs.set_title('Flash Floods Susceptibility', size = 20)\n",
    "axs.set_xlabel('', fontsize = 15)\n",
    "axs.set_ylabel('Total Population [millions]', fontsize = 15)\n",
    "\n",
    "# save it out\n",
    "fig_out = '/Users/cascade/Github/PopGridCompare/data/FIGS/MS/Fig5-ecu.png'\n",
    "plt.savefig(fig_out, dpi = 300, facecolor = 'white', bbox_inches='tight')"
   ]
  },
  {
   "cell_type": "markdown",
   "metadata": {},
   "source": [
    "### Risks out"
   ]
  },
  {
   "cell_type": "code",
   "execution_count": 105,
   "metadata": {},
   "outputs": [],
   "source": [
    "# Save out by risk layer\n",
    "r = 4\n",
    "fn_out = DATA_PATH+'interim/ECU-Flood-Risk_all_r'+str(r)+'.shp'\n",
    "out = ecu_all_out[ecu_all_out['risk']== r]\n",
    "out.to_file(fn_out)"
   ]
  }
 ],
 "metadata": {
  "kernelspec": {
   "display_name": "Python 3",
   "language": "python",
   "name": "python3"
  },
  "language_info": {
   "codemirror_mode": {
    "name": "ipython",
    "version": 3
   },
   "file_extension": ".py",
   "mimetype": "text/x-python",
   "name": "python",
   "nbconvert_exporter": "python",
   "pygments_lexer": "ipython3",
   "version": "3.8.6"
  }
 },
 "nbformat": 4,
 "nbformat_minor": 4
}
