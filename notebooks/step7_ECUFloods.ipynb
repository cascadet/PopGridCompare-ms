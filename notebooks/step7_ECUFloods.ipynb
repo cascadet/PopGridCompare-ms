{
 "cells": [
  {
   "cell_type": "markdown",
   "metadata": {},
   "source": [
    "# ECU Floods\n",
    "\n",
    "Notebook to compare flash flood risk in Ecuador"
   ]
  },
  {
   "cell_type": "code",
   "execution_count": 1,
   "metadata": {},
   "outputs": [],
   "source": [
    "#### Dependencies\n",
    "import numpy as np\n",
    "import pandas as pd\n",
    "import rasterio\n",
    "import geopandas as gpd\n",
    "from rasterstats import zonal_stats, gen_zonal_stats\n",
    "from glob import glob\n",
    "import matplotlib.pyplot as plt\n",
    "import shapely"
   ]
  },
  {
   "cell_type": "code",
   "execution_count": 2,
   "metadata": {},
   "outputs": [],
   "source": [
    "# open polys\n",
    "DATA_PATH = '/Users/cascade/Github/PopGridCompare/data/'"
   ]
  },
  {
   "cell_type": "code",
   "execution_count": 3,
   "metadata": {},
   "outputs": [],
   "source": [
    "#### Functions\n",
    "def zone_loop(polys_in, rst_list, stats_type, col, split):\n",
    "    \"\"\" Function loops through rasters, calcs zonal_stats and returns stats as a data frame.\n",
    "    Args:\n",
    "        polys_in = polygons\n",
    "        rst_list = list of paths & fns of rasters\n",
    "        stats_type = stats type for each poly gone (see zonal stats)\n",
    "        col = column to merge it all\n",
    "        split = where to split the file name string (e.g. _matched.tif)\n",
    "    \"\"\"\n",
    "    \n",
    "    # copy polys to write out\n",
    "    polys_out = polys_in.copy()\n",
    "    \n",
    "    for rst in rst_list:\n",
    "        \n",
    "        # Get data name\n",
    "        data = rst.split(DATA_PATH+'interim/')[1].split(split)[0]\n",
    "        print('Started', data)\n",
    "        \n",
    "        # Run zonal stats\n",
    "        zs_feats = zonal_stats(polys_in, rst, stats=stats_type, geojson_out=True)\n",
    "        zgdf = gpd.GeoDataFrame.from_features(zs_feats, crs=polys_in.crs)\n",
    "        \n",
    "        # Rename columns and merge\n",
    "        zgdf = zgdf.rename(columns={stats_type: data+'_'+stats_type})\n",
    "        \n",
    "        polys_out = polys_out.merge(zgdf[[col, data+'_'+stats_type]], on = col, how = 'inner')\n",
    "    \n",
    "    return polys_out"
   ]
  },
  {
   "cell_type": "code",
   "execution_count": 4,
   "metadata": {},
   "outputs": [],
   "source": [
    "def poly_prep(polys_fn, col):\n",
    "    \"function opens earth quake polygons for zonal loop\"\n",
    "    \n",
    "    # open\n",
    "    polys = gpd.read_file(polys_fn)\n",
    "    \n",
    "    # subset \n",
    "    polys = polys[['geometry', col]]\n",
    "    \n",
    "    #UID\n",
    "    ids = ['UID'+str(x) for x in list(range(0,len(polys)))]\n",
    "    \n",
    "    polys['UID'] = ids\n",
    "    \n",
    "    return polys"
   ]
  },
  {
   "cell_type": "markdown",
   "metadata": {},
   "source": [
    "## Flood risk All"
   ]
  },
  {
   "cell_type": "code",
   "execution_count": 5,
   "metadata": {},
   "outputs": [
    {
     "data": {
      "text/plain": [
       "['/Users/cascade/Github/PopGridCompare/data/interim/ESRI16_all_ECU.tif',\n",
       " '/Users/cascade/Github/PopGridCompare/data/interim/GHS15_all_ECU.tif',\n",
       " '/Users/cascade/Github/PopGridCompare/data/interim/GPWv4_all_ECU.tif',\n",
       " '/Users/cascade/Github/PopGridCompare/data/interim/LS15_all_ECU.tif',\n",
       " '/Users/cascade/Github/PopGridCompare/data/interim/WP16_all_ECU.tif']"
      ]
     },
     "execution_count": 5,
     "metadata": {},
     "output_type": "execute_result"
    }
   ],
   "source": [
    "# Git tif files\n",
    "rst_fns = sorted(glob('/Users/cascade/Github/PopGridCompare/data/interim/*all_ECU.tif'))\n",
    "rst_fns"
   ]
  },
  {
   "cell_type": "code",
   "execution_count": 6,
   "metadata": {},
   "outputs": [],
   "source": [
    "# Open flood susceptability layer\n",
    "ecu_fn = DATA_PATH+'raw/ECU-Floods/Susceptibility/FF_suscept_PCA.shp'\n",
    "col = 'suscPCA_cl' # catagories \n",
    "ecu_polys = poly_prep(ecu_fn, col)"
   ]
  },
  {
   "cell_type": "code",
   "execution_count": 7,
   "metadata": {},
   "outputs": [],
   "source": [
    "# Need to reproject crs to epsg:4326\n",
    "ecu_polys = ecu_polys.to_crs('epsg:4326')\n"
   ]
  },
  {
   "cell_type": "code",
   "execution_count": 8,
   "metadata": {
    "scrolled": true
   },
   "outputs": [
    {
     "name": "stdout",
     "output_type": "stream",
     "text": [
      "Started ESRI16\n",
      "Started GHS15\n",
      "Started GPWv4\n",
      "Started LS15\n",
      "Started WP16\n"
     ]
    }
   ],
   "source": [
    "# Run zonal stats loop\n",
    "col = 'UID'\n",
    "ecu_all_sum = zone_loop(ecu_polys, rst_fns, 'sum', col, '_all_ECU.tif')"
   ]
  },
  {
   "cell_type": "code",
   "execution_count": 9,
   "metadata": {},
   "outputs": [
    {
     "data": {
      "text/html": [
       "<div>\n",
       "<style scoped>\n",
       "    .dataframe tbody tr th:only-of-type {\n",
       "        vertical-align: middle;\n",
       "    }\n",
       "\n",
       "    .dataframe tbody tr th {\n",
       "        vertical-align: top;\n",
       "    }\n",
       "\n",
       "    .dataframe thead th {\n",
       "        text-align: right;\n",
       "    }\n",
       "</style>\n",
       "<table border=\"1\" class=\"dataframe\">\n",
       "  <thead>\n",
       "    <tr style=\"text-align: right;\">\n",
       "      <th></th>\n",
       "      <th>geometry</th>\n",
       "      <th>suscPCA_cl</th>\n",
       "      <th>UID</th>\n",
       "      <th>ESRI16_sum</th>\n",
       "      <th>GHS15_sum</th>\n",
       "      <th>GPWv4_sum</th>\n",
       "      <th>LS15_sum</th>\n",
       "      <th>WP16_sum</th>\n",
       "    </tr>\n",
       "  </thead>\n",
       "  <tbody>\n",
       "    <tr>\n",
       "      <th>0</th>\n",
       "      <td>POLYGON ((-79.37915 1.06458, -79.37535 1.06841...</td>\n",
       "      <td>4</td>\n",
       "      <td>UID0</td>\n",
       "      <td>311.0</td>\n",
       "      <td>1417.930309</td>\n",
       "      <td>586.389954</td>\n",
       "      <td>4086.0</td>\n",
       "      <td>1924.792725</td>\n",
       "    </tr>\n",
       "    <tr>\n",
       "      <th>1</th>\n",
       "      <td>MULTIPOLYGON (((-78.95000 1.21667, -78.94879 1...</td>\n",
       "      <td>3</td>\n",
       "      <td>UID1</td>\n",
       "      <td>7018.0</td>\n",
       "      <td>7077.026305</td>\n",
       "      <td>8134.629883</td>\n",
       "      <td>9829.0</td>\n",
       "      <td>9643.500000</td>\n",
       "    </tr>\n",
       "    <tr>\n",
       "      <th>2</th>\n",
       "      <td>POLYGON ((-78.95000 1.21667, -78.95225 1.21614...</td>\n",
       "      <td>2</td>\n",
       "      <td>UID2</td>\n",
       "      <td>11395.0</td>\n",
       "      <td>965.884866</td>\n",
       "      <td>8365.265625</td>\n",
       "      <td>8633.0</td>\n",
       "      <td>14422.357422</td>\n",
       "    </tr>\n",
       "    <tr>\n",
       "      <th>3</th>\n",
       "      <td>POLYGON ((-78.87917 1.31250, -78.87855 1.34800...</td>\n",
       "      <td>2</td>\n",
       "      <td>UID3</td>\n",
       "      <td>10674.0</td>\n",
       "      <td>30658.750976</td>\n",
       "      <td>17958.470703</td>\n",
       "      <td>21479.0</td>\n",
       "      <td>16091.611328</td>\n",
       "    </tr>\n",
       "    <tr>\n",
       "      <th>4</th>\n",
       "      <td>POLYGON ((-80.26731 -3.00865, -80.26602 -2.964...</td>\n",
       "      <td>1</td>\n",
       "      <td>UID4</td>\n",
       "      <td>3230.0</td>\n",
       "      <td>1350.988527</td>\n",
       "      <td>2577.003418</td>\n",
       "      <td>962.0</td>\n",
       "      <td>1832.885742</td>\n",
       "    </tr>\n",
       "    <tr>\n",
       "      <th>...</th>\n",
       "      <td>...</td>\n",
       "      <td>...</td>\n",
       "      <td>...</td>\n",
       "      <td>...</td>\n",
       "      <td>...</td>\n",
       "      <td>...</td>\n",
       "      <td>...</td>\n",
       "      <td>...</td>\n",
       "    </tr>\n",
       "    <tr>\n",
       "      <th>1898</th>\n",
       "      <td>POLYGON ((-77.13333 -1.14167, -77.12083 -1.141...</td>\n",
       "      <td>5</td>\n",
       "      <td>UID1898</td>\n",
       "      <td>NaN</td>\n",
       "      <td>NaN</td>\n",
       "      <td>NaN</td>\n",
       "      <td>113.0</td>\n",
       "      <td>124.480164</td>\n",
       "    </tr>\n",
       "    <tr>\n",
       "      <th>1899</th>\n",
       "      <td>POLYGON ((-78.79166 -1.22083, -78.79131 -1.214...</td>\n",
       "      <td>9</td>\n",
       "      <td>UID1899</td>\n",
       "      <td>6636.0</td>\n",
       "      <td>18568.724618</td>\n",
       "      <td>16165.535156</td>\n",
       "      <td>8329.0</td>\n",
       "      <td>9902.400391</td>\n",
       "    </tr>\n",
       "    <tr>\n",
       "      <th>1900</th>\n",
       "      <td>POLYGON ((-77.54167 -1.55417, -77.54167 -1.550...</td>\n",
       "      <td>5</td>\n",
       "      <td>UID1900</td>\n",
       "      <td>NaN</td>\n",
       "      <td>NaN</td>\n",
       "      <td>NaN</td>\n",
       "      <td>142.0</td>\n",
       "      <td>NaN</td>\n",
       "    </tr>\n",
       "    <tr>\n",
       "      <th>1901</th>\n",
       "      <td>POLYGON ((-78.29640 -2.39925, -78.29223 -2.393...</td>\n",
       "      <td>8</td>\n",
       "      <td>UID1901</td>\n",
       "      <td>762.0</td>\n",
       "      <td>311.943406</td>\n",
       "      <td>3163.505859</td>\n",
       "      <td>464.0</td>\n",
       "      <td>2650.011963</td>\n",
       "    </tr>\n",
       "    <tr>\n",
       "      <th>1902</th>\n",
       "      <td>POLYGON ((-78.45473 -2.03259, -78.45057 -2.027...</td>\n",
       "      <td>10</td>\n",
       "      <td>UID1902</td>\n",
       "      <td>NaN</td>\n",
       "      <td>41.941632</td>\n",
       "      <td>45.355587</td>\n",
       "      <td>128.0</td>\n",
       "      <td>12.678942</td>\n",
       "    </tr>\n",
       "  </tbody>\n",
       "</table>\n",
       "<p>1903 rows × 8 columns</p>\n",
       "</div>"
      ],
      "text/plain": [
       "                                               geometry  suscPCA_cl      UID  \\\n",
       "0     POLYGON ((-79.37915 1.06458, -79.37535 1.06841...           4     UID0   \n",
       "1     MULTIPOLYGON (((-78.95000 1.21667, -78.94879 1...           3     UID1   \n",
       "2     POLYGON ((-78.95000 1.21667, -78.95225 1.21614...           2     UID2   \n",
       "3     POLYGON ((-78.87917 1.31250, -78.87855 1.34800...           2     UID3   \n",
       "4     POLYGON ((-80.26731 -3.00865, -80.26602 -2.964...           1     UID4   \n",
       "...                                                 ...         ...      ...   \n",
       "1898  POLYGON ((-77.13333 -1.14167, -77.12083 -1.141...           5  UID1898   \n",
       "1899  POLYGON ((-78.79166 -1.22083, -78.79131 -1.214...           9  UID1899   \n",
       "1900  POLYGON ((-77.54167 -1.55417, -77.54167 -1.550...           5  UID1900   \n",
       "1901  POLYGON ((-78.29640 -2.39925, -78.29223 -2.393...           8  UID1901   \n",
       "1902  POLYGON ((-78.45473 -2.03259, -78.45057 -2.027...          10  UID1902   \n",
       "\n",
       "      ESRI16_sum     GHS15_sum     GPWv4_sum  LS15_sum      WP16_sum  \n",
       "0          311.0   1417.930309    586.389954    4086.0   1924.792725  \n",
       "1         7018.0   7077.026305   8134.629883    9829.0   9643.500000  \n",
       "2        11395.0    965.884866   8365.265625    8633.0  14422.357422  \n",
       "3        10674.0  30658.750976  17958.470703   21479.0  16091.611328  \n",
       "4         3230.0   1350.988527   2577.003418     962.0   1832.885742  \n",
       "...          ...           ...           ...       ...           ...  \n",
       "1898         NaN           NaN           NaN     113.0    124.480164  \n",
       "1899      6636.0  18568.724618  16165.535156    8329.0   9902.400391  \n",
       "1900         NaN           NaN           NaN     142.0           NaN  \n",
       "1901       762.0    311.943406   3163.505859     464.0   2650.011963  \n",
       "1902         NaN     41.941632     45.355587     128.0     12.678942  \n",
       "\n",
       "[1903 rows x 8 columns]"
      ]
     },
     "execution_count": 9,
     "metadata": {},
     "output_type": "execute_result"
    }
   ],
   "source": [
    "ecu_all_sum"
   ]
  },
  {
   "cell_type": "code",
   "execution_count": 10,
   "metadata": {},
   "outputs": [],
   "source": [
    "# Save it out\n",
    "fn_out = DATA_PATH+'interim/ECU-Flood-Risk_all.shp'\n",
    "ecu_all_sum.to_file(fn_out)"
   ]
  },
  {
   "cell_type": "markdown",
   "metadata": {},
   "source": [
    "## Flood risk rural"
   ]
  },
  {
   "cell_type": "code",
   "execution_count": 11,
   "metadata": {},
   "outputs": [
    {
     "data": {
      "text/plain": [
       "['/Users/cascade/Github/PopGridCompare/data/interim/ESRI16_rural_ECU.tif',\n",
       " '/Users/cascade/Github/PopGridCompare/data/interim/GHS15_rural_ECU.tif',\n",
       " '/Users/cascade/Github/PopGridCompare/data/interim/GPWv4_rural_ECU.tif',\n",
       " '/Users/cascade/Github/PopGridCompare/data/interim/LS15_rural_ECU.tif',\n",
       " '/Users/cascade/Github/PopGridCompare/data/interim/WP16_rural_ECU.tif']"
      ]
     },
     "execution_count": 11,
     "metadata": {},
     "output_type": "execute_result"
    }
   ],
   "source": [
    "# Git tif files\n",
    "rst_fns = sorted(glob('/Users/cascade/Github/PopGridCompare/data/interim/*rural_ECU.tif'))\n",
    "rst_fns"
   ]
  },
  {
   "cell_type": "code",
   "execution_count": 12,
   "metadata": {
    "scrolled": true
   },
   "outputs": [
    {
     "name": "stdout",
     "output_type": "stream",
     "text": [
      "Started ESRI16\n",
      "Started GHS15\n",
      "Started GPWv4\n",
      "Started LS15\n",
      "Started WP16\n"
     ]
    }
   ],
   "source": [
    "# Run zonal stats loop\n",
    "col = 'UID'\n",
    "ecu_rural_sum = zone_loop(ecu_polys, rst_fns, 'sum', col, '_rural_ECU.tif')"
   ]
  },
  {
   "cell_type": "code",
   "execution_count": 13,
   "metadata": {},
   "outputs": [],
   "source": [
    "# Save it out\n",
    "fn_out = DATA_PATH+'interim/ECU-Flood-Risk_rural.shp'\n",
    "ecu_rural_sum.to_file(fn_out)"
   ]
  },
  {
   "cell_type": "markdown",
   "metadata": {},
   "source": [
    "## Flood risk urban"
   ]
  },
  {
   "cell_type": "code",
   "execution_count": 14,
   "metadata": {},
   "outputs": [
    {
     "data": {
      "text/plain": [
       "['/Users/cascade/Github/PopGridCompare/data/interim/ESRI16_urban_ECU.tif',\n",
       " '/Users/cascade/Github/PopGridCompare/data/interim/GHS15_urban_ECU.tif',\n",
       " '/Users/cascade/Github/PopGridCompare/data/interim/GPWv4_urban_ECU.tif',\n",
       " '/Users/cascade/Github/PopGridCompare/data/interim/LS15_urban_ECU.tif',\n",
       " '/Users/cascade/Github/PopGridCompare/data/interim/WP16_urban_ECU.tif']"
      ]
     },
     "execution_count": 14,
     "metadata": {},
     "output_type": "execute_result"
    }
   ],
   "source": [
    "# Git tif files\n",
    "rst_fns = sorted(glob('/Users/cascade/Github/PopGridCompare/data/interim/*urban_ECU.tif'))\n",
    "rst_fns"
   ]
  },
  {
   "cell_type": "code",
   "execution_count": 15,
   "metadata": {
    "scrolled": true
   },
   "outputs": [
    {
     "name": "stdout",
     "output_type": "stream",
     "text": [
      "Started ESRI16\n",
      "Started GHS15\n",
      "Started GPWv4\n",
      "Started LS15\n",
      "Started WP16\n"
     ]
    }
   ],
   "source": [
    "# Run zonal stats loop\n",
    "col = 'UID'\n",
    "ecu_urban_sum = zone_loop(ecu_polys, rst_fns, 'sum', col, '_urban_ECU.tif')"
   ]
  },
  {
   "cell_type": "code",
   "execution_count": 16,
   "metadata": {},
   "outputs": [],
   "source": [
    "# Save it out\n",
    "fn_out = DATA_PATH+'interim/ECU-Flood-Risk_urban.shp'\n",
    "ecu_urban_sum.to_file(fn_out)"
   ]
  },
  {
   "cell_type": "markdown",
   "metadata": {},
   "source": [
    "## Make Plots"
   ]
  },
  {
   "cell_type": "code",
   "execution_count": 135,
   "metadata": {},
   "outputs": [],
   "source": [
    "def bar_plot(df, col, off_set, a_v, bar_color, scale, pattern = None):\n",
    "    \"\"\" Make a custom bar plots\n",
    "    Args: \n",
    "        df = data frame to plot\n",
    "        col = name of col to plot\n",
    "        off_set = off_set of bar as float\n",
    "        a_v = alpha \n",
    "        bar_color = color as string\n",
    "        hatch = type, default is none\n",
    "    \"\"\"\n",
    "    \n",
    "    # Plot\n",
    "    data = df[df['suscPCA_cl'] == 1][col].sum()\n",
    "    a = plt.bar(1+off_set, data / scale, width=0.12, align='center', alpha  = a_v, color = bar_color, ec = None,  hatch = pattern)\n",
    "    data = df[df['suscPCA_cl'] == 2][col].sum()\n",
    "    b = plt.bar(2+off_set, data / scale, width=0.12, align='center', alpha  = a_v, color = bar_color, ec = None,  hatch = pattern)\n",
    "    data = df[df['suscPCA_cl'] == 3][col].sum()\n",
    "    c = plt.bar(3+off_set, data / scale, width=0.12, align='center', alpha  = a_v, color = bar_color, ec = None,  hatch = pattern)\n",
    "    data = df[df['suscPCA_cl'] == 4][col].sum()\n",
    "    d = plt.bar(4+off_set, data / scale, width=0.12, align='center', alpha  = a_v, color = bar_color, ec = None,  hatch = pattern)\n",
    "    data = df[df['suscPCA_cl'] == 5][col].sum()\n",
    "    d = plt.bar(5+off_set, data / scale, width=0.12, align='center', alpha  = a_v, color = bar_color, ec = None,  hatch = pattern)\n",
    "    data = df[df['suscPCA_cl'] == 6][col].sum()\n",
    "    d = plt.bar(6+off_set, data / scale, width=0.12, align='center', alpha  = a_v, color = bar_color, ec = None,  hatch = pattern)\n",
    "    data = df[df['suscPCA_cl'] == 7][col].sum()\n",
    "    d = plt.bar(7+off_set, data / scale, width=0.12, align='center', alpha  = a_v, color = bar_color, ec = None,  hatch = pattern)\n",
    "    data = df[df['suscPCA_cl'] == 8][col].sum()\n",
    "    d = plt.bar(8+off_set, data / scale, width=0.12, align='center', alpha  = a_v, color = bar_color, ec = None,  hatch = pattern)\n",
    "    data = df[df['suscPCA_cl'] == 9][col].sum()\n",
    "    d = plt.bar(9+off_set, data / scale, width=0.12, align='center', alpha  = a_v, color = bar_color, ec = None,  hatch = pattern)\n",
    "    data = df[df['suscPCA_cl'] == 10][col].sum()\n",
    "    d = plt.bar(10+off_set, data / scale, width=0.12, align='center', alpha  = a_v, color = bar_color, ec = None,  hatch = pattern)\n"
   ]
  },
  {
   "cell_type": "code",
   "execution_count": 66,
   "metadata": {},
   "outputs": [],
   "source": [
    "# #### set colors\n",
    "ESRI16_c = 'blue'\n",
    "GHS15_c = 'indigo'\n",
    "GPWv4_c = 'deeppink'\n",
    "LS15_c = 'deepskyblue'\n",
    "WP16_c = 'forestgreen'"
   ]
  },
  {
   "cell_type": "code",
   "execution_count": 171,
   "metadata": {
    "scrolled": true
   },
   "outputs": [
    {
     "data": {
      "image/png": "[encoded data removed]",
      "text/plain": [
       "<Figure size 1152x576 with 1 Axes>"
      ]
     },
     "metadata": {
      "needs_background": "light"
     },
     "output_type": "display_data"
    }
   ],
   "source": [
    "# # Make bar plot \n",
    "fig, axs = plt.subplots(1, 1, figsize = (16, 8), sharex=True)\n",
    "ws = 0.25\n",
    "fig.subplots_adjust(wspace=ws)\n",
    "scale_data = 10**6\n",
    "\n",
    "# plots all \n",
    "bar_plot(df= ecu_all_sum, col= 'ESRI16_sum', off_set = -.28, a_v = 0.5, bar_color = ESRI16_c, scale = scale_data, pattern = None)\n",
    "bar_plot(df= ecu_all_sum, col= 'GHS15_sum', off_set = -.14, a_v = 0.5, bar_color = GHS15_c, scale = scale_data, pattern = None)\n",
    "bar_plot(df= ecu_all_sum, col= 'GPWv4_sum', off_set = 0, a_v = 0.5, bar_color = GPWv4_c, scale = scale_data, pattern = None)\n",
    "bar_plot(df= ecu_all_sum, col= 'LS15_sum', off_set = .14, a_v = 0.5, bar_color = LS15_c, scale = scale_data, pattern = None)\n",
    "bar_plot(df= ecu_all_sum, col= 'WP16_sum', off_set = .28, a_v = 0.5, bar_color = WP16_c, scale = scale_data, pattern = None)\n",
    "\n",
    "# plots rural \n",
    "bar_plot(df= ecu_rural_sum, col= 'ESRI16_sum', off_set = -.28, a_v = 0.5, bar_color = ESRI16_c, scale = scale_data, pattern = '///')\n",
    "bar_plot(df= ecu_rural_sum, col= 'GHS15_sum', off_set = -.14, a_v = 0.5, bar_color = GHS15_c, scale = scale_data, pattern = '///')\n",
    "bar_plot(df= ecu_rural_sum, col= 'GPWv4_sum', off_set = 0, a_v = 0.5, bar_color = GPWv4_c, scale = scale_data, pattern = '///')\n",
    "bar_plot(df= ecu_rural_sum, col= 'LS15_sum', off_set = .14, a_v = 0.5, bar_color = LS15_c, scale = scale_data, pattern = '///')\n",
    "bar_plot(df= ecu_rural_sum, col= 'WP16_sum', off_set = .28, a_v = 0.5, bar_color = WP16_c, scale = scale_data, pattern = '///')\n",
    "\n",
    "# # Labels\n",
    "axs.set_title(title, size = 20 )\n",
    "axs.set_xlabel('Flood Susceptibility Decile', fontsize = 20)\n",
    "axs.set_ylabel('Population [millions]', fontsize = 20)\n",
    "\n",
    "# ticks\n",
    "plt.xticks(list(range(1,11)), fontsize = 15);\n",
    "plt.yticks(fontsize = 15);\n",
    "\n",
    "# legend\n",
    "legend_elements = [Patch(facecolor=ESRI16_c, alpha = 0.5, edgecolor=None, label='WPE-15'),\n",
    "                  Patch(facecolor=GHS15_c, alpha = 0.5, edgecolor=None, label='GHSL-15'),\n",
    "                  Patch(facecolor=GPWv4_c, alpha = 0.5, edgecolor=None, label='GWPv4-15'),\n",
    "                  Patch(facecolor=LS15_c, alpha = 0.5, edgecolor=None, label='LS-15'),\n",
    "                  Patch(facecolor= WP16_c, alpha = 0.5, edgecolor=None, label='WP-16'),\n",
    "                  Patch(facecolor= 'white', alpha = 0.5,  hatch = '///', edgecolor='black', label='rural pop')]\n",
    "plt.legend(handles = legend_elements, bbox_to_anchor=(1, 1.02), loc='upper left', ncol=1, fontsize = 15);\n",
    "\n",
    "#save it out\n",
    "fig_out = '/Users/cascade/Github/PopGridCompare/data/FIGS/MS/Finalv1/Fig6.png'\n",
    "plt.savefig(fig_out, dpi = 300, facecolor = 'white', bbox_inches='tight')"
   ]
  },
  {
   "cell_type": "code",
   "execution_count": 169,
   "metadata": {},
   "outputs": [
    {
     "data": {
      "image/png": "[encoded data removed]",
      "text/plain": [
       "<Figure size 432x288 with 1 Axes>"
      ]
     },
     "metadata": {
      "needs_background": "light"
     },
     "output_type": "display_data"
    }
   ],
   "source": [
    "# legend\n",
    "legend_elements = [Patch(facecolor=ESRI16_c, alpha = 0.5, edgecolor=None, label='WPE-15'),\n",
    "                  Patch(facecolor=GHS15_c, alpha = 0.5, edgecolor=None, label='GHSL-15'),\n",
    "                  Patch(facecolor=GPWv4_c, alpha = 0.5, edgecolor=None, label='GWPv4-15'),\n",
    "                  Patch(facecolor=LS15_c, alpha = 0.5, edgecolor=None, label='LS-15'),\n",
    "                  Patch(facecolor= WP16_c, alpha = 0.5, edgecolor=None, label='WP-16'),\n",
    "                  Patch(facecolor= 'white', alpha = 0.5,  hatch = '///', edgecolor=None, label='rural pop')]\n",
    "plt.legend(handles = legend_elements, bbox_to_anchor=(1, 1.02), loc='upper left', ncol=1, fontsize = 15);"
   ]
  },
  {
   "cell_type": "code",
   "execution_count": 100,
   "metadata": {},
   "outputs": [],
   "source": [
    "# def make_data(df, col):\n",
    "#     \"make data for plotting\"\n",
    "#     out = df[['suscPCA_cl',col]].groupby('suscPCA_cl').sum().reset_index()\n",
    "#     return out"
   ]
  },
  {
   "cell_type": "code",
   "execution_count": 112,
   "metadata": {},
   "outputs": [
    {
     "data": {
      "text/plain": [
       "<matplotlib.legend.Legend at 0x149d72520>"
      ]
     },
     "execution_count": 112,
     "metadata": {},
     "output_type": "execute_result"
    },
    {
     "data": {
      "image/png": "[encoded data removed]",
      "text/plain": [
       "<Figure size 576x576 with 1 Axes>"
      ]
     },
     "metadata": {
      "needs_background": "light"
     },
     "output_type": "display_data"
    }
   ],
   "source": [
    "# # plot it for all \n",
    "# title = ''\n",
    "# scale = 10**6\n",
    "\n",
    "# # set up\n",
    "# fig, axs = plt.subplots(1, 1, figsize = (8, 8), sharex=True)\n",
    "# ws = 0.25\n",
    "# fig.subplots_adjust(wspace=ws)\n",
    "\n",
    "# # plots \n",
    "# data = make_data(ecu_all_sum, 'ESRI16_sum')\n",
    "# axs.scatter(data['suscPCA_cl'], data['ESRI16_sum'] / scale, color = ESRI16_c, alpha = 0.5, s = 70)\n",
    "# data = make_data(ecu_all_sum, 'GHS15_sum')\n",
    "# axs.scatter(data['suscPCA_cl'], data['GHS15_sum'] / scale, color = GHS15_c, alpha = 0.5, s = 70)\n",
    "# data = make_data(ecu_all_sum, 'GPWv4_sum')\n",
    "# axs.scatter(data['suscPCA_cl'], data['GPWv4_sum'] / scale, color = GPWv4_c,  alpha = 0.5, s = 70)\n",
    "# data = make_data(ecu_all_sum, 'LS15_sum')\n",
    "# axs.scatter(data['suscPCA_cl'], data['LS15_sum'] / scale, color = LS15_c, alpha = 0.5, s = 70)\n",
    "# data = make_data(ecu_all_sum, 'WP16_sum')\n",
    "# axs.scatter(data['suscPCA_cl'], data['WP16_sum'] / scale, color = WP16_c, alpha = 0.5, s = 70)\n",
    "\n",
    "# # Labels\n",
    "# axs.set_title(title, size = 20 )\n",
    "# axs.set_xlabel('Flood Susceptibility Decile', fontsize = 20)\n",
    "# axs.set_ylabel('Population [millions]', fontsize = 20)\n",
    "\n",
    "# # tics\n",
    "# #ticks_bar = ['< 0.4', '0.4 to 0.5', ' 0.5 to 0.6', '>= 0.6']\n",
    "# plt.xticks(list(range(1,11)), fontsize = 15)\n",
    "# #plt.yticks(fontsize = 15)\n",
    "\n",
    "# labels = ['WPE-16', 'GHSL-15', 'GPWv4-15', 'LS-15', 'WP-16']\n",
    "# plt.legend(labels)\n",
    "\n",
    "# save it out\n",
    "# fig_out = '/Users/cascade/Github/PopGridCompare/data/FIGS/MS/Finalv1/Nepal2015_all.png'\n",
    "# plt.savefig(fig_out, dpi = 300, facecolor = 'white', bbox_inches='tight')"
   ]
  },
  {
   "cell_type": "code",
   "execution_count": 18,
   "metadata": {},
   "outputs": [],
   "source": [
    "# #### set colors\n",
    "# ESRI16_c = 'blue'\n",
    "# GHS15_c = 'indigo'\n",
    "# GPWv4_c = 'deeppink'\n",
    "# LS15_c = 'deepskyblue'\n",
    "# WP16_c = 'forestgreen'"
   ]
  },
  {
   "cell_type": "code",
   "execution_count": 19,
   "metadata": {
    "scrolled": true
   },
   "outputs": [],
   "source": [
    "# # Make bar plot \n",
    "# fig, axs = plt.subplots(1, 1, figsize = (12, 8), sharex=True)\n",
    "# ws = 0.25\n",
    "# fig.subplots_adjust(wspace=ws)\n",
    "# scale_data = 10**6\n",
    "\n",
    "# # Fake rural for legend\n",
    "# f = bar_plot(ecu_rural_out, 'ESRI16_sum', -0.3, 0.5, 'white',  scale_data, '///')\n",
    "\n",
    "# # All data\n",
    "# a = bar_plot(ecu_all_out, 'ESRI16_sum', -0.3, 0.5, ESRI16_c, scale_data, None)\n",
    "# b = bar_plot(ecu_all_out, 'GHS15_sum', -0.15, 0.6, GHS15_c, scale_data, None)\n",
    "# c = bar_plot(ecu_all_out, 'GPWv4_sum', 0, 0.7, GPWv4_c, scale_data, None)\n",
    "# d = bar_plot(ecu_all_out, 'LS15_sum', 0.15, 0.8, LS15_c, scale_data, None)\n",
    "# e = bar_plot(ecu_all_out, 'WP16_sum', 0.3, 0.9, WP16_c, scale_data, None)\n",
    "\n",
    "# # Rural\n",
    "# bar_plot(ecu_rural_out, 'ESRI16_sum', -0.3, 0.5, ESRI16_c,  scale_data, '///')\n",
    "# bar_plot(ecu_rural_out, 'GHS15_sum', -0.15,  0.6, GHS15_c,  scale_data, '///')\n",
    "# bar_plot(ecu_rural_out, 'GPWv4_sum', 0,  0.7, GPWv4_c,  scale_data,'///')\n",
    "# bar_plot(ecu_rural_out, 'LS15_sum', 0.15,  0.8, LS15_c, scale_data, '///')\n",
    "# bar_plot(ecu_rural_out, 'WP16_sum', 0.3,  0.9, WP16_c,  scale_data,'///')\n",
    "\n",
    "# # # Fake rural for legend\n",
    "# # f = bar_plot(ecu_rural_out, 'ESRI16_sum', -0.3,0.0, ESRI16_c,  scale_data, '///')\n",
    "\n",
    "# # tics\n",
    "# ticks_bar = ['< 0.4', '0.4 to 0.5', ' 0.5 to 0.6', '>= 0.6']\n",
    "# plt.xticks([1,2,3,4], ticks_bar, fontsize = 15)\n",
    "# plt.yticks(fontsize = 15)\n",
    "\n",
    "# leg = [a[0],b[0],c[0],d[0],e[0], f[0]]\n",
    "# leg_labels = ['WPE-16', 'GHSL-15', 'GPWv4-15', 'LS-15', 'WP-16', 'rural pop']\n",
    "# plt.legend(leg, leg_labels, fontsize = 15)\n",
    "\n",
    "# # Labels / Titles\n",
    "# axs.set_title('Flash Floods Susceptibility', size = 20)\n",
    "# axs.set_xlabel('', fontsize = 15)\n",
    "# axs.set_ylabel('Total Population [millions]', fontsize = 15)\n",
    "\n",
    "# # save it out\n",
    "# fig_out = '/Users/cascade/Github/PopGridCompare/data/FIGS/MS/Fig5-ecu.png'\n",
    "# plt.savefig(fig_out, dpi = 300, facecolor = 'white', bbox_inches='tight')"
   ]
  },
  {
   "cell_type": "markdown",
   "metadata": {},
   "source": [
    "### Risks out"
   ]
  },
  {
   "cell_type": "code",
   "execution_count": 20,
   "metadata": {},
   "outputs": [],
   "source": [
    "# # Save out by risk layer\n",
    "# r = 4\n",
    "# fn_out = DATA_PATH+'interim/ECU-Flood-Risk_all_r'+str(r)+'.shp'\n",
    "# out = ecu_all_out[ecu_all_out['risk']== r]\n",
    "# out.to_file(fn_out)"
   ]
  }
 ],
 "metadata": {
  "kernelspec": {
   "display_name": "Python 3",
   "language": "python",
   "name": "python3"
  },
  "language_info": {
   "codemirror_mode": {
    "name": "ipython",
    "version": 3
   },
   "file_extension": ".py",
   "mimetype": "text/x-python",
   "name": "python",
   "nbconvert_exporter": "python",
   "pygments_lexer": "ipython3",
   "version": "3.8.6"
  }
 },
 "nbformat": 4,
 "nbformat_minor": 4
}
