{
 "cells": [
  {
   "cell_type": "markdown",
   "metadata": {},
   "source": [
    "# Idai\n",
    "\n",
    "Notebook to calculate impacts of Cyclone Idai across gridded raster products"
   ]
  },
  {
   "cell_type": "code",
   "execution_count": 83,
   "metadata": {},
   "outputs": [],
   "source": [
    "#### Dependencies\n",
    "import numpy as np\n",
    "import pandas as pd\n",
    "import rasterio\n",
    "import geopandas as gpd\n",
    "from rasterstats import zonal_stats, gen_zonal_stats\n",
    "from glob import glob\n",
    "import matplotlib.pyplot as plt\n",
    "import shapely"
   ]
  },
  {
   "cell_type": "code",
   "execution_count": 4,
   "metadata": {},
   "outputs": [],
   "source": [
    "# open polys\n",
    "DATA_PATH = '/Users/cascade/Github/PopGridCompare/data/'"
   ]
  },
  {
   "cell_type": "code",
   "execution_count": 8,
   "metadata": {},
   "outputs": [],
   "source": [
    "#### Functions\n",
    "def zone_loop(polys_in, rst_list, stats_type, col, split):\n",
    "    \"\"\" Function loops through rasters, calcs zonal_stats and returns stats as a data frame.\n",
    "    Args:\n",
    "        polys_in = polygons\n",
    "        rst_list = list of paths & fns of rasters\n",
    "        stats_type = stats type for each poly gone (see zonal stats)\n",
    "        col = column to merge it all\n",
    "        split = where to split the file name string (e.g. _matched.tif)\n",
    "    \"\"\"\n",
    "    \n",
    "    # copy polys to write out\n",
    "    polys_out = polys_in.copy()\n",
    "    \n",
    "    for rst in rst_list:\n",
    "        \n",
    "        # Get data name\n",
    "        data = rst.split(DATA_PATH+'interim/')[1].split(split)[0]\n",
    "        print('Started', data)\n",
    "        \n",
    "        # Run zonal stats\n",
    "        zs_feats = zonal_stats(polys_in, rst, stats=stats_type, geojson_out=True)\n",
    "        zgdf = gpd.GeoDataFrame.from_features(zs_feats, crs=polys_in.crs)\n",
    "        \n",
    "        # Rename columns and merge\n",
    "        zgdf = zgdf.rename(columns={stats_type: data+'_'+stats_type})\n",
    "        \n",
    "        polys_out = polys_out.merge(zgdf[[col, data+'_'+stats_type]], on = col, how = 'inner')\n",
    "    \n",
    "    return polys_out"
   ]
  },
  {
   "cell_type": "markdown",
   "metadata": {},
   "source": [
    "## Wind speeds\n",
    "https://www.gdacs.org/resources.aspx?eventid=1000552&episodeid=24&eventtype=TC (I think)"
   ]
  },
  {
   "cell_type": "code",
   "execution_count": 38,
   "metadata": {},
   "outputs": [],
   "source": [
    "shps_fn = DATA_PATH+'raw/Idai/GDACS/Shape_1000552_24/Shape_1000552_24_POLYGON.shp'\n",
    "shps = gpd.read_file(shps_fn)"
   ]
  },
  {
   "cell_type": "code",
   "execution_count": 96,
   "metadata": {},
   "outputs": [
    {
     "data": {
      "text/html": [
       "<div>\n",
       "<style scoped>\n",
       "    .dataframe tbody tr th:only-of-type {\n",
       "        vertical-align: middle;\n",
       "    }\n",
       "\n",
       "    .dataframe tbody tr th {\n",
       "        vertical-align: top;\n",
       "    }\n",
       "\n",
       "    .dataframe thead th {\n",
       "        text-align: right;\n",
       "    }\n",
       "</style>\n",
       "<table border=\"1\" class=\"dataframe\">\n",
       "  <thead>\n",
       "    <tr style=\"text-align: right;\">\n",
       "      <th></th>\n",
       "      <th>eventtype</th>\n",
       "      <th>eventid</th>\n",
       "      <th>episodeid</th>\n",
       "      <th>source</th>\n",
       "      <th>type</th>\n",
       "      <th>label</th>\n",
       "      <th>geometry</th>\n",
       "    </tr>\n",
       "  </thead>\n",
       "  <tbody>\n",
       "    <tr>\n",
       "      <th>0</th>\n",
       "      <td>TC</td>\n",
       "      <td>1000552</td>\n",
       "      <td>24</td>\n",
       "      <td>JTWC</td>\n",
       "      <td>Red</td>\n",
       "      <td>120 km/h</td>\n",
       "      <td>POLYGON ((36.30000 -20.56700, 36.27524 -20.566...</td>\n",
       "    </tr>\n",
       "    <tr>\n",
       "      <th>1</th>\n",
       "      <td>TC</td>\n",
       "      <td>1000552</td>\n",
       "      <td>24</td>\n",
       "      <td>JTWC</td>\n",
       "      <td>Green</td>\n",
       "      <td>60 km/h</td>\n",
       "      <td>POLYGON ((36.30000 -22.31900, 36.21022 -22.317...</td>\n",
       "    </tr>\n",
       "    <tr>\n",
       "      <th>2</th>\n",
       "      <td>TC</td>\n",
       "      <td>1000552</td>\n",
       "      <td>24</td>\n",
       "      <td>JTWC</td>\n",
       "      <td>Orange</td>\n",
       "      <td>90 km/h</td>\n",
       "      <td>POLYGON ((36.30000 -21.23400, 36.25049 -21.233...</td>\n",
       "    </tr>\n",
       "    <tr>\n",
       "      <th>3</th>\n",
       "      <td>TC</td>\n",
       "      <td>1000552</td>\n",
       "      <td>24</td>\n",
       "      <td>JTWC</td>\n",
       "      <td>Cones</td>\n",
       "      <td>Uncertainty Cones</td>\n",
       "      <td>POLYGON ((31.40000 -20.20200, 31.32645 -20.200...</td>\n",
       "    </tr>\n",
       "  </tbody>\n",
       "</table>\n",
       "</div>"
      ],
      "text/plain": [
       "  eventtype  eventid  episodeid source    type              label  \\\n",
       "0        TC  1000552         24   JTWC     Red           120 km/h   \n",
       "1        TC  1000552         24   JTWC   Green            60 km/h   \n",
       "2        TC  1000552         24   JTWC  Orange            90 km/h   \n",
       "3        TC  1000552         24   JTWC   Cones  Uncertainty Cones   \n",
       "\n",
       "                                            geometry  \n",
       "0  POLYGON ((36.30000 -20.56700, 36.27524 -20.566...  \n",
       "1  POLYGON ((36.30000 -22.31900, 36.21022 -22.317...  \n",
       "2  POLYGON ((36.30000 -21.23400, 36.25049 -21.233...  \n",
       "3  POLYGON ((31.40000 -20.20200, 31.32645 -20.200...  "
      ]
     },
     "execution_count": 96,
     "metadata": {},
     "output_type": "execute_result"
    }
   ],
   "source": [
    "shps"
   ]
  },
  {
   "cell_type": "code",
   "execution_count": 147,
   "metadata": {},
   "outputs": [],
   "source": [
    "# Make a Geodataframe of wind polygobns\n",
    "labels = shps.label[[1,2,0]] # Get labels 60, 90, 120\n",
    "geom120 = shps.iloc[0,6] # geom for speeds\n",
    "geom90 = shps.iloc[[2]].geometry[2].difference(shps.iloc[[0]].geometry[0])\n",
    "geom60 = shps.iloc[[1]].geometry[1].difference(shps.iloc[[2]].geometry[2].union(shps.iloc[[0]].geometry[0]))"
   ]
  },
  {
   "cell_type": "code",
   "execution_count": 149,
   "metadata": {},
   "outputs": [],
   "source": [
    "polys = gpd.GeoDataFrame()\n",
    "polys['label'] = labels\n",
    "polys['geometry'] = [geom60, geom90, geom120]\n",
    "polys.to_file(DATA_PATH+'/interim/Idai_winds.shp')"
   ]
  },
  {
   "cell_type": "code",
   "execution_count": 198,
   "metadata": {},
   "outputs": [
    {
     "name": "stdout",
     "output_type": "stream",
     "text": [
      "Started GHS15\n",
      "Started ESRI16\n",
      "Started WP16\n",
      "Started LS15\n",
      "Started GPWv4\n"
     ]
    }
   ],
   "source": [
    "# Run zonal stats on all \n",
    "# Git tif files\n",
    "rst_fns = glob('/Users/cascade/Github/PopGridCompare/data/interim/*all_M-M-Z.tif')\n",
    "col = 'label'\n",
    "winds_all = zone_loop(polys, rst_fns, 'sum', col, '_all_M-M-Z.tif')\n",
    "winds_all['label_int'] = [60, 90, 120]"
   ]
  },
  {
   "cell_type": "code",
   "execution_count": 204,
   "metadata": {},
   "outputs": [
    {
     "name": "stdout",
     "output_type": "stream",
     "text": [
      "Started WP16\n",
      "Started LS15\n",
      "Started GHS15\n",
      "Started ESRI16\n",
      "Started GPWv4\n"
     ]
    }
   ],
   "source": [
    "# Run zonal stats on rural \n",
    "rst_fns = glob('/Users/cascade/Github/PopGridCompare/data/interim/*rural_M-M-Z.tif')\n",
    "col = 'label'\n",
    "winds_urban = zone_loop(polys, rst_fns, 'sum', col, '_rural_M-M-Z.tif')\n",
    "winds_urban['label_int'] = [60, 90, 120]"
   ]
  },
  {
   "cell_type": "code",
   "execution_count": 236,
   "metadata": {},
   "outputs": [
    {
     "data": {
      "image/png": "[encoded data removed]",
      "text/plain": [
       "<Figure size 576x576 with 1 Axes>"
      ]
     },
     "metadata": {
      "needs_background": "light"
     },
     "output_type": "display_data"
    }
   ],
   "source": [
    "# Make bar plot \n",
    "fig, axs = plt.subplots(1, 1, figsize = (8, 8), sharex=True)\n",
    "ws = 0.25\n",
    "fig.subplots_adjust(wspace=ws)\n",
    "scale = 10**3\n",
    "\n",
    "# Tick Lables\n",
    "ticks_bar = ['60 km/h', '90 km/h', '120 km/h']\n",
    "\n",
    "# Bar locations\n",
    "a = [1,2,3]\n",
    "b = [1-.15,2-.15,3-.15]\n",
    "c = [1-.3,2-.3,3-.3]\n",
    "d = [1+.15,2+.15,3+.15]\n",
    "e = [1+.3,2+.3,3+.3]\n",
    "\n",
    "# bar plots for all\n",
    "plt.bar(a, winds_all.GHS15_sum / scale, width=0.12, align='center', alpha  = 0.5, color = 'blue', ec = 'black')\n",
    "plt.bar(b, winds_all.ESRI16_sum / scale, width=0.12, align='center', alpha  = 0.6, color = 'indigo', ec = 'black')\n",
    "plt.bar(c, winds_all.WP16_sum / scale, width=0.12, align='center', alpha  = 0.7, color = 'deeppink', ec = 'black')\n",
    "plt.bar(d, winds_all.LS15_sum / scale, width=0.12, align='center', alpha  = 0.8, color = 'deepskyblue', ec = 'black')\n",
    "plt.bar(e, winds_all.GPWv4_sum / scale, width=0.12, align='center', alpha  = 0.9, color = 'springgreen', ec = 'black')\n",
    "\n",
    "# bar plots for rural\n",
    "# fake for legend\n",
    "plt.bar(e, winds_urban.GPWv4_sum / scale, width=0.12, align='center', alpha  = 1, color = 'white', ec = 'black', hatch = \"///\")\n",
    "\n",
    "plt.bar(a, winds_urban.GHS15_sum / scale, width=0.12, align='center', alpha  = 0.5, color = 'blue', ec = 'black', hatch = \"///\")\n",
    "plt.bar(b, winds_urban.ESRI16_sum / scale, width=0.12, align='center', alpha  = 0.5, color = 'indigo', ec = 'black', hatch = \"///\")\n",
    "plt.bar(c, winds_urban.WP16_sum / scale, width=0.12, align='center', alpha  = 0.5, color = 'deeppink', ec = 'black', hatch = \"///\")\n",
    "plt.bar(d, winds_urban.LS15_sum / scale, width=0.12, align='center', alpha  = 0.5, color = 'deepskyblue', ec = 'black', hatch = \"///\")\n",
    "plt.bar(e, winds_urban.GPWv4_sum / scale, width=0.12, align='center', alpha  = 0.5, color = 'springgreen', ec = 'black', hatch = \"///\")\n",
    "\n",
    "# legend + tics\n",
    "leg = ['GPWv4-15','GHSL-15', 'LS-15', 'WPE-16', 'WP-16', 'rural pop']\n",
    "plt.xticks([1,2,3], ticks_bar)\n",
    "plt.legend(leg)\n",
    "\n",
    "# Labels / Titles\n",
    "axs.set_title('Idai Wind Speeds', size = 20 )\n",
    "axs.set_xlabel('Quake Intensity', fontsize = 15)\n",
    "axs.set_ylabel('Total Population [thousands]', fontsize = 15)\n",
    "\n",
    "# save it out\n",
    "fig_out = '/Users/cascade/Github/PopGridCompare/data/FIGS/MS/Idai_winds.png'\n",
    "plt.savefig(fig_out, dpi = 300, facecolor = 'white', bbox_inches='tight')"
   ]
  }
 ],
 "metadata": {
  "kernelspec": {
   "display_name": "Python 3",
   "language": "python",
   "name": "python3"
  },
  "language_info": {
   "codemirror_mode": {
    "name": "ipython",
    "version": 3
   },
   "file_extension": ".py",
   "mimetype": "text/x-python",
   "name": "python",
   "nbconvert_exporter": "python",
   "pygments_lexer": "ipython3",
   "version": "3.8.6"
  }
 },
 "nbformat": 4,
 "nbformat_minor": 4
}
