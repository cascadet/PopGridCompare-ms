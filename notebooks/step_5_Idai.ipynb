{
 "cells": [
  {
   "cell_type": "markdown",
   "metadata": {},
   "source": [
    "# Idai\n",
    "\n",
    "Notebook to calculate impacts of Cyclone Idai across gridded raster products"
   ]
  },
  {
   "cell_type": "code",
   "execution_count": 3,
   "metadata": {},
   "outputs": [],
   "source": [
    "#### Dependencies\n",
    "import numpy as np\n",
    "import pandas as pd\n",
    "import rasterio\n",
    "import geopandas as gpd\n",
    "from rasterstats import zonal_stats, gen_zonal_stats\n",
    "from glob import glob\n",
    "import matplotlib.pyplot as plt"
   ]
  },
  {
   "cell_type": "code",
   "execution_count": 4,
   "metadata": {},
   "outputs": [],
   "source": [
    "# open polys\n",
    "DATA_PATH = '/Users/cascade/Github/PopGridCompare/data/'"
   ]
  },
  {
   "cell_type": "code",
   "execution_count": 5,
   "metadata": {},
   "outputs": [],
   "source": [
    "#### Functions\n",
    "def zone_loop(polys_in, rst_list, stats_type, col, split):\n",
    "    \"\"\" Function loops through rasters, calcs zonal_stats and returns stats as a data frame.\n",
    "    Args:\n",
    "        polys_in = polygons\n",
    "        rst_list = list of paths & fns of rasters\n",
    "        stats_type = stats type for each poly gone (see zonal stats)\n",
    "        col = column to merge it all\n",
    "        split = where to split the file name string (e.g. _matched.tif)\n",
    "    \"\"\"\n",
    "    \n",
    "    # copy polys to write out\n",
    "    polys_out = polys_in.copy()\n",
    "    \n",
    "    for rst in rst_list:\n",
    "        \n",
    "        # Get data name\n",
    "        data = rst.split(DATA_PATH+'interim/')[1].split(split)[0]\n",
    "        print('Started', data)\n",
    "        \n",
    "        # Run zonal stats\n",
    "        zs_feats = zonal_stats(polys_in, rst, stats=stats_type, geojson_out=True)\n",
    "        zgdf = gpd.GeoDataFrame.from_features(zs_feats, crs=polys_in.crs)\n",
    "        \n",
    "        # Rename columns and merge\n",
    "        zgdf = zgdf.rename(columns={stats_type: data+'_'+stats_type})\n",
    "        \n",
    "        polys_out = polys_out.merge(zgdf[[col, data+'_'+stats_type]], on = col, how = 'inner')\n",
    "    \n",
    "    return polys_out"
   ]
  },
  {
   "cell_type": "markdown",
   "metadata": {},
   "source": [
    "## Wind speeds\n",
    "https://www.gdacs.org/resources.aspx?eventid=1000552&episodeid=24&eventtype=TC (I think)"
   ]
  },
  {
   "cell_type": "code",
   "execution_count": 6,
   "metadata": {},
   "outputs": [],
   "source": [
    "shps_fn = DATA_PATH+'raw/Idai/GDACS/Shape_1000552_24/Shape_1000552_24_POLYGON.shp'\n",
    "shps = gpd.read_file(shps_fn)"
   ]
  },
  {
   "cell_type": "code",
   "execution_count": 7,
   "metadata": {},
   "outputs": [
    {
     "data": {
      "text/html": [
       "<div>\n",
       "<style scoped>\n",
       "    .dataframe tbody tr th:only-of-type {\n",
       "        vertical-align: middle;\n",
       "    }\n",
       "\n",
       "    .dataframe tbody tr th {\n",
       "        vertical-align: top;\n",
       "    }\n",
       "\n",
       "    .dataframe thead th {\n",
       "        text-align: right;\n",
       "    }\n",
       "</style>\n",
       "<table border=\"1\" class=\"dataframe\">\n",
       "  <thead>\n",
       "    <tr style=\"text-align: right;\">\n",
       "      <th></th>\n",
       "      <th>eventtype</th>\n",
       "      <th>eventid</th>\n",
       "      <th>episodeid</th>\n",
       "      <th>source</th>\n",
       "      <th>type</th>\n",
       "      <th>label</th>\n",
       "      <th>geometry</th>\n",
       "    </tr>\n",
       "  </thead>\n",
       "  <tbody>\n",
       "    <tr>\n",
       "      <th>0</th>\n",
       "      <td>TC</td>\n",
       "      <td>1000552</td>\n",
       "      <td>24</td>\n",
       "      <td>JTWC</td>\n",
       "      <td>Red</td>\n",
       "      <td>120 km/h</td>\n",
       "      <td>POLYGON ((36.30000 -20.56700, 36.27524 -20.566...</td>\n",
       "    </tr>\n",
       "    <tr>\n",
       "      <th>1</th>\n",
       "      <td>TC</td>\n",
       "      <td>1000552</td>\n",
       "      <td>24</td>\n",
       "      <td>JTWC</td>\n",
       "      <td>Green</td>\n",
       "      <td>60 km/h</td>\n",
       "      <td>POLYGON ((36.30000 -22.31900, 36.21022 -22.317...</td>\n",
       "    </tr>\n",
       "    <tr>\n",
       "      <th>2</th>\n",
       "      <td>TC</td>\n",
       "      <td>1000552</td>\n",
       "      <td>24</td>\n",
       "      <td>JTWC</td>\n",
       "      <td>Orange</td>\n",
       "      <td>90 km/h</td>\n",
       "      <td>POLYGON ((36.30000 -21.23400, 36.25049 -21.233...</td>\n",
       "    </tr>\n",
       "    <tr>\n",
       "      <th>3</th>\n",
       "      <td>TC</td>\n",
       "      <td>1000552</td>\n",
       "      <td>24</td>\n",
       "      <td>JTWC</td>\n",
       "      <td>Cones</td>\n",
       "      <td>Uncertainty Cones</td>\n",
       "      <td>POLYGON ((31.40000 -20.20200, 31.32645 -20.200...</td>\n",
       "    </tr>\n",
       "  </tbody>\n",
       "</table>\n",
       "</div>"
      ],
      "text/plain": [
       "  eventtype  eventid  episodeid source    type              label  \\\n",
       "0        TC  1000552         24   JTWC     Red           120 km/h   \n",
       "1        TC  1000552         24   JTWC   Green            60 km/h   \n",
       "2        TC  1000552         24   JTWC  Orange            90 km/h   \n",
       "3        TC  1000552         24   JTWC   Cones  Uncertainty Cones   \n",
       "\n",
       "                                            geometry  \n",
       "0  POLYGON ((36.30000 -20.56700, 36.27524 -20.566...  \n",
       "1  POLYGON ((36.30000 -22.31900, 36.21022 -22.317...  \n",
       "2  POLYGON ((36.30000 -21.23400, 36.25049 -21.233...  \n",
       "3  POLYGON ((31.40000 -20.20200, 31.32645 -20.200...  "
      ]
     },
     "execution_count": 7,
     "metadata": {},
     "output_type": "execute_result"
    }
   ],
   "source": [
    "shps"
   ]
  },
  {
   "cell_type": "code",
   "execution_count": 8,
   "metadata": {},
   "outputs": [],
   "source": [
    "# Make a Geodataframe of wind polygobns\n",
    "labels = shps.label[[1,2,0]] # Get labels 60, 90, 120\n",
    "geom120 = shps.iloc[0,6] # geom for speeds\n",
    "geom90 = shps.iloc[[2]].geometry[2].difference(shps.iloc[[0]].geometry[0])\n",
    "geom60 = shps.iloc[[1]].geometry[1].difference(shps.iloc[[2]].geometry[2].union(shps.iloc[[0]].geometry[0]))"
   ]
  },
  {
   "cell_type": "code",
   "execution_count": 9,
   "metadata": {},
   "outputs": [],
   "source": [
    "polys = gpd.GeoDataFrame()\n",
    "polys['label'] = labels\n",
    "polys['geometry'] = [geom60, geom90, geom120]\n",
    "polys.to_file(DATA_PATH+'/interim/Idai_winds.shp')"
   ]
  },
  {
   "cell_type": "code",
   "execution_count": 10,
   "metadata": {},
   "outputs": [
    {
     "name": "stdout",
     "output_type": "stream",
     "text": [
      "Started ESRI16\n",
      "Started GHS15\n",
      "Started GPWv4\n",
      "Started LS15\n",
      "Started WP16\n"
     ]
    }
   ],
   "source": [
    "# Run zonal stats on all \n",
    "# Git tif files\n",
    "rst_fns = sorted(glob('/Users/cascade/Github/PopGridCompare/data/interim/*all_M-M-Z.tif'))\n",
    "col = 'label'\n",
    "winds_all = zone_loop(polys, rst_fns, 'sum', col, '_all_M-M-Z.tif')\n",
    "winds_all['label_int'] = [60, 90, 120]"
   ]
  },
  {
   "cell_type": "code",
   "execution_count": 12,
   "metadata": {},
   "outputs": [
    {
     "name": "stdout",
     "output_type": "stream",
     "text": [
      "Started ESRI16\n",
      "Started GHS15\n",
      "Started GPWv4\n",
      "Started LS15\n",
      "Started WP16\n"
     ]
    }
   ],
   "source": [
    "# Run zonal stats on rural \n",
    "rst_fns = sorted(glob('/Users/cascade/Github/PopGridCompare/data/interim/*rural_M-M-Z.tif'))\n",
    "col = 'label'\n",
    "winds_urban = zone_loop(polys, rst_fns, 'sum', col, '_rural_M-M-Z.tif')\n",
    "winds_urban['label_int'] = [60, 90, 120]"
   ]
  },
  {
   "cell_type": "markdown",
   "metadata": {},
   "source": [
    "## Flooding\n",
    "This should be updated once we decide on which flood extent method to employ"
   ]
  },
  {
   "cell_type": "code",
   "execution_count": 16,
   "metadata": {},
   "outputs": [],
   "source": [
    "def flood_sum(flood_arr, rst_fn):\n",
    "    \"gets sum of population affected by flooding\"\n",
    "    pop_arr = rasterio.open(rst_fn).read(1) # open\n",
    "    pop_arr_zeros = np.where(pop_arr == -999, 0, pop_arr) # revalue\n",
    "    mask_arr = flood_arr * pop_arr_zeros\n",
    "    \n",
    "    pop_sum = mask_arr.flatten().sum()\n",
    "    return pop_sum"
   ]
  },
  {
   "cell_type": "code",
   "execution_count": 17,
   "metadata": {},
   "outputs": [],
   "source": [
    "# Paths\n",
    "DATA_PATH = '/Users/cascade/Github/PopGridCompare/data/'"
   ]
  },
  {
   "cell_type": "code",
   "execution_count": null,
   "metadata": {},
   "outputs": [],
   "source": [
    "def flood_pixels(flood_arr, rst_fn):\n",
    "    \"gets the pixels of population affected\""
   ]
  },
  {
   "cell_type": "code",
   "execution_count": 18,
   "metadata": {},
   "outputs": [],
   "source": [
    "# Get flood mask\n",
    "flood_fn = DATA_PATH+'interim/Idai_flood1km-matched.tif'\n",
    "flood_arr = rasterio.open(flood_fn).read(1)"
   ]
  },
  {
   "cell_type": "code",
   "execution_count": 43,
   "metadata": {},
   "outputs": [
    {
     "name": "stdout",
     "output_type": "stream",
     "text": [
      "/Users/cascade/Github/PopGridCompare/data/interim/ESRI16_all_M-M-Z.tif\n",
      "/Users/cascade/Github/PopGridCompare/data/interim/GHS15_all_M-M-Z.tif\n",
      "/Users/cascade/Github/PopGridCompare/data/interim/GPWv4_all_M-M-Z.tif\n",
      "/Users/cascade/Github/PopGridCompare/data/interim/LS15_all_M-M-Z.tif\n",
      "/Users/cascade/Github/PopGridCompare/data/interim/WP16_all_M-M-Z.tif\n"
     ]
    }
   ],
   "source": [
    "# Get all pop rasters\n",
    "rst_fns = sorted(glob('/Users/cascade/Github/PopGridCompare/data/interim/*all_M-M-Z.tif'))\n",
    "\n",
    "pop_sums_all = []\n",
    "\n",
    "for rst_fn in rst_fns:\n",
    "    pop_sum = flood_sum(flood_arr, rst_fn)\n",
    "    print(rst_fn)\n",
    "    pop_sums_all.append(pop_sum)"
   ]
  },
  {
   "cell_type": "code",
   "execution_count": 44,
   "metadata": {},
   "outputs": [
    {
     "name": "stdout",
     "output_type": "stream",
     "text": [
      "/Users/cascade/Github/PopGridCompare/data/interim/ESRI16_rural_M-M-Z.tif\n",
      "/Users/cascade/Github/PopGridCompare/data/interim/GHS15_rural_M-M-Z.tif\n",
      "/Users/cascade/Github/PopGridCompare/data/interim/GPWv4_rural_M-M-Z.tif\n",
      "/Users/cascade/Github/PopGridCompare/data/interim/LS15_rural_M-M-Z.tif\n",
      "/Users/cascade/Github/PopGridCompare/data/interim/WP16_rural_M-M-Z.tif\n"
     ]
    }
   ],
   "source": [
    "# Get rural pop rasters\n",
    "rst_fns = sorted(glob('/Users/cascade/Github/PopGridCompare/data/interim/*rural_M-M-Z.tif'))\n",
    "\n",
    "pop_sums_rural = []\n",
    "\n",
    "for rst_fn in rst_fns:\n",
    "    pop_sum = flood_sum(flood_arr, rst_fn)\n",
    "    print(rst_fn)\n",
    "    pop_sums_rural.append(pop_sum)"
   ]
  },
  {
   "cell_type": "markdown",
   "metadata": {},
   "source": [
    "## Figure"
   ]
  },
  {
   "cell_type": "code",
   "execution_count": 54,
   "metadata": {},
   "outputs": [
    {
     "data": {
      "image/png": "[encoded data removed]",
      "text/plain": [
       "<Figure size 864x576 with 1 Axes>"
      ]
     },
     "metadata": {
      "needs_background": "light"
     },
     "output_type": "display_data"
    }
   ],
   "source": [
    "# Make bar plot \n",
    "fig, axs = plt.subplots(1, 1, figsize = (12, 8), sharex=True)\n",
    "ws = 0.25\n",
    "fig.subplots_adjust(wspace=ws)\n",
    "scale = 10**6\n",
    "\n",
    "# Bar locations\n",
    "a = [1-.15,2-.15,3-.15]\n",
    "b = [1-.3,2-.3,3-.3]\n",
    "c = [1,2,3]\n",
    "d = [1+.15,2+.15,3+.15]\n",
    "e = [1+.3,2+.3,3+.3]\n",
    "\n",
    "# bar plots for all winds\n",
    "plt.bar(a, winds_all.ESRI16_sum / scale, width=0.12, align='center', alpha  = 0.5, color = 'blue', ec = 'black')\n",
    "plt.bar(b, winds_all.GHS15_sum / scale, width=0.12, align='center', alpha  = 0.6, color = 'indigo', ec = 'black')\n",
    "plt.bar(c, winds_all.GPWv4_sum / scale, width=0.12, align='center', alpha  = 0.7, color = 'deeppink', ec = 'black')\n",
    "plt.bar(d, winds_all.LS15_sum / scale, width=0.12, align='center', alpha  = 0.8, color = 'deepskyblue', ec = 'black')\n",
    "plt.bar(e, winds_all.WP16_sum / scale, width=0.12, align='center', alpha  = 0.9, color = 'springgreen', ec = 'black')\n",
    "\n",
    "# bar plots for rural winds\n",
    "# fake for legend\n",
    "plt.bar(e, winds_urban.GPWv4_sum / scale, width=0.12, align='center', alpha  = 1, color = 'white', ec = 'black', hatch = \"///\")\n",
    "plt.bar(a, winds_urban.GHS15_sum / scale, width=0.12, align='center', alpha  = 0.5, color = 'blue', ec = 'black', hatch = \"///\")\n",
    "plt.bar(b, winds_urban.ESRI16_sum / scale, width=0.12, align='center', alpha  = 0.5, color = 'indigo', ec = 'black', hatch = \"///\")\n",
    "plt.bar(c, winds_urban.WP16_sum / scale, width=0.12, align='center', alpha  = 0.5, color = 'deeppink', ec = 'black', hatch = \"///\")\n",
    "plt.bar(d, winds_urban.LS15_sum / scale, width=0.12, align='center', alpha  = 0.5, color = 'deepskyblue', ec = 'black', hatch = \"///\")\n",
    "plt.bar(e, winds_urban.GPWv4_sum / scale, width=0.12, align='center', alpha  = 0.5, color = 'springgreen', ec = 'black', hatch = \"///\")\n",
    "\n",
    "# bar plots for floods\n",
    "\n",
    "# Bar locations\n",
    "a = [4-.15]\n",
    "b = [4-.3]\n",
    "c = [4]\n",
    "d = [4+.15]\n",
    "e = [4+.3]\n",
    "\n",
    "# bar plots for all\n",
    "plt.bar(a, pop_sums_all[0] / scale, width=0.12, align='center', alpha  = 0.5, color = 'blue', ec = 'black')\n",
    "plt.bar(b, pop_sums_all[1] / scale, width=0.12, align='center', alpha  = 0.6, color = 'indigo', ec = 'black')\n",
    "plt.bar(c, pop_sums_all[2] / scale, width=0.12, align='center', alpha  = 0.7, color = 'deeppink', ec = 'black')\n",
    "plt.bar(d, pop_sums_all[3] / scale, width=0.12, align='center', alpha  = 0.8, color = 'deepskyblue', ec = 'black')\n",
    "plt.bar(e, pop_sums_all[4] / scale, width=0.12, align='center', alpha  = 0.9, color = 'springgreen', ec = 'black')\n",
    "\n",
    "# bar plots for rural\n",
    "plt.bar(a, pop_sums_rural[0] / scale, width=0.12, align='center', alpha  = 0.5, color = 'blue', ec = 'black', hatch = \"///\")\n",
    "plt.bar(b, pop_sums_rural[1] / scale, width=0.12, align='center', alpha  = 0.6, color = 'indigo', ec = 'black', hatch = \"///\")\n",
    "plt.bar(c, pop_sums_rural[2] / scale, width=0.12, align='center', alpha  = 0.7, color = 'deeppink', ec = 'black', hatch = \"///\")\n",
    "plt.bar(d, pop_sums_rural[3] / scale, width=0.12, align='center', alpha  = 0.8, color = 'deepskyblue', ec = 'black', hatch = \"///\")\n",
    "plt.bar(e, pop_sums_rural[4] / scale, width=0.12, align='center', alpha  = 0.9, color = 'springgreen', ec = 'black', hatch = \"///\")\n",
    "\n",
    "# legend + tics\n",
    "leg = ['WPE-16', 'GHSL-15', 'GPWv4-15', 'LS-15', 'WP-16', 'rural pop']\n",
    "ticks_bar = ['60 km/h', '90 km/h', '120 km/h', 'Flooding']\n",
    "plt.xticks([1,2,3,4], ticks_bar, fontsize = 15)\n",
    "plt.yticks(fontsize = 15)\n",
    "plt.legend(leg, fontsize = 15)\n",
    "\n",
    "# Labels / Titles\n",
    "axs.set_title('Idai Wind & Flooding Impact', size = 20)\n",
    "axs.set_xlabel('', fontsize = 15)\n",
    "axs.set_ylabel('Total Population [millions]', fontsize = 15)\n",
    "\n",
    "# save it out\n",
    "fig_out = '/Users/cascade/Github/PopGridCompare/data/FIGS/MS/Idai_impacts.png'\n",
    "plt.savefig(fig_out, dpi = 300, facecolor = 'white', bbox_inches='tight')"
   ]
  },
  {
   "cell_type": "code",
   "execution_count": 37,
   "metadata": {},
   "outputs": [
    {
     "ename": "ValueError",
     "evalue": "The number of FixedLocator locations (4), usually from a call to set_ticks, does not match the number of ticklabels (3).",
     "output_type": "error",
     "traceback": [
      "\u001b[0;31m---------------------------------------------------------------------------\u001b[0m",
      "\u001b[0;31mValueError\u001b[0m                                Traceback (most recent call last)",
      "\u001b[0;32m<ipython-input-37-b99de6e0b89a>\u001b[0m in \u001b[0;36m<module>\u001b[0;34m\u001b[0m\n\u001b[1;32m     34\u001b[0m \u001b[0;31m# legend + tics\u001b[0m\u001b[0;34m\u001b[0m\u001b[0;34m\u001b[0m\u001b[0;34m\u001b[0m\u001b[0m\n\u001b[1;32m     35\u001b[0m \u001b[0mleg\u001b[0m \u001b[0;34m=\u001b[0m \u001b[0;34m[\u001b[0m\u001b[0;34m'WPE-16'\u001b[0m\u001b[0;34m,\u001b[0m \u001b[0;34m'GHSL-15'\u001b[0m\u001b[0;34m,\u001b[0m \u001b[0;34m'GPWv4-15'\u001b[0m\u001b[0;34m,\u001b[0m \u001b[0;34m'LS-15'\u001b[0m\u001b[0;34m,\u001b[0m \u001b[0;34m'WP-16'\u001b[0m\u001b[0;34m,\u001b[0m \u001b[0;34m'rural pop'\u001b[0m\u001b[0;34m]\u001b[0m\u001b[0;34m\u001b[0m\u001b[0;34m\u001b[0m\u001b[0m\n\u001b[0;32m---> 36\u001b[0;31m \u001b[0mplt\u001b[0m\u001b[0;34m.\u001b[0m\u001b[0mxticks\u001b[0m\u001b[0;34m(\u001b[0m\u001b[0;34m[\u001b[0m\u001b[0;36m1\u001b[0m\u001b[0;34m,\u001b[0m\u001b[0;36m2\u001b[0m\u001b[0;34m,\u001b[0m\u001b[0;36m3\u001b[0m\u001b[0;34m,\u001b[0m\u001b[0;36m4\u001b[0m\u001b[0;34m]\u001b[0m\u001b[0;34m,\u001b[0m \u001b[0mticks_bar\u001b[0m\u001b[0;34m)\u001b[0m\u001b[0;34m\u001b[0m\u001b[0;34m\u001b[0m\u001b[0m\n\u001b[0m\u001b[1;32m     37\u001b[0m \u001b[0mplt\u001b[0m\u001b[0;34m.\u001b[0m\u001b[0mlegend\u001b[0m\u001b[0;34m(\u001b[0m\u001b[0mleg\u001b[0m\u001b[0;34m)\u001b[0m\u001b[0;34m\u001b[0m\u001b[0;34m\u001b[0m\u001b[0m\n\u001b[1;32m     38\u001b[0m \u001b[0;34m\u001b[0m\u001b[0m\n",
      "\u001b[0;32m~/opt/miniconda3/envs/geo38/lib/python3.8/site-packages/matplotlib/pyplot.py\u001b[0m in \u001b[0;36mxticks\u001b[0;34m(ticks, labels, **kwargs)\u001b[0m\n\u001b[1;32m   1657\u001b[0m         \u001b[0mlabels\u001b[0m \u001b[0;34m=\u001b[0m \u001b[0max\u001b[0m\u001b[0;34m.\u001b[0m\u001b[0mget_xticklabels\u001b[0m\u001b[0;34m(\u001b[0m\u001b[0;34m)\u001b[0m\u001b[0;34m\u001b[0m\u001b[0;34m\u001b[0m\u001b[0m\n\u001b[1;32m   1658\u001b[0m     \u001b[0;32melse\u001b[0m\u001b[0;34m:\u001b[0m\u001b[0;34m\u001b[0m\u001b[0;34m\u001b[0m\u001b[0m\n\u001b[0;32m-> 1659\u001b[0;31m         \u001b[0mlabels\u001b[0m \u001b[0;34m=\u001b[0m \u001b[0max\u001b[0m\u001b[0;34m.\u001b[0m\u001b[0mset_xticklabels\u001b[0m\u001b[0;34m(\u001b[0m\u001b[0mlabels\u001b[0m\u001b[0;34m,\u001b[0m \u001b[0;34m**\u001b[0m\u001b[0mkwargs\u001b[0m\u001b[0;34m)\u001b[0m\u001b[0;34m\u001b[0m\u001b[0;34m\u001b[0m\u001b[0m\n\u001b[0m\u001b[1;32m   1660\u001b[0m     \u001b[0;32mfor\u001b[0m \u001b[0ml\u001b[0m \u001b[0;32min\u001b[0m \u001b[0mlabels\u001b[0m\u001b[0;34m:\u001b[0m\u001b[0;34m\u001b[0m\u001b[0;34m\u001b[0m\u001b[0m\n\u001b[1;32m   1661\u001b[0m         \u001b[0ml\u001b[0m\u001b[0;34m.\u001b[0m\u001b[0mupdate\u001b[0m\u001b[0;34m(\u001b[0m\u001b[0mkwargs\u001b[0m\u001b[0;34m)\u001b[0m\u001b[0;34m\u001b[0m\u001b[0;34m\u001b[0m\u001b[0m\n",
      "\u001b[0;32m~/opt/miniconda3/envs/geo38/lib/python3.8/site-packages/matplotlib/axes/_base.py\u001b[0m in \u001b[0;36mwrapper\u001b[0;34m(self, *args, **kwargs)\u001b[0m\n\u001b[1;32m     61\u001b[0m \u001b[0;34m\u001b[0m\u001b[0m\n\u001b[1;32m     62\u001b[0m         \u001b[0;32mdef\u001b[0m \u001b[0mwrapper\u001b[0m\u001b[0;34m(\u001b[0m\u001b[0mself\u001b[0m\u001b[0;34m,\u001b[0m \u001b[0;34m*\u001b[0m\u001b[0margs\u001b[0m\u001b[0;34m,\u001b[0m \u001b[0;34m**\u001b[0m\u001b[0mkwargs\u001b[0m\u001b[0;34m)\u001b[0m\u001b[0;34m:\u001b[0m\u001b[0;34m\u001b[0m\u001b[0;34m\u001b[0m\u001b[0m\n\u001b[0;32m---> 63\u001b[0;31m             \u001b[0;32mreturn\u001b[0m \u001b[0mget_method\u001b[0m\u001b[0;34m(\u001b[0m\u001b[0mself\u001b[0m\u001b[0;34m)\u001b[0m\u001b[0;34m(\u001b[0m\u001b[0;34m*\u001b[0m\u001b[0margs\u001b[0m\u001b[0;34m,\u001b[0m \u001b[0;34m**\u001b[0m\u001b[0mkwargs\u001b[0m\u001b[0;34m)\u001b[0m\u001b[0;34m\u001b[0m\u001b[0;34m\u001b[0m\u001b[0m\n\u001b[0m\u001b[1;32m     64\u001b[0m \u001b[0;34m\u001b[0m\u001b[0m\n\u001b[1;32m     65\u001b[0m         \u001b[0mwrapper\u001b[0m\u001b[0;34m.\u001b[0m\u001b[0m__module__\u001b[0m \u001b[0;34m=\u001b[0m \u001b[0mowner\u001b[0m\u001b[0;34m.\u001b[0m\u001b[0m__module__\u001b[0m\u001b[0;34m\u001b[0m\u001b[0;34m\u001b[0m\u001b[0m\n",
      "\u001b[0;32m~/opt/miniconda3/envs/geo38/lib/python3.8/site-packages/matplotlib/cbook/deprecation.py\u001b[0m in \u001b[0;36mwrapper\u001b[0;34m(*args, **kwargs)\u001b[0m\n\u001b[1;32m    449\u001b[0m                 \u001b[0;34m\"parameter will become keyword-only %(removal)s.\"\u001b[0m\u001b[0;34m,\u001b[0m\u001b[0;34m\u001b[0m\u001b[0;34m\u001b[0m\u001b[0m\n\u001b[1;32m    450\u001b[0m                 name=name, obj_type=f\"parameter of {func.__name__}()\")\n\u001b[0;32m--> 451\u001b[0;31m         \u001b[0;32mreturn\u001b[0m \u001b[0mfunc\u001b[0m\u001b[0;34m(\u001b[0m\u001b[0;34m*\u001b[0m\u001b[0margs\u001b[0m\u001b[0;34m,\u001b[0m \u001b[0;34m**\u001b[0m\u001b[0mkwargs\u001b[0m\u001b[0;34m)\u001b[0m\u001b[0;34m\u001b[0m\u001b[0;34m\u001b[0m\u001b[0m\n\u001b[0m\u001b[1;32m    452\u001b[0m \u001b[0;34m\u001b[0m\u001b[0m\n\u001b[1;32m    453\u001b[0m     \u001b[0;32mreturn\u001b[0m \u001b[0mwrapper\u001b[0m\u001b[0;34m\u001b[0m\u001b[0;34m\u001b[0m\u001b[0m\n",
      "\u001b[0;32m~/opt/miniconda3/envs/geo38/lib/python3.8/site-packages/matplotlib/axis.py\u001b[0m in \u001b[0;36m_set_ticklabels\u001b[0;34m(self, labels, fontdict, minor, **kwargs)\u001b[0m\n\u001b[1;32m   1794\u001b[0m         \u001b[0;32mif\u001b[0m \u001b[0mfontdict\u001b[0m \u001b[0;32mis\u001b[0m \u001b[0;32mnot\u001b[0m \u001b[0;32mNone\u001b[0m\u001b[0;34m:\u001b[0m\u001b[0;34m\u001b[0m\u001b[0;34m\u001b[0m\u001b[0m\n\u001b[1;32m   1795\u001b[0m             \u001b[0mkwargs\u001b[0m\u001b[0;34m.\u001b[0m\u001b[0mupdate\u001b[0m\u001b[0;34m(\u001b[0m\u001b[0mfontdict\u001b[0m\u001b[0;34m)\u001b[0m\u001b[0;34m\u001b[0m\u001b[0;34m\u001b[0m\u001b[0m\n\u001b[0;32m-> 1796\u001b[0;31m         \u001b[0;32mreturn\u001b[0m \u001b[0mself\u001b[0m\u001b[0;34m.\u001b[0m\u001b[0mset_ticklabels\u001b[0m\u001b[0;34m(\u001b[0m\u001b[0mlabels\u001b[0m\u001b[0;34m,\u001b[0m \u001b[0mminor\u001b[0m\u001b[0;34m=\u001b[0m\u001b[0mminor\u001b[0m\u001b[0;34m,\u001b[0m \u001b[0;34m**\u001b[0m\u001b[0mkwargs\u001b[0m\u001b[0;34m)\u001b[0m\u001b[0;34m\u001b[0m\u001b[0;34m\u001b[0m\u001b[0m\n\u001b[0m\u001b[1;32m   1797\u001b[0m \u001b[0;34m\u001b[0m\u001b[0m\n\u001b[1;32m   1798\u001b[0m     \u001b[0;34m@\u001b[0m\u001b[0mcbook\u001b[0m\u001b[0;34m.\u001b[0m\u001b[0m_make_keyword_only\u001b[0m\u001b[0;34m(\u001b[0m\u001b[0;34m\"3.2\"\u001b[0m\u001b[0;34m,\u001b[0m \u001b[0;34m\"minor\"\u001b[0m\u001b[0;34m)\u001b[0m\u001b[0;34m\u001b[0m\u001b[0;34m\u001b[0m\u001b[0m\n",
      "\u001b[0;32m~/opt/miniconda3/envs/geo38/lib/python3.8/site-packages/matplotlib/axis.py\u001b[0m in \u001b[0;36mset_ticklabels\u001b[0;34m(self, ticklabels, minor, **kwargs)\u001b[0m\n\u001b[1;32m   1715\u001b[0m             \u001b[0;31m# remove all tick labels, so only error for > 0 ticklabels\u001b[0m\u001b[0;34m\u001b[0m\u001b[0;34m\u001b[0m\u001b[0;34m\u001b[0m\u001b[0m\n\u001b[1;32m   1716\u001b[0m             \u001b[0;32mif\u001b[0m \u001b[0mlen\u001b[0m\u001b[0;34m(\u001b[0m\u001b[0mlocator\u001b[0m\u001b[0;34m.\u001b[0m\u001b[0mlocs\u001b[0m\u001b[0;34m)\u001b[0m \u001b[0;34m!=\u001b[0m \u001b[0mlen\u001b[0m\u001b[0;34m(\u001b[0m\u001b[0mticklabels\u001b[0m\u001b[0;34m)\u001b[0m \u001b[0;32mand\u001b[0m \u001b[0mlen\u001b[0m\u001b[0;34m(\u001b[0m\u001b[0mticklabels\u001b[0m\u001b[0;34m)\u001b[0m \u001b[0;34m!=\u001b[0m \u001b[0;36m0\u001b[0m\u001b[0;34m:\u001b[0m\u001b[0;34m\u001b[0m\u001b[0;34m\u001b[0m\u001b[0m\n\u001b[0;32m-> 1717\u001b[0;31m                 raise ValueError(\n\u001b[0m\u001b[1;32m   1718\u001b[0m                     \u001b[0;34m\"The number of FixedLocator locations\"\u001b[0m\u001b[0;34m\u001b[0m\u001b[0;34m\u001b[0m\u001b[0m\n\u001b[1;32m   1719\u001b[0m                     \u001b[0;34mf\" ({len(locator.locs)}), usually from a call to\"\u001b[0m\u001b[0;34m\u001b[0m\u001b[0;34m\u001b[0m\u001b[0m\n",
      "\u001b[0;31mValueError\u001b[0m: The number of FixedLocator locations (4), usually from a call to set_ticks, does not match the number of ticklabels (3)."
     ]
    },
    {
     "data": {
      "image/png": "[encoded data removed]",
      "text/plain": [
       "<Figure size 576x576 with 1 Axes>"
      ]
     },
     "metadata": {
      "needs_background": "light"
     },
     "output_type": "display_data"
    }
   ],
   "source": [
    "# Make bar plot \n",
    "fig, axs = plt.subplots(1, 1, figsize = (8, 8), sharex=True)\n",
    "ws = 0.25\n",
    "fig.subplots_adjust(wspace=ws)\n",
    "scale = 10**3\n",
    "\n",
    "# Tick Lables\n",
    "ticks_bar = ['60 km/h', '90 km/h', '120 km/h']\n",
    "\n",
    "# Bar locations\n",
    "a = [1-.15,2-.15,3-.15]\n",
    "b = [1-.3,2-.3,3-.3]\n",
    "c = [1,2,3]\n",
    "d = [1+.15,2+.15,3+.15]\n",
    "e = [1+.3,2+.3,3+.3]\n",
    "\n",
    "# bar plots for all\n",
    "plt.bar(a, winds_all.ESRI16_sum / scale, width=0.12, align='center', alpha  = 0.5, color = 'blue', ec = 'black')\n",
    "plt.bar(b, winds_all.GHS15_sum / scale, width=0.12, align='center', alpha  = 0.6, color = 'indigo', ec = 'black')\n",
    "plt.bar(c, winds_all.GPWv4_sum / scale, width=0.12, align='center', alpha  = 0.7, color = 'deeppink', ec = 'black')\n",
    "plt.bar(d, winds_all.LS15_sum / scale, width=0.12, align='center', alpha  = 0.8, color = 'deepskyblue', ec = 'black')\n",
    "plt.bar(e, winds_all.WP16_sum / scale, width=0.12, align='center', alpha  = 0.9, color = 'springgreen', ec = 'black')\n",
    "\n",
    "# bar plots for rural\n",
    "# fake for legend\n",
    "plt.bar(e, winds_urban.GPWv4_sum / scale, width=0.12, align='center', alpha  = 1, color = 'white', ec = 'black', hatch = \"///\")\n",
    "\n",
    "plt.bar(a, winds_urban.GHS15_sum / scale, width=0.12, align='center', alpha  = 0.5, color = 'blue', ec = 'black', hatch = \"///\")\n",
    "plt.bar(b, winds_urban.ESRI16_sum / scale, width=0.12, align='center', alpha  = 0.5, color = 'indigo', ec = 'black', hatch = \"///\")\n",
    "plt.bar(c, winds_urban.WP16_sum / scale, width=0.12, align='center', alpha  = 0.5, color = 'deeppink', ec = 'black', hatch = \"///\")\n",
    "plt.bar(d, winds_urban.LS15_sum / scale, width=0.12, align='center', alpha  = 0.5, color = 'deepskyblue', ec = 'black', hatch = \"///\")\n",
    "plt.bar(e, winds_urban.GPWv4_sum / scale, width=0.12, align='center', alpha  = 0.5, color = 'springgreen', ec = 'black', hatch = \"///\")\n",
    "\n",
    "# legend + tics\n",
    "leg = ['WPE-16', 'GHSL-15', 'GPWv4-15', 'LS-15', 'WP-16', 'rural pop']\n",
    "plt.xticks([1,2,3,4], ticks_bar)\n",
    "plt.legend(leg)\n",
    "\n",
    "# Labels / Titles\n",
    "axs.set_title('Idai Wind Speeds', size = 20 )\n",
    "axs.set_xlabel('Wind Speeds', fontsize = 15)\n",
    "axs.set_ylabel('Total Population [thousands]', fontsize = 15)\n",
    "\n",
    "# save it out\n",
    "fig_out = '/Users/cascade/Github/PopGridCompare/data/FIGS/MS/Idai_winds.png'\n",
    "plt.savefig(fig_out, dpi = 300, facecolor = 'white', bbox_inches='tight')"
   ]
  },
  {
   "cell_type": "code",
   "execution_count": null,
   "metadata": {},
   "outputs": [],
   "source": []
  },
  {
   "cell_type": "code",
   "execution_count": null,
   "metadata": {},
   "outputs": [],
   "source": []
  },
  {
   "cell_type": "code",
   "execution_count": null,
   "metadata": {},
   "outputs": [],
   "source": []
  },
  {
   "cell_type": "code",
   "execution_count": null,
   "metadata": {},
   "outputs": [],
   "source": []
  },
  {
   "cell_type": "code",
   "execution_count": null,
   "metadata": {},
   "outputs": [],
   "source": []
  },
  {
   "cell_type": "code",
   "execution_count": null,
   "metadata": {},
   "outputs": [],
   "source": []
  },
  {
   "cell_type": "code",
   "execution_count": null,
   "metadata": {},
   "outputs": [],
   "source": []
  },
  {
   "cell_type": "code",
   "execution_count": null,
   "metadata": {},
   "outputs": [],
   "source": []
  },
  {
   "cell_type": "code",
   "execution_count": null,
   "metadata": {},
   "outputs": [],
   "source": []
  },
  {
   "cell_type": "code",
   "execution_count": null,
   "metadata": {},
   "outputs": [],
   "source": []
  },
  {
   "cell_type": "code",
   "execution_count": null,
   "metadata": {},
   "outputs": [],
   "source": [
    "# Paths\n",
    "DATA_PATH = '/Users/cascade/Github/PopGridCompare/data/'"
   ]
  },
  {
   "cell_type": "code",
   "execution_count": null,
   "metadata": {},
   "outputs": [],
   "source": [
    "# Get flood mask\n",
    "flood_fn = DATA_PATH+'interim/Idai_flood1km-matched.tif'\n",
    "flood_arr = rasterio.open(flood_fn).read(1)"
   ]
  },
  {
   "cell_type": "code",
   "execution_count": null,
   "metadata": {},
   "outputs": [],
   "source": [
    "# Get all pop rasters\n",
    "rst_fns = glob('/Users/cascade/Github/PopGridCompare/data/interim/*all_M-M-Z.tif')"
   ]
  },
  {
   "cell_type": "code",
   "execution_count": null,
   "metadata": {},
   "outputs": [],
   "source": [
    "rst_fn = rst_fns[0]\n",
    "pop_arr = rasterio.open(rst_fn).read(1)"
   ]
  },
  {
   "cell_type": "code",
   "execution_count": null,
   "metadata": {},
   "outputs": [],
   "source": [
    "pop_arr_zeros = np.where(pop_arr == -999, 0, pop_arr)\n",
    "mask_arr = flood_arr * pop_arr_zeros\n",
    "mask_arr.flatten().sum()"
   ]
  },
  {
   "cell_type": "code",
   "execution_count": 34,
   "metadata": {},
   "outputs": [
    {
     "data": {
      "image/png": "[encoded data removed]",
      "text/plain": [
       "<Figure size 144x576 with 1 Axes>"
      ]
     },
     "metadata": {
      "needs_background": "light"
     },
     "output_type": "display_data"
    }
   ],
   "source": [
    "# Make bar plot \n",
    "fig, axs = plt.subplots(1, 1, figsize = (2, 8), sharex=True)\n",
    "ws = 0.25\n",
    "fig.subplots_adjust(wspace=ws)\n",
    "scale = 10**3\n",
    "\n",
    "# Tick Lables\n",
    "ticks_bar = ['']\n",
    "\n",
    "# Bar locations\n",
    "a = [1-.15]\n",
    "b = [1-.3]\n",
    "c = [1]\n",
    "d = [1+.15]\n",
    "e = [1+.3]\n",
    "\n",
    "# bar plots for all\n",
    "plt.bar(a, pop_sums[0] / scale, width=0.12, align='center', alpha  = 0.5, color = 'blue', ec = 'black')\n",
    "plt.bar(b, pop_sums[1] / scale, width=0.12, align='center', alpha  = 0.6, color = 'indigo', ec = 'black')\n",
    "plt.bar(c, pop_sums[2] / scale, width=0.12, align='center', alpha  = 0.7, color = 'deeppink', ec = 'black')\n",
    "plt.bar(d, pop_sums[3] / scale, width=0.12, align='center', alpha  = 0.8, color = 'deepskyblue', ec = 'black')\n",
    "plt.bar(e, pop_sums[4] / scale, width=0.12, align='center', alpha  = 0.9, color = 'springgreen', ec = 'black')\n",
    "\n",
    "# # bar plots for rural\n",
    "# # fake for legend\n",
    "# plt.bar(e, winds_urban.GPWv4_sum / scale, width=0.12, align='center', alpha  = 1, color = 'white', ec = 'black', hatch = \"///\")\n",
    "\n",
    "# plt.bar(a, winds_urban.GHS15_sum / scale, width=0.12, align='center', alpha  = 0.5, color = 'blue', ec = 'black', hatch = \"///\")\n",
    "# plt.bar(b, winds_urban.ESRI16_sum / scale, width=0.12, align='center', alpha  = 0.5, color = 'indigo', ec = 'black', hatch = \"///\")\n",
    "# plt.bar(c, winds_urban.WP16_sum / scale, width=0.12, align='center', alpha  = 0.5, color = 'deeppink', ec = 'black', hatch = \"///\")\n",
    "# plt.bar(d, winds_urban.LS15_sum / scale, width=0.12, align='center', alpha  = 0.5, color = 'deepskyblue', ec = 'black', hatch = \"///\")\n",
    "# plt.bar(e, winds_urban.GPWv4_sum / scale, width=0.12, align='center', alpha  = 0.5, color = 'springgreen', ec = 'black', hatch = \"///\")\n",
    "\n",
    "# legend + tics\n",
    "# leg = ['GPWv4-15','GHSL-15', 'LS-15', 'WPE-16', 'WP-16', 'rural pop']\n",
    "plt.xticks([1], ticks_bar)\n",
    "# plt.legend(leg)\n",
    "\n",
    "# Labels / Titles\n",
    "axs.set_title('Idai Floods', size = 20 )\n",
    "axs.set_xlabel('Flood Area', fontsize = 15)\n",
    "axs.set_ylabel('Total Population [thousands]', fontsize = 15)\n",
    "\n",
    "# save it out\n",
    "fig_out = '/Users/cascade/Github/PopGridCompare/data/FIGS/MS/Idai_winds.png'\n",
    "#plt.savefig(fig_out, dpi = 300, facecolor = 'white', bbox_inches='tight')"
   ]
  }
 ],
 "metadata": {
  "kernelspec": {
   "display_name": "Python 3",
   "language": "python",
   "name": "python3"
  },
  "language_info": {
   "codemirror_mode": {
    "name": "ipython",
    "version": 3
   },
   "file_extension": ".py",
   "mimetype": "text/x-python",
   "name": "python",
   "nbconvert_exporter": "python",
   "pygments_lexer": "ipython3",
   "version": "3.8.6"
  }
 },
 "nbformat": 4,
 "nbformat_minor": 4
}
