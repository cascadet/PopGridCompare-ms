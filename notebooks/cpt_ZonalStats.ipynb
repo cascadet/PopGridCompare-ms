{
 "cells": [
  {
   "cell_type": "markdown",
   "metadata": {},
   "source": [
    "# Zonal Stats\n",
    "\n",
    "By Cascade Tuholske, June 2020\n",
    "\n",
    "Notebook finds zonal stats of populations for give geographies. <br><br>\n",
    "**NOTE** CRS should be epsg:4326 for everything!"
   ]
  },
  {
   "cell_type": "code",
   "execution_count": 1,
   "metadata": {},
   "outputs": [],
   "source": [
    "#### Dependencies\n",
    "import numpy as np\n",
    "import pandas as pd\n",
    "import rasterio\n",
    "import geopandas as gpd\n",
    "from rasterstats import zonal_stats, gen_zonal_stats\n",
    "from glob import glob"
   ]
  },
  {
   "cell_type": "code",
   "execution_count": 2,
   "metadata": {},
   "outputs": [],
   "source": [
    "#### File Paths & FNs\n",
    "DATA_PATH = '/Users/cascade/Github/PopGridCompare/data/'"
   ]
  },
  {
   "cell_type": "code",
   "execution_count": 3,
   "metadata": {},
   "outputs": [],
   "source": [
    "#### Run on Nigeria GDAM \n",
    "polys_fn = DATA_PATH+'raw/GDAM/gadm36_ESP_shp/gadm36_ESP_4.shp'\n",
    "polys = gpd.read_file(polys_fn)\n",
    "col = 'GID_4' # gdam level\n",
    "fn_out = DATA_PATH+'interim/ESP4_stats.shp' #updatea"
   ]
  },
  {
   "cell_type": "code",
   "execution_count": 4,
   "metadata": {},
   "outputs": [],
   "source": [
    "# subset, be sure to check the admin level\n",
    "polys = polys[['geometry', col]]"
   ]
  },
  {
   "cell_type": "code",
   "execution_count": 5,
   "metadata": {},
   "outputs": [
    {
     "data": {
      "text/plain": [
       "['/Users/cascade/Github/PopGridCompare/data/interim/GHS15_matched.tif',\n",
       " '/Users/cascade/Github/PopGridCompare/data/interim/LS15_matched.tif',\n",
       " '/Users/cascade/Github/PopGridCompare/data/interim/ESRI16_matched.tif',\n",
       " '/Users/cascade/Github/PopGridCompare/data/interim/WP16_matched.tif']"
      ]
     },
     "execution_count": 5,
     "metadata": {},
     "output_type": "execute_result"
    }
   ],
   "source": [
    "# Git tif files\n",
    "rst_fns = glob('/Users/cascade/Github/PopGridCompare/data/interim/*.tif')\n",
    "rst_fns"
   ]
  },
  {
   "cell_type": "code",
   "execution_count": 6,
   "metadata": {},
   "outputs": [],
   "source": [
    "def zone_loop(polys_in, rst_list, stats_type):\n",
    "    \"\"\" Function loops through rasters, calcs zonal_stats and returns stats as a data frame.\n",
    "    Args:\n",
    "        polys_in = polygons\n",
    "        rst_list = list of paths & fns of rasters\n",
    "        stats_type = stats type for each poly gone (see zonal stats)\n",
    "    \"\"\"\n",
    "    \n",
    "    # copy polys to write out\n",
    "    polys_out = polys_in.copy()\n",
    "    \n",
    "    for rst in rst_list:\n",
    "        \n",
    "        # Get data name\n",
    "        data = rst.split(DATA_PATH+'interim/')[1].split('_matched.tif')[0]\n",
    "        print('Started', data)\n",
    "        \n",
    "        # Run zonal stats\n",
    "        zs_feats = zonal_stats(polys_in, rst, stats=stats_type, geojson_out=True)\n",
    "        zgdf = gpd.GeoDataFrame.from_features(zs_feats, crs=polys_in.crs)\n",
    "        \n",
    "        # Rename columns and merge\n",
    "        zgdf = zgdf.rename(columns={stats_type: data+'_'+stats_type})\n",
    "        \n",
    "        polys_out = polys_out.merge(zgdf[[col, data+'_'+stats_type]], on = col, how = 'inner')\n",
    "    \n",
    "    return polys_out\n"
   ]
  },
  {
   "cell_type": "code",
   "execution_count": 7,
   "metadata": {},
   "outputs": [
    {
     "name": "stdout",
     "output_type": "stream",
     "text": [
      "Started GHS15\n",
      "Started LS15\n",
      "Started ESRI16\n",
      "Started WP16\n"
     ]
    },
    {
     "data": {
      "text/html": [
       "<div>\n",
       "<style scoped>\n",
       "    .dataframe tbody tr th:only-of-type {\n",
       "        vertical-align: middle;\n",
       "    }\n",
       "\n",
       "    .dataframe tbody tr th {\n",
       "        vertical-align: top;\n",
       "    }\n",
       "\n",
       "    .dataframe thead th {\n",
       "        text-align: right;\n",
       "    }\n",
       "</style>\n",
       "<table border=\"1\" class=\"dataframe\">\n",
       "  <thead>\n",
       "    <tr style=\"text-align: right;\">\n",
       "      <th></th>\n",
       "      <th>geometry</th>\n",
       "      <th>GID_4</th>\n",
       "      <th>GHS15_sum</th>\n",
       "      <th>LS15_sum</th>\n",
       "      <th>ESRI16_sum</th>\n",
       "      <th>WP16_sum</th>\n",
       "    </tr>\n",
       "  </thead>\n",
       "  <tbody>\n",
       "    <tr>\n",
       "      <th>0</th>\n",
       "      <td>POLYGON ((-2.19652605056757 37.27780532836914,...</td>\n",
       "      <td>ESP.1.1.1.1_1</td>\n",
       "      <td>787.941356</td>\n",
       "      <td>1311.0</td>\n",
       "      <td>820.0</td>\n",
       "      <td>831.010681</td>\n",
       "    </tr>\n",
       "    <tr>\n",
       "      <th>1</th>\n",
       "      <td>POLYGON ((-2.183551073074341 37.38243103027344...</td>\n",
       "      <td>ESP.1.1.1.2_1</td>\n",
       "      <td>10733.399701</td>\n",
       "      <td>8406.0</td>\n",
       "      <td>10597.0</td>\n",
       "      <td>12236.562500</td>\n",
       "    </tr>\n",
       "    <tr>\n",
       "      <th>2</th>\n",
       "      <td>POLYGON ((-2.619179964065495 37.24225234985363...</td>\n",
       "      <td>ESP.1.1.1.3_1</td>\n",
       "      <td>630.648293</td>\n",
       "      <td>4040.0</td>\n",
       "      <td>325.0</td>\n",
       "      <td>664.089478</td>\n",
       "    </tr>\n",
       "    <tr>\n",
       "      <th>3</th>\n",
       "      <td>POLYGON ((-2.030813932418823 37.43074035644537...</td>\n",
       "      <td>ESP.1.1.1.4_1</td>\n",
       "      <td>4677.951219</td>\n",
       "      <td>5241.0</td>\n",
       "      <td>6662.0</td>\n",
       "      <td>5065.504395</td>\n",
       "    </tr>\n",
       "    <tr>\n",
       "      <th>4</th>\n",
       "      <td>POLYGON ((-2.396323919296265 37.34402847290039...</td>\n",
       "      <td>ESP.1.1.1.5_1</td>\n",
       "      <td>362.962382</td>\n",
       "      <td>249.0</td>\n",
       "      <td>850.0</td>\n",
       "      <td>494.843597</td>\n",
       "    </tr>\n",
       "  </tbody>\n",
       "</table>\n",
       "</div>"
      ],
      "text/plain": [
       "                                            geometry          GID_4  \\\n",
       "0  POLYGON ((-2.19652605056757 37.27780532836914,...  ESP.1.1.1.1_1   \n",
       "1  POLYGON ((-2.183551073074341 37.38243103027344...  ESP.1.1.1.2_1   \n",
       "2  POLYGON ((-2.619179964065495 37.24225234985363...  ESP.1.1.1.3_1   \n",
       "3  POLYGON ((-2.030813932418823 37.43074035644537...  ESP.1.1.1.4_1   \n",
       "4  POLYGON ((-2.396323919296265 37.34402847290039...  ESP.1.1.1.5_1   \n",
       "\n",
       "      GHS15_sum  LS15_sum  ESRI16_sum      WP16_sum  \n",
       "0    787.941356    1311.0       820.0    831.010681  \n",
       "1  10733.399701    8406.0     10597.0  12236.562500  \n",
       "2    630.648293    4040.0       325.0    664.089478  \n",
       "3   4677.951219    5241.0      6662.0   5065.504395  \n",
       "4    362.962382     249.0       850.0    494.843597  "
      ]
     },
     "execution_count": 7,
     "metadata": {},
     "output_type": "execute_result"
    }
   ],
   "source": [
    "# Run zonal stats loop\n",
    "polys_sum = zone_loop(polys, rst_fns, 'sum')\n",
    "polys_sum.head()"
   ]
  },
  {
   "cell_type": "code",
   "execution_count": 8,
   "metadata": {},
   "outputs": [],
   "source": [
    "# variances\n",
    "polys_sum['var'] = polys_sum.iloc[:,2:6].var(axis = 1)"
   ]
  },
  {
   "cell_type": "code",
   "execution_count": 9,
   "metadata": {},
   "outputs": [],
   "source": [
    "# std (population level)\n",
    "polys_sum['std'] = polys_sum.iloc[:,2:6].std(axis = 1, ddof=0)"
   ]
  },
  {
   "cell_type": "code",
   "execution_count": 10,
   "metadata": {},
   "outputs": [],
   "source": [
    "# range\n",
    "polys_sum['range'] = polys_sum.iloc[:,2:6].max(axis = 1) - polys_sum.iloc[:,2:6].min(axis = 1)"
   ]
  },
  {
   "cell_type": "code",
   "execution_count": 11,
   "metadata": {},
   "outputs": [
    {
     "data": {
      "text/html": [
       "<div>\n",
       "<style scoped>\n",
       "    .dataframe tbody tr th:only-of-type {\n",
       "        vertical-align: middle;\n",
       "    }\n",
       "\n",
       "    .dataframe tbody tr th {\n",
       "        vertical-align: top;\n",
       "    }\n",
       "\n",
       "    .dataframe thead th {\n",
       "        text-align: right;\n",
       "    }\n",
       "</style>\n",
       "<table border=\"1\" class=\"dataframe\">\n",
       "  <thead>\n",
       "    <tr style=\"text-align: right;\">\n",
       "      <th></th>\n",
       "      <th>geometry</th>\n",
       "      <th>GID_4</th>\n",
       "      <th>GHS15_sum</th>\n",
       "      <th>LS15_sum</th>\n",
       "      <th>ESRI16_sum</th>\n",
       "      <th>WP16_sum</th>\n",
       "      <th>var</th>\n",
       "      <th>std</th>\n",
       "      <th>range</th>\n",
       "    </tr>\n",
       "  </thead>\n",
       "  <tbody>\n",
       "    <tr>\n",
       "      <th>0</th>\n",
       "      <td>POLYGON ((-2.19652605056757 37.27780532836914,...</td>\n",
       "      <td>ESP.1.1.1.1_1</td>\n",
       "      <td>787.941356</td>\n",
       "      <td>1311.0</td>\n",
       "      <td>820.0</td>\n",
       "      <td>831.010681</td>\n",
       "      <td>6.233875e+04</td>\n",
       "      <td>216.226885</td>\n",
       "      <td>523.058644</td>\n",
       "    </tr>\n",
       "    <tr>\n",
       "      <th>1</th>\n",
       "      <td>POLYGON ((-2.183551073074341 37.38243103027344...</td>\n",
       "      <td>ESP.1.1.1.2_1</td>\n",
       "      <td>10733.399701</td>\n",
       "      <td>8406.0</td>\n",
       "      <td>10597.0</td>\n",
       "      <td>12236.562500</td>\n",
       "      <td>2.488062e+06</td>\n",
       "      <td>1366.033215</td>\n",
       "      <td>3830.562500</td>\n",
       "    </tr>\n",
       "    <tr>\n",
       "      <th>2</th>\n",
       "      <td>POLYGON ((-2.619179964065495 37.24225234985363...</td>\n",
       "      <td>ESP.1.1.1.3_1</td>\n",
       "      <td>630.648293</td>\n",
       "      <td>4040.0</td>\n",
       "      <td>325.0</td>\n",
       "      <td>664.089478</td>\n",
       "      <td>3.085933e+06</td>\n",
       "      <td>1521.331587</td>\n",
       "      <td>3715.000000</td>\n",
       "    </tr>\n",
       "    <tr>\n",
       "      <th>3</th>\n",
       "      <td>POLYGON ((-2.030813932418823 37.43074035644537...</td>\n",
       "      <td>ESP.1.1.1.4_1</td>\n",
       "      <td>4677.951219</td>\n",
       "      <td>5241.0</td>\n",
       "      <td>6662.0</td>\n",
       "      <td>5065.504395</td>\n",
       "      <td>7.502091e+05</td>\n",
       "      <td>750.104530</td>\n",
       "      <td>1984.048781</td>\n",
       "    </tr>\n",
       "    <tr>\n",
       "      <th>4</th>\n",
       "      <td>POLYGON ((-2.396323919296265 37.34402847290039...</td>\n",
       "      <td>ESP.1.1.1.5_1</td>\n",
       "      <td>362.962382</td>\n",
       "      <td>249.0</td>\n",
       "      <td>850.0</td>\n",
       "      <td>494.843597</td>\n",
       "      <td>6.794682e+04</td>\n",
       "      <td>225.743475</td>\n",
       "      <td>601.000000</td>\n",
       "    </tr>\n",
       "  </tbody>\n",
       "</table>\n",
       "</div>"
      ],
      "text/plain": [
       "                                            geometry          GID_4  \\\n",
       "0  POLYGON ((-2.19652605056757 37.27780532836914,...  ESP.1.1.1.1_1   \n",
       "1  POLYGON ((-2.183551073074341 37.38243103027344...  ESP.1.1.1.2_1   \n",
       "2  POLYGON ((-2.619179964065495 37.24225234985363...  ESP.1.1.1.3_1   \n",
       "3  POLYGON ((-2.030813932418823 37.43074035644537...  ESP.1.1.1.4_1   \n",
       "4  POLYGON ((-2.396323919296265 37.34402847290039...  ESP.1.1.1.5_1   \n",
       "\n",
       "      GHS15_sum  LS15_sum  ESRI16_sum      WP16_sum           var  \\\n",
       "0    787.941356    1311.0       820.0    831.010681  6.233875e+04   \n",
       "1  10733.399701    8406.0     10597.0  12236.562500  2.488062e+06   \n",
       "2    630.648293    4040.0       325.0    664.089478  3.085933e+06   \n",
       "3   4677.951219    5241.0      6662.0   5065.504395  7.502091e+05   \n",
       "4    362.962382     249.0       850.0    494.843597  6.794682e+04   \n",
       "\n",
       "           std        range  \n",
       "0   216.226885   523.058644  \n",
       "1  1366.033215  3830.562500  \n",
       "2  1521.331587  3715.000000  \n",
       "3   750.104530  1984.048781  \n",
       "4   225.743475   601.000000  "
      ]
     },
     "execution_count": 11,
     "metadata": {},
     "output_type": "execute_result"
    }
   ],
   "source": [
    "polys_sum.head()"
   ]
  },
  {
   "cell_type": "code",
   "execution_count": 12,
   "metadata": {},
   "outputs": [],
   "source": [
    "#### Save it out\n",
    "gpd_out = gpd.GeoDataFrame(polys_sum)\n",
    "gpd_out.to_file(fn_out)"
   ]
  },
  {
   "cell_type": "markdown",
   "metadata": {},
   "source": [
    "# Old Code"
   ]
  },
  {
   "cell_type": "code",
   "execution_count": null,
   "metadata": {},
   "outputs": [],
   "source": [
    "#### Functions\n",
    "def zonal_func(polys_in, rst_in, stats_type, save, fn_out = None):\n",
    "    \"\"\" Runs zonal stats on a set of polygons for a given raster, see rasterstats for stats type.\n",
    "    Returns geodata frame\n",
    "    Args:\n",
    "        polys = polygons as a shape file read into memory\n",
    "        rst_fn = path to raster file to run zonal stats on\n",
    "        stats_type = stats type for each poly gone (see zonal stats)\n",
    "        save = True will save out a fail\n",
    "        fn_out = file name and path to save out shape files\n",
    "    \"\"\"\n",
    "    \n",
    "    # Run Zonal Stats & Set to gpd df\n",
    "    zs_feats = zonal_stats(polys_in, rst_in, stats=stats_type, geojson_out=True)\n",
    "    zgdf = gpd.GeoDataFrame.from_features(zs_feats, crs=polys_in.crs)\n",
    "    \n",
    "    if save == True:\n",
    "        zgdf.to_file(fn_out) \n",
    "    \n",
    "    return zgdf"
   ]
  },
  {
   "cell_type": "code",
   "execution_count": null,
   "metadata": {},
   "outputs": [],
   "source": [
    "#### Run Zonal Stats\n",
    "rst_fns = glob('/Users/cascade/Github/PopGridCompare/data/interim/*.tif')\n",
    "fn_out = DATA_PATH+'interim/NGA_2_LS15.shp'\n",
    "rst_fn = rst_fns[0]\n",
    "zstats = zonal_func(polys, rst_fn, 'sum', save = True, fn_out =fn_out)"
   ]
  }
 ],
 "metadata": {
  "kernelspec": {
   "display_name": "Python 3",
   "language": "python",
   "name": "python3"
  },
  "language_info": {
   "codemirror_mode": {
    "name": "ipython",
    "version": 3
   },
   "file_extension": ".py",
   "mimetype": "text/x-python",
   "name": "python",
   "nbconvert_exporter": "python",
   "pygments_lexer": "ipython3",
   "version": "3.7.3"
  }
 },
 "nbformat": 4,
 "nbformat_minor": 2
}
