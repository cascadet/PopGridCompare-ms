{
 "cells": [
  {
   "cell_type": "markdown",
   "metadata": {},
   "source": [
    "# VarCoef\n",
    "\n",
    "By Cascade Tuholske, Sep 2020 <br>\n",
    "Notebook to generate coeffiecent of variation of popgrid data. <br>"
   ]
  },
  {
   "cell_type": "code",
   "execution_count": 1,
   "metadata": {},
   "outputs": [],
   "source": [
    "#### Dependencies\n",
    "import numpy as np\n",
    "import pandas as pd\n",
    "import rasterio \n",
    "import xarray as xr\n",
    "import geopandas as gpd\n",
    "import glob\n",
    "import rioxarray as rio\n",
    "from scipy.stats import variation \n",
    "import rasterio.mask"
   ]
  },
  {
   "cell_type": "code",
   "execution_count": 2,
   "metadata": {},
   "outputs": [],
   "source": [
    "#### File Paths & FNs\n",
    "DATA_PATH = '/Users/cascade/Github/PopGridCompare/data/'"
   ]
  },
  {
   "cell_type": "markdown",
   "metadata": {},
   "source": [
    "## Step 2 Coef Var"
   ]
  },
  {
   "cell_type": "code",
   "execution_count": 3,
   "metadata": {},
   "outputs": [],
   "source": [
    "def open_rst(rst_fn):\n",
    "    \"function opens a raster and makes it into a xarray object\"\n",
    "    \n",
    "    rst = xr.DataArray(rasterio.open(rst_fn).read(1), dims = ['y', 'x']) # y and x are our 2-d labels\n",
    "    \n",
    "    return rst"
   ]
  },
  {
   "cell_type": "code",
   "execution_count": 4,
   "metadata": {},
   "outputs": [],
   "source": [
    "def rst_coefvar(rst_fns, fn_out):\n",
    "    \"\"\"\n",
    "    \"\"\"\n",
    "    \n",
    "    arr_list = [] # empty list\n",
    "    \n",
    "    # open and stack arrays\n",
    "    for rst_fn in rst_fns:\n",
    "        \n",
    "      \n",
    "        rst_arr = rasterio.open(rst_fn).read(1)\n",
    "        arr_list.append(rst_arr)\n",
    "    \n",
    "    arr3d = np.dstack([arr_list])\n",
    "        \n",
    "    # mask zeros\n",
    "    arr3d[arr3d == 0] = 'nan'\n",
    "        \n",
    "    # calculate variance across rasters & get data\n",
    "    var = variation(arr3d, axis=0, nan_policy = 'omit')\n",
    "    arr_out = var.data\n",
    "    \n",
    "    # get meta data & write raster \n",
    "    out_meta = rasterio.open(rst_fns[0]).meta\n",
    "    out_meta.update({'dtype' : 'float64'})\n",
    "    \n",
    "    with rasterio.open(fn_out, \"w\", **out_meta) as dest:\n",
    "        dest.write(arr_out, 1)"
   ]
  },
  {
   "cell_type": "code",
   "execution_count": 5,
   "metadata": {
    "scrolled": true
   },
   "outputs": [],
   "source": [
    "# File paths\n",
    "PATH = '/Users/cascade/Github/PopGridCompare/data/interim/'"
   ]
  },
  {
   "cell_type": "code",
   "execution_count": 6,
   "metadata": {},
   "outputs": [
    {
     "name": "stdout",
     "output_type": "stream",
     "text": [
      "/Users/cascade/Github/PopGridCompare/data/interim/LS15_all_Nepal.tif\n",
      "/Users/cascade/Github/PopGridCompare/data/interim/GPWv4_all_Nepal.tif\n",
      "/Users/cascade/Github/PopGridCompare/data/interim/WP16_all_Nepal.tif\n",
      "/Users/cascade/Github/PopGridCompare/data/interim/ESRI16_all_Nepal.tif\n",
      "/Users/cascade/Github/PopGridCompare/data/interim/GHS15_all_Nepal.tif\n"
     ]
    }
   ],
   "source": [
    "# coefvar all tif files\n",
    "rst_fns = glob.glob('/Users/cascade/Github/PopGridCompare/data/interim/*all_Nepal.tif')\n",
    "for rst in rst_fns: print(rst) # check them\n",
    "del rst_fns[3] # drop GPv4\n",
    "rst_fns\n",
    "\n",
    "# Variance Rst\n",
    "fn_out = DATA_PATH+'interim/Nepal_all_coefvar.tif'\n",
    "rst_coefvar(rst_fns, fn_out)"
   ]
  },
  {
   "cell_type": "code",
   "execution_count": 7,
   "metadata": {},
   "outputs": [
    {
     "name": "stdout",
     "output_type": "stream",
     "text": [
      "/Users/cascade/Github/PopGridCompare/data/interim/GHS15_urban_Nepal.tif\n",
      "/Users/cascade/Github/PopGridCompare/data/interim/LS15_urban_Nepal.tif\n",
      "/Users/cascade/Github/PopGridCompare/data/interim/WP16_urban_Nepal.tif\n",
      "/Users/cascade/Github/PopGridCompare/data/interim/GPWv4_urban_Nepal.tif\n",
      "/Users/cascade/Github/PopGridCompare/data/interim/ESRI16_urban_Nepal.tif\n"
     ]
    }
   ],
   "source": [
    "# coefvar urban tif files\n",
    "rst_fns = glob.glob('/Users/cascade/Github/PopGridCompare/data/interim/*urban_Nepal.tif')\n",
    "for rst in rst_fns: print(rst) # check them\n",
    "del rst_fns[3] # drop GPv4\n",
    "rst_fns\n",
    "\n",
    "# Variance Rst\n",
    "fn_out = DATA_PATH+'interim/Nepal_urban_coefvar.tif'\n",
    "rst_coefvar(rst_fns, fn_out)\n"
   ]
  },
  {
   "cell_type": "code",
   "execution_count": 8,
   "metadata": {},
   "outputs": [
    {
     "name": "stdout",
     "output_type": "stream",
     "text": [
      "/Users/cascade/Github/PopGridCompare/data/interim/ESRI16_rural_Nepal.tif\n",
      "/Users/cascade/Github/PopGridCompare/data/interim/GPWv4_rural_Nepal.tif\n",
      "/Users/cascade/Github/PopGridCompare/data/interim/WP16_rural_Nepal.tif\n",
      "/Users/cascade/Github/PopGridCompare/data/interim/LS15_rural_Nepal.tif\n",
      "/Users/cascade/Github/PopGridCompare/data/interim/GHS15_rural_Nepal.tif\n"
     ]
    }
   ],
   "source": [
    "# coefvar rural tif files\n",
    "rst_fns = glob.glob('/Users/cascade/Github/PopGridCompare/data/interim/*rural_Nepal.tif')\n",
    "for rst in rst_fns: print(rst) # check them\n",
    "del rst_fns[1] # drop GPv4\n",
    "rst_fns\n",
    "\n",
    "# Variance Rst\n",
    "fn_out = DATA_PATH+'interim/Nepal_rural_coefvar.tif'\n",
    "rst_coefvar(rst_fns, fn_out)"
   ]
  }
 ],
 "metadata": {
  "kernelspec": {
   "display_name": "Python 3",
   "language": "python",
   "name": "python3"
  },
  "language_info": {
   "codemirror_mode": {
    "name": "ipython",
    "version": 3
   },
   "file_extension": ".py",
   "mimetype": "text/x-python",
   "name": "python",
   "nbconvert_exporter": "python",
   "pygments_lexer": "ipython3",
   "version": "3.8.6"
  }
 },
 "nbformat": 4,
 "nbformat_minor": 2
}
