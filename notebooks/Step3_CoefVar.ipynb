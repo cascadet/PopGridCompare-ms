{
 "cells": [
  {
   "cell_type": "markdown",
   "metadata": {},
   "source": [
    "# VarCoef\n",
    "\n",
    "By Cascade Tuholske, Sep 2020 <br>\n",
    "Notebook to generate coeffiecent of variation of popgrid data. <br>\n",
    "\n",
    "**Always check file order to drop gpwv4**"
   ]
  },
  {
   "cell_type": "code",
   "execution_count": 1,
   "metadata": {},
   "outputs": [],
   "source": [
    "#### Dependencies\n",
    "import numpy as np\n",
    "import pandas as pd\n",
    "import rasterio \n",
    "import xarray as xr\n",
    "import geopandas as gpd\n",
    "import glob\n",
    "import rioxarray as rio\n",
    "from scipy.stats import variation \n",
    "import rasterio.mask\n",
    "import matplotlib.pyplot as plt"
   ]
  },
  {
   "cell_type": "code",
   "execution_count": 2,
   "metadata": {},
   "outputs": [],
   "source": [
    "#### File Paths & FNs\n",
    "DATA_PATH = '/Users/cascade/Github/PopGridCompare/data/'\n",
    "country = ''"
   ]
  },
  {
   "cell_type": "markdown",
   "metadata": {},
   "source": [
    "## Coef Var"
   ]
  },
  {
   "cell_type": "code",
   "execution_count": 3,
   "metadata": {},
   "outputs": [],
   "source": [
    "def open_rst(rst_fn):\n",
    "    \"function opens a raster and makes it into a xarray object\"\n",
    "    \n",
    "    rst = xr.DataArray(rasterio.open(rst_fn).read(1), dims = ['y', 'x']) # y and x are our 2-d labels\n",
    "    \n",
    "    return rst"
   ]
  },
  {
   "cell_type": "code",
   "execution_count": 4,
   "metadata": {},
   "outputs": [],
   "source": [
    "def rst_coefvar(rst_fns, fn_out):\n",
    "    \"\"\" Calc coef of var on stacked arrays and writes it out as a raster, returns the arr\n",
    "    fst_fns = list of rasters \n",
    "    fn_out = file name and path to write out coef var raster\n",
    "    \"\"\"\n",
    "    \n",
    "    arr_list = [] # empty list\n",
    "    \n",
    "    # open and stack arrays\n",
    "    for rst_fn in rst_fns:\n",
    "        \n",
    "      \n",
    "        rst_arr = rasterio.open(rst_fn).read(1)\n",
    "        arr_list.append(rst_arr)\n",
    "    \n",
    "    arr3d = np.dstack([arr_list])\n",
    "        \n",
    "    # mask zeros\n",
    "    arr3d[arr3d == -999] = 'nan'\n",
    "        \n",
    "    # calculate variance across rasters & get data\n",
    "    var = variation(arr3d, axis=0, nan_policy = 'propagate')\n",
    "    arr_out = var.data\n",
    "    \n",
    "    # get meta data & write raster \n",
    "    out_meta = rasterio.open(rst_fns[0]).meta\n",
    "    out_meta.update({'dtype' : 'float64'})\n",
    "    \n",
    "    with rasterio.open(fn_out, \"w\", **out_meta) as dest:\n",
    "        dest.write(arr_out, 1)\n",
    "        \n",
    "    return var"
   ]
  },
  {
   "cell_type": "code",
   "execution_count": 5,
   "metadata": {
    "scrolled": true
   },
   "outputs": [],
   "source": [
    "# File paths\n",
    "PATH = '/Users/cascade/Github/PopGridCompare/data/interim/'"
   ]
  },
  {
   "cell_type": "code",
   "execution_count": 6,
   "metadata": {},
   "outputs": [
    {
     "name": "stdout",
     "output_type": "stream",
     "text": [
      "/Users/cascade/Github/PopGridCompare/data/interim/LS15_all_Nepal.tif\n",
      "/Users/cascade/Github/PopGridCompare/data/interim/GPWv4_all_Nepal.tif\n",
      "/Users/cascade/Github/PopGridCompare/data/interim/WP16_all_Nepal.tif\n",
      "/Users/cascade/Github/PopGridCompare/data/interim/ESRI16_all_Nepal.tif\n",
      "/Users/cascade/Github/PopGridCompare/data/interim/GHS15_all_Nepal.tif\n",
      "\n",
      "\n",
      "/Users/cascade/Github/PopGridCompare/data/interim/LS15_all_Nepal.tif\n",
      "/Users/cascade/Github/PopGridCompare/data/interim/WP16_all_Nepal.tif\n",
      "/Users/cascade/Github/PopGridCompare/data/interim/ESRI16_all_Nepal.tif\n",
      "/Users/cascade/Github/PopGridCompare/data/interim/GHS15_all_Nepal.tif\n"
     ]
    }
   ],
   "source": [
    "# coefvar all tif files\n",
    "rst_fns = glob.glob('/Users/cascade/Github/PopGridCompare/data/interim/*all_Nepal.tif')\n",
    "for rst in rst_fns: print(rst) # check them\n",
    "del rst_fns[1] # drop GPv4\n",
    "print('\\n')\n",
    "for rst in rst_fns: print(rst) # check them\n",
    "\n",
    "# Variance Rst\n",
    "fn_out = DATA_PATH+'interim/Nepal_all_coefvar.tif'\n",
    "varall = rst_coefvar(rst_fns, fn_out)"
   ]
  },
  {
   "cell_type": "code",
   "execution_count": 7,
   "metadata": {},
   "outputs": [
    {
     "name": "stdout",
     "output_type": "stream",
     "text": [
      "/Users/cascade/Github/PopGridCompare/data/interim/GHS15_urban_Nepal.tif\n",
      "/Users/cascade/Github/PopGridCompare/data/interim/LS15_urban_Nepal.tif\n",
      "/Users/cascade/Github/PopGridCompare/data/interim/WP16_urban_Nepal.tif\n",
      "/Users/cascade/Github/PopGridCompare/data/interim/GPWv4_urban_Nepal.tif\n",
      "/Users/cascade/Github/PopGridCompare/data/interim/ESRI16_urban_Nepal.tif\n",
      "\n",
      "\n",
      "/Users/cascade/Github/PopGridCompare/data/interim/GHS15_urban_Nepal.tif\n",
      "/Users/cascade/Github/PopGridCompare/data/interim/WP16_urban_Nepal.tif\n",
      "/Users/cascade/Github/PopGridCompare/data/interim/GPWv4_urban_Nepal.tif\n",
      "/Users/cascade/Github/PopGridCompare/data/interim/ESRI16_urban_Nepal.tif\n"
     ]
    },
    {
     "name": "stderr",
     "output_type": "stream",
     "text": [
      "/Users/cascade/opt/miniconda3/envs/geo38/lib/python3.8/site-packages/scipy/stats/stats.py:1144: RuntimeWarning: invalid value encountered in true_divide\n",
      "  return a.std(axis) / a.mean(axis)\n"
     ]
    }
   ],
   "source": [
    "# coefvar urban tif files\n",
    "rst_fns = glob.glob('/Users/cascade/Github/PopGridCompare/data/interim/*urban_Nepal.tif')\n",
    "for rst in rst_fns: print(rst) # check them\n",
    "del rst_fns[1] # drop GPv4\n",
    "print('\\n')\n",
    "for rst in rst_fns: print(rst) # check them\n",
    "\n",
    "# Variance Rst\n",
    "fn_out = DATA_PATH+'interim/Nepal_urban_coefvar.tif'\n",
    "varurban = rst_coefvar(rst_fns, fn_out)\n"
   ]
  },
  {
   "cell_type": "code",
   "execution_count": 8,
   "metadata": {},
   "outputs": [
    {
     "name": "stdout",
     "output_type": "stream",
     "text": [
      "/Users/cascade/Github/PopGridCompare/data/interim/ESRI16_rural_Nepal.tif\n",
      "/Users/cascade/Github/PopGridCompare/data/interim/GPWv4_rural_Nepal.tif\n",
      "/Users/cascade/Github/PopGridCompare/data/interim/WP16_rural_Nepal.tif\n",
      "/Users/cascade/Github/PopGridCompare/data/interim/LS15_rural_Nepal.tif\n",
      "/Users/cascade/Github/PopGridCompare/data/interim/GHS15_rural_Nepal.tif\n",
      "\n",
      "\n",
      "/Users/cascade/Github/PopGridCompare/data/interim/ESRI16_rural_Nepal.tif\n",
      "/Users/cascade/Github/PopGridCompare/data/interim/WP16_rural_Nepal.tif\n",
      "/Users/cascade/Github/PopGridCompare/data/interim/LS15_rural_Nepal.tif\n",
      "/Users/cascade/Github/PopGridCompare/data/interim/GHS15_rural_Nepal.tif\n"
     ]
    }
   ],
   "source": [
    "# coefvar rural tif files\n",
    "rst_fns = glob.glob('/Users/cascade/Github/PopGridCompare/data/interim/*rural_Nepal.tif')\n",
    "for rst in rst_fns: print(rst) # check them\n",
    "del rst_fns[1] # drop GPv4\n",
    "print('\\n')\n",
    "for rst in rst_fns: print(rst) # check them\n",
    "\n",
    "# Variance Rst\n",
    "fn_out = DATA_PATH+'interim/Nepal_rural_coefvar.tif'\n",
    "varrural = rst_coefvar(rst_fns, fn_out)"
   ]
  },
  {
   "cell_type": "markdown",
   "metadata": {},
   "source": [
    "## Pixel Aggreement"
   ]
  },
  {
   "cell_type": "code",
   "execution_count": 9,
   "metadata": {},
   "outputs": [
    {
     "name": "stdout",
     "output_type": "stream",
     "text": [
      "/Users/cascade/Github/PopGridCompare/data/interim/LS15_all_Nepal.tif\n",
      "/Users/cascade/Github/PopGridCompare/data/interim/GPWv4_all_Nepal.tif\n",
      "/Users/cascade/Github/PopGridCompare/data/interim/WP16_all_Nepal.tif\n",
      "/Users/cascade/Github/PopGridCompare/data/interim/ESRI16_all_Nepal.tif\n",
      "/Users/cascade/Github/PopGridCompare/data/interim/GHS15_all_Nepal.tif\n"
     ]
    },
    {
     "data": {
      "text/plain": [
       "['/Users/cascade/Github/PopGridCompare/data/interim/LS15_all_Nepal.tif',\n",
       " '/Users/cascade/Github/PopGridCompare/data/interim/GPWv4_all_Nepal.tif',\n",
       " '/Users/cascade/Github/PopGridCompare/data/interim/WP16_all_Nepal.tif',\n",
       " '/Users/cascade/Github/PopGridCompare/data/interim/GHS15_all_Nepal.tif']"
      ]
     },
     "execution_count": 9,
     "metadata": {},
     "output_type": "execute_result"
    }
   ],
   "source": [
    "rst_fns = glob.glob('/Users/cascade/Github/PopGridCompare/data/interim/*all_Nepal.tif')\n",
    "for rst in rst_fns: print(rst) # check them\n",
    "del rst_fns[3] # drop GPv4\n",
    "rst_fns"
   ]
  },
  {
   "cell_type": "code",
   "execution_count": 10,
   "metadata": {},
   "outputs": [],
   "source": [
    "# Get all arrays\n",
    "arrs = []\n",
    "\n",
    "for rst in rst_fns:\n",
    "    arr = rasterio.open(rst).read(1)\n",
    "    arrs.append(arr)"
   ]
  },
  {
   "cell_type": "code",
   "execution_count": 11,
   "metadata": {},
   "outputs": [],
   "source": [
    "# find areas of agreement\n",
    "zeros = []\n",
    "for arr in arrs:\n",
    "    zero = arr > -999\n",
    "    zero = zero.astype(int)\n",
    "    zeros.append(zero)\n",
    "\n",
    "agg = sum(zeros)"
   ]
  },
  {
   "cell_type": "code",
   "execution_count": 12,
   "metadata": {},
   "outputs": [],
   "source": [
    "agg32 = agg.astype('int32')"
   ]
  },
  {
   "cell_type": "code",
   "execution_count": 13,
   "metadata": {},
   "outputs": [],
   "source": [
    "# get meta data & write raster \n",
    "out_meta = rasterio.open(rst_fns[0]).meta"
   ]
  },
  {
   "cell_type": "code",
   "execution_count": 14,
   "metadata": {},
   "outputs": [],
   "source": [
    "fn_out = DATA_PATH+'interim/all_Nepal_agg.tif'\n",
    "with rasterio.open(fn_out, \"w\", **out_meta) as dest:\n",
    "    dest.write(agg32, 1)"
   ]
  },
  {
   "cell_type": "markdown",
   "metadata": {},
   "source": [
    "## Distribution of Pixels"
   ]
  },
  {
   "cell_type": "code",
   "execution_count": 84,
   "metadata": {},
   "outputs": [
    {
     "name": "stdout",
     "output_type": "stream",
     "text": [
      "Max value for LS15_all_Nepal.tif 57668\n",
      "Max value for GPWv4_all_Nepal.tif 32592.428\n",
      "Max value for WP16_all_Nepal.tif 48357.727\n",
      "Max value for ESRI16_all_Nepal.tif 45982\n",
      "Max value for GHS15_all_Nepal.tif 117461.80763053894\n"
     ]
    }
   ],
   "source": [
    "# What are the maxium values:\n",
    "rst_fns = glob.glob('/Users/cascade/Github/PopGridCompare/data/interim/*all_Nepal.tif')\n",
    "\n",
    "for rst in rst_fns:\n",
    "    data = (rasterio.open(rst).read(1)).flatten().max()\n",
    "    print('Max value for', rst.split('interim/')[1], data)\n"
   ]
  },
  {
   "cell_type": "code",
   "execution_count": 85,
   "metadata": {},
   "outputs": [
    {
     "name": "stdout",
     "output_type": "stream",
     "text": [
      "Max value for ESRI16_rural_Nepal.tif 25237\n",
      "Max value for GPWv4_rural_Nepal.tif 28114.049\n",
      "Max value for WP16_rural_Nepal.tif 46939.12\n",
      "Max value for LS15_rural_Nepal.tif 44892\n",
      "Max value for GHS15_rural_Nepal.tif 117461.80763053894\n"
     ]
    }
   ],
   "source": [
    "# What are the maxium values:\n",
    "rst_fns = glob.glob('/Users/cascade/Github/PopGridCompare/data/interim/*rural_Nepal.tif')\n",
    "\n",
    "for rst in rst_fns:\n",
    "    data = (rasterio.open(rst).read(1)).flatten().max()\n",
    "    print('Max value for', rst.split('interim/')[1], data)"
   ]
  },
  {
   "cell_type": "code",
   "execution_count": 86,
   "metadata": {},
   "outputs": [
    {
     "name": "stdout",
     "output_type": "stream",
     "text": [
      "Max value for GHS15_urban_Nepal.tif 46471.50518798828\n",
      "Max value for LS15_urban_Nepal.tif 57668\n",
      "Max value for WP16_urban_Nepal.tif 48357.727\n",
      "Max value for GPWv4_urban_Nepal.tif 32592.428\n",
      "Max value for ESRI16_urban_Nepal.tif 45982\n"
     ]
    }
   ],
   "source": [
    "# What are the maxium values:\n",
    "rst_fns = glob.glob('/Users/cascade/Github/PopGridCompare/data/interim/*urban_Nepal.tif')\n",
    "\n",
    "for rst in rst_fns:\n",
    "    data = (rasterio.open(rst).read(1)).flatten().max()\n",
    "    print('Max value for', rst.split('interim/')[1], data)"
   ]
  },
  {
   "cell_type": "code",
   "execution_count": 24,
   "metadata": {},
   "outputs": [],
   "source": [
    "fn_in = DATA_PATH+'interim/Nepal_all_coefvar.tif'\n",
    "arr = rasterio.open(fn_in).read(1)"
   ]
  },
  {
   "cell_type": "code",
   "execution_count": 25,
   "metadata": {},
   "outputs": [],
   "source": [
    "flat = arr.flatten() "
   ]
  },
  {
   "cell_type": "code",
   "execution_count": 26,
   "metadata": {},
   "outputs": [
    {
     "data": {
      "image/png": "[encoded data removed]",
      "text/plain": [
       "<Figure size 432x288 with 1 Axes>"
      ]
     },
     "metadata": {
      "needs_background": "light"
     },
     "output_type": "display_data"
    }
   ],
   "source": [
    "plt.hist(flat, bins = 50);"
   ]
  },
  {
   "cell_type": "code",
   "execution_count": 55,
   "metadata": {},
   "outputs": [],
   "source": [
    "def flat(rst_fn):\n",
    "    \"helper to flatten 2d array for histogramss\"\n",
    "    arr = rasterio.open(rst_fn).read(1)\n",
    "    flat = arr.flatten()\n",
    "    \n",
    "    # revalue na -999\n",
    "    flat = np.where(flat==-999, 0, flat) \n",
    "    \n",
    "    return flat"
   ]
  },
  {
   "cell_type": "code",
   "execution_count": 72,
   "metadata": {},
   "outputs": [
    {
     "data": {
      "text/plain": [
       "['/Users/cascade/Github/PopGridCompare/data/interim/LS15_all_Nepal.tif',\n",
       " '/Users/cascade/Github/PopGridCompare/data/interim/GPWv4_all_Nepal.tif',\n",
       " '/Users/cascade/Github/PopGridCompare/data/interim/WP16_all_Nepal.tif',\n",
       " '/Users/cascade/Github/PopGridCompare/data/interim/ESRI16_all_Nepal.tif',\n",
       " '/Users/cascade/Github/PopGridCompare/data/interim/GHS15_all_Nepal.tif']"
      ]
     },
     "execution_count": 72,
     "metadata": {},
     "output_type": "execute_result"
    }
   ],
   "source": [
    "#  all tif files\n",
    "rst_fns = glob.glob('/Users/cascade/Github/PopGridCompare/data/interim/*all_Nepal.tif')\n",
    "rst_fns"
   ]
  },
  {
   "cell_type": "code",
   "execution_count": 75,
   "metadata": {},
   "outputs": [
    {
     "data": {
      "image/png": "[encoded data removed]",
      "text/plain": [
       "<Figure size 360x1152 with 5 Axes>"
      ]
     },
     "metadata": {
      "needs_background": "light"
     },
     "output_type": "display_data"
    }
   ],
   "source": [
    "#### Make Figure & Save it\n",
    "# coefvar all tif files\n",
    "rst_fns = glob.glob('/Users/cascade/Github/PopGridCompare/data/interim/*all_Nepal.tif')\n",
    "rst_fns\n",
    "\n",
    "#rcParams['mathtext.default'] = 'regular' # set text to reg, not italic \n",
    "\n",
    "fig, axs = plt.subplots(5, 1, figsize = (5, 16), sharex=True)\n",
    "ws = 0.25\n",
    "fig.subplots_adjust(wspace=ws)\n",
    "\n",
    "for i, rst_fn in enumerate(rst_fns):\n",
    "    data = flat(rst_fns[i])\n",
    "    axs[i].hist(data, log = True);"
   ]
  },
  {
   "cell_type": "code",
   "execution_count": 76,
   "metadata": {},
   "outputs": [
    {
     "data": {
      "image/png": "[encoded data removed]",
      "text/plain": [
       "<Figure size 360x1152 with 5 Axes>"
      ]
     },
     "metadata": {
      "needs_background": "light"
     },
     "output_type": "display_data"
    }
   ],
   "source": [
    "#### Make Figure & Save it\n",
    "# coefvar all tif files\n",
    "rst_fns = glob.glob('/Users/cascade/Github/PopGridCompare/data/interim/*rural_Nepal.tif')\n",
    "rst_fns\n",
    "\n",
    "#rcParams['mathtext.default'] = 'regular' # set text to reg, not italic \n",
    "\n",
    "fig, axs = plt.subplots(5, 1, figsize = (5, 16), sharex=True)\n",
    "ws = 0.25\n",
    "fig.subplots_adjust(wspace=ws)\n",
    "\n",
    "for i, rst_fn in enumerate(rst_fns):\n",
    "    data = flat(rst_fns[i])\n",
    "    axs[i].hist(data, log = True);"
   ]
  },
  {
   "cell_type": "code",
   "execution_count": 77,
   "metadata": {},
   "outputs": [],
   "source": [
    "data = flat(rst_fns[4])"
   ]
  },
  {
   "cell_type": "code",
   "execution_count": 78,
   "metadata": {},
   "outputs": [
    {
     "data": {
      "text/plain": [
       "117461.80763053894"
      ]
     },
     "execution_count": 78,
     "metadata": {},
     "output_type": "execute_result"
    }
   ],
   "source": [
    "max(data)"
   ]
  }
 ],
 "metadata": {
  "kernelspec": {
   "display_name": "Python 3",
   "language": "python",
   "name": "python3"
  },
  "language_info": {
   "codemirror_mode": {
    "name": "ipython",
    "version": 3
   },
   "file_extension": ".py",
   "mimetype": "text/x-python",
   "name": "python",
   "nbconvert_exporter": "python",
   "pygments_lexer": "ipython3",
   "version": "3.8.6"
  }
 },
 "nbformat": 4,
 "nbformat_minor": 2
}
