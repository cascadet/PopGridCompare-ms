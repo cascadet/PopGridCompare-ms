{
 "cells": [
  {
   "cell_type": "markdown",
   "metadata": {},
   "source": [
    "# Poly Prep\n",
    "Cascade Tuholske Dec 2020\n"
   ]
  },
  {
   "cell_type": "code",
   "execution_count": 54,
   "metadata": {},
   "outputs": [],
   "source": [
    "import numpy as np\n",
    "import pandas as pd\n",
    "import geopandas as gpd\n",
    "from shapely.geometry import box\n",
    "import matplotlib.pyplot as plt\n",
    "from rasterio import features\n",
    "import rasterio\n",
    "import rasterio.mask\n",
    "import rioxarray as rio\n",
    "from skimage.filters import rank\n",
    "from rasterio.enums import Resampling\n",
    "from whitebox import WhiteboxTools"
   ]
  },
  {
   "cell_type": "code",
   "execution_count": 2,
   "metadata": {},
   "outputs": [],
   "source": [
    "# file paths \n",
    "data_in = '/Users/cascade/Github/PopGridCompare/data/raw/'\n",
    "data_out = '/Users/cascade/Github/PopGridCompare/data/interim/'"
   ]
  },
  {
   "cell_type": "markdown",
   "metadata": {},
   "source": [
    "## Dissolve polygons for Mozambique, Zimbabwe & Malawai "
   ]
  },
  {
   "cell_type": "code",
   "execution_count": null,
   "metadata": {},
   "outputs": [],
   "source": [
    "# polys in\n",
    "zwe = gpd.read_file(data_in+'GDAM/gadm36_ZWE_shp/gadm36_ZWE_0.shp')\n",
    "mwi = gpd.read_file(data_in+'GDAM/gadm36_MWI_shp/gadm36_MWI_0.shp')\n",
    "moz = gpd.read_file(data_in+'GDAM/gadm36_MOZ_shp/gadm36_MOZ_0.shp')"
   ]
  },
  {
   "cell_type": "code",
   "execution_count": null,
   "metadata": {},
   "outputs": [],
   "source": [
    "dfs = [zwe, mwi, moz]\n",
    "polys = gpd.GeoDataFrame(pd.concat(dfs))"
   ]
  },
  {
   "cell_type": "code",
   "execution_count": null,
   "metadata": {},
   "outputs": [],
   "source": [
    "polys.plot()\n",
    "polys.head()"
   ]
  },
  {
   "cell_type": "code",
   "execution_count": null,
   "metadata": {},
   "outputs": [],
   "source": [
    "# Dissolve \n",
    "polys['ID'] = 'M-M-Z'\n",
    "diss = polys.dissolve(by = 'ID')"
   ]
  },
  {
   "cell_type": "code",
   "execution_count": null,
   "metadata": {},
   "outputs": [],
   "source": [
    "diss.plot()"
   ]
  },
  {
   "cell_type": "code",
   "execution_count": null,
   "metadata": {},
   "outputs": [],
   "source": [
    "# write\n",
    "diss.to_file(data_out+'M-M-Z.shp')"
   ]
  },
  {
   "cell_type": "markdown",
   "metadata": {},
   "source": [
    "## Drop Islands for Ecuador"
   ]
  },
  {
   "cell_type": "code",
   "execution_count": null,
   "metadata": {},
   "outputs": [],
   "source": [
    "# polys in\n",
    "ecu = gpd.read_file(data_in+'GDAM/gadm36_ECU_shp/gadm36_ECU_0.shp')\n",
    "flood = gpd.read_file(data_in+'ECU-Floods/Susceptibility/FF_suscept_PCA.shp')\n",
    "fn_out = data_out+'ECU-clip.shp'"
   ]
  },
  {
   "cell_type": "code",
   "execution_count": null,
   "metadata": {},
   "outputs": [],
   "source": [
    "# change crs\n",
    "flood = flood.to_crs(ecu.crs)"
   ]
  },
  {
   "cell_type": "code",
   "execution_count": null,
   "metadata": {},
   "outputs": [],
   "source": [
    "# dissolve floods and get bounding box\n",
    "flood['ID'] = 'ECU'\n",
    "diss = flood.dissolve(by = 'ID')\n",
    "diss.plot()\n",
    "bb = box(*diss.total_bounds)"
   ]
  },
  {
   "cell_type": "code",
   "execution_count": null,
   "metadata": {},
   "outputs": [],
   "source": [
    "# make bb a geodata frame\n",
    "df = pd.DataFrame(['ECU'])\n",
    "df['geometry'] = bb\n",
    "bb_gdf = gpd.GeoDataFrame(df).buffer(1)"
   ]
  },
  {
   "cell_type": "code",
   "execution_count": null,
   "metadata": {
    "scrolled": true
   },
   "outputs": [],
   "source": [
    "# plot them\n",
    "\n",
    "axs = bb_gdf.plot(color = 'green', alpha = 0.7, figsize = (18, 18))\n",
    "ecu.plot(ax = axs, figsize = (8, 8))"
   ]
  },
  {
   "cell_type": "code",
   "execution_count": null,
   "metadata": {},
   "outputs": [],
   "source": [
    "bb_gdf.crs"
   ]
  },
  {
   "cell_type": "code",
   "execution_count": null,
   "metadata": {},
   "outputs": [],
   "source": [
    "# clip to buffer (will throw warning; that's ok)\n",
    "clip = gpd.clip(ecu, bb_gdf)\n",
    "clip.plot()"
   ]
  },
  {
   "cell_type": "code",
   "execution_count": null,
   "metadata": {},
   "outputs": [],
   "source": [
    "clip.to_file(fn_out)"
   ]
  },
  {
   "cell_type": "markdown",
   "metadata": {},
   "source": [
    "## Turn GDAM polygons into raster bianaries"
   ]
  },
  {
   "cell_type": "code",
   "execution_count": null,
   "metadata": {},
   "outputs": [],
   "source": [
    "def poly_to_raster (rst, polys, value, touched, out_fn, fill_value):\n",
    "    \"\"\"Function makes a raster from a list of polygons\n",
    "    \n",
    "    Args:   rst = input raster already read in as a rasterio object to act as a template\n",
    "            polys = input polygons already read in as a gpd dataframe\n",
    "            value = col with value to burn into raster\n",
    "            touched = bool, if True all pixels touched (not centers) are burned into raster\n",
    "            out_fn = out file name \n",
    "            fill_value = value to revalue input raster before burning in polygons \n",
    "    \n",
    "    \"\"\"\n",
    "\n",
    "    meta = rst.meta.copy() # copy meta data from rst\n",
    "    out_arr = rst.read(1) # get an array to burn shapes\n",
    "    out_arr.fill(fill_value) # revalue rst to an Nan Value before burning in polygons\n",
    "    \n",
    "    # extract geom and values to burn\n",
    "    shapes = ((geom,value) for geom, value in zip(polys['geometry'], polys[value])) \n",
    "    \n",
    "    # burn shapes intp an array\n",
    "    burned = features.rasterize(shapes=shapes, fill=0, out=out_arr, transform=rst.transform, all_touched=touched)\n",
    "    \n",
    "    # write our raster to disk\n",
    "    with rasterio.open(out_fn, 'w', **meta) as out:\n",
    "        out.write_band(1, burned)"
   ]
  },
  {
   "cell_type": "code",
   "execution_count": null,
   "metadata": {},
   "outputs": [],
   "source": [
    "def raster_clip(rst_in, polys, rst_out):\n",
    "    \n",
    "    \"\"\" function clips a raster and saves it out\n",
    "    args:\n",
    "        rst_in = raster you want to clip\n",
    "        polys = polys you want to clip to\n",
    "        rst_out = name of clipped raster\n",
    "    \"\"\"\n",
    "    \n",
    "    # clip raster\n",
    "    with rasterio.open(rst_fn) as src:\n",
    "        out_image, out_transform = rasterio.mask.mask(src, polys, crop=True, nodata = 0)\n",
    "        out_meta = src.meta\n",
    "        \n",
    "    # Update meta data\n",
    "    out_meta.update({\"driver\": \"GTiff\",\n",
    "                 \"height\": out_image.shape[1],\n",
    "                 \"width\": out_image.shape[2],\n",
    "                 \"transform\": out_transform})\n",
    "    \n",
    "    # write image \n",
    "    with rasterio.open(fn_out, \"w\", **out_meta) as dest:\n",
    "        dest.write(out_image)"
   ]
  },
  {
   "cell_type": "code",
   "execution_count": null,
   "metadata": {},
   "outputs": [],
   "source": [
    "# polygons to burn\n",
    "# GDAM/gadm36_NPL_shp\n",
    "polys = gpd.read_file(data_in+'GDAM/gadm36_NPL_shp/gadm36_NPL_0.shp')\n",
    "\n",
    "# update columns\n",
    "polys = polys[['geometry']]\n",
    "polys['value'] = 1\n",
    "\n",
    "fn_out = data_out+'Nepal-rst.tif'"
   ]
  },
  {
   "cell_type": "code",
   "execution_count": null,
   "metadata": {},
   "outputs": [],
   "source": [
    "rst = rasterio.open(data_in+'gpw_v4/gpw-v4-population-count-rev11_2015_30_sec_tif/gpw_v4_population_count_rev11_2015_30_sec.tif')\n",
    "value = 'value'\n",
    "touched = False # see rasterio documentation, using un-touched in this analysis \n",
    "fill_value = 0"
   ]
  },
  {
   "cell_type": "code",
   "execution_count": null,
   "metadata": {},
   "outputs": [],
   "source": [
    "poly_to_raster(rst, polys, value, touched, fn_out, fill_value)"
   ]
  },
  {
   "cell_type": "code",
   "execution_count": null,
   "metadata": {},
   "outputs": [],
   "source": [
    "# Now clip the raster\n",
    "rst_fn = fn_out\n",
    "rst_out = fn_out\n",
    "polys = polys['geometry']\n",
    "\n",
    "raster_clip(rst_fn, polys, rst_out)"
   ]
  },
  {
   "cell_type": "markdown",
   "metadata": {},
   "source": [
    "## Idai Flood Raster\n",
    "Data from human data exchange, at 30m resolution values = 1 & 255 <br>\n",
    "Need to resample with a majority filter at 1-km"
   ]
  },
  {
   "cell_type": "code",
   "execution_count": 47,
   "metadata": {},
   "outputs": [],
   "source": [
    "def resample(fn_in, fn_out, scale_factor, method):\n",
    "    \n",
    "    \"\"\" Resamples a raster and save it out\n",
    "    Args:\n",
    "        fn_in = file path and name of tif input as str\n",
    "        fn_out = file path and name of tif output as str \n",
    "        scale_factor = factor to up or down scale a pixel as float\n",
    "        method = method to resample (rasterio object), see rasterio documentation\n",
    "    \"\"\"\n",
    "    \n",
    "    with rasterio.open(fn_in) as dataset:\n",
    "\n",
    "        # resample data to target shape\n",
    "        data = dataset.read(\n",
    "            out_shape=(\n",
    "                dataset.count,\n",
    "                int(dataset.height * scale_factor),\n",
    "                int(dataset.width * scale_factor)\n",
    "            ),\n",
    "            resampling=method\n",
    "        )\n",
    "\n",
    "        # scale image transform\n",
    "        transform = dataset.transform * dataset.transform.scale(\n",
    "            (dataset.width / data.shape[-1]),\n",
    "            (dataset.height / data.shape[-2])\n",
    "        )\n",
    "    \n",
    "    # meta data to write out\n",
    "    out_meta = dataset.meta\n",
    "\n",
    "    # Update meta data\n",
    "    out_meta.update({\"driver\": \"GTiff\",\n",
    "             \"height\": data.shape[1],\n",
    "             \"width\": data.shape[2],\n",
    "             \"transform\": transform})\n",
    "\n",
    "    # write image \n",
    "    with rasterio.open(fn_out, \"w\", **out_meta) as dest:\n",
    "        dest.write(data)"
   ]
  },
  {
   "cell_type": "code",
   "execution_count": 48,
   "metadata": {},
   "outputs": [],
   "source": [
    "# Resample\n",
    "rst_fn = data_in+'Idai/HDX/moz_totalfloodextent/MOZ_TotalFloodExtent12to2.tif'\n",
    "fn_out = data_out+'Idai_flood1km.tif'"
   ]
  },
  {
   "cell_type": "code",
   "execution_count": 49,
   "metadata": {},
   "outputs": [],
   "source": [
    "# resample(fn_in, fn_out, 1/10, Resampling.mode) ... \n",
    "# flood pixels are 90m so 1/10 will make 1-km\n",
    "resample(rst_fn, fn_out, 1/11, Resampling.mode)"
   ]
  },
  {
   "cell_type": "code",
   "execution_count": 78,
   "metadata": {},
   "outputs": [],
   "source": [
    "# Reproject all datasets to GPWv4\n",
    "\n",
    "# files\n",
    "rst_fn = data_out+'Idai_flood1km.tif'\n",
    "mmz_fn = data_out+'M-M-Z-rst.tif'\n",
    "rst_out = data_out+'Idai_flood1km-matched.tif'\n",
    "\n",
    "# open & reproject\n",
    "rst = rio.open_rasterio(rst_fn)\n",
    "mmz = rio.open_rasterio(mmz_fn)\n",
    "match = rst.rio.reproject_match(mmz)\n",
    "\n",
    "# fix fill value\n",
    "match.data = np.where(match.data == 255, 0, match.data)\n",
    "match.data = match.data.astype('int8')\n",
    "match.attrs['_FillValue'] = -99\n",
    "match.rio.to_raster(rst_out)"
   ]
  },
  {
   "cell_type": "code",
   "execution_count": 69,
   "metadata": {},
   "outputs": [
    {
     "name": "stdout",
     "output_type": "stream",
     "text": [
      "{'driver': 'GTiff', 'dtype': 'uint8', 'nodata': 255.0, 'width': 861, 'height': 775, 'count': 1, 'crs': CRS.from_epsg(3857), 'transform': Affine(951.3579262455364, 0.0, 3500648.1262464076,\n",
      "       0.0, -952.2357028390246, -1663877.0266072527)}\n",
      "[0 1]\n"
     ]
    }
   ],
   "source": [
    "# re-set values\n",
    "rst_fn = data_in+'Idai/HDX/moz_totalfloodextent/MOZ_TotalFloodExtent12to2.tif'\n",
    "fn_out = data_out+'Idai_90m_zeros.tif'\n",
    "rst = rasterio.open(rst_fn)\n",
    "arr = rst.read(1)\n",
    "arr_out = np.where(arr == 255, 0, arr)\n",
    "\n",
    "out_metta = rst.meta\n",
    "with rasterio.open(fn_out, \"w\", **out_meta) as dest:\n",
    "    dest.write(arr_out, 1)\n",
    "\n",
    "print(rasterio.open(fn_out).meta)\n",
    "print(np.unique(rasterio.open(fn_out).read(1)))"
   ]
  },
  {
   "cell_type": "code",
   "execution_count": 70,
   "metadata": {},
   "outputs": [
    {
     "name": "stdout",
     "output_type": "stream",
     "text": [
      "./whitebox_tools --run=\"MajorityFilter\" --input='/Users/cascade/Github/PopGridCompare/data/interim/Idai_90m_zeros.tif' --output='/Users/cascade/Github/PopGridCompare/data/interim/Idai_flood-majority.tif' --filterx=11 --filtery=11 -v\n",
      "\n",
      "*****************************\n",
      "* Welcome to MajorityFilter *\n",
      "*****************************\n",
      "Reading data...\n",
      "Progress: 0%\n",
      "Progress: 1%\n",
      "Progress: 2%\n",
      "Progress: 3%\n",
      "Progress: 4%\n",
      "Progress: 5%\n",
      "Progress: 6%\n",
      "Progress: 7%\n",
      "Progress: 8%\n",
      "Progress: 9%\n",
      "Progress: 10%\n",
      "Progress: 11%\n",
      "Progress: 12%\n",
      "Progress: 13%\n",
      "Progress: 14%\n",
      "Progress: 15%\n",
      "Progress: 16%\n",
      "Progress: 17%\n",
      "Progress: 18%\n",
      "Progress: 19%\n",
      "Progress: 20%\n",
      "Progress: 21%\n",
      "Progress: 22%\n",
      "Progress: 23%\n",
      "Progress: 24%\n",
      "Progress: 25%\n",
      "Progress: 26%\n",
      "Progress: 27%\n",
      "Progress: 28%\n",
      "Progress: 29%\n",
      "Progress: 30%\n",
      "Progress: 31%\n",
      "Progress: 32%\n",
      "Progress: 33%\n",
      "Progress: 34%\n",
      "Progress: 35%\n",
      "Progress: 36%\n",
      "Progress: 37%\n",
      "Progress: 38%\n",
      "Progress: 39%\n",
      "Progress: 40%\n",
      "Progress: 41%\n",
      "Progress: 42%\n",
      "Progress: 43%\n",
      "Progress: 44%\n",
      "Progress: 45%\n",
      "Progress: 46%\n",
      "Progress: 47%\n",
      "Progress: 48%\n",
      "Progress: 49%\n",
      "Progress: 50%\n",
      "Progress: 51%\n",
      "Progress: 52%\n",
      "Progress: 53%\n",
      "Progress: 54%\n",
      "Progress: 55%\n",
      "Progress: 56%\n",
      "Progress: 57%\n",
      "Progress: 58%\n",
      "Progress: 59%\n",
      "Progress: 60%\n",
      "Progress: 61%\n",
      "Progress: 62%\n",
      "Progress: 63%\n",
      "Progress: 64%\n",
      "Progress: 65%\n",
      "Progress: 66%\n",
      "Progress: 67%\n",
      "Progress: 68%\n",
      "Progress: 69%\n",
      "Progress: 70%\n",
      "Progress: 71%\n",
      "Progress: 72%\n",
      "Progress: 73%\n",
      "Progress: 74%\n",
      "Progress: 75%\n",
      "Progress: 76%\n",
      "Progress: 77%\n",
      "Progress: 78%\n",
      "Progress: 79%\n",
      "Progress: 80%\n",
      "Progress: 81%\n",
      "Progress: 82%\n",
      "Progress: 83%\n",
      "Progress: 84%\n",
      "Progress: 85%\n",
      "Progress: 86%\n",
      "Progress: 87%\n",
      "Progress: 88%\n",
      "Progress: 89%\n",
      "Progress: 90%\n",
      "Progress: 91%\n",
      "Progress: 92%\n",
      "Progress: 93%\n",
      "Progress: 94%\n",
      "Progress: 95%\n",
      "Progress: 96%\n",
      "Progress: 97%\n",
      "Progress: 98%\n",
      "Progress: 99%\n",
      "Progress: 100%\n",
      "Saving data...\n",
      "Output file written\n",
      "Elapsed Time (excluding I/O): 0.203s\n"
     ]
    },
    {
     "data": {
      "text/plain": [
       "0"
      ]
     },
     "execution_count": 70,
     "metadata": {},
     "output_type": "execute_result"
    }
   ],
   "source": [
    "# Majority filter \n",
    "\n",
    "rst_fn = data_out+'Idai_90m_zeros.tif'\n",
    "fn_out = data_out+'Idai_flood-majority.tif'\n",
    "\n",
    "wbt = WhiteboxTools()\n",
    "wbt.majority_filter(rst_fn, fn_out, filterx=11, filtery=11)"
   ]
  }
 ],
 "metadata": {
  "kernelspec": {
   "display_name": "Python 3",
   "language": "python",
   "name": "python3"
  },
  "language_info": {
   "codemirror_mode": {
    "name": "ipython",
    "version": 3
   },
   "file_extension": ".py",
   "mimetype": "text/x-python",
   "name": "python",
   "nbconvert_exporter": "python",
   "pygments_lexer": "ipython3",
   "version": "3.8.6"
  }
 },
 "nbformat": 4,
 "nbformat_minor": 4
}
