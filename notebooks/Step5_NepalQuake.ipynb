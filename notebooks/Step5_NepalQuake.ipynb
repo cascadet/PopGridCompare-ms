{
 "cells": [
  {
   "cell_type": "markdown",
   "metadata": {},
   "source": [
    "# Quake\n",
    "\n",
    "By Cascade Tuholske, June 2020\n",
    "\n",
    "Notebook finds zonal stats of populations for 2015 Nepal earthquakes by raster. <br><br>\n",
    "**NOTE** CRS should be epsg:4326 for everything!"
   ]
  },
  {
   "cell_type": "code",
   "execution_count": 174,
   "metadata": {},
   "outputs": [],
   "source": [
    "#### Dependencies\n",
    "import numpy as np\n",
    "import pandas as pd\n",
    "import rasterio\n",
    "import geopandas as gpd\n",
    "from rasterstats import zonal_stats, gen_zonal_stats\n",
    "from glob import glob\n",
    "import matplotlib.pyplot as plt\n",
    "import matplotlib.patches as patches\n",
    "Patch = patches.Patch"
   ]
  },
  {
   "cell_type": "code",
   "execution_count": 2,
   "metadata": {},
   "outputs": [],
   "source": [
    "#### Functions\n",
    "def zone_loop(polys_in, rst_list, stats_type, col, split):\n",
    "    \"\"\" Function loops through rasters, calcs zonal_stats and returns stats as a data frame.\n",
    "    Args:\n",
    "        polys_in = polygons\n",
    "        rst_list = list of paths & fns of rasters\n",
    "        stats_type = stats type for each poly gone (see zonal stats)\n",
    "        col = column to merge it all\n",
    "        split = where to split the file name string (e.g. _matched.tif)\n",
    "    \"\"\"\n",
    "    \n",
    "    # copy polys to write out\n",
    "    polys_out = polys_in.copy()\n",
    "    \n",
    "    for rst in rst_list:\n",
    "        \n",
    "        # Get data name\n",
    "        data = rst.split(DATA_PATH+'interim/')[1].split(split)[0]\n",
    "        print('Started', data)\n",
    "        \n",
    "        # Run zonal stats\n",
    "        zs_feats = zonal_stats(polys_in, rst, stats=stats_type, geojson_out=True)\n",
    "        zgdf = gpd.GeoDataFrame.from_features(zs_feats, crs=polys_in.crs)\n",
    "        \n",
    "        # Rename columns and merge\n",
    "        zgdf = zgdf.rename(columns={stats_type: data+'_'+stats_type})\n",
    "        \n",
    "        polys_out = polys_out.merge(zgdf[[col, data+'_'+stats_type]], on = col, how = 'inner')\n",
    "    \n",
    "    return polys_out"
   ]
  },
  {
   "cell_type": "code",
   "execution_count": 3,
   "metadata": {},
   "outputs": [],
   "source": [
    "def poly_prep(polys_fn, col):\n",
    "    \"function opens earth quake polygons for zonal loop\"\n",
    "    \n",
    "    # open\n",
    "    polys = gpd.read_file(polys_fn)\n",
    "    \n",
    "    # subset, be sure to check the admin level\n",
    "    polys = polys[['geometry', col]]\n",
    "    \n",
    "    return polys"
   ]
  },
  {
   "cell_type": "markdown",
   "metadata": {},
   "source": [
    "## Run on Shakemap Intensity Contours (MI) from USGS for Nepal 2015\n",
    "\n"
   ]
  },
  {
   "cell_type": "markdown",
   "metadata": {},
   "source": [
    "#### All"
   ]
  },
  {
   "cell_type": "code",
   "execution_count": 4,
   "metadata": {},
   "outputs": [
    {
     "data": {
      "text/plain": [
       "['/Users/cascade/Github/PopGridCompare/data/interim/ESRI16_all_NPL.tif',\n",
       " '/Users/cascade/Github/PopGridCompare/data/interim/GHS15_all_NPL.tif',\n",
       " '/Users/cascade/Github/PopGridCompare/data/interim/GPWv4_all_NPL.tif',\n",
       " '/Users/cascade/Github/PopGridCompare/data/interim/LS15_all_NPL.tif',\n",
       " '/Users/cascade/Github/PopGridCompare/data/interim/WP16_all_NPL.tif']"
      ]
     },
     "execution_count": 4,
     "metadata": {},
     "output_type": "execute_result"
    }
   ],
   "source": [
    "# Git tif files\n",
    "rst_fns = sorted(glob('/Users/cascade/Github/PopGridCompare/data/interim/*all_NPL.tif'))\n",
    "rst_fns"
   ]
  },
  {
   "cell_type": "code",
   "execution_count": 5,
   "metadata": {},
   "outputs": [],
   "source": [
    "# open polys\n",
    "DATA_PATH = '/Users/cascade/Github/PopGridCompare/data/'\n",
    "nepal_polys_fn = DATA_PATH+'raw/USGS_Data/Nepal/shape/mi.shp'\n",
    "\n",
    "col = 'PARAMVALUE'\n",
    "nepal_polys = poly_prep(nepal_polys_fn, col)"
   ]
  },
  {
   "cell_type": "code",
   "execution_count": 6,
   "metadata": {},
   "outputs": [
    {
     "name": "stdout",
     "output_type": "stream",
     "text": [
      "Started ESRI16\n",
      "Started GHS15\n",
      "Started GPWv4\n",
      "Started LS15\n",
      "Started WP16\n"
     ]
    }
   ],
   "source": [
    "# Run zonal stats loop\n",
    "nepal_polys_sum = zone_loop(nepal_polys, rst_fns, 'sum', col, '_all_NPL.tif')"
   ]
  },
  {
   "cell_type": "code",
   "execution_count": 7,
   "metadata": {},
   "outputs": [],
   "source": [
    "# Save the poly sums\n",
    "nepal_polys_sum.to_file(DATA_PATH+'/processed/nepal_quake_pop.shp')"
   ]
  },
  {
   "cell_type": "markdown",
   "metadata": {},
   "source": [
    "#### Urban"
   ]
  },
  {
   "cell_type": "code",
   "execution_count": null,
   "metadata": {},
   "outputs": [],
   "source": [
    "# Git tif files\n",
    "rst_fns = sorted(glob('/Users/cascade/Github/PopGridCompare/data/interim/*_urban_NPL.tif'))\n",
    "rst_fns"
   ]
  },
  {
   "cell_type": "code",
   "execution_count": null,
   "metadata": {},
   "outputs": [],
   "source": [
    "# open polys\n",
    "DATA_PATH = '/Users/cascade/Github/PopGridCompare/data/'\n",
    "nepal_polys_fn = DATA_PATH+'raw/USGS_Data/Nepal/shape/mi.shp'\n",
    "\n",
    "col = 'PARAMVALUE'\n",
    "nepal_polys = poly_prep(nepal_polys_fn, col)\n"
   ]
  },
  {
   "cell_type": "code",
   "execution_count": null,
   "metadata": {
    "scrolled": false
   },
   "outputs": [],
   "source": [
    "# Run zonal stats loop\n",
    "nepal_polys_sum = zone_loop(nepal_polys, rst_fns, 'sum', col, '_urban_NPL.tif')\n"
   ]
  },
  {
   "cell_type": "code",
   "execution_count": null,
   "metadata": {},
   "outputs": [],
   "source": [
    "#### Save the poly sums\n",
    "nepal_polys_sum.to_file(DATA_PATH+'/processed/nepal_urban_quake_pop.shp')"
   ]
  },
  {
   "cell_type": "markdown",
   "metadata": {},
   "source": [
    "nepal_polys_sum"
   ]
  },
  {
   "cell_type": "markdown",
   "metadata": {},
   "source": [
    "#### Rural"
   ]
  },
  {
   "cell_type": "code",
   "execution_count": null,
   "metadata": {},
   "outputs": [],
   "source": [
    "# Git tif files\n",
    "rst_fns = glob('/Users/cascade/Github/PopGridCompare/data/interim/*_rural_NPL.tif')\n",
    "rst_fns"
   ]
  },
  {
   "cell_type": "code",
   "execution_count": null,
   "metadata": {},
   "outputs": [],
   "source": [
    "# open polys\n",
    "DATA_PATH = '/Users/cascade/Github/PopGridCompare/data/'\n",
    "nepal_polys_fn = DATA_PATH+'raw/USGS_Data/Nepal/shape/mi.shp'\n",
    "\n",
    "col = 'PARAMVALUE'\n",
    "nepal_polys = poly_prep(nepal_polys_fn, col)\n"
   ]
  },
  {
   "cell_type": "code",
   "execution_count": null,
   "metadata": {
    "scrolled": true
   },
   "outputs": [],
   "source": [
    "# Run zonal stats loop\n",
    "nepal_polys_sum = zone_loop(nepal_polys, rst_fns, 'sum', col, '_rural_NPL.tif')\n"
   ]
  },
  {
   "cell_type": "code",
   "execution_count": null,
   "metadata": {},
   "outputs": [],
   "source": [
    "#### Save the poly sums\n",
    "nepal_polys_sum.to_file(DATA_PATH+'/processed/nepal_rural_quake_pop.shp')"
   ]
  },
  {
   "cell_type": "markdown",
   "metadata": {},
   "source": [
    "# Plots"
   ]
  },
  {
   "cell_type": "code",
   "execution_count": 176,
   "metadata": {},
   "outputs": [],
   "source": [
    "#### set colors\n",
    "ESRI16_c = 'blue'\n",
    "GHS15_c = 'indigo'\n",
    "GPWv4_c = 'deeppink'\n",
    "LS15_c = 'deepskyblue'\n",
    "WP16_c = 'forestgreen'"
   ]
  },
  {
   "cell_type": "code",
   "execution_count": 13,
   "metadata": {},
   "outputs": [],
   "source": [
    "npl_all_fn = DATA_PATH+'processed/nepal_quake_pop.shp'\n",
    "npl_all = gpd.read_file(npl_all_fn)"
   ]
  },
  {
   "cell_type": "code",
   "execution_count": 166,
   "metadata": {},
   "outputs": [],
   "source": [
    "npl_rural_fn = DATA_PATH+'processed/nepal_rural_quake_pop.shp'\n",
    "npl_rural = gpd.read_file(npl_rural_fn)"
   ]
  },
  {
   "cell_type": "code",
   "execution_count": 153,
   "metadata": {},
   "outputs": [],
   "source": [
    "# Make data\n",
    "def group(df):\n",
    "    \n",
    "    \" Group and sum population by MI ranges, args is df quake pop\"\n",
    "    \n",
    "    iv = df[(df['PARAMVALUE'] >= 4) & (df['PARAMVALUE'] < 5)].sum()[1:].reset_index()\n",
    "    v = df[(df['PARAMVALUE'] >= 5) & (df['PARAMVALUE'] < 6)].sum()[1:]\n",
    "    vi = df[(df['PARAMVALUE'] >= 6) & (df['PARAMVALUE'] < 7)].sum()[1:]\n",
    "    vii = df[(df['PARAMVALUE'] >= 7)].sum()[1:]\n",
    "    \n",
    "    iv.rename(columns = {0: 'IV', 'index' : 'data'}, inplace = True)\n",
    "    iv['V'] = v.values\n",
    "    iv['VI'] = vi.values\n",
    "    iv['VII'] = vii.values\n",
    "    \n",
    "    df_out = iv.transpose()\n",
    "    df_out.drop('data', axis = 0, inplace = True)\n",
    "    df_out.reset_index(inplace = True)\n",
    "    df_out.columns = ['MI','ESRI16_sum','GHS15_sum','GPWv4_sum','LS15_sum','WP16_sum']\n",
    "    \n",
    "    return  df_out"
   ]
  },
  {
   "cell_type": "code",
   "execution_count": 184,
   "metadata": {},
   "outputs": [
    {
     "data": {
      "image/png": "[encoded data removed]",
      "text/plain": [
       "<Figure size 864x576 with 1 Axes>"
      ]
     },
     "metadata": {
      "needs_background": "light"
     },
     "output_type": "display_data"
    }
   ],
   "source": [
    "# Make bar plot \n",
    "fig, axs = plt.subplots(1, 1, figsize = (12, 8), sharex=True)\n",
    "ws = 0.25\n",
    "fig.subplots_adjust(wspace=ws)\n",
    "scale = 10**6\n",
    "\n",
    "# All Quake\n",
    "data = group(npl_all)\n",
    "\n",
    "# Bar locations\n",
    "a = [1-.3,2-.3,3-.3, 4-.3]\n",
    "b = [1-.15,2-.15,3-.15,4-.15]\n",
    "c = [1,2,3,4]\n",
    "d = [1+.15,2+.15,3+.15,4+.15]\n",
    "e = [1+.3,2+.3,3+.3,4+.3]\n",
    "\n",
    "# plots\n",
    "plt.bar(a, data.ESRI16_sum / scale, width=0.12, align='center', alpha  = 0.5, color = ESRI16_c, ec = 'black')\n",
    "plt.bar(b, data.GHS15_sum / scale, width=0.12, align='center', alpha  = 0.6, color = GHS15_c, ec = 'black')\n",
    "plt.bar(c, data.GPWv4_sum / scale, width=0.12, align='center', alpha  = 0.7, color = GPWv4_c, ec = 'black')\n",
    "plt.bar(d, data.LS15_sum / scale, width=0.12, align='center', alpha  = 0.8, color = LS15_c, ec = 'black')\n",
    "plt.bar(e, data.WP16_sum / scale, width=0.12, align='center', alpha  = 0.9, color = WP16_c, ec = 'black')\n",
    "\n",
    "# Fake plot for rural hatch legend \n",
    "plt.bar(e, data.WP16_sum / scale, width=0.12, align='center', alpha  = 0, color = 'white', ec = 'black',hatch = \"///\")\n",
    "\n",
    "# rural floods\n",
    "data = group(npl_rural)\n",
    "plt.bar(a, data.ESRI16_sum / scale, width=0.12, align='center', alpha  = 0.5, color = ESRI16_c, ec = 'black', hatch = \"///\")\n",
    "plt.bar(b, data.GHS15_sum / scale, width=0.12, align='center', alpha  = 0.6, color = GHS15_c, ec = 'black', hatch = \"///\")\n",
    "plt.bar(c, data.GPWv4_sum / scale, width=0.12, align='center', alpha  = 0.7, color = GPWv4_c, ec = 'black', hatch = \"///\")\n",
    "plt.bar(d, data.LS15_sum / scale, width=0.12, align='center', alpha  = 0.8, color = LS15_c, ec = 'black', hatch = \"///\")\n",
    "plt.bar(e, data.WP16_sum / scale, width=0.12, align='center', alpha  = 0.9, color = WP16_c, ec = 'black', hatch = \"///\")\n",
    "\n",
    "# legend\n",
    "legend_elements = [Patch(facecolor=ESRI16_c, alpha = 0.5, edgecolor=None, label='WPE-15'),\n",
    "                  Patch(facecolor=GHS15_c, alpha = 0.6, edgecolor=None, label='GHSL-15'),\n",
    "                  Patch(facecolor=GPWv4_c, alpha = 0.7, edgecolor=None, label='GWPv4-15'),\n",
    "                  Patch(facecolor=LS15_c, alpha = 0.8, edgecolor=None, label='LS-15'),\n",
    "                  Patch(facecolor= WP16_c, alpha = 0.9, edgecolor=None, label='WP-16'),\n",
    "                  Patch(facecolor= 'white', alpha = 0.9,  hatch = '///', edgecolor='black', label='rural pop')]\n",
    "plt.legend(handles = legend_elements, bbox_to_anchor=(1, 1.02), loc='upper left', ncol=1, fontsize = 15);\n",
    "\n",
    "# Labels / Titles\n",
    "axs.set_title('Nepal 2015 Earthquake Impact', size = 20)\n",
    "axs.set_xlabel('Intesnity', fontsize = 15)\n",
    "axs.set_ylabel('Total Population [millions]', fontsize = 15)\n",
    "\n",
    "# Ticks\n",
    "ticks_bar = ['IV', 'V', 'VI', 'V'];\n",
    "plt.xticks([1,2,3,4], ticks_bar, fontsize = 15);\n",
    "plt.yticks(fontsize = 15);\n",
    "\n",
    "# save it out\n",
    "fig_out = '/Users/cascade/Github/PopGridCompare/data/FIGS/MS/Finalv1/Fig4.png'\n",
    "plt.savefig(fig_out, dpi = 300, facecolor = 'white', bbox_inches='tight')"
   ]
  },
  {
   "cell_type": "markdown",
   "metadata": {},
   "source": [
    "#### Old all"
   ]
  },
  {
   "cell_type": "markdown",
   "metadata": {},
   "source": [
    "## Analysis"
   ]
  },
  {
   "cell_type": "code",
   "execution_count": null,
   "metadata": {
    "scrolled": true
   },
   "outputs": [],
   "source": [
    "# All\n",
    "fn_in = DATA_PATH+'/processed/nepal_quake_pop.shp'\n",
    "all_pop = gpd.read_file(fn_in)\n",
    "df_all.head(1)"
   ]
  },
  {
   "cell_type": "code",
   "execution_count": null,
   "metadata": {},
   "outputs": [],
   "source": [
    "all_pop [all_pop ['PARAMVALUE'] == 7.4].iloc[:,1:-1] / 10**6"
   ]
  },
  {
   "cell_type": "code",
   "execution_count": null,
   "metadata": {},
   "outputs": [],
   "source": [
    "print('dif between max and min all nepal', 2.82526 - 2.33003)"
   ]
  },
  {
   "cell_type": "code",
   "execution_count": null,
   "metadata": {},
   "outputs": [],
   "source": [
    "all_pop [all_pop ['PARAMVALUE'] > 6.8].iloc[:,1:-1]"
   ]
  },
  {
   "cell_type": "code",
   "execution_count": null,
   "metadata": {},
   "outputs": [],
   "source": [
    "# All\n",
    "all_pop = gpd.read_file(DATA_PATH+'/processed/nepal_quake_pop.shp')\n",
    "all_pop['max'] = all_pop.iloc[:,1:5].values.max(1)\n",
    "all_pop['min'] = all_pop.iloc[:,1:5].values.min(1)\n",
    "all_pop['dif'] = all_pop['max'] - all_pop['min']"
   ]
  },
  {
   "cell_type": "code",
   "execution_count": null,
   "metadata": {},
   "outputs": [],
   "source": [
    "# Urban \n",
    "urban_pop = gpd.read_file(DATA_PATH+'/processed/nepal_urban_quake_pop.shp')\n",
    "urban_pop['max'] = urban_pop.iloc[:,1:5].values.max(1)\n",
    "urban_pop['min'] = urban_pop.iloc[:,1:5].values.min(1)\n",
    "urban_pop['dif'] = urban_pop['max'] - urban_pop['min']"
   ]
  },
  {
   "cell_type": "code",
   "execution_count": null,
   "metadata": {},
   "outputs": [],
   "source": [
    "urban_pop[urban_pop['PARAMVALUE'] >= 7.2].iloc[:,:6] "
   ]
  },
  {
   "cell_type": "code",
   "execution_count": null,
   "metadata": {},
   "outputs": [],
   "source": [
    "# rural \n",
    "rural_pop = gpd.read_file(DATA_PATH+'/processed/nepal_rural_quake_pop.shp')\n",
    "rural_pop['max'] = rural_pop.iloc[:,1:5].values.max(1)\n",
    "rural_pop['min'] = rural_pop.iloc[:,1:5].values.min(1)\n",
    "rural_pop['dif'] = rural_pop['max'] - rural_pop['min']"
   ]
  },
  {
   "cell_type": "code",
   "execution_count": null,
   "metadata": {},
   "outputs": [],
   "source": [
    "rural_pop[rural_pop['PARAMVALUE'] == 7]"
   ]
  },
  {
   "cell_type": "code",
   "execution_count": null,
   "metadata": {},
   "outputs": [],
   "source": [
    "#### plot it Nepal\n",
    "data = nepal_polys_sum[nepal_polys_sum['PARAMVALUE'] > 6]\n",
    "title = '2015 Nepal Earth Quake > 6 Intensity'\n",
    "scale = 10**6\n",
    "\n",
    "fig, axs = plt.subplots(1, 1, figsize = (8, 8), sharex=True)\n",
    "ws = 0.25\n",
    "fig.subplots_adjust(wspace=ws)\n",
    "\n",
    "axs.scatter(data['PARAMVALUE'], data['ESRI16_sum'] / scale, color = ESRI16_c, alpha = 0.5, s = 70)\n",
    "axs.scatter(data['PARAMVALUE'], data['GHS15_sum'] / scale, color = GHS15_c, alpha = 0.5, s = 70)\n",
    "axs.scatter(data['PARAMVALUE'], data['GPWv4_sum'] / scale, color = GWPv4_c,  alpha = 0.5, s = 70)\n",
    "axs.scatter(data['PARAMVALUE'], data['LS15_sum'] / scale, color = LS15_c, alpha = 0.5, s = 70)\n",
    "axs.scatter(data['PARAMVALUE'], data['WP16_sum'] / scale, color = WP16_c, alpha = 0.5, s = 70)\n",
    "\n",
    "axs.set_title(title, size = 20 )\n",
    "axs.set_xlabel('Quake Intensity', fontsize = 20)\n",
    "axs.set_ylabel('Population [millions]', fontsize = 20)\n",
    "#plt.ylim([100,10000000])\n",
    "\n",
    "plt.yscale('linear')\n",
    "axs.ticklabel_format(useOffset=False, style = 'plain')\n",
    "\n",
    "labels = ['WPE-16', 'GHSL-15', 'GPWv4-15', 'LS-15', 'WP-16']\n",
    "plt.legend(labels)\n",
    "\n",
    "# save it out\n",
    "fig_out = '/Users/cascade/Github/PopGridCompare/data/FIGS/MS/Finalv1/Nepal2015_all.png'\n",
    "plt.savefig(fig_out, dpi = 300, facecolor = 'white', bbox_inches='tight')"
   ]
  },
  {
   "cell_type": "markdown",
   "metadata": {},
   "source": [
    "#### Urban"
   ]
  },
  {
   "cell_type": "code",
   "execution_count": null,
   "metadata": {},
   "outputs": [],
   "source": [
    "#### plot it Nepal\n",
    "data = nepal_polys_sum[nepal_polys_sum['PARAMVALUE'] > 6]\n",
    "title = 'Urban 2015 Nepal Earth Quake > 6 Intensity'\n",
    "scale = 10**6\n",
    "\n",
    "fig, axs = plt.subplots(1, 1, figsize = (8, 8), sharex=True)\n",
    "ws = 0.25\n",
    "fig.subplots_adjust(wspace=ws)\n",
    "\n",
    "axs.scatter(data['PARAMVALUE'], data['ESRI16_sum'] / scale, color = ESRI16_c, alpha = 0.5, s = 70)\n",
    "axs.scatter(data['PARAMVALUE'], data['GHS15_sum'] / scale, color = GHS15_c, alpha = 0.5, s = 70)\n",
    "axs.scatter(data['PARAMVALUE'], data['GPWv4_sum'] / scale, color = GWPv4_c,  alpha = 0.5, s = 70)\n",
    "axs.scatter(data['PARAMVALUE'], data['LS15_sum'] / scale, color = LS15_c, alpha = 0.5, s = 70)\n",
    "axs.scatter(data['PARAMVALUE'], data['WP16_sum'] / scale, color = WP16_c, alpha = 0.5, s = 70)\n",
    "\n",
    "axs.set_title(title, size = 20 )\n",
    "axs.set_xlabel('Quake Intensity', fontsize = 20)\n",
    "axs.set_ylabel('Population [millions]', fontsize = 20)\n",
    "#plt.ylim([100,10000000])\n",
    "\n",
    "plt.yscale('linear')\n",
    "axs.ticklabel_format(useOffset=False, style = 'plain')\n",
    "\n",
    "labels = ['WPE-16', 'GHSL-15', 'GPWv4-15', 'LS-15', 'WP-16']\n",
    "plt.legend(labels)\n",
    "\n",
    "# save it out\n",
    "fig_out = '/Users/cascade/Github/PopGridCompare/data/FIGS/MS/Finalv1/Nepal2015_urban.png'\n",
    "plt.savefig(fig_out, dpi = 300, facecolor = 'white', bbox_inches='tight')"
   ]
  },
  {
   "cell_type": "markdown",
   "metadata": {},
   "source": [
    "#### Rural"
   ]
  },
  {
   "cell_type": "code",
   "execution_count": 8,
   "metadata": {},
   "outputs": [
    {
     "ename": "NameError",
     "evalue": "name 'ESRI16_c' is not defined",
     "output_type": "error",
     "traceback": [
      "\u001b[0;31m---------------------------------------------------------------------------\u001b[0m",
      "\u001b[0;31mNameError\u001b[0m                                 Traceback (most recent call last)",
      "\u001b[0;32m<ipython-input-8-c2cc38e97ef5>\u001b[0m in \u001b[0;36m<module>\u001b[0;34m\u001b[0m\n\u001b[1;32m      8\u001b[0m \u001b[0mfig\u001b[0m\u001b[0;34m.\u001b[0m\u001b[0msubplots_adjust\u001b[0m\u001b[0;34m(\u001b[0m\u001b[0mwspace\u001b[0m\u001b[0;34m=\u001b[0m\u001b[0mws\u001b[0m\u001b[0;34m)\u001b[0m\u001b[0;34m\u001b[0m\u001b[0;34m\u001b[0m\u001b[0m\n\u001b[1;32m      9\u001b[0m \u001b[0;34m\u001b[0m\u001b[0m\n\u001b[0;32m---> 10\u001b[0;31m \u001b[0maxs\u001b[0m\u001b[0;34m.\u001b[0m\u001b[0mscatter\u001b[0m\u001b[0;34m(\u001b[0m\u001b[0mdata\u001b[0m\u001b[0;34m[\u001b[0m\u001b[0;34m'PARAMVALUE'\u001b[0m\u001b[0;34m]\u001b[0m\u001b[0;34m,\u001b[0m \u001b[0mdata\u001b[0m\u001b[0;34m[\u001b[0m\u001b[0;34m'ESRI16_sum'\u001b[0m\u001b[0;34m]\u001b[0m \u001b[0;34m/\u001b[0m \u001b[0mscale\u001b[0m\u001b[0;34m,\u001b[0m \u001b[0mcolor\u001b[0m \u001b[0;34m=\u001b[0m \u001b[0mESRI16_c\u001b[0m\u001b[0;34m,\u001b[0m \u001b[0malpha\u001b[0m \u001b[0;34m=\u001b[0m \u001b[0;36m0.5\u001b[0m\u001b[0;34m,\u001b[0m \u001b[0ms\u001b[0m \u001b[0;34m=\u001b[0m \u001b[0;36m70\u001b[0m\u001b[0;34m)\u001b[0m\u001b[0;34m\u001b[0m\u001b[0;34m\u001b[0m\u001b[0m\n\u001b[0m\u001b[1;32m     11\u001b[0m \u001b[0maxs\u001b[0m\u001b[0;34m.\u001b[0m\u001b[0mscatter\u001b[0m\u001b[0;34m(\u001b[0m\u001b[0mdata\u001b[0m\u001b[0;34m[\u001b[0m\u001b[0;34m'PARAMVALUE'\u001b[0m\u001b[0;34m]\u001b[0m\u001b[0;34m,\u001b[0m \u001b[0mdata\u001b[0m\u001b[0;34m[\u001b[0m\u001b[0;34m'GHS15_sum'\u001b[0m\u001b[0;34m]\u001b[0m \u001b[0;34m/\u001b[0m \u001b[0mscale\u001b[0m\u001b[0;34m,\u001b[0m \u001b[0mcolor\u001b[0m \u001b[0;34m=\u001b[0m \u001b[0mGHS15_c\u001b[0m\u001b[0;34m,\u001b[0m \u001b[0malpha\u001b[0m \u001b[0;34m=\u001b[0m \u001b[0;36m0.5\u001b[0m\u001b[0;34m,\u001b[0m \u001b[0ms\u001b[0m \u001b[0;34m=\u001b[0m \u001b[0;36m70\u001b[0m\u001b[0;34m)\u001b[0m\u001b[0;34m\u001b[0m\u001b[0;34m\u001b[0m\u001b[0m\n\u001b[1;32m     12\u001b[0m \u001b[0maxs\u001b[0m\u001b[0;34m.\u001b[0m\u001b[0mscatter\u001b[0m\u001b[0;34m(\u001b[0m\u001b[0mdata\u001b[0m\u001b[0;34m[\u001b[0m\u001b[0;34m'PARAMVALUE'\u001b[0m\u001b[0;34m]\u001b[0m\u001b[0;34m,\u001b[0m \u001b[0mdata\u001b[0m\u001b[0;34m[\u001b[0m\u001b[0;34m'GPWv4_sum'\u001b[0m\u001b[0;34m]\u001b[0m \u001b[0;34m/\u001b[0m \u001b[0mscale\u001b[0m\u001b[0;34m,\u001b[0m \u001b[0mcolor\u001b[0m \u001b[0;34m=\u001b[0m \u001b[0mGWPv4_c\u001b[0m\u001b[0;34m,\u001b[0m  \u001b[0malpha\u001b[0m \u001b[0;34m=\u001b[0m \u001b[0;36m0.5\u001b[0m\u001b[0;34m,\u001b[0m \u001b[0ms\u001b[0m \u001b[0;34m=\u001b[0m \u001b[0;36m70\u001b[0m\u001b[0;34m)\u001b[0m\u001b[0;34m\u001b[0m\u001b[0;34m\u001b[0m\u001b[0m\n",
      "\u001b[0;31mNameError\u001b[0m: name 'ESRI16_c' is not defined"
     ]
    },
    {
     "data": {
      "image/png": "[encoded data removed]",
      "text/plain": [
       "<Figure size 576x576 with 1 Axes>"
      ]
     },
     "metadata": {
      "needs_background": "light"
     },
     "output_type": "display_data"
    }
   ],
   "source": [
    "#### plot it Nepal\n",
    "data = nepal_polys_sum[nepal_polys_sum['PARAMVALUE'] > 6]\n",
    "title = 'Rural 2015 Nepal Earth Quake > 6 Intensity'\n",
    "scale = 10**6\n",
    "\n",
    "fig, axs = plt.subplots(1, 1, figsize = (8, 8), sharex=True)\n",
    "ws = 0.25\n",
    "fig.subplots_adjust(wspace=ws)\n",
    "\n",
    "axs.scatter(data['PARAMVALUE'], data['ESRI16_sum'] / scale, color = ESRI16_c, alpha = 0.5, s = 70)\n",
    "axs.scatter(data['PARAMVALUE'], data['GHS15_sum'] / scale, color = GHS15_c, alpha = 0.5, s = 70)\n",
    "axs.scatter(data['PARAMVALUE'], data['GPWv4_sum'] / scale, color = GWPv4_c,  alpha = 0.5, s = 70)\n",
    "axs.scatter(data['PARAMVALUE'], data['LS15_sum'] / scale, color = LS15_c, alpha = 0.5, s = 70)\n",
    "axs.scatter(data['PARAMVALUE'], data['WP16_sum'] / scale, color = WP16_c, alpha = 0.5, s = 70)\n",
    "\n",
    "axs.set_title(title, size = 20 )\n",
    "axs.set_xlabel('Quake Intensity', fontsize = 20)\n",
    "axs.set_ylabel('Population [millions]', fontsize = 20)\n",
    "#plt.ylim([100,10000000])\n",
    "\n",
    "plt.yscale('linear')\n",
    "axs.ticklabel_format(useOffset=False, style = 'plain')\n",
    "\n",
    "labels = ['WPE-16', 'GHSL-15', 'GPWv4-15', 'LS-15', 'WP-16']\n",
    "plt.legend(labels)\n",
    "\n",
    "# save it out\n",
    "fig_out = '/Users/cascade/Github/PopGridCompare/data/FIGS/MS/Finalv1/Nepal2015_rural.png'\n",
    "plt.savefig(fig_out, dpi = 300, facecolor = 'white', bbox_inches='tight')"
   ]
  }
 ],
 "metadata": {
  "kernelspec": {
   "display_name": "Python 3",
   "language": "python",
   "name": "python3"
  },
  "language_info": {
   "codemirror_mode": {
    "name": "ipython",
    "version": 3
   },
   "file_extension": ".py",
   "mimetype": "text/x-python",
   "name": "python",
   "nbconvert_exporter": "python",
   "pygments_lexer": "ipython3",
   "version": "3.8.6"
  }
 },
 "nbformat": 4,
 "nbformat_minor": 2
}
