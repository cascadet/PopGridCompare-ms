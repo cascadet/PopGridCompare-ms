{
 "cells": [
  {
   "cell_type": "markdown",
   "metadata": {},
   "source": [
    "# Pixel-level\n",
    "\n",
    "By Cascade Tuholske, Sep 2020 <br>\n",
    "Notebook to generate pixel agreement, coeffiecent of variation of popgrid data, and distributions of pixels. <br>\n",
    "\n",
    "**Always check file order to drop gpwv4**"
   ]
  },
  {
   "cell_type": "code",
   "execution_count": 1,
   "metadata": {},
   "outputs": [],
   "source": [
    "#### Dependencies\n",
    "import numpy as np\n",
    "import pandas as pd\n",
    "import rasterio \n",
    "import xarray as xr\n",
    "import geopandas as gpd\n",
    "import glob\n",
    "import rioxarray as rio\n",
    "from scipy.stats import variation \n",
    "import rasterio.mask\n",
    "import matplotlib.pyplot as plt"
   ]
  },
  {
   "cell_type": "markdown",
   "metadata": {},
   "source": [
    "## Pixel Aggreement"
   ]
  },
  {
   "cell_type": "code",
   "execution_count": 2,
   "metadata": {},
   "outputs": [],
   "source": [
    "#### File Paths & FNs\n",
    "DATA_PATH = '/Users/cascade/Github/PopGridCompare/data/'\n",
    "country = '_M-M-Z.tif'"
   ]
  },
  {
   "cell_type": "code",
   "execution_count": 3,
   "metadata": {},
   "outputs": [
    {
     "name": "stdout",
     "output_type": "stream",
     "text": [
      "/Users/cascade/Github/PopGridCompare/data/interim/GHS15_all_M-M-Z.tif\n",
      "/Users/cascade/Github/PopGridCompare/data/interim/ESRI16_all_M-M-Z.tif\n",
      "/Users/cascade/Github/PopGridCompare/data/interim/WP16_all_M-M-Z.tif\n",
      "/Users/cascade/Github/PopGridCompare/data/interim/LS15_all_M-M-Z.tif\n",
      "/Users/cascade/Github/PopGridCompare/data/interim/GPWv4_all_M-M-Z.tif\n"
     ]
    },
    {
     "data": {
      "text/plain": [
       "['/Users/cascade/Github/PopGridCompare/data/interim/GHS15_all_M-M-Z.tif',\n",
       " '/Users/cascade/Github/PopGridCompare/data/interim/ESRI16_all_M-M-Z.tif',\n",
       " '/Users/cascade/Github/PopGridCompare/data/interim/WP16_all_M-M-Z.tif',\n",
       " '/Users/cascade/Github/PopGridCompare/data/interim/LS15_all_M-M-Z.tif',\n",
       " '/Users/cascade/Github/PopGridCompare/data/interim/GPWv4_all_M-M-Z.tif']"
      ]
     },
     "execution_count": 3,
     "metadata": {},
     "output_type": "execute_result"
    }
   ],
   "source": [
    "# 2021.01.20 - keeping GPWv4\n",
    "rst_fns = glob.glob('/Users/cascade/Github/PopGridCompare/data/interim/*all'+country)\n",
    "for rst in rst_fns: print(rst) # check them\n",
    "# del rst_fns[0] # drop GPv4\n",
    "rst_fns"
   ]
  },
  {
   "cell_type": "code",
   "execution_count": null,
   "metadata": {},
   "outputs": [],
   "source": [
    "# Get all arrays\n",
    "arrs = []\n",
    "\n",
    "for rst in rst_fns:\n",
    "    arr = rasterio.open(rst).read(1)\n",
    "    arrs.append(arr)"
   ]
  },
  {
   "cell_type": "code",
   "execution_count": null,
   "metadata": {},
   "outputs": [],
   "source": [
    "# find areas of agreement\n",
    "zeros = []\n",
    "for arr in arrs:\n",
    "    zero = arr > -999\n",
    "    zero = zero.astype(int)\n",
    "    zeros.append(zero)\n",
    "\n",
    "agg = sum(zeros)"
   ]
  },
  {
   "cell_type": "code",
   "execution_count": null,
   "metadata": {},
   "outputs": [],
   "source": [
    "agg32 = agg.astype('int32')"
   ]
  },
  {
   "cell_type": "code",
   "execution_count": null,
   "metadata": {},
   "outputs": [],
   "source": [
    "# get meta data & write raster \n",
    "out_meta = rasterio.open(rst_fns[0]).meta\n",
    "out_meta['dtype'] = 'int32'"
   ]
  },
  {
   "cell_type": "code",
   "execution_count": null,
   "metadata": {},
   "outputs": [],
   "source": [
    "fn_out = DATA_PATH+'interim/agg'+country\n",
    "with rasterio.open(fn_out, \"w\", **out_meta) as dest:\n",
    "    dest.write(agg32, 1)"
   ]
  },
  {
   "cell_type": "markdown",
   "metadata": {},
   "source": [
    "## Range across rasters"
   ]
  },
  {
   "cell_type": "code",
   "execution_count": 4,
   "metadata": {},
   "outputs": [],
   "source": [
    "def open_rst(rst_fn):\n",
    "    \"function opens a raster and makes it into a xarray object\"\n",
    "    \n",
    "    rst = xr.DataArray(rasterio.open(rst_fn).read(1), dims = ['y', 'x']) # y and x are our 2-d labels\n",
    "    \n",
    "    return rst"
   ]
  },
  {
   "cell_type": "code",
   "execution_count": 73,
   "metadata": {},
   "outputs": [],
   "source": [
    "def rst_range(rst_fns, fn_out, save = False):\n",
    "    \"\"\" Calc pixel-level range on stacked arrays and writes it out as a raster, returns the range, max and min arrs\n",
    "    fst_fns = list of rasters \n",
    "    fn_out = file name and path to write out coef var raster\n",
    "    save = if save == true, will write raster, default = False\n",
    "    \n",
    "    \"\"\"\n",
    "    \n",
    "    arr_list = [] # empty list\n",
    "    \n",
    "    # open and stack arrays\n",
    "    for rst_fn in rst_fns:\n",
    "        \n",
    "      \n",
    "        rst_arr = rasterio.open(rst_fn).read(1)\n",
    "        arr_list.append(rst_arr)\n",
    "    \n",
    "    arr3d = np.dstack([arr_list])\n",
    "        \n",
    "    # mask zeros\n",
    "    arr3d[arr3d == -999] = 0 # Set NAN to zeros\n",
    "        \n",
    "    # Get range\n",
    "    arr_min = np.amin(arr3d, axis = 0)\n",
    "    arr_max = np.amax(arr3d, axis = 0)\n",
    "    arr_range = arr_max - arr_min\n",
    "    arr_out = arr_range.data\n",
    "    \n",
    "    # get meta data & write raster \n",
    "    out_meta = rasterio.open(rst_fns[0]).meta\n",
    "    out_meta.update({'dtype' : 'float64'})\n",
    "    \n",
    "    if save == True: \n",
    "        with rasterio.open(fn_out, \"w\", **out_meta) as dest:\n",
    "            dest.write(arr_out, 1)\n",
    "        \n",
    "    return arr_range, arr_max, arr_min"
   ]
  },
  {
   "cell_type": "code",
   "execution_count": 174,
   "metadata": {},
   "outputs": [],
   "source": [
    "#### File Paths & FNs --- Update by geography\n",
    "DATA_PATH = '/Users/cascade/Github/PopGridCompare/data/'\n",
    "country = 'rural_M-M-Z.tif'\n",
    "title = 'MMZ Rural'\n",
    "color = 'deeppink' # deeppink rural, darkslateblue urban \n",
    "# fn_out = DATA_PATH+'interim/all_range'+country for tif\n",
    "fn_out = DATA_PATH+'FIGS/Fig1_rural_MMZ.png'"
   ]
  },
  {
   "cell_type": "code",
   "execution_count": 175,
   "metadata": {},
   "outputs": [
    {
     "name": "stdout",
     "output_type": "stream",
     "text": [
      "/Users/cascade/Github/PopGridCompare/data/interim/WP16_rural_M-M-Z.tif\n",
      "/Users/cascade/Github/PopGridCompare/data/interim/LS15_rural_M-M-Z.tif\n",
      "/Users/cascade/Github/PopGridCompare/data/interim/GHS15_rural_M-M-Z.tif\n",
      "/Users/cascade/Github/PopGridCompare/data/interim/ESRI16_rural_M-M-Z.tif\n",
      "/Users/cascade/Github/PopGridCompare/data/interim/GPWv4_rural_M-M-Z.tif\n"
     ]
    }
   ],
   "source": [
    "# range all tif files\n",
    "rst_fns = glob.glob('/Users/cascade/Github/PopGridCompare/data/interim/*'+country)\n",
    "for rst in rst_fns: print(rst) # check them\n"
   ]
  },
  {
   "cell_type": "code",
   "execution_count": 176,
   "metadata": {},
   "outputs": [],
   "source": [
    "# Range Rst\n",
    "range_all, max_all, min_all = rst_range(rst_fns, fn_out, save = False)\n"
   ]
  },
  {
   "cell_type": "code",
   "execution_count": 177,
   "metadata": {},
   "outputs": [
    {
     "data": {
      "image/png": "[encoded data removed]",
      "text/plain": [
       "<Figure size 576x576 with 1 Axes>"
      ]
     },
     "metadata": {
      "needs_background": "light"
     },
     "output_type": "display_data"
    }
   ],
   "source": [
    "# Scatter\n",
    "fig, axs = plt.subplots(1, 1, figsize = (8, 8), sharex=True)\n",
    "ws = 0.25\n",
    "fig.subplots_adjust(wspace=ws)\n",
    "\n",
    "# plot\n",
    "X = np.delete(min_all.flatten(), np.where(range_all.flatten() == 0)) # remove all zero ranges\n",
    "Y = np.delete(range_all.flatten(), np.where(range_all.flatten() == 0)) # remove all zero ranges\n",
    "axs.scatter(X, Y, alpha = 0.3, color = color, marker = 'o')#, edgecolors = 'darkslategray')\n",
    "\n",
    "\n",
    "# titles & lables & ticks\n",
    "axs.set_title(title, fontsize = 20)\n",
    "axs.set_xlabel('Pop Min', fontsize = 20)\n",
    "axs.set_ylabel('Pop Range', fontsize = 20)\n",
    "axs.tick_params(axis = 'both', which = 'major', labelsize = 12)\n",
    "axs.tick_params(axis = 'both', which = 'minor', labelsize = 12)\n",
    "\n",
    "#fn_out = DATA_PATH+'FIGS/MS/Fig1_'+title+'.png'\n",
    "plt.savefig(fn_out, dpi = 300, bbox_inches='tight', facecolor = 'w')"
   ]
  },
  {
   "cell_type": "markdown",
   "metadata": {},
   "source": [
    "## What are the stats?"
   ]
  },
  {
   "cell_type": "code",
   "execution_count": 178,
   "metadata": {},
   "outputs": [],
   "source": [
    "# File Paths & FNs\n",
    "DATA_PATH = '/Users/cascade/Github/PopGridCompare/data/'"
   ]
  },
  {
   "cell_type": "code",
   "execution_count": 179,
   "metadata": {},
   "outputs": [],
   "source": [
    "def get_stats(country, mask):\n",
    "    \n",
    "    \"\"\" gets count of rural/urban pixels, max and inhabitied pixels \n",
    "    Args: \n",
    "        country = country.tif\n",
    "        mask = full path file name of bianary raster for the country's area \n",
    "    \"\"\"\n",
    "    \n",
    "    # Stuff to fill\n",
    "    df = pd.DataFrame()\n",
    "    \n",
    "    countries = []\n",
    "    labels = []\n",
    "    urban_counts = []\n",
    "    urban_maxs = []\n",
    "    urban_sums = []\n",
    "    rural_counts = []\n",
    "    rural_maxs = []\n",
    "    rural_sums = []\n",
    "    uninhabated = []\n",
    "    pcts = []\n",
    "    \n",
    "    # urban labels, counts & max\n",
    "    rst_fns = sorted(glob.glob(DATA_PATH+'interim/*urban_'+country))\n",
    "    for rst in rst_fns:\n",
    "        \n",
    "        label = rst.split('interim/')[1].split('_urban')[0]\n",
    "        labels.append(label)\n",
    "        cmax = rasterio.open(rst).read(1).flatten().max()\n",
    "        urban_maxs.append(cmax)\n",
    "        urban = list(filter(lambda x: x > 0, rasterio.open(rst).read(1).flatten()))\n",
    "        urban_count = len(urban)\n",
    "        urban_sum = sum(urban)\n",
    "        urban_counts.append(urban_count)\n",
    "        urban_sums.append(urban_sum)\n",
    "    \n",
    "    # rural labels, counts & max\n",
    "    rst_fns = sorted(glob.glob(DATA_PATH+'interim/*rural_'+country))\n",
    "    for rst in rst_fns:\n",
    "        \n",
    "        cmax = rasterio.open(rst).read(1).flatten().max()\n",
    "        rural_maxs.append(cmax)\n",
    "        rural = list(filter(lambda x: x > 0, rasterio.open(rst).read(1).flatten()))\n",
    "        rural_count = len(rural)\n",
    "        rural_sum = sum(rural)\n",
    "        rural_counts.append(rural_count)\n",
    "        rural_sums.append(rural_sum)\n",
    "    \n",
    "    # Uninhabitated \n",
    "    rst_fns = sorted(glob.glob(DATA_PATH+'interim/*all_'+country))\n",
    "    for rst in rst_fns:\n",
    "        a = len(list(filter(lambda x: x != -999, rasterio.open(rst).read(1).flatten()))) # ! nan pixels\n",
    "        b = len(list(filter(lambda x: x == 1, rasterio.open(mask).read(1).flatten()))) # all pixels w/in bounds\n",
    "        c = b - a\n",
    "        pct = c / b * 100 # pct uninhabated\n",
    "        uninhabated.append(c)\n",
    "        pcts.append(pct)\n",
    "\n",
    "        \n",
    "    # Population dataframe\n",
    "    df['country'] = [country.split('.tif')[0]] * len(rst_fns)\n",
    "    df['label'] = labels\n",
    "    df['urban_max'] = urban_maxs\n",
    "    df['rural_max'] = rural_maxs\n",
    "    df['urban_sum'] = urban_sums\n",
    "    df['rural_sum'] = rural_sums\n",
    "    df['total_pop'] = df['urban_sum'] + df['rural_sum']\n",
    "    df['urban_count'] = urban_counts\n",
    "    df['rural_count'] = rural_counts\n",
    "    df['uninhabated'] = uninhabated\n",
    "    df['pct'] = pcts\n",
    "    \n",
    "    return df"
   ]
  },
  {
   "cell_type": "code",
   "execution_count": 180,
   "metadata": {},
   "outputs": [],
   "source": [
    "# Get stats Nepal\n",
    "country = 'Nepal.tif'\n",
    "mask_fn = DATA_PATH+'interim/Nepal-rst.tif'\n",
    "df1 = get_stats(country, mask_fn)"
   ]
  },
  {
   "cell_type": "code",
   "execution_count": 181,
   "metadata": {},
   "outputs": [],
   "source": [
    "# Get stats Ecu\n",
    "country = 'Ecuador.tif'\n",
    "mask_fn = DATA_PATH+'interim/ECU-rst.tif'\n",
    "df2 = get_stats(country, mask_fn)"
   ]
  },
  {
   "cell_type": "code",
   "execution_count": 182,
   "metadata": {},
   "outputs": [],
   "source": [
    "# Get stats MMZ\n",
    "country = 'M-M-Z.tif'\n",
    "mask_fn = DATA_PATH+'interim/M-M-Z-rst.tif'\n",
    "df3 = get_stats(country, mask_fn)"
   ]
  },
  {
   "cell_type": "code",
   "execution_count": 183,
   "metadata": {},
   "outputs": [
    {
     "data": {
      "text/html": [
       "<div>\n",
       "<style scoped>\n",
       "    .dataframe tbody tr th:only-of-type {\n",
       "        vertical-align: middle;\n",
       "    }\n",
       "\n",
       "    .dataframe tbody tr th {\n",
       "        vertical-align: top;\n",
       "    }\n",
       "\n",
       "    .dataframe thead th {\n",
       "        text-align: right;\n",
       "    }\n",
       "</style>\n",
       "<table border=\"1\" class=\"dataframe\">\n",
       "  <thead>\n",
       "    <tr style=\"text-align: right;\">\n",
       "      <th></th>\n",
       "      <th>country</th>\n",
       "      <th>label</th>\n",
       "      <th>urban_max</th>\n",
       "      <th>rural_max</th>\n",
       "      <th>urban_sum</th>\n",
       "      <th>rural_sum</th>\n",
       "      <th>total_pop</th>\n",
       "      <th>urban_count</th>\n",
       "      <th>rural_count</th>\n",
       "      <th>uninhabated</th>\n",
       "      <th>pct</th>\n",
       "    </tr>\n",
       "  </thead>\n",
       "  <tbody>\n",
       "    <tr>\n",
       "      <th>0</th>\n",
       "      <td>Nepal</td>\n",
       "      <td>ESRI16</td>\n",
       "      <td>45982.000000</td>\n",
       "      <td>25237.000000</td>\n",
       "      <td>2.660928e+06</td>\n",
       "      <td>3.071215e+07</td>\n",
       "      <td>3.337308e+07</td>\n",
       "      <td>275</td>\n",
       "      <td>118437</td>\n",
       "      <td>76844</td>\n",
       "      <td>39.295138</td>\n",
       "    </tr>\n",
       "    <tr>\n",
       "      <th>1</th>\n",
       "      <td>Nepal</td>\n",
       "      <td>GHS15</td>\n",
       "      <td>46471.505188</td>\n",
       "      <td>117461.807631</td>\n",
       "      <td>3.297929e+06</td>\n",
       "      <td>2.515812e+07</td>\n",
       "      <td>2.845605e+07</td>\n",
       "      <td>271</td>\n",
       "      <td>104208</td>\n",
       "      <td>91077</td>\n",
       "      <td>46.573360</td>\n",
       "    </tr>\n",
       "    <tr>\n",
       "      <th>2</th>\n",
       "      <td>Nepal</td>\n",
       "      <td>GPWv4</td>\n",
       "      <td>32592.427734</td>\n",
       "      <td>28114.048828</td>\n",
       "      <td>2.879139e+06</td>\n",
       "      <td>2.783803e+07</td>\n",
       "      <td>3.071717e+07</td>\n",
       "      <td>275</td>\n",
       "      <td>175048</td>\n",
       "      <td>20233</td>\n",
       "      <td>10.346397</td>\n",
       "    </tr>\n",
       "    <tr>\n",
       "      <th>3</th>\n",
       "      <td>Nepal</td>\n",
       "      <td>LS15</td>\n",
       "      <td>57668.000000</td>\n",
       "      <td>44892.000000</td>\n",
       "      <td>2.848601e+06</td>\n",
       "      <td>2.869185e+07</td>\n",
       "      <td>3.154045e+07</td>\n",
       "      <td>275</td>\n",
       "      <td>145639</td>\n",
       "      <td>49642</td>\n",
       "      <td>25.385056</td>\n",
       "    </tr>\n",
       "    <tr>\n",
       "      <th>4</th>\n",
       "      <td>Nepal</td>\n",
       "      <td>WP16</td>\n",
       "      <td>48357.726562</td>\n",
       "      <td>46939.121094</td>\n",
       "      <td>3.638684e+06</td>\n",
       "      <td>2.859899e+07</td>\n",
       "      <td>3.223767e+07</td>\n",
       "      <td>275</td>\n",
       "      <td>167188</td>\n",
       "      <td>28093</td>\n",
       "      <td>14.365706</td>\n",
       "    </tr>\n",
       "    <tr>\n",
       "      <th>0</th>\n",
       "      <td>Ecuador</td>\n",
       "      <td>ESRI16</td>\n",
       "      <td>18108.000000</td>\n",
       "      <td>14867.000000</td>\n",
       "      <td>7.971993e+06</td>\n",
       "      <td>1.028335e+07</td>\n",
       "      <td>1.825534e+07</td>\n",
       "      <td>1457</td>\n",
       "      <td>41897</td>\n",
       "      <td>247071</td>\n",
       "      <td>85.072222</td>\n",
       "    </tr>\n",
       "    <tr>\n",
       "      <th>1</th>\n",
       "      <td>Ecuador</td>\n",
       "      <td>GHS15</td>\n",
       "      <td>31851.356346</td>\n",
       "      <td>43016.577565</td>\n",
       "      <td>8.186492e+06</td>\n",
       "      <td>7.859950e+06</td>\n",
       "      <td>1.604644e+07</td>\n",
       "      <td>1510</td>\n",
       "      <td>41755</td>\n",
       "      <td>247160</td>\n",
       "      <td>85.102866</td>\n",
       "    </tr>\n",
       "    <tr>\n",
       "      <th>2</th>\n",
       "      <td>Ecuador</td>\n",
       "      <td>GPWv4</td>\n",
       "      <td>4172.059082</td>\n",
       "      <td>4172.061035</td>\n",
       "      <td>2.060541e+06</td>\n",
       "      <td>1.383180e+07</td>\n",
       "      <td>1.589234e+07</td>\n",
       "      <td>1664</td>\n",
       "      <td>235809</td>\n",
       "      <td>52952</td>\n",
       "      <td>18.232590</td>\n",
       "    </tr>\n",
       "    <tr>\n",
       "      <th>3</th>\n",
       "      <td>Ecuador</td>\n",
       "      <td>LS15</td>\n",
       "      <td>44304.000000</td>\n",
       "      <td>31740.000000</td>\n",
       "      <td>7.577307e+06</td>\n",
       "      <td>8.239101e+06</td>\n",
       "      <td>1.581641e+07</td>\n",
       "      <td>1645</td>\n",
       "      <td>192868</td>\n",
       "      <td>95912</td>\n",
       "      <td>33.024705</td>\n",
       "    </tr>\n",
       "    <tr>\n",
       "      <th>4</th>\n",
       "      <td>Ecuador</td>\n",
       "      <td>WP16</td>\n",
       "      <td>8782.316406</td>\n",
       "      <td>8427.628906</td>\n",
       "      <td>5.354677e+06</td>\n",
       "      <td>1.087071e+07</td>\n",
       "      <td>1.622539e+07</td>\n",
       "      <td>1663</td>\n",
       "      <td>224407</td>\n",
       "      <td>64355</td>\n",
       "      <td>22.158905</td>\n",
       "    </tr>\n",
       "    <tr>\n",
       "      <th>0</th>\n",
       "      <td>M-M-Z</td>\n",
       "      <td>ESRI16</td>\n",
       "      <td>26168.000000</td>\n",
       "      <td>17138.000000</td>\n",
       "      <td>6.835863e+06</td>\n",
       "      <td>5.952403e+07</td>\n",
       "      <td>6.635989e+07</td>\n",
       "      <td>1695</td>\n",
       "      <td>232593</td>\n",
       "      <td>1356048</td>\n",
       "      <td>85.268019</td>\n",
       "    </tr>\n",
       "    <tr>\n",
       "      <th>1</th>\n",
       "      <td>M-M-Z</td>\n",
       "      <td>GHS15</td>\n",
       "      <td>81852.160969</td>\n",
       "      <td>156170.706291</td>\n",
       "      <td>8.341793e+06</td>\n",
       "      <td>5.213117e+07</td>\n",
       "      <td>6.047296e+07</td>\n",
       "      <td>1810</td>\n",
       "      <td>176110</td>\n",
       "      <td>1412416</td>\n",
       "      <td>88.812427</td>\n",
       "    </tr>\n",
       "    <tr>\n",
       "      <th>2</th>\n",
       "      <td>M-M-Z</td>\n",
       "      <td>GPWv4</td>\n",
       "      <td>26555.080078</td>\n",
       "      <td>17189.519531</td>\n",
       "      <td>3.463209e+06</td>\n",
       "      <td>5.190452e+07</td>\n",
       "      <td>5.536773e+07</td>\n",
       "      <td>2011</td>\n",
       "      <td>1467545</td>\n",
       "      <td>120780</td>\n",
       "      <td>7.594622</td>\n",
       "    </tr>\n",
       "    <tr>\n",
       "      <th>3</th>\n",
       "      <td>M-M-Z</td>\n",
       "      <td>LS15</td>\n",
       "      <td>61126.000000</td>\n",
       "      <td>40592.000000</td>\n",
       "      <td>6.513179e+06</td>\n",
       "      <td>5.093217e+07</td>\n",
       "      <td>5.744535e+07</td>\n",
       "      <td>1976</td>\n",
       "      <td>1370043</td>\n",
       "      <td>218317</td>\n",
       "      <td>13.727728</td>\n",
       "    </tr>\n",
       "    <tr>\n",
       "      <th>4</th>\n",
       "      <td>M-M-Z</td>\n",
       "      <td>WP16</td>\n",
       "      <td>26995.193359</td>\n",
       "      <td>25232.833984</td>\n",
       "      <td>5.009702e+06</td>\n",
       "      <td>5.181207e+07</td>\n",
       "      <td>5.682178e+07</td>\n",
       "      <td>2009</td>\n",
       "      <td>1409324</td>\n",
       "      <td>179003</td>\n",
       "      <td>11.255672</td>\n",
       "    </tr>\n",
       "  </tbody>\n",
       "</table>\n",
       "</div>"
      ],
      "text/plain": [
       "   country   label     urban_max      rural_max     urban_sum     rural_sum  \\\n",
       "0    Nepal  ESRI16  45982.000000   25237.000000  2.660928e+06  3.071215e+07   \n",
       "1    Nepal   GHS15  46471.505188  117461.807631  3.297929e+06  2.515812e+07   \n",
       "2    Nepal   GPWv4  32592.427734   28114.048828  2.879139e+06  2.783803e+07   \n",
       "3    Nepal    LS15  57668.000000   44892.000000  2.848601e+06  2.869185e+07   \n",
       "4    Nepal    WP16  48357.726562   46939.121094  3.638684e+06  2.859899e+07   \n",
       "0  Ecuador  ESRI16  18108.000000   14867.000000  7.971993e+06  1.028335e+07   \n",
       "1  Ecuador   GHS15  31851.356346   43016.577565  8.186492e+06  7.859950e+06   \n",
       "2  Ecuador   GPWv4   4172.059082    4172.061035  2.060541e+06  1.383180e+07   \n",
       "3  Ecuador    LS15  44304.000000   31740.000000  7.577307e+06  8.239101e+06   \n",
       "4  Ecuador    WP16   8782.316406    8427.628906  5.354677e+06  1.087071e+07   \n",
       "0    M-M-Z  ESRI16  26168.000000   17138.000000  6.835863e+06  5.952403e+07   \n",
       "1    M-M-Z   GHS15  81852.160969  156170.706291  8.341793e+06  5.213117e+07   \n",
       "2    M-M-Z   GPWv4  26555.080078   17189.519531  3.463209e+06  5.190452e+07   \n",
       "3    M-M-Z    LS15  61126.000000   40592.000000  6.513179e+06  5.093217e+07   \n",
       "4    M-M-Z    WP16  26995.193359   25232.833984  5.009702e+06  5.181207e+07   \n",
       "\n",
       "      total_pop  urban_count  rural_count  uninhabated        pct  \n",
       "0  3.337308e+07          275       118437        76844  39.295138  \n",
       "1  2.845605e+07          271       104208        91077  46.573360  \n",
       "2  3.071717e+07          275       175048        20233  10.346397  \n",
       "3  3.154045e+07          275       145639        49642  25.385056  \n",
       "4  3.223767e+07          275       167188        28093  14.365706  \n",
       "0  1.825534e+07         1457        41897       247071  85.072222  \n",
       "1  1.604644e+07         1510        41755       247160  85.102866  \n",
       "2  1.589234e+07         1664       235809        52952  18.232590  \n",
       "3  1.581641e+07         1645       192868        95912  33.024705  \n",
       "4  1.622539e+07         1663       224407        64355  22.158905  \n",
       "0  6.635989e+07         1695       232593      1356048  85.268019  \n",
       "1  6.047296e+07         1810       176110      1412416  88.812427  \n",
       "2  5.536773e+07         2011      1467545       120780   7.594622  \n",
       "3  5.744535e+07         1976      1370043       218317  13.727728  \n",
       "4  5.682178e+07         2009      1409324       179003  11.255672  "
      ]
     },
     "execution_count": 183,
     "metadata": {},
     "output_type": "execute_result"
    }
   ],
   "source": [
    "# Concat\n",
    "dfs = [df1, df2, df3]\n",
    "df_out = pd.concat(dfs)\n",
    "df_out"
   ]
  },
  {
   "cell_type": "code",
   "execution_count": null,
   "metadata": {},
   "outputs": [],
   "source": [
    "# Write it out\n",
    "fn_out = DATA_PATH+'processed/Table1.csv'\n",
    "df_out.to_csv(fn_out)"
   ]
  },
  {
   "cell_type": "markdown",
   "metadata": {},
   "source": [
    "## Coef Var"
   ]
  },
  {
   "cell_type": "code",
   "execution_count": null,
   "metadata": {},
   "outputs": [],
   "source": [
    "def open_rst(rst_fn):\n",
    "    \"function opens a raster and makes it into a xarray object\"\n",
    "    \n",
    "    rst = xr.DataArray(rasterio.open(rst_fn).read(1), dims = ['y', 'x']) # y and x are our 2-d labels\n",
    "    \n",
    "    return rst"
   ]
  },
  {
   "cell_type": "code",
   "execution_count": null,
   "metadata": {},
   "outputs": [],
   "source": [
    "def rst_coefvar(rst_fns, fn_out):\n",
    "    \"\"\" Calc coef of var on stacked arrays and writes it out as a raster, returns the arr\n",
    "    fst_fns = list of rasters \n",
    "    fn_out = file name and path to write out coef var raster\n",
    "    \"\"\"\n",
    "    \n",
    "    arr_list = [] # empty list\n",
    "    \n",
    "    # open and stack arrays\n",
    "    for rst_fn in rst_fns:\n",
    "        \n",
    "      \n",
    "        rst_arr = rasterio.open(rst_fn).read(1)\n",
    "        arr_list.append(rst_arr)\n",
    "    \n",
    "    arr3d = np.dstack([arr_list])\n",
    "        \n",
    "    # mask zeros\n",
    "    arr3d[arr3d == -999] = 'nan'\n",
    "        \n",
    "    # calculate variance across rasters & get data\n",
    "    var = variation(arr3d, axis=0, nan_policy = 'propagate')\n",
    "    arr_out = var.data\n",
    "    \n",
    "    # get meta data & write raster \n",
    "    out_meta = rasterio.open(rst_fns[0]).meta\n",
    "    out_meta.update({'dtype' : 'float64'})\n",
    "    \n",
    "    with rasterio.open(fn_out, \"w\", **out_meta) as dest:\n",
    "        dest.write(arr_out, 1)\n",
    "        \n",
    "    return var"
   ]
  },
  {
   "cell_type": "code",
   "execution_count": null,
   "metadata": {},
   "outputs": [],
   "source": [
    "#### File Paths & FNs\n",
    "DATA_PATH = '/Users/cascade/Github/PopGridCompare/data/'\n",
    "country = '_Ecuador.tif'\n",
    "title = 'Ecuador'"
   ]
  },
  {
   "cell_type": "code",
   "execution_count": null,
   "metadata": {},
   "outputs": [],
   "source": [
    "# coefvar all tif files\n",
    "rst_fns = glob.glob('/Users/cascade/Github/PopGridCompare/data/interim/*all'+country)\n",
    "for rst in rst_fns: print(rst) # check them\n",
    "print('\\n DID YOU DROP GPWv4???? <<<<----------------------------')"
   ]
  },
  {
   "cell_type": "code",
   "execution_count": null,
   "metadata": {},
   "outputs": [],
   "source": [
    "del rst_fns[0] # drop GPv4\n",
    "print('\\n')\n",
    "for rst in rst_fns: print(rst) # check them\n",
    "print('\\n DID YOU DROP GPWv4???? <<<<----------------------------')"
   ]
  },
  {
   "cell_type": "code",
   "execution_count": null,
   "metadata": {},
   "outputs": [],
   "source": [
    "#### File Paths & FNs\n",
    "DATA_PATH = '/Users/cascade/Github/PopGridCompare/data/'\n",
    "country = '_Ecuador.tif'"
   ]
  },
  {
   "cell_type": "code",
   "execution_count": null,
   "metadata": {},
   "outputs": [],
   "source": [
    "# Variance Rst\n",
    "fn_out = DATA_PATH+'interim/all_coefvar'+country\n",
    "varall = rst_coefvar(rst_fns, fn_out)\n",
    "fn_out = DATA_PATH+'FIGS/MS/Fig1_'+title+'.png'"
   ]
  },
  {
   "cell_type": "code",
   "execution_count": null,
   "metadata": {
    "scrolled": false
   },
   "outputs": [],
   "source": [
    "# Plot\n",
    "fig, axs = plt.subplots(1, 1, figsize = (8, 8), sharex=True)\n",
    "ws = 0.25\n",
    "#fig.subplots_adjust(wspace=ws)\n",
    "axs.hist(varall.flatten(), density = False, bins = 50, ec = 'midnightblue', color = 'dodgerblue', alpha = 0.7);\n",
    "axs.set_title(title, fontsize = 20)\n",
    "axs.set_xlabel('coefficient of variation', fontsize = 15)\n",
    "axs.set_ylabel('count', fontsize = 15)\n",
    "\n",
    "plt.savefig(fn_out, dpi = 300, bbox_inches='tight', facecolor = 'w')"
   ]
  },
  {
   "cell_type": "markdown",
   "metadata": {},
   "source": [
    "## Distribution of Pixels"
   ]
  },
  {
   "cell_type": "code",
   "execution_count": null,
   "metadata": {},
   "outputs": [],
   "source": [
    "fn_out = DATA_PATH+'FIGS/MS/Fig2.png'"
   ]
  },
  {
   "cell_type": "code",
   "execution_count": null,
   "metadata": {},
   "outputs": [],
   "source": [
    "def flat(rst_fn):\n",
    "    \"helper to flatten 2d array for histogramss\"\n",
    "    arr = rasterio.open(rst_fn).read(1)\n",
    "    flat = arr.flatten()\n",
    "    \n",
    "    # revalue na -999\n",
    "    flat = np.where(flat==-999, 0, flat) \n",
    "    \n",
    "    return flat"
   ]
  },
  {
   "cell_type": "code",
   "execution_count": null,
   "metadata": {},
   "outputs": [],
   "source": [
    "def get_rsts(country_list):\n",
    "    \"get the rasters to plot by country, drops GPWv4\"\n",
    "    \n",
    "    rsts_out = [] # out list\n",
    "    \n",
    "    for country in country_list:\n",
    "        \n",
    "        rst_fns = sorted(glob.glob(DATA_PATH+'interim/*all'+country)) # get rst nms\n",
    "        \n",
    "        for i, rst in enumerate(rst_fns): # drop gwpv4\n",
    "            \n",
    "            nm = rst.split('interim/')[1].split('_all')[0]      \n",
    "            if nm == 'GPWv4':\n",
    "                del rst_fns[i]\n",
    "        \n",
    "        rsts_out.append(rst_fns) # append list\n",
    "        \n",
    "    return rsts_out"
   ]
  },
  {
   "cell_type": "code",
   "execution_count": null,
   "metadata": {},
   "outputs": [],
   "source": [
    "countries = ['_Nepal.tif','_M-M-Z.tif','_Ecuador.tif',]"
   ]
  },
  {
   "cell_type": "code",
   "execution_count": null,
   "metadata": {},
   "outputs": [],
   "source": [
    "all_rsts = get_rsts(countries)"
   ]
  },
  {
   "cell_type": "code",
   "execution_count": null,
   "metadata": {},
   "outputs": [],
   "source": [
    "# Always update 'GPWv4-15'\n",
    "names = ['WPE-16', 'GHS-15', 'LS-15', 'WP-16',]"
   ]
  },
  {
   "cell_type": "code",
   "execution_count": null,
   "metadata": {},
   "outputs": [],
   "source": [
    "#### Make Figure & Save it\n",
    "\n",
    "#rcParams['mathtext.default'] = 'regular' # set text to reg, not italic \n",
    "\n",
    "fig, axs = plt.subplots(4, 3, figsize = (16, 16), sharex=True)\n",
    "ws = 0.25\n",
    "fig.subplots_adjust(wspace=ws)\n",
    "\n",
    "xticks = [25000,75000,125000]\n",
    "\n",
    "# Nepal\n",
    "for i, rst_fn in enumerate(zip(all_rsts[0], names)):\n",
    "    data = flat(rst_fn[0])\n",
    "    axs[i][0].hist(data, log = True, color = 'deeppink', alpha = 0.7, lw = 1, ec = 'firebrick');#, bins = 10);\n",
    "    axs[i][0].set_title(rst_fn[1], fontsize = 15)\n",
    "    axs[i][0].set_xticks(xticks)\n",
    "    axs[i][0].tick_params(axis = 'both', which = 'major', labelsize = 12)\n",
    "    axs[i][0].tick_params(axis = 'both', which = 'minor', labelsize = 12)\n",
    "axs[0][0].legend(['Nepal']);\n",
    "\n",
    "# MMZ\n",
    "for i, rst_fn in enumerate(zip(all_rsts[1], names)):\n",
    "    data = flat(rst_fn[0])\n",
    "    axs[i][1].hist(data, log = True, color = 'palegreen', alpha = 0.7, lw = 1, ec = 'seagreen');#, bins = 10);\n",
    "    axs[i][1].set_title(rst_fn[1], fontsize = 15)\n",
    "    axs[i][1].set_xticks(xticks)\n",
    "    axs[i][1].tick_params(axis = 'both', which = 'major', labelsize = 12)\n",
    "    axs[i][1].tick_params(axis = 'both', which = 'minor', labelsize = 12)\n",
    "axs[0][1].legend(['MMZ']);\n",
    "\n",
    "# Ecuador\n",
    "for i, rst_fn in enumerate(zip(all_rsts[2], names)):\n",
    "    data = flat(rst_fn[0])\n",
    "    axs[i][2].hist(data, log = True, color = 'cornflowerblue', alpha = 0.7, lw = 1, ec = 'darkslategray', bins = 10);\n",
    "    axs[i][2].set_title(rst_fn[1], fontsize = 15)\n",
    "    axs[i][2].set_xticks(xticks)\n",
    "    axs[i][2].tick_params(axis = 'both', which = 'major', labelsize = 12)\n",
    "    axs[i][2].tick_params(axis = 'both', which = 'minor', labelsize = 12)\n",
    "axs[0][2].legend(['Ecuador']);\n",
    "\n",
    "# Save it\n",
    "plt.savefig(fn_out, dpi = 300, bbox_inches='tight', facecolor = 'w')"
   ]
  },
  {
   "cell_type": "code",
   "execution_count": null,
   "metadata": {},
   "outputs": [],
   "source": [
    "#### Make Figure & Save it\n",
    "rst_fns = glob.glob('/Users/cascade/Github/PopGridCompare/data/interim/*all_Nepal.tif')\n",
    "rst_fns\n",
    "\n",
    "#rcParams['mathtext.default'] = 'regular' # set text to reg, not italic \n",
    "\n",
    "fig, axs = plt.subplots(1, 1, figsize = (8, 8), sharex=True)\n",
    "ws = 0.25\n",
    "fig.subplots_adjust(wspace=ws)\n",
    "\n",
    "\n",
    "data = flat(rst_fns[0])\n",
    "axs.hist(data, log = True, color = 'green', lw = 5, alpha = 0.5, ec = 'green', histtype=u'step');\n",
    "data = flat(rst_fns[1])\n",
    "axs.hist(data, log = True, color = 'red', lw = 5, alpha = 0.5, ec = 'red', histtype=u'step');\n",
    "data = flat(rst_fns[2])\n",
    "axs.hist(data, log = True, color = 'blue', lw = 5, alpha = 0.5, ec = 'blue', histtype=u'step');\n",
    "data = flat(rst_fns[3])\n",
    "axs.hist(data, log = True, color = 'orange', lw = 5, alpha = 0.5, ec = 'orange', histtype=u'step');"
   ]
  }
 ],
 "metadata": {
  "kernelspec": {
   "display_name": "Python 3",
   "language": "python",
   "name": "python3"
  },
  "language_info": {
   "codemirror_mode": {
    "name": "ipython",
    "version": 3
   },
   "file_extension": ".py",
   "mimetype": "text/x-python",
   "name": "python",
   "nbconvert_exporter": "python",
   "pygments_lexer": "ipython3",
   "version": "3.8.6"
  }
 },
 "nbformat": 4,
 "nbformat_minor": 2
}
