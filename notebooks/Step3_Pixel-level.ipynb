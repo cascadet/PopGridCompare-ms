{
 "cells": [
  {
   "cell_type": "markdown",
   "metadata": {},
   "source": [
    "# Pixel-level\n",
    "\n",
    "By Cascade Tuholske, Sep 2020 <br>\n",
    "Notebook to generate pixel agreement, coeffiecent of variation of popgrid data, and distributions of pixels. <br>\n",
    "\n",
    "**Always check file order to drop gpwv4**"
   ]
  },
  {
   "cell_type": "code",
   "execution_count": 1,
   "metadata": {},
   "outputs": [],
   "source": [
    "#### Dependencies\n",
    "import numpy as np\n",
    "import pandas as pd\n",
    "import rasterio \n",
    "import xarray as xr\n",
    "import geopandas as gpd\n",
    "import glob\n",
    "import rioxarray as rio\n",
    "from scipy.stats import variation \n",
    "import rasterio.mask\n",
    "import matplotlib.pyplot as plt"
   ]
  },
  {
   "cell_type": "code",
   "execution_count": 2,
   "metadata": {},
   "outputs": [],
   "source": [
    "#### File Paths & FNs\n",
    "DATA_PATH = '/Users/cascade/Github/PopGridCompare/data/'\n",
    "country = '_Ecuador.tif'"
   ]
  },
  {
   "cell_type": "markdown",
   "metadata": {},
   "source": [
    "## Pixel Aggreement"
   ]
  },
  {
   "cell_type": "code",
   "execution_count": null,
   "metadata": {},
   "outputs": [],
   "source": [
    "#### File Paths & FNs\n",
    "DATA_PATH = '/Users/cascade/Github/PopGridCompare/data/'\n",
    "country = '_Ecuador.tif'"
   ]
  },
  {
   "cell_type": "code",
   "execution_count": null,
   "metadata": {},
   "outputs": [],
   "source": [
    "rst_fns = glob.glob('/Users/cascade/Github/PopGridCompare/data/interim/*all'+country)\n",
    "for rst in rst_fns: print(rst) # check them\n",
    "del rst_fns[0] # drop GPv4\n",
    "rst_fns"
   ]
  },
  {
   "cell_type": "code",
   "execution_count": null,
   "metadata": {},
   "outputs": [],
   "source": [
    "# Get all arrays\n",
    "arrs = []\n",
    "\n",
    "for rst in rst_fns:\n",
    "    arr = rasterio.open(rst).read(1)\n",
    "    arrs.append(arr)"
   ]
  },
  {
   "cell_type": "code",
   "execution_count": null,
   "metadata": {},
   "outputs": [],
   "source": [
    "# find areas of agreement\n",
    "zeros = []\n",
    "for arr in arrs:\n",
    "    zero = arr > -999\n",
    "    zero = zero.astype(int)\n",
    "    zeros.append(zero)\n",
    "\n",
    "agg = sum(zeros)"
   ]
  },
  {
   "cell_type": "code",
   "execution_count": null,
   "metadata": {},
   "outputs": [],
   "source": [
    "agg32 = agg.astype('int32')"
   ]
  },
  {
   "cell_type": "code",
   "execution_count": null,
   "metadata": {},
   "outputs": [],
   "source": [
    "# get meta data & write raster \n",
    "out_meta = rasterio.open(rst_fns[0]).meta"
   ]
  },
  {
   "cell_type": "code",
   "execution_count": null,
   "metadata": {},
   "outputs": [],
   "source": [
    "fn_out = DATA_PATH+'interim/agg'+country\n",
    "with rasterio.open(fn_out, \"w\", **out_meta) as dest:\n",
    "    dest.write(agg32, 1)"
   ]
  },
  {
   "cell_type": "markdown",
   "metadata": {},
   "source": [
    "## Coef Var"
   ]
  },
  {
   "cell_type": "code",
   "execution_count": 2,
   "metadata": {},
   "outputs": [],
   "source": [
    "def open_rst(rst_fn):\n",
    "    \"function opens a raster and makes it into a xarray object\"\n",
    "    \n",
    "    rst = xr.DataArray(rasterio.open(rst_fn).read(1), dims = ['y', 'x']) # y and x are our 2-d labels\n",
    "    \n",
    "    return rst"
   ]
  },
  {
   "cell_type": "code",
   "execution_count": 3,
   "metadata": {},
   "outputs": [],
   "source": [
    "def rst_coefvar(rst_fns, fn_out):\n",
    "    \"\"\" Calc coef of var on stacked arrays and writes it out as a raster, returns the arr\n",
    "    fst_fns = list of rasters \n",
    "    fn_out = file name and path to write out coef var raster\n",
    "    \"\"\"\n",
    "    \n",
    "    arr_list = [] # empty list\n",
    "    \n",
    "    # open and stack arrays\n",
    "    for rst_fn in rst_fns:\n",
    "        \n",
    "      \n",
    "        rst_arr = rasterio.open(rst_fn).read(1)\n",
    "        arr_list.append(rst_arr)\n",
    "    \n",
    "    arr3d = np.dstack([arr_list])\n",
    "        \n",
    "    # mask zeros\n",
    "    arr3d[arr3d == -999] = 'nan'\n",
    "        \n",
    "    # calculate variance across rasters & get data\n",
    "    var = variation(arr3d, axis=0, nan_policy = 'propagate')\n",
    "    arr_out = var.data\n",
    "    \n",
    "    # get meta data & write raster \n",
    "    out_meta = rasterio.open(rst_fns[0]).meta\n",
    "    out_meta.update({'dtype' : 'float64'})\n",
    "    \n",
    "    with rasterio.open(fn_out, \"w\", **out_meta) as dest:\n",
    "        dest.write(arr_out, 1)\n",
    "        \n",
    "    return var"
   ]
  },
  {
   "cell_type": "code",
   "execution_count": 28,
   "metadata": {},
   "outputs": [],
   "source": [
    "#### File Paths & FNs\n",
    "DATA_PATH = '/Users/cascade/Github/PopGridCompare/data/'\n",
    "country = '_Ecuador.tif'\n",
    "title = 'Ecuador'"
   ]
  },
  {
   "cell_type": "code",
   "execution_count": 39,
   "metadata": {},
   "outputs": [
    {
     "name": "stdout",
     "output_type": "stream",
     "text": [
      "/Users/cascade/Github/PopGridCompare/data/interim/GPWv4_all_Ecuador.tif\n",
      "/Users/cascade/Github/PopGridCompare/data/interim/ESRI16_all_Ecuador.tif\n",
      "/Users/cascade/Github/PopGridCompare/data/interim/LS15_all_Ecuador.tif\n",
      "/Users/cascade/Github/PopGridCompare/data/interim/WP16_all_Ecuador.tif\n",
      "/Users/cascade/Github/PopGridCompare/data/interim/GHS15_all_Ecuador.tif\n",
      "\n",
      " DID YOU DROP GPWv4???? <<<<----------------------------\n"
     ]
    }
   ],
   "source": [
    "# coefvar all tif files\n",
    "rst_fns = glob.glob('/Users/cascade/Github/PopGridCompare/data/interim/*all'+country)\n",
    "for rst in rst_fns: print(rst) # check them\n",
    "print('\\n DID YOU DROP GPWv4???? <<<<----------------------------')"
   ]
  },
  {
   "cell_type": "code",
   "execution_count": 40,
   "metadata": {},
   "outputs": [
    {
     "name": "stdout",
     "output_type": "stream",
     "text": [
      "\n",
      "\n",
      "/Users/cascade/Github/PopGridCompare/data/interim/ESRI16_all_Ecuador.tif\n",
      "/Users/cascade/Github/PopGridCompare/data/interim/LS15_all_Ecuador.tif\n",
      "/Users/cascade/Github/PopGridCompare/data/interim/WP16_all_Ecuador.tif\n",
      "/Users/cascade/Github/PopGridCompare/data/interim/GHS15_all_Ecuador.tif\n",
      "\n",
      " DID YOU DROP GPWv4???? <<<<----------------------------\n"
     ]
    }
   ],
   "source": [
    "del rst_fns[0] # drop GPv4\n",
    "print('\\n')\n",
    "for rst in rst_fns: print(rst) # check them\n",
    "print('\\n DID YOU DROP GPWv4???? <<<<----------------------------')"
   ]
  },
  {
   "cell_type": "code",
   "execution_count": 32,
   "metadata": {},
   "outputs": [],
   "source": [
    "#### File Paths & FNs\n",
    "DATA_PATH = '/Users/cascade/Github/PopGridCompare/data/'\n",
    "country = '_Ecuador.tif'"
   ]
  },
  {
   "cell_type": "code",
   "execution_count": 33,
   "metadata": {},
   "outputs": [],
   "source": [
    "# Variance Rst\n",
    "fn_out = DATA_PATH+'interim/all_coefvar'+country\n",
    "varall = rst_coefvar(rst_fns, fn_out)\n",
    "fn_out = DATA_PATH+'FIGS/MS/Fig1_'+title+'.png'"
   ]
  },
  {
   "cell_type": "code",
   "execution_count": 34,
   "metadata": {
    "scrolled": false
   },
   "outputs": [
    {
     "data": {
      "image/png": "[encoded data removed]",
      "text/plain": [
       "<Figure size 576x576 with 1 Axes>"
      ]
     },
     "metadata": {
      "needs_background": "light"
     },
     "output_type": "display_data"
    }
   ],
   "source": [
    "# Plot\n",
    "fig, axs = plt.subplots(1, 1, figsize = (8, 8), sharex=True)\n",
    "ws = 0.25\n",
    "#fig.subplots_adjust(wspace=ws)\n",
    "axs.hist(varall.flatten(), density = False, bins = 50, ec = 'midnightblue', color = 'dodgerblue', alpha = 0.7);\n",
    "axs.set_title(title, fontsize = 20)\n",
    "axs.set_xlabel('coefficient of variation', fontsize = 15)\n",
    "axs.set_ylabel('count', fontsize = 15)\n",
    "\n",
    "plt.savefig(fn_out, dpi = 300, bbox_inches='tight', facecolor = 'w')"
   ]
  },
  {
   "cell_type": "markdown",
   "metadata": {},
   "source": [
    "## Distribution of Pixels"
   ]
  },
  {
   "cell_type": "code",
   "execution_count": 122,
   "metadata": {},
   "outputs": [],
   "source": [
    "fn_out = DATA_PATH+'FIGS/MS/Fig2.png'"
   ]
  },
  {
   "cell_type": "code",
   "execution_count": 123,
   "metadata": {},
   "outputs": [],
   "source": [
    "def flat(rst_fn):\n",
    "    \"helper to flatten 2d array for histogramss\"\n",
    "    arr = rasterio.open(rst_fn).read(1)\n",
    "    flat = arr.flatten()\n",
    "    \n",
    "    # revalue na -999\n",
    "    flat = np.where(flat==-999, 0, flat) \n",
    "    \n",
    "    return flat"
   ]
  },
  {
   "cell_type": "code",
   "execution_count": 124,
   "metadata": {},
   "outputs": [],
   "source": [
    "def get_rsts(country_list):\n",
    "    \"get the rasters to plot by country, drops GPWv4\"\n",
    "    \n",
    "    rsts_out = [] # out list\n",
    "    \n",
    "    for country in country_list:\n",
    "        \n",
    "        rst_fns = sorted(glob.glob(DATA_PATH+'interim/*all'+country)) # get rst nms\n",
    "        \n",
    "        for i, rst in enumerate(rst_fns): # drop gwpv4\n",
    "            \n",
    "            nm = rst.split('interim/')[1].split('_all')[0]      \n",
    "            if nm == 'GPWv4':\n",
    "                del rst_fns[i]\n",
    "        \n",
    "        rsts_out.append(rst_fns) # append list\n",
    "        \n",
    "    return rsts_out"
   ]
  },
  {
   "cell_type": "code",
   "execution_count": 125,
   "metadata": {},
   "outputs": [],
   "source": [
    "countries = ['_Nepal.tif','_M-M-Z.tif','_Ecuador.tif',]"
   ]
  },
  {
   "cell_type": "code",
   "execution_count": 126,
   "metadata": {},
   "outputs": [],
   "source": [
    "all_rsts = get_rsts(countries)"
   ]
  },
  {
   "cell_type": "code",
   "execution_count": 127,
   "metadata": {},
   "outputs": [],
   "source": [
    "# Always update 'GPWv4-15'\n",
    "names = ['WPE-16', 'GHS-15', 'LS-15', 'WP-16',]"
   ]
  },
  {
   "cell_type": "code",
   "execution_count": 128,
   "metadata": {},
   "outputs": [
    {
     "data": {
      "image/png": "[encoded data removed]",
      "text/plain": [
       "<Figure size 1152x1152 with 12 Axes>"
      ]
     },
     "metadata": {
      "needs_background": "light"
     },
     "output_type": "display_data"
    }
   ],
   "source": [
    "#### Make Figure & Save it\n",
    "\n",
    "#rcParams['mathtext.default'] = 'regular' # set text to reg, not italic \n",
    "\n",
    "fig, axs = plt.subplots(4, 3, figsize = (16, 16), sharex=True)\n",
    "ws = 0.25\n",
    "fig.subplots_adjust(wspace=ws)\n",
    "\n",
    "xticks = [25000,75000,125000]\n",
    "\n",
    "# Nepal\n",
    "for i, rst_fn in enumerate(zip(all_rsts[0], names)):\n",
    "    data = flat(rst_fn[0])\n",
    "    axs[i][0].hist(data, log = True, color = 'deeppink', alpha = 0.7, lw = 1, ec = 'firebrick');#, bins = 10);\n",
    "    axs[i][0].set_title(rst_fn[1], fontsize = 15)\n",
    "    axs[i][0].set_xticks(xticks)\n",
    "    axs[i][0].tick_params(axis = 'both', which = 'major', labelsize = 12)\n",
    "    axs[i][0].tick_params(axis = 'both', which = 'minor', labelsize = 12)\n",
    "axs[0][0].legend(['Nepal']);\n",
    "\n",
    "# MMZ\n",
    "for i, rst_fn in enumerate(zip(all_rsts[1], names)):\n",
    "    data = flat(rst_fn[0])\n",
    "    axs[i][1].hist(data, log = True, color = 'palegreen', alpha = 0.7, lw = 1, ec = 'seagreen');#, bins = 10);\n",
    "    axs[i][1].set_title(rst_fn[1], fontsize = 15)\n",
    "    axs[i][1].set_xticks(xticks)\n",
    "    axs[i][1].tick_params(axis = 'both', which = 'major', labelsize = 12)\n",
    "    axs[i][1].tick_params(axis = 'both', which = 'minor', labelsize = 12)\n",
    "axs[0][1].legend(['MMZ']);\n",
    "\n",
    "# Ecuador\n",
    "for i, rst_fn in enumerate(zip(all_rsts[2], names)):\n",
    "    data = flat(rst_fn[0])\n",
    "    axs[i][2].hist(data, log = True, color = 'cornflowerblue', alpha = 0.7, lw = 1, ec = 'darkslategray', bins = 10);\n",
    "    axs[i][2].set_title(rst_fn[1], fontsize = 15)\n",
    "    axs[i][2].set_xticks(xticks)\n",
    "    axs[i][2].tick_params(axis = 'both', which = 'major', labelsize = 12)\n",
    "    axs[i][2].tick_params(axis = 'both', which = 'minor', labelsize = 12)\n",
    "axs[0][2].legend(['Ecuador']);\n",
    "\n",
    "# Save it\n",
    "plt.savefig(fn_out, dpi = 300, bbox_inches='tight', facecolor = 'w')"
   ]
  },
  {
   "cell_type": "code",
   "execution_count": null,
   "metadata": {},
   "outputs": [],
   "source": [
    "#### Make Figure & Save it\n",
    "rst_fns = glob.glob('/Users/cascade/Github/PopGridCompare/data/interim/*all_Nepal.tif')\n",
    "rst_fns\n",
    "\n",
    "#rcParams['mathtext.default'] = 'regular' # set text to reg, not italic \n",
    "\n",
    "fig, axs = plt.subplots(1, 1, figsize = (8, 8), sharex=True)\n",
    "ws = 0.25\n",
    "fig.subplots_adjust(wspace=ws)\n",
    "\n",
    "\n",
    "data = flat(rst_fns[0])\n",
    "axs.hist(data, log = True, color = 'green', lw = 5, alpha = 0.5, ec = 'green', histtype=u'step');\n",
    "data = flat(rst_fns[1])\n",
    "axs.hist(data, log = True, color = 'red', lw = 5, alpha = 0.5, ec = 'red', histtype=u'step');\n",
    "data = flat(rst_fns[2])\n",
    "axs.hist(data, log = True, color = 'blue', lw = 5, alpha = 0.5, ec = 'blue', histtype=u'step');\n",
    "data = flat(rst_fns[3])\n",
    "axs.hist(data, log = True, color = 'orange', lw = 5, alpha = 0.5, ec = 'orange', histtype=u'step');"
   ]
  },
  {
   "cell_type": "markdown",
   "metadata": {},
   "source": [
    "## What are the stats?"
   ]
  },
  {
   "cell_type": "code",
   "execution_count": null,
   "metadata": {},
   "outputs": [],
   "source": [
    "# What are the maxium values:\n",
    "rst_fns = glob.glob('/Users/cascade/Github/PopGridCompare/data/interim/*all'+country+.'tif')\n",
    "\n",
    "for rst in rst_fns:\n",
    "    data = (rasterio.open(rst).read(1)).flatten().max()\n",
    "    print('Max value for', rst.split('interim/')[1], data)\n"
   ]
  },
  {
   "cell_type": "code",
   "execution_count": null,
   "metadata": {},
   "outputs": [],
   "source": [
    "# What are the maxium values:\n",
    "rst_fns = glob.glob('/Users/cascade/Github/PopGridCompare/data/interim/*rural'+country+.'tif')\n",
    "\n",
    "for rst in rst_fns:\n",
    "    data = (rasterio.open(rst).read(1)).flatten().max()\n",
    "    print('Max value for', rst.split('interim/')[1], data)"
   ]
  },
  {
   "cell_type": "code",
   "execution_count": null,
   "metadata": {},
   "outputs": [],
   "source": [
    "# What are the maxium values:\n",
    "rst_fns = glob.glob('/Users/cascade/Github/PopGridCompare/data/interim/*urban'+country+.'tif')\n",
    "\n",
    "for rst in rst_fns:\n",
    "    data = (rasterio.open(rst).read(1)).flatten().max()\n",
    "    print('Max value for', rst.split('interim/')[1], data)"
   ]
  }
 ],
 "metadata": {
  "kernelspec": {
   "display_name": "Python 3",
   "language": "python",
   "name": "python3"
  },
  "language_info": {
   "codemirror_mode": {
    "name": "ipython",
    "version": 3
   },
   "file_extension": ".py",
   "mimetype": "text/x-python",
   "name": "python",
   "nbconvert_exporter": "python",
   "pygments_lexer": "ipython3",
   "version": "3.8.6"
  }
 },
 "nbformat": 4,
 "nbformat_minor": 2
}
