{
 "cells": [
  {
   "cell_type": "markdown",
   "metadata": {},
   "source": [
    "# Quake\n",
    "\n",
    "By Cascade Tuholske, June 2020\n",
    "\n",
    "Notebook finds zonal stats of populations for 2015 Nepal earthquakes by raster. <br><br>\n",
    "**NOTE** CRS should be epsg:4326 for everything!"
   ]
  },
  {
   "cell_type": "code",
   "execution_count": null,
   "metadata": {},
   "outputs": [],
   "source": [
    "#### Dependencies\n",
    "import numpy as np\n",
    "import pandas as pd\n",
    "import rasterio\n",
    "import geopandas as gpd\n",
    "from rasterstats import zonal_stats, gen_zonal_stats\n",
    "from glob import glob\n",
    "import matplotlib.pyplot as plt"
   ]
  },
  {
   "cell_type": "code",
   "execution_count": null,
   "metadata": {},
   "outputs": [],
   "source": [
    "#### Functions\n",
    "def zone_loop(polys_in, rst_list, stats_type, col, split):\n",
    "    \"\"\" Function loops through rasters, calcs zonal_stats and returns stats as a data frame.\n",
    "    Args:\n",
    "        polys_in = polygons\n",
    "        rst_list = list of paths & fns of rasters\n",
    "        stats_type = stats type for each poly gone (see zonal stats)\n",
    "        col = column to merge it all\n",
    "        split = where to split the file name string (e.g. _matched.tif)\n",
    "    \"\"\"\n",
    "    \n",
    "    # copy polys to write out\n",
    "    polys_out = polys_in.copy()\n",
    "    \n",
    "    for rst in rst_list:\n",
    "        \n",
    "        # Get data name\n",
    "        data = rst.split(DATA_PATH+'interim/')[1].split(split)[0]\n",
    "        print('Started', data)\n",
    "        \n",
    "        # Run zonal stats\n",
    "        zs_feats = zonal_stats(polys_in, rst, stats=stats_type, geojson_out=True)\n",
    "        zgdf = gpd.GeoDataFrame.from_features(zs_feats, crs=polys_in.crs)\n",
    "        \n",
    "        # Rename columns and merge\n",
    "        zgdf = zgdf.rename(columns={stats_type: data+'_'+stats_type})\n",
    "        \n",
    "        polys_out = polys_out.merge(zgdf[[col, data+'_'+stats_type]], on = col, how = 'inner')\n",
    "    \n",
    "    return polys_out"
   ]
  },
  {
   "cell_type": "code",
   "execution_count": null,
   "metadata": {},
   "outputs": [],
   "source": [
    "def poly_prep(polys_fn, col):\n",
    "    \"function opens earth quake polygons for zonal loop\"\n",
    "    \n",
    "    # open\n",
    "    polys = gpd.read_file(polys_fn)\n",
    "    \n",
    "    # subset, be sure to check the admin level\n",
    "    polys = polys[['geometry', col]]\n",
    "    \n",
    "    return polys"
   ]
  },
  {
   "cell_type": "markdown",
   "metadata": {},
   "source": [
    "## Run on Quake Intensity Contours (MI) from USGS for Nepal 2015\n",
    "\n"
   ]
  },
  {
   "cell_type": "code",
   "execution_count": null,
   "metadata": {},
   "outputs": [],
   "source": [
    "# Git tif files\n",
    "rst_fns = glob('/Users/cascade/Github/PopGridCompare/data/interim/*all_Nepal.tif')\n",
    "rst_fns"
   ]
  },
  {
   "cell_type": "code",
   "execution_count": null,
   "metadata": {},
   "outputs": [],
   "source": [
    "# open polys\n",
    "DATA_PATH = '/Users/cascade/Github/PopGridCompare/data/'\n",
    "nepal_polys_fn = DATA_PATH+'raw/USGS_Data/Nepal/shape/mi.shp'\n",
    "\n",
    "col = 'PARAMVALUE'\n",
    "nepal_polys = poly_prep(nepal_polys_fn, col)"
   ]
  },
  {
   "cell_type": "code",
   "execution_count": null,
   "metadata": {},
   "outputs": [],
   "source": [
    "# Run zonal stats loop\n",
    "nepal_polys_sum = zone_loop(nepal_polys, rst_fns, 'sum', col, '_all_Nepal.tif')"
   ]
  },
  {
   "cell_type": "code",
   "execution_count": null,
   "metadata": {},
   "outputs": [],
   "source": [
    "#### Save the poly sums\n",
    "nepal_polys_sum.to_file(DATA_PATH+'/interim/nepal_quake_pop.shp')"
   ]
  },
  {
   "cell_type": "code",
   "execution_count": null,
   "metadata": {},
   "outputs": [],
   "source": [
    "#### plot it Nepal\n",
    "data = nepal_polys_sum[nepal_polys_sum['PARAMVALUE'] > 6]\n",
    "title = '2015 Nepal Earth Quake > 6 Intensity'\n",
    "\n",
    "fig, axs = plt.subplots(1, 1, figsize = (8, 8), sharex=True)\n",
    "ws = 0.25\n",
    "fig.subplots_adjust(wspace=ws)\n",
    "\n",
    "axs.scatter(data['PARAMVALUE'], data['GPWv4_sum'], color = 'black', alpha = 0.5)\n",
    "axs.scatter(data['PARAMVALUE'], data['GHS15_sum'], color = 'red', alpha = 0.5)\n",
    "axs.scatter(data['PARAMVALUE'], data['LS15_sum'], color = 'orange', alpha = 0.5)\n",
    "axs.scatter(data['PARAMVALUE'], data['ESRI16_sum'], color = 'blue', alpha = 0.5)\n",
    "axs.scatter(data['PARAMVALUE'], data['WP16_sum'], color = 'green', alpha = 0.5)\n",
    "\n",
    "axs.set_title(title, size = 15 )\n",
    "axs.set_xlabel('Quake Intensity', fontsize = 13)\n",
    "axs.set_ylabel('Total Population', fontsize = 13)\n",
    "#plt.ylim([100,10000000])\n",
    "\n",
    "plt.yscale('linear')\n",
    "axs.ticklabel_format(useOffset=False, style = 'plain')\n",
    "\n",
    "labels = ['GPWv4-15','GHSL-15', 'LS-15', 'WPE-16', 'WP-16']\n",
    "plt.legend(labels)\n",
    "\n",
    "# save it out\n",
    "fig_out = '/Users/cascade/Github/PopGridCompare/data/FIGS/AGU2020/Nepal2015_all.png'\n",
    "plt.savefig(fig_out, dpi = 300, facecolor = 'white', bbox_inches='tight')"
   ]
  },
  {
   "cell_type": "markdown",
   "metadata": {},
   "source": [
    "# Urban"
   ]
  },
  {
   "cell_type": "code",
   "execution_count": null,
   "metadata": {},
   "outputs": [],
   "source": [
    "# Git tif files\n",
    "rst_fns = glob('/Users/cascade/Github/PopGridCompare/data/interim/*_urban_Nepal.tif')\n",
    "rst_fns"
   ]
  },
  {
   "cell_type": "code",
   "execution_count": null,
   "metadata": {},
   "outputs": [],
   "source": [
    "# open polys\n",
    "DATA_PATH = '/Users/cascade/Github/PopGridCompare/data/'\n",
    "nepal_polys_fn = DATA_PATH+'raw/USGS_Data/Nepal/shape/mi.shp'\n",
    "\n",
    "col = 'PARAMVALUE'\n",
    "nepal_polys = poly_prep(nepal_polys_fn, col)\n"
   ]
  },
  {
   "cell_type": "code",
   "execution_count": null,
   "metadata": {
    "scrolled": true
   },
   "outputs": [],
   "source": [
    "# Run zonal stats loop\n",
    "nepal_polys_sum = zone_loop(nepal_polys, rst_fns, 'sum', col, '_urban_Nepal.tif')\n"
   ]
  },
  {
   "cell_type": "code",
   "execution_count": null,
   "metadata": {},
   "outputs": [],
   "source": [
    "#### Save the poly sums\n",
    "nepal_polys_sum.to_file(DATA_PATH+'/interim/nepal_urban_quake_pop.shp')"
   ]
  },
  {
   "cell_type": "code",
   "execution_count": null,
   "metadata": {},
   "outputs": [],
   "source": [
    "#### plot it Nepal\n",
    "data = nepal_polys_sum[nepal_polys_sum['PARAMVALUE'] > 6]\n",
    "title = 'Urban 2015 Nepal Earth Quake > 6 Intensity'\n",
    "\n",
    "fig, axs = plt.subplots(1, 1, figsize = (8, 8), sharex=True)\n",
    "ws = 0.25\n",
    "fig.subplots_adjust(wspace=ws)\n",
    "\n",
    "axs.scatter(data['PARAMVALUE'], data['GPWv4_sum'], color = 'black', alpha = 0.5)\n",
    "axs.scatter(data['PARAMVALUE'], data['GHS15_sum'], color = 'red', alpha = 0.5)\n",
    "axs.scatter(data['PARAMVALUE'], data['LS15_sum'], color = 'orange', alpha = 0.5)\n",
    "axs.scatter(data['PARAMVALUE'], data['ESRI16_sum'], color = 'blue', alpha = 0.5)\n",
    "axs.scatter(data['PARAMVALUE'], data['WP16_sum'], color = 'green', alpha = 0.5)\n",
    "\n",
    "axs.set_title(title, size = 15 )\n",
    "axs.set_xlabel('Quake Intensity', fontsize = 13)\n",
    "axs.set_ylabel('Total Population', fontsize = 13)\n",
    "#plt.ylim([100,10000000])\n",
    "\n",
    "plt.yscale('linear')\n",
    "axs.ticklabel_format(useOffset=False, style = 'plain')\n",
    "\n",
    "labels = ['GPWv4-15','GHSL-15', 'LS-15', 'ESRI-16', 'WP-16']\n",
    "plt.legend(labels)\n",
    "\n",
    "# save it out\n",
    "fig_out = '/Users/cascade/Github/PopGridCompare/data/FIGS/AGU2020/Nepal2015_urban.png'\n",
    "plt.savefig(fig_out, dpi = 300, facecolor = 'white', bbox_inches='tight')"
   ]
  },
  {
   "cell_type": "markdown",
   "metadata": {},
   "source": [
    "# Rural"
   ]
  },
  {
   "cell_type": "code",
   "execution_count": null,
   "metadata": {},
   "outputs": [],
   "source": [
    "# Git tif files\n",
    "rst_fns = glob('/Users/cascade/Github/PopGridCompare/data/interim/*_rural_Nepal.tif')\n",
    "rst_fns"
   ]
  },
  {
   "cell_type": "code",
   "execution_count": null,
   "metadata": {},
   "outputs": [],
   "source": [
    "# open polys\n",
    "DATA_PATH = '/Users/cascade/Github/PopGridCompare/data/'\n",
    "nepal_polys_fn = DATA_PATH+'raw/USGS_Data/Nepal/shape/mi.shp'\n",
    "\n",
    "col = 'PARAMVALUE'\n",
    "nepal_polys = poly_prep(nepal_polys_fn, col)\n"
   ]
  },
  {
   "cell_type": "code",
   "execution_count": null,
   "metadata": {
    "scrolled": true
   },
   "outputs": [],
   "source": [
    "# Run zonal stats loop\n",
    "nepal_polys_sum = zone_loop(nepal_polys, rst_fns, 'sum', col, '_rural_Nepal.tif')\n"
   ]
  },
  {
   "cell_type": "code",
   "execution_count": null,
   "metadata": {},
   "outputs": [],
   "source": [
    "#### Save the poly sums\n",
    "nepal_polys_sum.to_file(DATA_PATH+'/interim/nepal_rural_quake_pop.shp')"
   ]
  },
  {
   "cell_type": "code",
   "execution_count": null,
   "metadata": {},
   "outputs": [],
   "source": [
    "#### plot it Nepal\n",
    "data = nepal_polys_sum[nepal_polys_sum['PARAMVALUE'] > 6]\n",
    "title = 'Rural 2015 Nepal Earth Quake > 6 Intensity'\n",
    "\n",
    "fig, axs = plt.subplots(1, 1, figsize = (8, 8), sharex=True)\n",
    "ws = 0.25\n",
    "fig.subplots_adjust(wspace=ws)\n",
    "\n",
    "axs.scatter(data['PARAMVALUE'], data['GPWv4_sum'], color = 'black', alpha = 0.5)\n",
    "axs.scatter(data['PARAMVALUE'], data['GHS15_sum'], color = 'red', alpha = 0.5)\n",
    "axs.scatter(data['PARAMVALUE'], data['LS15_sum'], color = 'orange', alpha = 0.5)\n",
    "axs.scatter(data['PARAMVALUE'], data['ESRI16_sum'], color = 'blue', alpha = 0.5)\n",
    "axs.scatter(data['PARAMVALUE'], data['WP16_sum'], color = 'green', alpha = 0.5)\n",
    "\n",
    "axs.set_title(title, size = 15 )\n",
    "axs.set_xlabel('Quake Intensity', fontsize = 13)\n",
    "axs.set_ylabel('Total Population', fontsize = 13)\n",
    "#plt.ylim([100,10000000])\n",
    "\n",
    "plt.yscale('linear')\n",
    "axs.ticklabel_format(useOffset=False, style = 'plain')\n",
    "\n",
    "labels = ['GPWv4-15','GHSL-15', 'LS-15', 'ESRI-16', 'WP-16']\n",
    "plt.legend(labels)\n",
    "\n",
    "# save it out\n",
    "fig_out = '/Users/cascade/Github/PopGridCompare/data/FIGS/AGU2020/Nepal2015_rural.png'\n",
    "plt.savefig(fig_out, dpi = 300, facecolor = 'white', bbox_inches='tight')"
   ]
  },
  {
   "cell_type": "markdown",
   "metadata": {},
   "source": [
    "## Analysis"
   ]
  },
  {
   "cell_type": "code",
   "execution_count": null,
   "metadata": {},
   "outputs": [],
   "source": [
    "# All\n",
    "all_pop = gpd.read_file(DATA_PATH+'/interim/nepal_quake_pop.shp')\n",
    "all_pop['max'] = all_pop.iloc[:,1:5].values.max(1)\n",
    "all_pop['min'] = all_pop.iloc[:,1:5].values.min(1)\n",
    "all_pop['dif'] = all_pop['max'] - all_pop['min']"
   ]
  },
  {
   "cell_type": "code",
   "execution_count": null,
   "metadata": {},
   "outputs": [],
   "source": [
    "# Urban \n",
    "urban_pop = gpd.read_file(DATA_PATH+'/interim/nepal_urban_quake_pop.shp')\n",
    "urban_pop['max'] = urban_pop.iloc[:,1:5].values.max(1)\n",
    "urban_pop['min'] = urban_pop.iloc[:,1:5].values.min(1)\n",
    "urban_pop['dif'] = urban_pop['max'] - urban_pop['min']"
   ]
  },
  {
   "cell_type": "code",
   "execution_count": null,
   "metadata": {},
   "outputs": [],
   "source": [
    "df = pd.DataFrame()\n",
    "df['PARAMVALUE'] = urban_pop['PARAMVALUE']\n",
    "df['dif'] = urban_pop['WP16_sum'] - urban_pop['GHS15_sum']\n",
    "df;"
   ]
  },
  {
   "cell_type": "code",
   "execution_count": null,
   "metadata": {},
   "outputs": [],
   "source": [
    "# rural \n",
    "rural_pop = gpd.read_file(DATA_PATH+'/interim/nepal_rural_quake_pop.shp')\n",
    "rural_pop['max'] = rural_pop.iloc[:,1:5].values.max(1)\n",
    "rural_pop['min'] = rural_pop.iloc[:,1:5].values.min(1)\n",
    "rural_pop['dif'] = rural_pop['max'] - rural_pop['min']"
   ]
  },
  {
   "cell_type": "code",
   "execution_count": null,
   "metadata": {},
   "outputs": [],
   "source": [
    "rural_pop"
   ]
  }
 ],
 "metadata": {
  "kernelspec": {
   "display_name": "Python 3",
   "language": "python",
   "name": "python3"
  },
  "language_info": {
   "codemirror_mode": {
    "name": "ipython",
    "version": 3
   },
   "file_extension": ".py",
   "mimetype": "text/x-python",
   "name": "python",
   "nbconvert_exporter": "python",
   "pygments_lexer": "ipython3",
   "version": "3.8.6"
  }
 },
 "nbformat": 4,
 "nbformat_minor": 2
}
