{
 "cells": [
  {
   "cell_type": "markdown",
   "metadata": {},
   "source": [
    "# Other\n",
    "Notebook to dig up stats for the MS <br>\n",
    "Cascade Tuholske, Feb 2021"
   ]
  },
  {
   "cell_type": "code",
   "execution_count": 70,
   "metadata": {},
   "outputs": [],
   "source": [
    "# Dependencies\n",
    "import geopandas as gpd\n",
    "import pandas as np\n",
    "import numpy as np\n",
    "import glob\n",
    "import rasterio\n",
    "import matplotlib.pyplot as plt"
   ]
  },
  {
   "cell_type": "markdown",
   "metadata": {},
   "source": [
    "### Admin Units"
   ]
  },
  {
   "cell_type": "code",
   "execution_count": 4,
   "metadata": {},
   "outputs": [
    {
     "name": "stdout",
     "output_type": "stream",
     "text": [
      "How many admin units are there?\n",
      "For ZWE 91\n"
     ]
    }
   ],
   "source": [
    "print('How many admin units are there?')\n",
    "df_in = '/Users/cascade/Github/PopGridCompare/data/raw/GPWv4-boundaries/gwpv4_zwe_admin2.shp'\n",
    "df = gpd.read_file(df_in)\n",
    "print('For ZWE', len(df))"
   ]
  },
  {
   "cell_type": "code",
   "execution_count": 5,
   "metadata": {},
   "outputs": [
    {
     "name": "stdout",
     "output_type": "stream",
     "text": [
      "How many admin units are there?\n",
      "For NPL 3990\n"
     ]
    }
   ],
   "source": [
    "print('How many admin units are there?')\n",
    "df_in = '/Users/cascade/Github/PopGridCompare/data/raw/GPWv4-boundaries/gwpv4_npl_admin4.shp'\n",
    "df = gpd.read_file(df_in)\n",
    "print('For NPL', len(df))"
   ]
  },
  {
   "cell_type": "code",
   "execution_count": 6,
   "metadata": {},
   "outputs": [
    {
     "name": "stdout",
     "output_type": "stream",
     "text": [
      "How many admin units are there?\n",
      "For mwi 12647\n"
     ]
    }
   ],
   "source": [
    "print('How many admin units are there?')\n",
    "df_in = '/Users/cascade/Github/PopGridCompare/data/raw/GPWv4-boundaries/gwpv4_mwi_admin3.shp'\n",
    "df = gpd.read_file(df_in)\n",
    "print('For mwi', len(df))"
   ]
  },
  {
   "cell_type": "code",
   "execution_count": 8,
   "metadata": {},
   "outputs": [
    {
     "name": "stdout",
     "output_type": "stream",
     "text": [
      "How many admin units are there?\n",
      "For moz 413\n"
     ]
    }
   ],
   "source": [
    "print('How many admin units are there?')\n",
    "df_in = '/Users/cascade/Github/PopGridCompare/data/raw/GPWv4-boundaries/gwpv4_moz_admin3.shp'\n",
    "df = gpd.read_file(df_in)\n",
    "print('For moz', len(df))"
   ]
  },
  {
   "cell_type": "code",
   "execution_count": 9,
   "metadata": {
    "scrolled": true
   },
   "outputs": [
    {
     "name": "stdout",
     "output_type": "stream",
     "text": [
      "How many admin units are there?\n",
      "For ecu 1047\n"
     ]
    }
   ],
   "source": [
    "print('How many admin units are there?')\n",
    "df_in = '/Users/cascade/Github/PopGridCompare/data/raw/GPWv4-boundaries/gwpv4_ecu_admin3.shp'\n",
    "df = gpd.read_file(df_in)\n",
    "print('For ecu', len(df))"
   ]
  },
  {
   "cell_type": "markdown",
   "metadata": {},
   "source": [
    "## Rural Urban"
   ]
  },
  {
   "cell_type": "code",
   "execution_count": 99,
   "metadata": {},
   "outputs": [],
   "source": [
    "def get_data(rst_fns):\n",
    "    \"Finds agreement among rasters\"\n",
    "\n",
    "    # Open rasters and get arrays\n",
    "    arrs = []\n",
    "    for rst in rst_fns:\n",
    "        arr = rasterio.open(rst).read(1)\n",
    "        arrs.append(arr)\n",
    "    \n",
    "    # find areas of agreement\n",
    "    zeros = []\n",
    "    for arr in arrs:\n",
    "        zero = arr > -999\n",
    "        zero = zero.astype(int)\n",
    "        zeros.append(zero)\n",
    "\n",
    "    agg = sum(zeros)\n",
    "    #out = agg >= 5\n",
    "    \n",
    "    return agg.astype(int)"
   ]
  },
  {
   "cell_type": "code",
   "execution_count": 91,
   "metadata": {},
   "outputs": [],
   "source": [
    "PATH = '/Users/cascade/Github/PopGridCompare/data/interim/'"
   ]
  },
  {
   "cell_type": "code",
   "execution_count": 92,
   "metadata": {},
   "outputs": [],
   "source": [
    "# Start with rural Nepal\n",
    "data_list = glob.glob(PATH+'*urban_NPL.tif')"
   ]
  },
  {
   "cell_type": "code",
   "execution_count": 93,
   "metadata": {
    "scrolled": true
   },
   "outputs": [
    {
     "data": {
      "text/plain": [
       "['/Users/cascade/Github/PopGridCompare/data/interim/ESRI16_urban_NPL.tif',\n",
       " '/Users/cascade/Github/PopGridCompare/data/interim/WP16_urban_NPL.tif',\n",
       " '/Users/cascade/Github/PopGridCompare/data/interim/GHS15_urban_NPL.tif',\n",
       " '/Users/cascade/Github/PopGridCompare/data/interim/LS15_urban_NPL.tif',\n",
       " '/Users/cascade/Github/PopGridCompare/data/interim/GPWv4_urban_NPL.tif']"
      ]
     },
     "execution_count": 93,
     "metadata": {},
     "output_type": "execute_result"
    }
   ],
   "source": [
    "data_list"
   ]
  },
  {
   "cell_type": "code",
   "execution_count": 100,
   "metadata": {},
   "outputs": [],
   "source": [
    "out = get_data(data_list)"
   ]
  },
  {
   "cell_type": "code",
   "execution_count": 101,
   "metadata": {},
   "outputs": [
    {
     "data": {
      "text/plain": [
       "(array([0, 4, 5]), array([286598,      4, 195552]))"
      ]
     },
     "execution_count": 101,
     "metadata": {},
     "output_type": "execute_result"
    }
   ],
   "source": [
    "np.unique(out, return_counts=True)"
   ]
  },
  {
   "cell_type": "code",
   "execution_count": 63,
   "metadata": {},
   "outputs": [],
   "source": [
    "mgup_fn = PATH+'MGUP15_2015-km-matched-NPL.tif'\n",
    "mgup_arr = rasterio.open(mgup_fn).read(1)"
   ]
  },
  {
   "cell_type": "code",
   "execution_count": 72,
   "metadata": {},
   "outputs": [],
   "source": [
    "area_fn = PATH+'NPL-rst.tif'\n",
    "area_arr = rasterio.open(area_fn).read(1)"
   ]
  },
  {
   "cell_type": "code",
   "execution_count": 80,
   "metadata": {},
   "outputs": [
    {
     "data": {
      "text/plain": [
       "(array([-999., -998.,    2.], dtype=float32), array([286598, 195281,    275]))"
      ]
     },
     "execution_count": 80,
     "metadata": {},
     "output_type": "execute_result"
    }
   ],
   "source": [
    "np.unique(mgup_arr + area_arr, return_counts=True)"
   ]
  },
  {
   "cell_type": "code",
   "execution_count": 78,
   "metadata": {},
   "outputs": [],
   "source": [
    "out = mgup_arr + area_arr"
   ]
  },
  {
   "cell_type": "code",
   "execution_count": 74,
   "metadata": {},
   "outputs": [
    {
     "data": {
      "text/plain": [
       "<matplotlib.image.AxesImage at 0x14796f490>"
      ]
     },
     "execution_count": 74,
     "metadata": {},
     "output_type": "execute_result"
    },
    {
     "data": {
      "image/png": "[encoded data removed]",
      "text/plain": [
       "<Figure size 432x288 with 1 Axes>"
      ]
     },
     "metadata": {
      "needs_background": "light"
     },
     "output_type": "display_data"
    }
   ],
   "source": [
    "plt.imshow(area_arr)"
   ]
  },
  {
   "cell_type": "code",
   "execution_count": 81,
   "metadata": {},
   "outputs": [
    {
     "data": {
      "text/plain": [
       "<matplotlib.image.AxesImage at 0x148534a30>"
      ]
     },
     "execution_count": 81,
     "metadata": {},
     "output_type": "execute_result"
    },
    {
     "data": {
      "image/png": "[encoded data removed]",
      "text/plain": [
       "<Figure size 432x288 with 1 Axes>"
      ]
     },
     "metadata": {
      "needs_background": "light"
     },
     "output_type": "display_data"
    }
   ],
   "source": [
    "urban = out == -998\n",
    "plt.imshow(urban.astype(int))"
   ]
  },
  {
   "cell_type": "code",
   "execution_count": 77,
   "metadata": {},
   "outputs": [
    {
     "data": {
      "text/plain": [
       "False"
      ]
     },
     "execution_count": 77,
     "metadata": {},
     "output_type": "execute_result"
    }
   ],
   "source": [
    "urban"
   ]
  }
 ],
 "metadata": {
  "kernelspec": {
   "display_name": "Python 3",
   "language": "python",
   "name": "python3"
  },
  "language_info": {
   "codemirror_mode": {
    "name": "ipython",
    "version": 3
   },
   "file_extension": ".py",
   "mimetype": "text/x-python",
   "name": "python",
   "nbconvert_exporter": "python",
   "pygments_lexer": "ipython3",
   "version": "3.8.6"
  }
 },
 "nbformat": 4,
 "nbformat_minor": 4
}
