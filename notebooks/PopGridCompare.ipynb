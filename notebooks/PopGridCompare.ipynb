{
 "cells": [
  {
   "cell_type": "markdown",
   "metadata": {},
   "source": [
    "# Pop Grid Compare\n",
    "\n",
    "Goal of this notebook is to load all availabe popgrid date products with the same spatial resolution, projections, and CRS, stack them, and indentify areas of geographic variance."
   ]
  },
  {
   "cell_type": "code",
   "execution_count": null,
   "metadata": {},
   "outputs": [],
   "source": [
    "import xarray as xr\n",
    "import numpy as np\n",
    "import pandas as pd\n",
    "import geopandas as gpd\n",
    "import rasterio \n",
    "import rioxarray as rio"
   ]
  },
  {
   "cell_type": "code",
   "execution_count": null,
   "metadata": {},
   "outputs": [],
   "source": [
    "# File paths and FN\n",
    "data_in = '/Users/cascade/Github/PopGridCompare/data/raw/'\n",
    "data_out = '/Users/cascade/Github/PopGridCompare/data/interim/'\n",
    "\n",
    "wp_path = data_in+'WorldPop16/ppp_2016_1km_Aggregated.tif'\n",
    "ls_path = data_in+'LandScan-Global-2015/lspop2015/w001001.adf'\n",
    "esri_path = data_in+'ESRI_WPE_2016_Pop/WPE_1KM_2016_Pop.tif'"
   ]
  },
  {
   "cell_type": "markdown",
   "metadata": {},
   "source": [
    "## Open files and check meta data"
   ]
  },
  {
   "cell_type": "code",
   "execution_count": null,
   "metadata": {},
   "outputs": [],
   "source": [
    "# World Pop : width = 43200 height = 18720 epsg = 4326\n",
    "wp = rio.open_rasterio(wp_path)\n",
    "wp"
   ]
  },
  {
   "cell_type": "code",
   "execution_count": null,
   "metadata": {
    "scrolled": true
   },
   "outputs": [],
   "source": [
    "# ESRI : width = 40074 height = 14285 epsg = 4326\n",
    "esri = rio.open_rasterio(esri_path)\n",
    "esri"
   ]
  },
  {
   "cell_type": "code",
   "execution_count": null,
   "metadata": {},
   "outputs": [],
   "source": [
    "# LS : width = 43200 height = 21600 epsg = 4326\n",
    "ls = rio.open_rasterio(ls_path)\n",
    "ls\n"
   ]
  },
  {
   "cell_type": "markdown",
   "metadata": {},
   "source": [
    "# Reset zero values"
   ]
  },
  {
   "cell_type": "code",
   "execution_count": null,
   "metadata": {},
   "outputs": [],
   "source": [
    "print('World Pop na value is', wp.data[0][0][0])\n",
    "print('LandScan na value is', ls.data[0][0][0])\n",
    "print('ESRI na value is', esri.data[0][0][0])"
   ]
  },
  {
   "cell_type": "code",
   "execution_count": null,
   "metadata": {},
   "outputs": [],
   "source": [
    "#### Try setting all NAs and 0s to Zero\n",
    "wp.data = np.where(wp.data < 1, 0, wp.data)\n",
    "ls.data = np.where(ls.data < 1, 0, ls.data)\n",
    "esri.data = np.where(esri.data < 1, 0, esri.data)"
   ]
  },
  {
   "cell_type": "code",
   "execution_count": null,
   "metadata": {},
   "outputs": [],
   "source": [
    "print('World Pop na value is', wp.data[0][0][0])\n",
    "print('LandScan na value is', ls.data[0][0][0])\n",
    "print('ESRI na value is', esri.data[0][0][0])"
   ]
  },
  {
   "cell_type": "markdown",
   "metadata": {},
   "source": [
    "## Test Matching and Reprojecting\n",
    "\n",
    "trying: https://corteva.github.io/rioxarray/html/examples/reproject_match.html"
   ]
  },
  {
   "cell_type": "code",
   "execution_count": null,
   "metadata": {},
   "outputs": [],
   "source": [
    "# Check NA values\n",
    "print(esri.attrs['_FillValue'])\n",
    "print(ls.attrs['_FillValue'])\n",
    "print(wp.attrs['_FillValue'])"
   ]
  },
  {
   "cell_type": "code",
   "execution_count": null,
   "metadata": {},
   "outputs": [],
   "source": [
    "# Change NA values\n",
    "na_val = -9999\n",
    "esri.attrs['_FillValue'] = na_val\n",
    "ls.attrs['_FillValue'] = na_val\n",
    "wp.attrs['_FillValue'] = na_val"
   ]
  },
  {
   "cell_type": "code",
   "execution_count": null,
   "metadata": {},
   "outputs": [],
   "source": [
    "# Check NA values\n",
    "print(esri.attrs['_FillValue'])\n",
    "print(ls.attrs['_FillValue'])\n",
    "print(wp.attrs['_FillValue'])"
   ]
  },
  {
   "cell_type": "code",
   "execution_count": null,
   "metadata": {},
   "outputs": [],
   "source": [
    "# Match WorldPop/ESRI to LandSan write it out\n",
    "\n",
    "wp_match = wp.rio.reproject_match(ls)\n",
    "esri_match = esri.rio.reproject_match(ls)"
   ]
  },
  {
   "cell_type": "code",
   "execution_count": null,
   "metadata": {},
   "outputs": [],
   "source": [
    "# Check NA valuesb\n",
    "print(esri_match.attrs['_FillValue'])\n",
    "print(wp.attrs['_FillValue'])\n",
    "print(ls.attrs['_FillValue'])\n"
   ]
  },
  {
   "cell_type": "code",
   "execution_count": null,
   "metadata": {},
   "outputs": [],
   "source": [
    "# Try writing them and then checking them\n",
    "\n",
    "esri_match.rio.to_raster(data_out+'ESRI16_matched.tif')\n",
    "wp_match.rio.to_raster(data_out+'WP16_matched.tif')\n",
    "#ls.rio.to_raster(data_out+'LS15_matched.tif')\n",
    "\n"
   ]
  },
  {
   "cell_type": "code",
   "execution_count": null,
   "metadata": {},
   "outputs": [],
   "source": [
    "ls.rio.to_raster(data_out+'LS15_matched.tif')"
   ]
  },
  {
   "cell_type": "markdown",
   "metadata": {},
   "source": [
    "## Subtract 'EM"
   ]
  },
  {
   "cell_type": "code",
   "execution_count": null,
   "metadata": {},
   "outputs": [],
   "source": [
    "# This produces strange results\n",
    "\n",
    "wp_ls = wp - ls_match\n",
    "wp_esri = wp - esri_match\n",
    "ls_esri = ls_match - esri_match"
   ]
  },
  {
   "cell_type": "code",
   "execution_count": null,
   "metadata": {},
   "outputs": [],
   "source": [
    "# write them to files\n",
    "wp_ls.rio.to_raster(data_out+'wp_ls.tif')\n",
    "wp_esri.rio.to_raster(data_out+'wp_esri.tif')\n",
    "ls_esri.rio.to_raster(data_out+'ls_esri.tif')"
   ]
  },
  {
   "cell_type": "code",
   "execution_count": null,
   "metadata": {},
   "outputs": [],
   "source": [
    "rgb_array = xr.concat([wp, esri_match, ls_match], dim = 'band')"
   ]
  },
  {
   "cell_type": "code",
   "execution_count": null,
   "metadata": {},
   "outputs": [],
   "source": [
    "#rgb_array.rio.to_raster(data_out+'all_rgb.tif')"
   ]
  }
 ],
 "metadata": {
  "kernelspec": {
   "display_name": "Python 3",
   "language": "python",
   "name": "python3"
  },
  "language_info": {
   "codemirror_mode": {
    "name": "ipython",
    "version": 3
   },
   "file_extension": ".py",
   "mimetype": "text/x-python",
   "name": "python",
   "nbconvert_exporter": "python",
   "pygments_lexer": "ipython3",
   "version": "3.7.3"
  }
 },
 "nbformat": 4,
 "nbformat_minor": 2
}
