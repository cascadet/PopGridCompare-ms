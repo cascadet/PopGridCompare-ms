{
 "cells": [
  {
   "cell_type": "markdown",
   "metadata": {},
   "source": [
    "# Pop Grid Compare\n",
    "\n",
    "Goal of this notebook is to load all availabe popgrid date products with the same spatial resolution, projections, and CRS, stack them, and indentify areas of geographic variance."
   ]
  },
  {
   "cell_type": "code",
   "execution_count": 1,
   "metadata": {},
   "outputs": [],
   "source": [
    "import xarray as xr\n",
    "import numpy as np\n",
    "import pandas as pd\n",
    "import geopandas as gpd\n",
    "import rasterio \n",
    "import rioxarray as rio"
   ]
  },
  {
   "cell_type": "code",
   "execution_count": 2,
   "metadata": {},
   "outputs": [],
   "source": [
    "# File paths and FN\n",
    "data_in = '/Users/cascade/Github/PopGridCompare/data/raw/'\n",
    "data_out = '/Users/cascade/Github/PopGridCompare/data/interim/'\n",
    "\n",
    "wp_path = data_in+'WorldPop16/ppp_2016_1km_Aggregated.tif'\n",
    "ls_path = data_in+'LandScan-Global-2015/lspop2015/w001001.adf'\n",
    "esri_path = data_in+'ESRI_WPE_2016_Pop/WPE_1KM_2016_Pop.tif'"
   ]
  },
  {
   "cell_type": "markdown",
   "metadata": {},
   "source": [
    "## Open files and check meta data"
   ]
  },
  {
   "cell_type": "code",
   "execution_count": 3,
   "metadata": {},
   "outputs": [
    {
     "data": {
      "text/plain": [
       "<xarray.DataArray (band: 1, y: 18720, x: 43200)>\n",
       "[808704000 values with dtype=float32]\n",
       "Coordinates:\n",
       "  * band         (band) int64 1\n",
       "  * y            (y) float64 84.0 83.99 83.98 83.97 ... -71.98 -71.99 -72.0\n",
       "  * x            (x) float64 -180.0 -180.0 -180.0 -180.0 ... 180.0 180.0 180.0\n",
       "    spatial_ref  int64 0\n",
       "Attributes:\n",
       "    transform:     (0.0083333333, 0.0, -180.001249265, 0.0, -0.0083333333, 83...\n",
       "    _FillValue:    -3.4028234663852886e+38\n",
       "    scale_factor:  1.0\n",
       "    add_offset:    0.0\n",
       "    grid_mapping:  spatial_ref"
      ]
     },
     "execution_count": 3,
     "metadata": {},
     "output_type": "execute_result"
    }
   ],
   "source": [
    "# World Pop : width = 43200 height = 18720 epsg = 4326\n",
    "wp = rio.open_rasterio(wp_path)\n",
    "wp"
   ]
  },
  {
   "cell_type": "code",
   "execution_count": 4,
   "metadata": {
    "scrolled": true
   },
   "outputs": [
    {
     "data": {
      "text/plain": [
       "<xarray.DataArray (band: 1, y: 14285, x: 40074)>\n",
       "[572457090 values with dtype=int32]\n",
       "Coordinates:\n",
       "  * band         (band) int64 1\n",
       "  * y            (y) float64 73.32 73.31 73.3 73.29 ... -54.98 -54.99 -55.0\n",
       "  * x            (x) float64 -180.0 -180.0 -180.0 -180.0 ... 180.0 180.0 180.0\n",
       "    spatial_ref  int64 0\n",
       "Attributes:\n",
       "    STATISTICS_MAXIMUM:      336720\n",
       "    STATISTICS_MEAN:         401.47917136019\n",
       "    STATISTICS_MINIMUM:      1\n",
       "    STATISTICS_SKIPFACTORX:  1\n",
       "    STATISTICS_SKIPFACTORY:  1\n",
       "    STATISTICS_STDDEV:       1594.7670745165\n",
       "    transform:               (0.008983196, 0.0, -179.99191516916386, 0.0, -0....\n",
       "    _FillValue:              -2147483647.0\n",
       "    scale_factor:            1.0\n",
       "    add_offset:              0.0\n",
       "    grid_mapping:            spatial_ref"
      ]
     },
     "execution_count": 4,
     "metadata": {},
     "output_type": "execute_result"
    }
   ],
   "source": [
    "# ESRI : width = 40074 height = 14285 epsg = 4326\n",
    "esri = rio.open_rasterio(esri_path)\n",
    "esri"
   ]
  },
  {
   "cell_type": "code",
   "execution_count": 5,
   "metadata": {},
   "outputs": [
    {
     "data": {
      "text/plain": [
       "<xarray.DataArray (band: 1, y: 21600, x: 43200)>\n",
       "[933120000 values with dtype=int32]\n",
       "Coordinates:\n",
       "  * band         (band) int64 1\n",
       "  * y            (y) float64 90.0 89.99 89.98 89.97 ... -89.98 -89.99 -90.0\n",
       "  * x            (x) float64 -180.0 -180.0 -180.0 -180.0 ... 180.0 180.0 180.0\n",
       "    spatial_ref  int64 0\n",
       "Attributes:\n",
       "    STATISTICS_MAXIMUM:  38537\n",
       "    STATISTICS_MEAN:     16.167777587702\n",
       "    STATISTICS_MINIMUM:  0\n",
       "    STATISTICS_STDDEV:   233.963508769\n",
       "    transform:           (0.0083333333333333, 0.0, -180.0, 0.0, -0.0083333333...\n",
       "    _FillValue:          -2147483647.0\n",
       "    scale_factor:        1.0\n",
       "    add_offset:          0.0\n",
       "    grid_mapping:        spatial_ref"
      ]
     },
     "execution_count": 5,
     "metadata": {},
     "output_type": "execute_result"
    }
   ],
   "source": [
    "# LS : width = 43200 height = 21600 epsg = 4326\n",
    "ls = rio.open_rasterio(ls_path)\n",
    "ls\n"
   ]
  },
  {
   "cell_type": "markdown",
   "metadata": {},
   "source": [
    "# Reset zero values"
   ]
  },
  {
   "cell_type": "code",
   "execution_count": 8,
   "metadata": {},
   "outputs": [
    {
     "data": {
      "text/plain": [
       "['T',\n",
       " '_DataArray__default',\n",
       " '_DataArray__default_name',\n",
       " '_FillValue',\n",
       " '_HANDLED_TYPES',\n",
       " '__abs__',\n",
       " '__add__',\n",
       " '__and__',\n",
       " '__array__',\n",
       " '__array_priority__',\n",
       " '__array_ufunc__',\n",
       " '__array_wrap__',\n",
       " '__bool__',\n",
       " '__class__',\n",
       " '__complex__',\n",
       " '__contains__',\n",
       " '__copy__',\n",
       " '__dask_graph__',\n",
       " '__dask_keys__',\n",
       " '__dask_layers__',\n",
       " '__dask_optimize__',\n",
       " '__dask_postcompute__',\n",
       " '__dask_postpersist__',\n",
       " '__dask_scheduler__',\n",
       " '__deepcopy__',\n",
       " '__delattr__',\n",
       " '__delitem__',\n",
       " '__dict__',\n",
       " '__dir__',\n",
       " '__div__',\n",
       " '__doc__',\n",
       " '__enter__',\n",
       " '__eq__',\n",
       " '__exit__',\n",
       " '__float__',\n",
       " '__floordiv__',\n",
       " '__format__',\n",
       " '__ge__',\n",
       " '__getattr__',\n",
       " '__getattribute__',\n",
       " '__getitem__',\n",
       " '__gt__',\n",
       " '__hash__',\n",
       " '__iadd__',\n",
       " '__iand__',\n",
       " '__ifloordiv__',\n",
       " '__imod__',\n",
       " '__imul__',\n",
       " '__init__',\n",
       " '__init_subclass__',\n",
       " '__int__',\n",
       " '__invert__',\n",
       " '__ior__',\n",
       " '__ipow__',\n",
       " '__isub__',\n",
       " '__iter__',\n",
       " '__itruediv__',\n",
       " '__ixor__',\n",
       " '__le__',\n",
       " '__len__',\n",
       " '__lt__',\n",
       " '__matmul__',\n",
       " '__mod__',\n",
       " '__module__',\n",
       " '__mul__',\n",
       " '__ne__',\n",
       " '__neg__',\n",
       " '__new__',\n",
       " '__or__',\n",
       " '__pos__',\n",
       " '__pow__',\n",
       " '__radd__',\n",
       " '__rand__',\n",
       " '__reduce__',\n",
       " '__reduce_ex__',\n",
       " '__repr__',\n",
       " '__rfloordiv__',\n",
       " '__rmatmul__',\n",
       " '__rmod__',\n",
       " '__rmul__',\n",
       " '__ror__',\n",
       " '__rpow__',\n",
       " '__rsub__',\n",
       " '__rtruediv__',\n",
       " '__rxor__',\n",
       " '__setattr__',\n",
       " '__setitem__',\n",
       " '__sizeof__',\n",
       " '__str__',\n",
       " '__sub__',\n",
       " '__subclasshook__',\n",
       " '__truediv__',\n",
       " '__weakref__',\n",
       " '__xor__',\n",
       " '_all_compat',\n",
       " '_attr_sources',\n",
       " '_binary_op',\n",
       " '_calc_assign_results',\n",
       " '_coarsen_cls',\n",
       " '_copy_attrs_from',\n",
       " '_cum_extra_args_docstring',\n",
       " '_dask_finalize',\n",
       " '_from_temp_dataset',\n",
       " '_get_axis_num',\n",
       " '_getitem_coord',\n",
       " '_groupby_cls',\n",
       " '_in_memory',\n",
       " '_initialized',\n",
       " '_inplace_binary_op',\n",
       " '_ipython_key_completions_',\n",
       " '_item_key_to_dict',\n",
       " '_item_sources',\n",
       " '_iter',\n",
       " '_level_coords',\n",
       " '_reduce_extra_args_docstring',\n",
       " '_reduce_method',\n",
       " '_replace',\n",
       " '_replace_indexes',\n",
       " '_replace_maybe_drop_dims',\n",
       " '_resample_cls',\n",
       " '_result_name',\n",
       " '_rolling_cls',\n",
       " '_rolling_exp_cls',\n",
       " '_title_for_slice',\n",
       " '_to_dataset_split',\n",
       " '_to_dataset_whole',\n",
       " '_to_temp_dataset',\n",
       " '_unary_op',\n",
       " 'add_offset',\n",
       " 'all',\n",
       " 'any',\n",
       " 'argmax',\n",
       " 'argmin',\n",
       " 'argsort',\n",
       " 'assign_attrs',\n",
       " 'assign_coords',\n",
       " 'astype',\n",
       " 'attrs',\n",
       " 'band',\n",
       " 'bfill',\n",
       " 'broadcast_equals',\n",
       " 'chunk',\n",
       " 'chunks',\n",
       " 'clip',\n",
       " 'close',\n",
       " 'coarsen',\n",
       " 'combine_first',\n",
       " 'compute',\n",
       " 'conj',\n",
       " 'conjugate',\n",
       " 'coords',\n",
       " 'copy',\n",
       " 'count',\n",
       " 'cumprod',\n",
       " 'cumsum',\n",
       " 'data',\n",
       " 'diff',\n",
       " 'differentiate',\n",
       " 'dims',\n",
       " 'dot',\n",
       " 'drop',\n",
       " 'dropna',\n",
       " 'dt',\n",
       " 'dtype',\n",
       " 'encoding',\n",
       " 'equals',\n",
       " 'expand_dims',\n",
       " 'ffill',\n",
       " 'fillna',\n",
       " 'from_cdms2',\n",
       " 'from_dict',\n",
       " 'from_iris',\n",
       " 'from_series',\n",
       " 'get_axis_num',\n",
       " 'get_index',\n",
       " 'grid_mapping',\n",
       " 'groupby',\n",
       " 'groupby_bins',\n",
       " 'identical',\n",
       " 'imag',\n",
       " 'indexes',\n",
       " 'integrate',\n",
       " 'interp',\n",
       " 'interp_like',\n",
       " 'interpolate_na',\n",
       " 'isel',\n",
       " 'isel_points',\n",
       " 'isin',\n",
       " 'isnull',\n",
       " 'item',\n",
       " 'load',\n",
       " 'loc',\n",
       " 'max',\n",
       " 'mean',\n",
       " 'median',\n",
       " 'min',\n",
       " 'name',\n",
       " 'nbytes',\n",
       " 'ndim',\n",
       " 'notnull',\n",
       " 'persist',\n",
       " 'pipe',\n",
       " 'plot',\n",
       " 'prod',\n",
       " 'quantile',\n",
       " 'rank',\n",
       " 'real',\n",
       " 'reduce',\n",
       " 'reindex',\n",
       " 'reindex_like',\n",
       " 'rename',\n",
       " 'reorder_levels',\n",
       " 'resample',\n",
       " 'reset_coords',\n",
       " 'reset_index',\n",
       " 'rio',\n",
       " 'roll',\n",
       " 'rolling',\n",
       " 'rolling_exp',\n",
       " 'round',\n",
       " 'scale_factor',\n",
       " 'searchsorted',\n",
       " 'sel',\n",
       " 'sel_points',\n",
       " 'set_index',\n",
       " 'shape',\n",
       " 'shift',\n",
       " 'size',\n",
       " 'sizes',\n",
       " 'sortby',\n",
       " 'spatial_ref',\n",
       " 'squeeze',\n",
       " 'stack',\n",
       " 'std',\n",
       " 'str',\n",
       " 'sum',\n",
       " 'swap_dims',\n",
       " 'to_cdms2',\n",
       " 'to_dataframe',\n",
       " 'to_dataset',\n",
       " 'to_dict',\n",
       " 'to_index',\n",
       " 'to_iris',\n",
       " 'to_masked_array',\n",
       " 'to_netcdf',\n",
       " 'to_pandas',\n",
       " 'to_series',\n",
       " 'to_unstacked_dataset',\n",
       " 'transform',\n",
       " 'transpose',\n",
       " 'unstack',\n",
       " 'values',\n",
       " 'var',\n",
       " 'variable',\n",
       " 'where',\n",
       " 'x',\n",
       " 'y']"
      ]
     },
     "execution_count": 8,
     "metadata": {},
     "output_type": "execute_result"
    }
   ],
   "source": [
    "dir(wp)"
   ]
  },
  {
   "cell_type": "code",
   "execution_count": 20,
   "metadata": {},
   "outputs": [
    {
     "name": "stdout",
     "output_type": "stream",
     "text": [
      "World Pop na value is -3.4028235e+38\n",
      "LandScan na value is -2147483647\n",
      "ESRI na value is -2147483647\n"
     ]
    }
   ],
   "source": [
    "print('World Pop na value is', wp.data[0][0][0])\n",
    "print('LandScan na value is', ls.data[0][0][0])\n",
    "print('ESRI na value is', esri.data[0][0][0])"
   ]
  },
  {
   "cell_type": "code",
   "execution_count": 29,
   "metadata": {},
   "outputs": [],
   "source": [
    "#### Try setting all NAs and 0s to Zero\n",
    "wp.data = np.where(wp.data < 1, 0, wp.data)\n",
    "ls.data = np.where(ls.data < 1, 0, ls.data)\n",
    "esri.data = np.where(esri.data < 1, 0, esri.data)"
   ]
  },
  {
   "cell_type": "code",
   "execution_count": 30,
   "metadata": {},
   "outputs": [
    {
     "name": "stdout",
     "output_type": "stream",
     "text": [
      "World Pop na value is 0.0\n",
      "LandScan na value is 0\n",
      "ESRI na value is 0\n"
     ]
    }
   ],
   "source": [
    "print('World Pop na value is', wp.data[0][0][0])\n",
    "print('LandScan na value is', ls.data[0][0][0])\n",
    "print('ESRI na value is', esri.data[0][0][0])"
   ]
  },
  {
   "cell_type": "markdown",
   "metadata": {},
   "source": [
    "## Test Matching and Reprojecting\n",
    "\n",
    "trying: https://corteva.github.io/rioxarray/html/examples/reproject_match.html"
   ]
  },
  {
   "cell_type": "code",
   "execution_count": 31,
   "metadata": {},
   "outputs": [
    {
     "name": "stdout",
     "output_type": "stream",
     "text": [
      "-2147483647.0\n",
      "-2147483647.0\n",
      "-3.4028234663852886e+38\n"
     ]
    }
   ],
   "source": [
    "# Check NA values\n",
    "print(esri.attrs['_FillValue'])\n",
    "print(ls.attrs['_FillValue'])\n",
    "print(wp.attrs['_FillValue'])"
   ]
  },
  {
   "cell_type": "code",
   "execution_count": 32,
   "metadata": {},
   "outputs": [],
   "source": [
    "# Change NA values\n",
    "na_val = -9999\n",
    "esri.attrs['_FillValue'] = na_val\n",
    "ls.attrs['_FillValue'] = na_val\n",
    "wp.attrs['_FillValue'] = na_val"
   ]
  },
  {
   "cell_type": "code",
   "execution_count": 33,
   "metadata": {},
   "outputs": [
    {
     "name": "stdout",
     "output_type": "stream",
     "text": [
      "-9999\n",
      "-9999\n",
      "-9999\n"
     ]
    }
   ],
   "source": [
    "# Check NA values\n",
    "print(esri.attrs['_FillValue'])\n",
    "print(ls.attrs['_FillValue'])\n",
    "print(wp.attrs['_FillValue'])"
   ]
  },
  {
   "cell_type": "code",
   "execution_count": 35,
   "metadata": {},
   "outputs": [],
   "source": [
    "# Match WorldPop/ESRI to LandSan write it out\n",
    "\n",
    "wp_match = wp.rio.reproject_match(ls)\n",
    "esri_match = esri.rio.reproject_match(ls)"
   ]
  },
  {
   "cell_type": "code",
   "execution_count": 36,
   "metadata": {},
   "outputs": [
    {
     "name": "stdout",
     "output_type": "stream",
     "text": [
      "-9999\n",
      "-9999\n",
      "-9999\n"
     ]
    }
   ],
   "source": [
    "# Check NA valuesb\n",
    "print(esri_match.attrs['_FillValue'])\n",
    "print(wp.attrs['_FillValue'])\n",
    "print(ls.attrs['_FillValue'])\n"
   ]
  },
  {
   "cell_type": "code",
   "execution_count": 38,
   "metadata": {},
   "outputs": [],
   "source": [
    "# Try writing them and then checking them\n",
    "\n",
    "esri_match.rio.to_raster(data_out+'ESRI16_matched.tif')\n",
    "wp_match.rio.to_raster(data_out+'WP16_matched.tif')\n",
    "#ls.rio.to_raster(data_out+'LS15_matched.tif')\n",
    "\n"
   ]
  },
  {
   "cell_type": "code",
   "execution_count": 45,
   "metadata": {},
   "outputs": [
    {
     "data": {
      "text/plain": [
       "xarray.core.dataarray.DataArray"
      ]
     },
     "execution_count": 45,
     "metadata": {},
     "output_type": "execute_result"
    }
   ],
   "source": [
    "type(ls)"
   ]
  },
  {
   "cell_type": "markdown",
   "metadata": {},
   "source": [
    "## Subtract 'EM"
   ]
  },
  {
   "cell_type": "code",
   "execution_count": null,
   "metadata": {},
   "outputs": [],
   "source": [
    "# This produces strange results\n",
    "\n",
    "wp_ls = wp - ls_match\n",
    "wp_esri = wp - esri_match\n",
    "ls_esri = ls_match - esri_match"
   ]
  },
  {
   "cell_type": "code",
   "execution_count": null,
   "metadata": {},
   "outputs": [],
   "source": [
    "# write them to files\n",
    "wp_ls.rio.to_raster(data_out+'wp_ls.tif')\n",
    "wp_esri.rio.to_raster(data_out+'wp_esri.tif')\n",
    "ls_esri.rio.to_raster(data_out+'ls_esri.tif')"
   ]
  },
  {
   "cell_type": "code",
   "execution_count": null,
   "metadata": {},
   "outputs": [],
   "source": [
    "rgb_array = xr.concat([wp, esri_match, ls_match], dim = 'band')"
   ]
  },
  {
   "cell_type": "code",
   "execution_count": null,
   "metadata": {},
   "outputs": [],
   "source": [
    "#rgb_array.rio.to_raster(data_out+'all_rgb.tif')"
   ]
  }
 ],
 "metadata": {
  "kernelspec": {
   "display_name": "Python 3",
   "language": "python",
   "name": "python3"
  },
  "language_info": {
   "codemirror_mode": {
    "name": "ipython",
    "version": 3
   },
   "file_extension": ".py",
   "mimetype": "text/x-python",
   "name": "python",
   "nbconvert_exporter": "python",
   "pygments_lexer": "ipython3",
   "version": "3.7.3"
  }
 },
 "nbformat": 4,
 "nbformat_minor": 2
}
