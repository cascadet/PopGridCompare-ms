{
 "cells": [
  {
   "cell_type": "markdown",
   "metadata": {},
   "source": [
    "# Pop Grid Compare\n",
    "\n",
    "Goal of this notebook is to load all availabe popgrid date products with the same spatial resolution, projections, and CRS, stack them, and indentify areas of geographic variance."
   ]
  },
  {
   "cell_type": "code",
   "execution_count": 24,
   "metadata": {},
   "outputs": [],
   "source": [
    "import xarray as xr\n",
    "import numpy as np\n",
    "import pandas as pd\n",
    "import geopandas as gpd\n",
    "import rasterio \n",
    "import rioxarray as rio"
   ]
  },
  {
   "cell_type": "code",
   "execution_count": 30,
   "metadata": {},
   "outputs": [],
   "source": [
    "# File paths and FN\n",
    "data_in = '/Users/cascade/Github/PopGridCompare/data/raw/'\n",
    "data_out = '/Users/cascade/Github/PopGridCompare/data/interim/'\n",
    "\n",
    "wp_path = data_in+'WorldPop16/ppp_2016_1km_Aggregated.tif'\n",
    "ls_path = data_in+'LandScan-Global-2015/lspop2015/w001001.adf'\n",
    "esri_path = data_in+'ESRI_WPE_2016_Pop/WPE_1KM_2016_Pop.tif'"
   ]
  },
  {
   "cell_type": "markdown",
   "metadata": {},
   "source": [
    "## Open files and check meta data"
   ]
  },
  {
   "cell_type": "code",
   "execution_count": 26,
   "metadata": {},
   "outputs": [
    {
     "data": {
      "text/plain": [
       "<xarray.DataArray (band: 1, y: 18720, x: 43200)>\n",
       "[808704000 values with dtype=float32]\n",
       "Coordinates:\n",
       "  * band         (band) int64 1\n",
       "  * y            (y) float64 84.0 83.99 83.98 83.97 ... -71.98 -71.99 -72.0\n",
       "  * x            (x) float64 -180.0 -180.0 -180.0 -180.0 ... 180.0 180.0 180.0\n",
       "    spatial_ref  int64 0\n",
       "Attributes:\n",
       "    transform:     (0.0083333333, 0.0, -180.001249265, 0.0, -0.0083333333, 83...\n",
       "    _FillValue:    -3.4028234663852886e+38\n",
       "    scale_factor:  1.0\n",
       "    add_offset:    0.0\n",
       "    grid_mapping:  spatial_ref"
      ]
     },
     "execution_count": 26,
     "metadata": {},
     "output_type": "execute_result"
    }
   ],
   "source": [
    "# World Pop : width = 43200 height = 18720 epsg = 4326\n",
    "wp = rio.open_rasterio(wp_path)\n",
    "wp"
   ]
  },
  {
   "cell_type": "code",
   "execution_count": 27,
   "metadata": {
    "scrolled": true
   },
   "outputs": [
    {
     "data": {
      "text/plain": [
       "<xarray.DataArray (band: 1, y: 14285, x: 40074)>\n",
       "[572457090 values with dtype=int32]\n",
       "Coordinates:\n",
       "  * band         (band) int64 1\n",
       "  * y            (y) float64 73.32 73.31 73.3 73.29 ... -54.98 -54.99 -55.0\n",
       "  * x            (x) float64 -180.0 -180.0 -180.0 -180.0 ... 180.0 180.0 180.0\n",
       "    spatial_ref  int64 0\n",
       "Attributes:\n",
       "    STATISTICS_MAXIMUM:      336720\n",
       "    STATISTICS_MEAN:         401.47917136019\n",
       "    STATISTICS_MINIMUM:      1\n",
       "    STATISTICS_SKIPFACTORX:  1\n",
       "    STATISTICS_SKIPFACTORY:  1\n",
       "    STATISTICS_STDDEV:       1594.7670745165\n",
       "    transform:               (0.008983196, 0.0, -179.99191516916386, 0.0, -0....\n",
       "    _FillValue:              -2147483647.0\n",
       "    scale_factor:            1.0\n",
       "    add_offset:              0.0\n",
       "    grid_mapping:            spatial_ref"
      ]
     },
     "execution_count": 27,
     "metadata": {},
     "output_type": "execute_result"
    }
   ],
   "source": [
    "# ESRI : width = 40074 height = 14285 epsg = 4326\n",
    "esri = rio.open_rasterio(esri_path)\n",
    "esri"
   ]
  },
  {
   "cell_type": "code",
   "execution_count": 28,
   "metadata": {},
   "outputs": [
    {
     "data": {
      "text/plain": [
       "<xarray.DataArray (band: 1, y: 21600, x: 43200)>\n",
       "[933120000 values with dtype=int32]\n",
       "Coordinates:\n",
       "  * band         (band) int64 1\n",
       "  * y            (y) float64 90.0 89.99 89.98 89.97 ... -89.98 -89.99 -90.0\n",
       "  * x            (x) float64 -180.0 -180.0 -180.0 -180.0 ... 180.0 180.0 180.0\n",
       "    spatial_ref  int64 0\n",
       "Attributes:\n",
       "    STATISTICS_MAXIMUM:  38537\n",
       "    STATISTICS_MEAN:     16.167777587702\n",
       "    STATISTICS_MINIMUM:  0\n",
       "    STATISTICS_STDDEV:   233.963508769\n",
       "    transform:           (0.0083333333333333, 0.0, -180.0, 0.0, -0.0083333333...\n",
       "    _FillValue:          -2147483647.0\n",
       "    scale_factor:        1.0\n",
       "    add_offset:          0.0\n",
       "    grid_mapping:        spatial_ref"
      ]
     },
     "execution_count": 28,
     "metadata": {},
     "output_type": "execute_result"
    }
   ],
   "source": [
    "# LS : width = 43200 height = 21600 epsg = 4326\n",
    "ls = rio.open_rasterio(ls_path)\n",
    "ls\n"
   ]
  },
  {
   "cell_type": "code",
   "execution_count": 23,
   "metadata": {},
   "outputs": [],
   "source": [
    "# Write out land scan as a tiff\n",
    "# arr = ls.read(1)\n",
    "# meta = ls.meta\n",
    "# meta['driver'] = 'GTiff'\n",
    "\n",
    "# with rasterio.open(data_in+'LandScan-Global-2015/lspop2015/LS2015.tif', 'w', **meta) as dst:\n",
    "#     dst.write(arr, 1)"
   ]
  },
  {
   "cell_type": "markdown",
   "metadata": {},
   "source": [
    "## Test Matching and Reprojecting\n",
    "\n",
    "trying: https://corteva.github.io/rioxarray/html/examples/reproject_match.html"
   ]
  },
  {
   "cell_type": "code",
   "execution_count": 29,
   "metadata": {},
   "outputs": [],
   "source": [
    "# Match LandScane to WorldPop and write it out\n",
    "\n",
    "ls_match = ls.rio.reproject_match(wp)\n",
    "#ls_match.rio.to_raster(data_out+'LS15_toWP16.tif')"
   ]
  },
  {
   "cell_type": "code",
   "execution_count": 32,
   "metadata": {},
   "outputs": [],
   "source": [
    "esri_match = esri.rio.reproject_match(wp)"
   ]
  },
  {
   "cell_type": "markdown",
   "metadata": {},
   "source": [
    "## Subtract 'EM"
   ]
  },
  {
   "cell_type": "code",
   "execution_count": 58,
   "metadata": {},
   "outputs": [],
   "source": [
    "# This produces strange results\n",
    "\n",
    "wp_ls = wp - ls_match\n",
    "wp_esri = wp - esri_match\n",
    "ls_esri = ls_match - esri_match"
   ]
  },
  {
   "cell_type": "code",
   "execution_count": 59,
   "metadata": {},
   "outputs": [],
   "source": [
    "# write them to files\n",
    "wp_ls.rio.to_raster(data_out+'wp_ls.tif')\n",
    "wp_esri.rio.to_raster(data_out+'wp_esri.tif')\n",
    "ls_esri.rio.to_raster(data_out+'ls_esri.tif')"
   ]
  },
  {
   "cell_type": "code",
   "execution_count": 63,
   "metadata": {},
   "outputs": [],
   "source": [
    "rgb_array = xr.concat([wp, esri_match, ls_match], dim = 'band')"
   ]
  },
  {
   "cell_type": "code",
   "execution_count": 68,
   "metadata": {},
   "outputs": [],
   "source": [
    "#rgb_array.rio.to_raster(data_out+'all_rgb.tif')"
   ]
  }
 ],
 "metadata": {
  "kernelspec": {
   "display_name": "Python 3",
   "language": "python",
   "name": "python3"
  },
  "language_info": {
   "codemirror_mode": {
    "name": "ipython",
    "version": 3
   },
   "file_extension": ".py",
   "mimetype": "text/x-python",
   "name": "python",
   "nbconvert_exporter": "python",
   "pygments_lexer": "ipython3",
   "version": "3.7.3"
  }
 },
 "nbformat": 4,
 "nbformat_minor": 2
}
