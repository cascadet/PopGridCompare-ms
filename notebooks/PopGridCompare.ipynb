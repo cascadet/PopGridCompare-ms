{
 "cells": [
  {
   "cell_type": "markdown",
   "metadata": {},
   "source": [
    "# Pop Grid Compare\n",
    "\n",
    "Goal of this notebook is to load all availabe popgrid date products with the same spatial resolution, projections, and CRS, stack them, and indentify areas of geographic variance."
   ]
  },
  {
   "cell_type": "code",
   "execution_count": 1,
   "metadata": {},
   "outputs": [],
   "source": [
    "import xarray as xr\n",
    "import numpy as np\n",
    "import pandas as pd\n",
    "import geopandas as gpd\n",
    "import rasterio "
   ]
  },
  {
   "cell_type": "code",
   "execution_count": 6,
   "metadata": {},
   "outputs": [],
   "source": [
    "# File paths and FN\n",
    "data_in = '/Users/cascade/Github/PopGridCompare/data/raw/'\n",
    "\n",
    "wp_path = data_in+'WorldPop16/ppp_2016_1km_Aggregated.tif'\n",
    "ls_path = data_in+'LandScan-Global-2015/lspop2015/w001001.adf'\n",
    "esri_path = data_in+'ESRI_WPE_2016_Pop/WPE_1KM_2016_Pop.tif'"
   ]
  },
  {
   "cell_type": "markdown",
   "metadata": {},
   "source": [
    "## Open files and check meta data"
   ]
  },
  {
   "cell_type": "code",
   "execution_count": 4,
   "metadata": {},
   "outputs": [
    {
     "data": {
      "text/plain": [
       "{'driver': 'GTiff',\n",
       " 'dtype': 'float32',\n",
       " 'nodata': -3.4028234663852886e+38,\n",
       " 'width': 43200,\n",
       " 'height': 18720,\n",
       " 'count': 1,\n",
       " 'crs': CRS.from_dict(init='epsg:4326'),\n",
       " 'transform': Affine(0.0083333333, 0.0, -180.001249265,\n",
       "        0.0, -0.0083333333, 83.99958319871001)}"
      ]
     },
     "execution_count": 4,
     "metadata": {},
     "output_type": "execute_result"
    }
   ],
   "source": [
    "# World Pop : width = 43200 height = 18720 epsg = 4326\n",
    "\n",
    "wp = rasterio.open(wp_path)\n",
    "wp.meta"
   ]
  },
  {
   "cell_type": "code",
   "execution_count": 7,
   "metadata": {},
   "outputs": [
    {
     "data": {
      "text/plain": [
       "{'driver': 'GTiff',\n",
       " 'dtype': 'int32',\n",
       " 'nodata': -2147483647.0,\n",
       " 'width': 40074,\n",
       " 'height': 14285,\n",
       " 'count': 1,\n",
       " 'crs': CRS.from_dict(init='epsg:4326'),\n",
       " 'transform': Affine(0.008983196, 0.0, -179.99191516916386,\n",
       "        0.0, -0.008983196, 73.32432599999953)}"
      ]
     },
     "execution_count": 7,
     "metadata": {},
     "output_type": "execute_result"
    }
   ],
   "source": [
    "# ESRI : width = 43200 height = 18720 epsg = 4326\n",
    "\n",
    "esri = rasterio.open(esri_path)\n",
    "esri.meta"
   ]
  }
 ],
 "metadata": {
  "kernelspec": {
   "display_name": "Python 3",
   "language": "python",
   "name": "python3"
  },
  "language_info": {
   "codemirror_mode": {
    "name": "ipython",
    "version": 3
   },
   "file_extension": ".py",
   "mimetype": "text/x-python",
   "name": "python",
   "nbconvert_exporter": "python",
   "pygments_lexer": "ipython3",
   "version": "3.7.3"
  }
 },
 "nbformat": 4,
 "nbformat_minor": 2
}
