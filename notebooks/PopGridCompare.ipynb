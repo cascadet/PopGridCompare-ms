{
 "cells": [
  {
   "cell_type": "markdown",
   "metadata": {},
   "source": [
    "# Pop Grid Compare\n",
    "\n",
    "Goal of this notebook is to load all availabe popgrid date products with the same spatial resolution, projections, and CRS, stack them, and indentify areas of geographic variance."
   ]
  },
  {
   "cell_type": "code",
   "execution_count": 1,
   "metadata": {},
   "outputs": [],
   "source": [
    "import xarray as xr\n",
    "import numpy as np\n",
    "import pandas as pd\n",
    "import geopandas as gpd\n",
    "import rasterio \n",
    "import rioxarray as rio"
   ]
  },
  {
   "cell_type": "code",
   "execution_count": 2,
   "metadata": {},
   "outputs": [],
   "source": [
    "# File paths and FN\n",
    "data_in = '/Users/cascade/Github/PopGridCompare/data/raw/'\n",
    "data_out = '/Users/cascade/Github/PopGridCompare/data/interim/'\n",
    "\n",
    "wp_path = data_in+'WorldPop16/ppp_2016_1km_Aggregated.tif'\n",
    "ls_path = data_in+'LandScan-Global-2015/lspop2015/w001001.adf'\n",
    "esri_path = data_in+'ESRI_WPE_2016_Pop/WPE_1KM_2016_Pop.tif'\n",
    "ghs_path = data_in+'GHS-Pop/GHS_POP_E2015_GLOBE_R2019A_4326_30ss_V1_0.tif'"
   ]
  },
  {
   "cell_type": "markdown",
   "metadata": {},
   "source": [
    "## Open files and check meta data"
   ]
  },
  {
   "cell_type": "code",
   "execution_count": 3,
   "metadata": {},
   "outputs": [
    {
     "data": {
      "text/plain": [
       "<xarray.DataArray (band: 1, y: 18720, x: 43200)>\n",
       "[808704000 values with dtype=float32]\n",
       "Coordinates:\n",
       "  * band         (band) int64 1\n",
       "  * y            (y) float64 84.0 83.99 83.98 83.97 ... -71.98 -71.99 -72.0\n",
       "  * x            (x) float64 -180.0 -180.0 -180.0 -180.0 ... 180.0 180.0 180.0\n",
       "    spatial_ref  int64 0\n",
       "Attributes:\n",
       "    transform:     (0.0083333333, 0.0, -180.001249265, 0.0, -0.0083333333, 83...\n",
       "    _FillValue:    -3.4028234663852886e+38\n",
       "    scale_factor:  1.0\n",
       "    add_offset:    0.0\n",
       "    grid_mapping:  spatial_ref"
      ]
     },
     "execution_count": 3,
     "metadata": {},
     "output_type": "execute_result"
    }
   ],
   "source": [
    "# World Pop 2016 (?_): width = 43200 height = 18720 epsg = 4326\n",
    "wp = rio.open_rasterio(wp_path)\n",
    "wp"
   ]
  },
  {
   "cell_type": "code",
   "execution_count": 4,
   "metadata": {
    "scrolled": true
   },
   "outputs": [
    {
     "data": {
      "text/plain": [
       "<xarray.DataArray (band: 1, y: 14285, x: 40074)>\n",
       "[572457090 values with dtype=int32]\n",
       "Coordinates:\n",
       "  * band         (band) int64 1\n",
       "  * y            (y) float64 73.32 73.31 73.3 73.29 ... -54.98 -54.99 -55.0\n",
       "  * x            (x) float64 -180.0 -180.0 -180.0 -180.0 ... 180.0 180.0 180.0\n",
       "    spatial_ref  int64 0\n",
       "Attributes:\n",
       "    STATISTICS_MAXIMUM:      336720\n",
       "    STATISTICS_MEAN:         401.47917136019\n",
       "    STATISTICS_MINIMUM:      1\n",
       "    STATISTICS_SKIPFACTORX:  1\n",
       "    STATISTICS_SKIPFACTORY:  1\n",
       "    STATISTICS_STDDEV:       1594.7670745165\n",
       "    transform:               (0.008983196, 0.0, -179.99191516916386, 0.0, -0....\n",
       "    _FillValue:              -2147483647.0\n",
       "    scale_factor:            1.0\n",
       "    add_offset:              0.0\n",
       "    grid_mapping:            spatial_ref"
      ]
     },
     "execution_count": 4,
     "metadata": {},
     "output_type": "execute_result"
    }
   ],
   "source": [
    "# ESRI 2016 : width = 40074 height = 14285 epsg = 4326\n",
    "esri = rio.open_rasterio(esri_path)\n",
    "esri"
   ]
  },
  {
   "cell_type": "code",
   "execution_count": 5,
   "metadata": {},
   "outputs": [
    {
     "data": {
      "text/plain": [
       "<xarray.DataArray (band: 1, y: 21600, x: 43200)>\n",
       "[933120000 values with dtype=int32]\n",
       "Coordinates:\n",
       "  * band         (band) int64 1\n",
       "  * y            (y) float64 90.0 89.99 89.98 89.97 ... -89.98 -89.99 -90.0\n",
       "  * x            (x) float64 -180.0 -180.0 -180.0 -180.0 ... 180.0 180.0 180.0\n",
       "    spatial_ref  int64 0\n",
       "Attributes:\n",
       "    STATISTICS_MAXIMUM:  38537\n",
       "    STATISTICS_MEAN:     16.167777587702\n",
       "    STATISTICS_MINIMUM:  0\n",
       "    STATISTICS_STDDEV:   233.963508769\n",
       "    transform:           (0.0083333333333333, 0.0, -180.0, 0.0, -0.0083333333...\n",
       "    _FillValue:          -2147483647.0\n",
       "    scale_factor:        1.0\n",
       "    add_offset:          0.0\n",
       "    grid_mapping:        spatial_ref"
      ]
     },
     "execution_count": 5,
     "metadata": {},
     "output_type": "execute_result"
    }
   ],
   "source": [
    "# LS 2015 : width = 43200 height = 21600 epsg = 4326\n",
    "ls = rio.open_rasterio(ls_path)\n",
    "ls\n"
   ]
  },
  {
   "cell_type": "code",
   "execution_count": 6,
   "metadata": {},
   "outputs": [
    {
     "data": {
      "text/plain": [
       "<xarray.DataArray (band: 1, y: 21600, x: 43200)>\n",
       "[933120000 values with dtype=float64]\n",
       "Coordinates:\n",
       "  * band         (band) int64 1\n",
       "  * y            (y) float64 90.0 89.99 89.98 89.97 ... -89.98 -89.99 -90.0\n",
       "  * x            (x) float64 -180.0 -180.0 -180.0 -180.0 ... 180.0 180.0 180.0\n",
       "    spatial_ref  int64 0\n",
       "Attributes:\n",
       "    STATISTICS_COVARIANCES:  268645.1471199603\n",
       "    STATISTICS_MAXIMUM:      459434.61914063\n",
       "    STATISTICS_MEAN:         32.932334417347\n",
       "    STATISTICS_MINIMUM:      0\n",
       "    STATISTICS_SKIPFACTORX:  1\n",
       "    STATISTICS_SKIPFACTORY:  1\n",
       "    STATISTICS_STDDEV:       518.30989486982\n",
       "    transform:               (0.008333333333333333, 0.0, -180.0, 0.0, -0.0083...\n",
       "    _FillValue:              -200.0\n",
       "    scale_factor:            1.0\n",
       "    add_offset:              0.0\n",
       "    grid_mapping:            spatial_ref"
      ]
     },
     "execution_count": 6,
     "metadata": {},
     "output_type": "execute_result"
    }
   ],
   "source": [
    "# GHS 2015 : width = 43200 height = 21600 epsg = 4326\n",
    "ghs = rio.open_rasterio(ghs_path)\n",
    "ghs"
   ]
  },
  {
   "cell_type": "markdown",
   "metadata": {},
   "source": [
    "# Reset zero values"
   ]
  },
  {
   "cell_type": "code",
   "execution_count": 7,
   "metadata": {},
   "outputs": [
    {
     "name": "stdout",
     "output_type": "stream",
     "text": [
      "World Pop na value is -3.4028235e+38\n",
      "LandScan na value is -2147483647\n",
      "ESRI na value is -2147483647\n",
      "GHS na value ie -200.0\n"
     ]
    }
   ],
   "source": [
    "print('World Pop na value is', wp.data[0][0][0])\n",
    "print('LandScan na value is', ls.data[0][0][0])\n",
    "print('ESRI na value is', esri.data[0][0][0])\n",
    "print('GHS na value is', ghs.data[0][0][0])"
   ]
  },
  {
   "cell_type": "code",
   "execution_count": 8,
   "metadata": {},
   "outputs": [],
   "source": [
    "#### Try setting all NAs and 0s to Zero\n",
    "wp.data = np.where(wp.data < 1, 0, wp.data)\n",
    "ls.data = np.where(ls.data < 1, 0, ls.data)\n",
    "esri.data = np.where(esri.data < 1, 0, esri.data)\n",
    "ghs.data = np.where(ghs.data < 1, 0, ghs.data)\n"
   ]
  },
  {
   "cell_type": "code",
   "execution_count": 9,
   "metadata": {},
   "outputs": [
    {
     "name": "stdout",
     "output_type": "stream",
     "text": [
      "World Pop na value is 0.0\n",
      "LandScan na value is 0\n",
      "ESRI na value is 0\n",
      "GHS na value is 0.0\n"
     ]
    }
   ],
   "source": [
    "print('World Pop na value is', wp.data[0][0][0])\n",
    "print('LandScan na value is', ls.data[0][0][0])\n",
    "print('ESRI na value is', esri.data[0][0][0])\n",
    "print('GHS na value is', ghs.data[0][0][0])"
   ]
  },
  {
   "cell_type": "markdown",
   "metadata": {},
   "source": [
    "## Test Matching and Reprojecting\n",
    "\n",
    "trying: https://corteva.github.io/rioxarray/html/examples/reproject_match.html"
   ]
  },
  {
   "cell_type": "code",
   "execution_count": 10,
   "metadata": {},
   "outputs": [
    {
     "name": "stdout",
     "output_type": "stream",
     "text": [
      "-2147483647.0\n",
      "-2147483647.0\n",
      "-3.4028234663852886e+38\n",
      "-200.0\n"
     ]
    }
   ],
   "source": [
    "# Check NA values\n",
    "print(esri.attrs['_FillValue'])\n",
    "print(ls.attrs['_FillValue'])\n",
    "print(wp.attrs['_FillValue'])\n",
    "print(ghs.attrs['_FillValue'])"
   ]
  },
  {
   "cell_type": "code",
   "execution_count": 11,
   "metadata": {},
   "outputs": [],
   "source": [
    "# Change NA values\n",
    "na_val = 0\n",
    "esri.attrs['_FillValue'] = na_val\n",
    "ls.attrs['_FillValue'] = na_val\n",
    "wp.attrs['_FillValue'] = na_val\n",
    "ghs.attrs['_FillValue'] = na_val"
   ]
  },
  {
   "cell_type": "code",
   "execution_count": 12,
   "metadata": {},
   "outputs": [
    {
     "name": "stdout",
     "output_type": "stream",
     "text": [
      "0\n",
      "0\n",
      "0\n",
      "0\n"
     ]
    }
   ],
   "source": [
    "# Check NA values\n",
    "print(esri.attrs['_FillValue'])\n",
    "print(ls.attrs['_FillValue'])\n",
    "print(wp.attrs['_FillValue'])\n",
    "print(ghs.attrs['_FillValue'])"
   ]
  },
  {
   "cell_type": "code",
   "execution_count": 14,
   "metadata": {},
   "outputs": [],
   "source": [
    "# Match Landscan/ESRI to WorldPop write it out\n",
    "\n",
    "ls_match = ls.rio.reproject_match(wp)\n",
    "esri_match = esri.rio.reproject_match(wp)\n"
   ]
  },
  {
   "cell_type": "code",
   "execution_count": 24,
   "metadata": {},
   "outputs": [],
   "source": [
    "# Match GHS to Worldpop\n",
    "ghs_match = ghs.rio.reproject_match(wp)"
   ]
  },
  {
   "cell_type": "code",
   "execution_count": 26,
   "metadata": {},
   "outputs": [
    {
     "name": "stdout",
     "output_type": "stream",
     "text": [
      "0\n",
      "0\n",
      "0\n",
      "0\n"
     ]
    }
   ],
   "source": [
    "# Check NA valuesb\n",
    "print(esri_match.attrs['_FillValue'])\n",
    "print(ls_match.attrs['_FillValue'])\n",
    "print(wp.attrs['_FillValue'])\n",
    "print(ghs_match.attrs['_FillValue'])"
   ]
  },
  {
   "cell_type": "code",
   "execution_count": 27,
   "metadata": {},
   "outputs": [
    {
     "data": {
      "text/plain": [
       "<xarray.DataArray (band: 1, y: 18720, x: 43200)>\n",
       "array([[[0, 0, ..., 0, 0],\n",
       "        [0, 0, ..., 0, 0],\n",
       "        ...,\n",
       "        [0, 0, ..., 0, 0],\n",
       "        [0, 0, ..., 0, 0]]], dtype=int32)\n",
       "Coordinates:\n",
       "  * x            (x) float64 -180.0 -180.0 -180.0 -180.0 ... 180.0 180.0 180.0\n",
       "  * y            (y) float64 84.0 83.99 83.98 83.97 ... -71.98 -71.99 -72.0\n",
       "  * band         (band) int64 1\n",
       "    spatial_ref  int64 0\n",
       "Attributes:\n",
       "    STATISTICS_MAXIMUM:  38537\n",
       "    STATISTICS_MEAN:     16.167777587702\n",
       "    STATISTICS_MINIMUM:  0\n",
       "    STATISTICS_STDDEV:   233.963508769\n",
       "    transform:           (0.0083333333, 0.0, -180.001249265, 0.0, -0.00833333...\n",
       "    scale_factor:        1.0\n",
       "    add_offset:          0.0\n",
       "    grid_mapping:        spatial_ref\n",
       "    _FillValue:          0"
      ]
     },
     "execution_count": 27,
     "metadata": {},
     "output_type": "execute_result"
    }
   ],
   "source": [
    "# Check em\n",
    "ls_match"
   ]
  },
  {
   "cell_type": "code",
   "execution_count": 28,
   "metadata": {},
   "outputs": [
    {
     "data": {
      "text/plain": [
       "<xarray.DataArray (band: 1, y: 18720, x: 43200)>\n",
       "array([[[0, 0, ..., 0, 0],\n",
       "        [0, 0, ..., 0, 0],\n",
       "        ...,\n",
       "        [0, 0, ..., 0, 0],\n",
       "        [0, 0, ..., 0, 0]]], dtype=int32)\n",
       "Coordinates:\n",
       "  * x            (x) float64 -180.0 -180.0 -180.0 -180.0 ... 180.0 180.0 180.0\n",
       "  * y            (y) float64 84.0 83.99 83.98 83.97 ... -71.98 -71.99 -72.0\n",
       "  * band         (band) int64 1\n",
       "    spatial_ref  int64 0\n",
       "Attributes:\n",
       "    STATISTICS_MAXIMUM:      336720\n",
       "    STATISTICS_MEAN:         401.47917136019\n",
       "    STATISTICS_MINIMUM:      1\n",
       "    STATISTICS_SKIPFACTORX:  1\n",
       "    STATISTICS_SKIPFACTORY:  1\n",
       "    STATISTICS_STDDEV:       1594.7670745165\n",
       "    transform:               (0.0083333333, 0.0, -180.001249265, 0.0, -0.0083...\n",
       "    scale_factor:            1.0\n",
       "    add_offset:              0.0\n",
       "    grid_mapping:            spatial_ref\n",
       "    _FillValue:              0"
      ]
     },
     "execution_count": 28,
     "metadata": {},
     "output_type": "execute_result"
    }
   ],
   "source": [
    "esri_match"
   ]
  },
  {
   "cell_type": "code",
   "execution_count": 29,
   "metadata": {},
   "outputs": [
    {
     "data": {
      "text/plain": [
       "<xarray.DataArray (band: 1, y: 18720, x: 43200)>\n",
       "array([[[0., 0., ..., 0., 0.],\n",
       "        [0., 0., ..., 0., 0.],\n",
       "        ...,\n",
       "        [0., 0., ..., 0., 0.],\n",
       "        [0., 0., ..., 0., 0.]]], dtype=float32)\n",
       "Coordinates:\n",
       "  * band         (band) int64 1\n",
       "  * y            (y) float64 84.0 83.99 83.98 83.97 ... -71.98 -71.99 -72.0\n",
       "  * x            (x) float64 -180.0 -180.0 -180.0 -180.0 ... 180.0 180.0 180.0\n",
       "    spatial_ref  int64 0\n",
       "Attributes:\n",
       "    transform:     (0.0083333333, 0.0, -180.001249265, 0.0, -0.0083333333, 83...\n",
       "    _FillValue:    0\n",
       "    scale_factor:  1.0\n",
       "    add_offset:    0.0\n",
       "    grid_mapping:  spatial_ref"
      ]
     },
     "execution_count": 29,
     "metadata": {},
     "output_type": "execute_result"
    }
   ],
   "source": [
    "wp"
   ]
  },
  {
   "cell_type": "code",
   "execution_count": 30,
   "metadata": {},
   "outputs": [
    {
     "data": {
      "text/plain": [
       "<xarray.DataArray (band: 1, y: 18720, x: 43200)>\n",
       "array([[[0., 0., ..., 0., 0.],\n",
       "        [0., 0., ..., 0., 0.],\n",
       "        ...,\n",
       "        [0., 0., ..., 0., 0.],\n",
       "        [0., 0., ..., 0., 0.]]])\n",
       "Coordinates:\n",
       "  * x            (x) float64 -180.0 -180.0 -180.0 -180.0 ... 180.0 180.0 180.0\n",
       "  * y            (y) float64 84.0 83.99 83.98 83.97 ... -71.98 -71.99 -72.0\n",
       "  * band         (band) int64 1\n",
       "    spatial_ref  int64 0\n",
       "Attributes:\n",
       "    STATISTICS_COVARIANCES:  268645.1471199603\n",
       "    STATISTICS_MAXIMUM:      459434.61914063\n",
       "    STATISTICS_MEAN:         32.932334417347\n",
       "    STATISTICS_MINIMUM:      0\n",
       "    STATISTICS_SKIPFACTORX:  1\n",
       "    STATISTICS_SKIPFACTORY:  1\n",
       "    STATISTICS_STDDEV:       518.30989486982\n",
       "    transform:               (0.0083333333, 0.0, -180.001249265, 0.0, -0.0083...\n",
       "    scale_factor:            1.0\n",
       "    add_offset:              0.0\n",
       "    grid_mapping:            spatial_ref\n",
       "    _FillValue:              0"
      ]
     },
     "execution_count": 30,
     "metadata": {},
     "output_type": "execute_result"
    }
   ],
   "source": [
    "ghs_match"
   ]
  },
  {
   "cell_type": "code",
   "execution_count": 31,
   "metadata": {},
   "outputs": [],
   "source": [
    "# Try writing them and then checking them\n",
    "esri_match.rio.to_raster(data_out+'ESRI16_matched.tif')\n",
    "ls_match.rio.to_raster(data_out+'LS15_matched.tif')\n",
    "\n"
   ]
  },
  {
   "cell_type": "code",
   "execution_count": 32,
   "metadata": {},
   "outputs": [],
   "source": [
    "wp.rio.to_raster(data_out+'WP16_matched.tif')"
   ]
  },
  {
   "cell_type": "code",
   "execution_count": 33,
   "metadata": {},
   "outputs": [],
   "source": [
    "ghs_match.rio.to_raster(data_out+'GHS15_match.tif')"
   ]
  },
  {
   "cell_type": "markdown",
   "metadata": {},
   "source": [
    "## Subtract 'EM"
   ]
  },
  {
   "cell_type": "code",
   "execution_count": null,
   "metadata": {},
   "outputs": [],
   "source": [
    "# This produces strange results\n",
    "\n",
    "wp_ls = wp - ls_match\n",
    "wp_esri = wp - esri_match\n",
    "ls_esri = ls_match - esri_match"
   ]
  },
  {
   "cell_type": "code",
   "execution_count": null,
   "metadata": {},
   "outputs": [],
   "source": [
    "# write them to files\n",
    "wp_ls.rio.to_raster(data_out+'wp_ls.tif')\n",
    "wp_esri.rio.to_raster(data_out+'wp_esri.tif')\n",
    "ls_esri.rio.to_raster(data_out+'ls_esri.tif')"
   ]
  },
  {
   "cell_type": "code",
   "execution_count": null,
   "metadata": {},
   "outputs": [],
   "source": [
    "rgb_array = xr.concat([wp, esri_match, ls_match], dim = 'band')"
   ]
  },
  {
   "cell_type": "code",
   "execution_count": null,
   "metadata": {},
   "outputs": [],
   "source": [
    "#rgb_array.rio.to_raster(data_out+'all_rgb.tif')"
   ]
  }
 ],
 "metadata": {
  "kernelspec": {
   "display_name": "Python 3",
   "language": "python",
   "name": "python3"
  },
  "language_info": {
   "codemirror_mode": {
    "name": "ipython",
    "version": 3
   },
   "file_extension": ".py",
   "mimetype": "text/x-python",
   "name": "python",
   "nbconvert_exporter": "python",
   "pygments_lexer": "ipython3",
   "version": "3.7.3"
  }
 },
 "nbformat": 4,
 "nbformat_minor": 2
}
